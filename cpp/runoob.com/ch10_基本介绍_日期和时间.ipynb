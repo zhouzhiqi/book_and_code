{
 "cells": [
  {
   "cell_type": "markdown",
   "metadata": {},
   "source": [
    "# 日期和时间"
   ]
  },
  {
   "cell_type": "markdown",
   "metadata": {},
   "source": [
    "C++ 标准库没有提供所谓的日期类型。C++ 继承了 C 语言用于日期和时间操作的结构和函数。为了使用日期和时间相关的函数和结构，需要在 C++ 程序中引用` <ctime> `头文件。\n",
    "\n",
    "```cpp\n",
    "struct tm {\n",
    "  int tm_sec;   // 秒，正常范围从 0 到 59，但允许至 61\n",
    "  int tm_min;   // 分，范围从 0 到 59\n",
    "  int tm_hour;  // 小时，范围从 0 到 23\n",
    "  int tm_mday;  // 一月中的第几天，范围从 1 到 31\n",
    "  int tm_mon;   // 月，范围从 0 到 11\n",
    "  int tm_year;  // 自 1900 年起的年数\n",
    "  int tm_wday;  // 一周中的第几天，范围从 0 到 6，从星期日算起\n",
    "  int tm_yday;  // 一年中的第几天，范围从 0 到 365，从 1 月 1 日算起\n",
    "  int tm_isdst; // 夏令时\n",
    "}\n",
    "```"
   ]
  },
  {
   "cell_type": "code",
   "execution_count": 1,
   "metadata": {},
   "outputs": [],
   "source": [
    "#include <iostream>\n",
    "#include <ctime>\n",
    " \n",
    "using namespace std;"
   ]
  },
  {
   "cell_type": "code",
   "execution_count": 5,
   "metadata": {},
   "outputs": [
    {
     "name": "stdout",
     "output_type": "stream",
     "text": [
      "本地日期和时间：Fri Apr  3 21:38:49 2020\n",
      "\n",
      "UTC 日期和时间：Fri Apr  3 13:38:49 2020\n",
      "\n"
     ]
    }
   ],
   "source": [
    "{\n",
    "   // 基于当前系统的当前日期/时间\n",
    "   time_t now = time(0);\n",
    "   \n",
    "   // 把 now 转换为字符串形式\n",
    "   char* dt = ctime(&now);\n",
    " \n",
    "   cout << \"本地日期和时间：\" << dt << endl;\n",
    " \n",
    "   // 把 now 转换为 tm 结构\n",
    "   tm *gmtm = gmtime(&now);\n",
    "   dt = asctime(gmtm);\n",
    "   cout << \"UTC 日期和时间：\"<< dt << endl;\n",
    "}"
   ]
  },
  {
   "cell_type": "markdown",
   "metadata": {},
   "source": [
    "## C 库函数 - time()\n",
    "\n",
    "C 库函数` time_t time(time_t *seconds)` 返回自纪元 `Epoch（1970-01-01 00:00:00 UTC）`起经过的时间，以秒为单位。如果 seconds 不为空，则返回值也存储在变量 seconds 中"
   ]
  },
  {
   "cell_type": "code",
   "execution_count": 12,
   "metadata": {},
   "outputs": [
    {
     "name": "stdout",
     "output_type": "stream",
     "text": [
      "自 1970-01-01 起的秒数 = 1585921341\n"
     ]
    }
   ],
   "source": [
    "{\n",
    "    time_t seconds;\n",
    "\n",
    "    seconds = time(NULL);\n",
    "    cout << \"自 1970-01-01 起的秒数 = \" << seconds << endl;\n",
    "}"
   ]
  },
  {
   "cell_type": "markdown",
   "metadata": {},
   "source": [
    "## C 库函数 - ctime()\n",
    "\n",
    "C 库函数` char *ctime(const time_t *timer) `返回一个表示当地时间的字符串，当地时间是基于参数 timer。\n",
    "\n",
    "返回的字符串格式如下：` Www Mmm dd hh:mm:ss yyyy `其中，`Www `表示星期几，`Mmm` 是以字母表示的月份，`dd` 表示一月中的第几天，`hh:mm:ss` 表示时间，`yyyy` 表示年份。"
   ]
  },
  {
   "cell_type": "code",
   "execution_count": 11,
   "metadata": {},
   "outputs": [
    {
     "name": "stdout",
     "output_type": "stream",
     "text": [
      "当前时间 = Fri Apr  3 21:42:05 2020\n",
      "\n"
     ]
    }
   ],
   "source": [
    "{\n",
    "    time_t curtime;\n",
    "\n",
    "    time(&curtime);\n",
    "    cout << \"当前时间 = \" << ctime(&curtime) << endl;\n",
    "}"
   ]
  },
  {
   "cell_type": "markdown",
   "metadata": {},
   "source": [
    "## C 库函数 - localtime()\n",
    "\n",
    "C 库函数 `struct tm *localtime(const time_t *timer)` 使用 timer 的值来填充 tm 结构。timer 的值被分解为 tm 结构，并用本地时区表示。"
   ]
  },
  {
   "cell_type": "code",
   "execution_count": 14,
   "metadata": {},
   "outputs": [
    {
     "name": "stdout",
     "output_type": "stream",
     "text": [
      "当前的本地时间和日期：Fri Apr  3 21:44:38 2020\n",
      "\n"
     ]
    }
   ],
   "source": [
    "{\n",
    "    time_t rawtime;\n",
    "    struct tm *info;\n",
    "    char buffer[80];\n",
    "\n",
    "    time( &rawtime );\n",
    "\n",
    "    info = localtime( &rawtime );\n",
    "    cout << \"当前的本地时间和日期：\" << asctime(info) << endl;\n",
    "}"
   ]
  },
  {
   "cell_type": "markdown",
   "metadata": {},
   "source": [
    "## C 库函数 - clock()\n",
    "\n",
    "C 库函数 clock_t clock(void) 返回程序执行起（一般为程序的开头），处理器时钟所使用的时间。为了获取 CPU 所使用的秒数，您需要除以 CLOCKS_PER_SEC。\n",
    "\n",
    "在 32 位系统中，CLOCKS_PER_SEC 等于 1000000，该函数大约每 72 分钟会返回相同的值。"
   ]
  },
  {
   "cell_type": "code",
   "execution_count": 15,
   "metadata": {
    "scrolled": true
   },
   "outputs": [
    {
     "name": "stdout",
     "output_type": "stream",
     "text": [
      "程序启动，start_t = 1906250\n",
      "开始一个大循环，start_t = 1906250\n",
      "大循环结束，end_t = 1921875\n",
      "CPU 占用的总时间：0.015625\n",
      "程序退出...\n"
     ]
    }
   ],
   "source": [
    "{\n",
    "    clock_t start_t, end_t;\n",
    "    double total_t;\n",
    "    int i;\n",
    "\n",
    "    start_t = clock();\n",
    "    cout << \"程序启动，start_t = \" << start_t << endl;\n",
    "\n",
    "    cout << \"开始一个大循环，start_t = \" << start_t << endl;\n",
    "    for(i=0; i< 10000000; i++)\n",
    "    {\n",
    "    }\n",
    "    end_t = clock();\n",
    "    cout << \"大循环结束，end_t = \" << end_t << endl;\n",
    "\n",
    "    total_t = (double)(end_t - start_t) / CLOCKS_PER_SEC;\n",
    "    cout << \"CPU 占用的总时间：\" << total_t << endl;\n",
    "    cout << \"程序退出...\" << endl;\n",
    "}"
   ]
  },
  {
   "cell_type": "markdown",
   "metadata": {},
   "source": [
    "## C 库函数 - asctime()\n",
    "\n",
    "C 库函数` char *asctime(const struct tm *timeptr) `返回一个指向字符串的指针，它代表了结构 struct timeptr 的日期和时间。"
   ]
  },
  {
   "cell_type": "code",
   "execution_count": 16,
   "metadata": {},
   "outputs": [
    {
     "name": "stdout",
     "output_type": "stream",
     "text": [
      "Sat Mar 25 06:10:10 1989\n",
      "\n"
     ]
    }
   ],
   "source": [
    "{\n",
    "   struct tm t;\n",
    "\n",
    "   t.tm_sec    = 10;\n",
    "   t.tm_min    = 10;\n",
    "   t.tm_hour   = 6;\n",
    "   t.tm_mday   = 25;\n",
    "   t.tm_mon    = 2;\n",
    "   t.tm_year   = 89;\n",
    "   t.tm_wday   = 6;\n",
    "\n",
    "   cout << (asctime(&t)) << endl;\n",
    "}"
   ]
  },
  {
   "cell_type": "markdown",
   "metadata": {},
   "source": [
    "## C 库函数 - gmtime()\n",
    "\n",
    "C 库函数` struct tm *gmtime(const time_t *timer) `使用 timer 的值来填充 tm 结构，并用协调世界时（UTC）也被称为格林尼治标准时间（GMT）表示。"
   ]
  },
  {
   "cell_type": "code",
   "execution_count": 5,
   "metadata": {},
   "outputs": [
    {
     "name": "stdout",
     "output_type": "stream",
     "text": [
      "当前的世界时钟：\n",
      "伦敦：14: 55\n",
      "中国：21: 55\n"
     ]
    }
   ],
   "source": [
    "#define BST (+1)\n",
    "#define CCT (+8)\n",
    " \n",
    "{\n",
    "    time_t rawtime;\n",
    "    struct tm *info;\n",
    "\n",
    "    time(&rawtime);\n",
    "    /* 获取 GMT 时间 */\n",
    "    info = gmtime(&rawtime );\n",
    "\n",
    "    cout << (\"当前的世界时钟：\\n\");\n",
    "    cout << \"伦敦：\" << info->tm_hour+BST%24 << \": \" << info->tm_min << endl;\n",
    "    cout << \"中国：\" << info->tm_hour+CCT%24 << \": \" << info->tm_min << endl;\n",
    "}"
   ]
  },
  {
   "cell_type": "markdown",
   "metadata": {},
   "source": [
    "## C 库函数 - mktime()\n",
    "\n",
    "C 库函数` time_t mktime(struct tm *timeptr) `把 timeptr 所指向的结构转换为一个依据本地时区的 time_t 值。"
   ]
  },
  {
   "cell_type": "code",
   "execution_count": 6,
   "metadata": {},
   "outputs": [],
   "source": [
    "{\n",
    "    time_t rawtime;\n",
    "    struct tm * timeinfo;\n",
    "    int year, month ,day;\n",
    "    const char * weekday[] = { \"周日\", \"周一\",\"周二\", \"周三\",\"周四\", \"周五\", \"周六\"};\n",
    "\n",
    "    /* 用户输入日期 */\n",
    "    printf (\"年: \"); fflush(stdout); scanf (\"%d\",&year);\n",
    "    printf (\"月: \"); fflush(stdout); scanf (\"%d\",&month);\n",
    "    printf (\"日: \"); fflush(stdout); scanf (\"%d\",&day);\n",
    "\n",
    "    /* 获取当前时间信息，并修改用户输入的输入信息 */\n",
    "    time ( &rawtime );\n",
    "    timeinfo = localtime ( &rawtime );\n",
    "    timeinfo->tm_year = year - 1900;\n",
    "    timeinfo->tm_mon = month - 1;\n",
    "    timeinfo->tm_mday = day;\n",
    "\n",
    "    /* 调用 mktime: timeinfo->tm_wday  */\n",
    "    mktime ( timeinfo );\n",
    "\n",
    "    printf (\"那一天是：%s\\n\", weekday[timeinfo->tm_wday]);\n",
    "}"
   ]
  },
  {
   "cell_type": "markdown",
   "metadata": {},
   "source": [
    "## C 库函数 - difftime()\n",
    "\n",
    "C 库函数` double difftime(time_t time1, time_t time2) `返回 time1 和 time2 之间相差的秒数 (time1 - time2)。这两个时间是在日历时间中指定的，表示了自纪元 Epoch`（协调世界时 UTC：1970-01-01 00:00:00）`起经过的时间。"
   ]
  },
  {
   "cell_type": "code",
   "execution_count": 8,
   "metadata": {
    "scrolled": true
   },
   "outputs": [
    {
     "name": "stdout",
     "output_type": "stream",
     "text": [
      "程序启动，start_t = 1703125\n",
      "开始一个大循环，start_t = 1703125\n",
      "大循环结束，end_t = 1734375\n",
      "CPU 占用的总时间：0.03125\n",
      "程序退出...\n"
     ]
    }
   ],
   "source": [
    "{\n",
    "    clock_t start_t, end_t;\n",
    "    double total_t;\n",
    "    int i;\n",
    "\n",
    "    start_t = clock();\n",
    "    cout << \"程序启动，start_t = \" << start_t << endl;\n",
    "\n",
    "    cout << \"开始一个大循环，start_t = \" << start_t << endl;\n",
    "    for(i=0; i< 10000000; i++)\n",
    "    {\n",
    "    }\n",
    "    end_t = clock();\n",
    "    cout << \"大循环结束，end_t = \" << end_t << endl;\n",
    "\n",
    "    total_t = difftime(end_t, start_t) / CLOCKS_PER_SEC;\n",
    "    cout << \"CPU 占用的总时间：\" << total_t << endl;\n",
    "    cout << \"程序退出...\" << endl;\n",
    "}"
   ]
  },
  {
   "cell_type": "markdown",
   "metadata": {},
   "source": [
    "## C 库函数 - strftime()\n",
    "\n",
    "C 库函数` size_t strftime(char *str, size_t maxsize, const char *format, const struct tm *timeptr) `根据 format 中定义的格式化规则，格式化结构 timeptr 表示的时间，并把它存储在 str 中。"
   ]
  },
  {
   "cell_type": "markdown",
   "metadata": {},
   "source": [
    "说明符\t替换为\t实例\n",
    "%a\t缩写的星期几名称\tSun\n",
    "%A\t完整的星期几名称\tSunday\n",
    "%b\t缩写的月份名称\tMar\n",
    "%B\t完整的月份名称\tMarch\n",
    "%c\t日期和时间表示法\tSun Aug 19 02:56:02 2012\n",
    "%d\t一月中的第几天（01-31）\t19\n",
    "%H\t24 小时格式的小时（00-23）\t14\n",
    "%I\t12 小时格式的小时（01-12）\t05\n",
    "%j\t一年中的第几天（001-366）\t231\n",
    "%m\t十进制数表示的月份（01-12）\t08\n",
    "%M\t分（00-59）\t55\n",
    "%p\tAM 或 PM 名称\tPM\n",
    "%S\t秒（00-61）\t02\n",
    "%U\t一年中的第几周，以第一个星期日作为第一周的第一天（00-53）\t33\n",
    "%w\t十进制数表示的星期几，星期日表示为 0（0-6）\t4\n",
    "%W\t一年中的第几周，以第一个星期一作为第一周的第一天（00-53）\t34\n",
    "%x\t日期表示法\t08/19/12\n",
    "%X\t时间表示法\t02:50:06\n",
    "%y\t年份，最后两个数字（00-99）\t01\n",
    "%Y\t年份\t2012\n",
    "%Z\t时区的名称或缩写\tCDT\n",
    "%%\t一个 % 符号\t%"
   ]
  },
  {
   "cell_type": "code",
   "execution_count": 9,
   "metadata": {},
   "outputs": [
    {
     "name": "stdout",
     "output_type": "stream",
     "text": [
      "格式化的日期 & 时间 : 2020-04-03 22:03:06\n"
     ]
    }
   ],
   "source": [
    "{\n",
    "    time_t rawtime;\n",
    "    struct tm *info;\n",
    "    char buffer[80];\n",
    "\n",
    "    time( &rawtime );\n",
    "\n",
    "    info = localtime( &rawtime );\n",
    "\n",
    "    strftime(buffer, 80, \"%Y-%m-%d %H:%M:%S\", info);\n",
    "    cout << \"格式化的日期 & 时间 : \" << buffer << endl;\n",
    "}"
   ]
  },
  {
   "cell_type": "code",
   "execution_count": null,
   "metadata": {},
   "outputs": [],
   "source": []
  }
 ],
 "metadata": {
  "kernelspec": {
   "display_name": "C++11",
   "language": "C++11",
   "name": "xcpp11"
  },
  "language_info": {
   "codemirror_mode": "text/x-c++src",
   "file_extension": ".cpp",
   "mimetype": "text/x-c++src",
   "name": "c++",
   "version": "11"
  }
 },
 "nbformat": 4,
 "nbformat_minor": 4
}

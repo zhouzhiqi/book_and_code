{
 "cells": [
  {
   "cell_type": "markdown",
   "metadata": {},
   "source": [
    "# 数组"
   ]
  },
  {
   "cell_type": "markdown",
   "metadata": {},
   "source": [
    "数组可以认为是一系列相同类型的变量.    \n",
    "数组中的特定元素可以通过索引访问。   \n",
    "所有的数组都是由连续的内存位置组成。最低的地址对应第一个元素，最高的地址对应最后一个元素。"
   ]
  },
  {
   "cell_type": "markdown",
   "metadata": {},
   "source": [
    "## 声明及初始化\n",
    "\n",
    "格式如 : `type arrayName [ arraySize ];`\n",
    "```cpp\n",
    "double balance[10];\n",
    "double balance[5] = {1000.0, 2.0, 3.4, 7.0, 50.0};\n",
    "double balance[] = {1000.0, 2.0, 3.4, 7.0, 50.0};\n",
    "```"
   ]
  },
  {
   "cell_type": "markdown",
   "metadata": {},
   "source": [
    "## 赋值及访问\n",
    "\n",
    "```cpp\n",
    "balance[4] = 50.0;\n",
    "double salary = balance[9];\n",
    "```"
   ]
  },
  {
   "cell_type": "code",
   "execution_count": 1,
   "metadata": {
    "ExecuteTime": {
     "end_time": "2020-03-31T08:59:53.366552Z",
     "start_time": "2020-03-31T08:59:53.358319Z"
    }
   },
   "outputs": [],
   "source": [
    "#include <iostream>\n",
    "using namespace std;\n",
    " \n",
    "#include <iomanip>\n",
    "using std::setw;"
   ]
  },
  {
   "cell_type": "code",
   "execution_count": 2,
   "metadata": {
    "ExecuteTime": {
     "end_time": "2020-03-31T09:00:08.109946Z",
     "start_time": "2020-03-31T09:00:08.92839Z"
    }
   },
   "outputs": [
    {
     "name": "stdout",
     "output_type": "stream",
     "text": [
      "Element        Value\n",
      "      0          100\n",
      "      1          101\n",
      "      2          102\n",
      "      3          103\n",
      "      4          104\n",
      "      5          105\n",
      "      6          106\n",
      "      7          107\n",
      "      8          108\n",
      "      9          109\n"
     ]
    }
   ],
   "source": [
    "{\n",
    "   int n[ 10 ]; // n 是一个包含 10 个整数的数组\n",
    " \n",
    "   // 初始化数组元素          \n",
    "   for ( int i = 0; i < 10; i++ )\n",
    "   {\n",
    "      n[ i ] = i + 100; // 设置元素 i 为 i + 100\n",
    "   }\n",
    "   cout << \"Element\" << setw( 13 ) << \"Value\" << endl;\n",
    " \n",
    "   // 输出数组中每个元素的值                     \n",
    "   for ( int j = 0; j < 10; j++ )\n",
    "   {\n",
    "      cout << setw( 7 )<< j << setw( 13 ) << n[ j ] << endl;\n",
    "   }\n",
    "}"
   ]
  },
  {
   "cell_type": "markdown",
   "metadata": {},
   "source": [
    "## 多维数组-声明及初始化\n",
    "\n",
    "一般形式: `type name[size1][size2]...[sizeN];`\n",
    "```cpp\n",
    "int threedim[5][10][4]; // 三维数组\n",
    "\n",
    "int a[3][4] = {  \n",
    " {0, 1, 2, 3} ,   /*  初始化索引号为 0 的行 */\n",
    " {4, 5, 6, 7} ,   /*  初始化索引号为 1 的行 */\n",
    " {8, 9, 10, 11}   /*  初始化索引号为 2 的行 */\n",
    "};\n",
    "\n",
    "int a[3][4] = {0,1,2,3,4,5,6,7,8,9,10,11};\n",
    "```"
   ]
  },
  {
   "cell_type": "markdown",
   "metadata": {},
   "source": [
    "## 多维数组-引用及赋值\n",
    "\n",
    "```cpp\n",
    "a[2][3] = 66;\n",
    "int val = a[2][3];\n",
    "```"
   ]
  },
  {
   "cell_type": "code",
   "execution_count": 4,
   "metadata": {
    "ExecuteTime": {
     "end_time": "2020-03-31T09:14:20.681700Z",
     "start_time": "2020-03-31T09:14:20.53915Z"
    }
   },
   "outputs": [
    {
     "name": "stdout",
     "output_type": "stream",
     "text": [
      "a[0][0]: 0\n",
      "a[0][1]: 0\n",
      "a[1][0]: 1\n",
      "a[1][1]: 2\n",
      "a[2][0]: 2\n",
      "a[2][1]: 4\n",
      "a[3][0]: 3\n",
      "a[3][1]: 6\n",
      "a[4][0]: 4\n",
      "a[4][1]: 8\n"
     ]
    }
   ],
   "source": [
    "{\n",
    "   // 一个带有 5 行 2 列的数组\n",
    "   int a[5][2] = { {0,0}, {1,2}, {2,4}, {3,6},{4,8}};\n",
    " \n",
    "   // 输出数组中每个元素的值                      \n",
    "   for ( int i = 0; i < 5; i++ )\n",
    "      for ( int j = 0; j < 2; j++ )\n",
    "      {\n",
    "         cout << \"a[\" << i << \"][\" << j << \"]: \";\n",
    "         cout << a[i][j]<< endl;\n",
    "      }\n",
    "}"
   ]
  },
  {
   "cell_type": "markdown",
   "metadata": {},
   "source": [
    "## 指向数组的指针\n",
    "\n",
    "数组名是一个指向数组中第一个元素的常量指针"
   ]
  },
  {
   "cell_type": "markdown",
   "metadata": {},
   "source": [
    "在`double balance[50];`声明中, balance 是一个指向 `&balance[0]` 的指针，即数组 balance 的第一个元素的地址   \n",
    "因此 `*(balance + 4)` 是一种访问 `balance[4]` 数据的合法方式。"
   ]
  },
  {
   "cell_type": "markdown",
   "metadata": {},
   "source": [
    "```cpp\n",
    "double *p;\n",
    "double balance[10];\n",
    "\n",
    "p = balance; \n",
    "// 此时p指针指向数组的第一个元素\n",
    "// 可以使用 *p、*(p+1)、*(p+2) 等来访问数组元素\n",
    "```"
   ]
  },
  {
   "cell_type": "code",
   "execution_count": 7,
   "metadata": {
    "ExecuteTime": {
     "end_time": "2020-03-31T09:26:24.552047Z",
     "start_time": "2020-03-31T09:26:24.522221Z"
    }
   },
   "outputs": [
    {
     "name": "stdout",
     "output_type": "stream",
     "text": [
      "使用指针的数组值 \n",
      "*(p + 0) : 1000\n",
      "*(p + 1) : 2\n",
      "*(p + 2) : 3.4\n",
      "*(p + 3) : 17\n",
      "*(p + 4) : 50\n",
      "使用指针 外加索引值的数组值 \n",
      "p[0] : 1000\n",
      "p[1] : 2\n",
      "p[2] : 3.4\n",
      "p[3] : 17\n",
      "p[4] : 50\n",
      "使用 balance 作为地址的数组值 \n",
      "*(balance + 0) : 1000\n",
      "*(balance + 1) : 2\n",
      "*(balance + 2) : 3.4\n",
      "*(balance + 3) : 17\n",
      "*(balance + 4) : 50\n",
      "使用 balance 外加索引值的数组值 \n",
      "balance[0] : 1000\n",
      "balance[1] : 2\n",
      "balance[2] : 3.4\n",
      "balance[3] : 17\n",
      "balance[4] : 50\n"
     ]
    }
   ],
   "source": [
    "{\n",
    "    // 带有 5 个元素的双精度浮点型数组\n",
    "    double balance[5] = {1000.0, 2.0, 3.4, 17.0, 50.0};\n",
    "    double *p;\n",
    "\n",
    "    p = balance;\n",
    "\n",
    "    // 输出数组中每个元素的值\n",
    "    cout << \"使用指针的数组值 \" << endl; \n",
    "    for ( int i = 0; i < 5; i++ )\n",
    "    {\n",
    "       cout << \"*(p + \" << i << \") : \";\n",
    "       cout << *(p + i) << endl;\n",
    "    }\n",
    "\n",
    "    cout << \"使用指针 外加索引值的数组值 \" << endl;\n",
    "    for ( int i = 0; i < 5; i++ )\n",
    "    {\n",
    "       cout << \"p[\" << i << \"] : \";\n",
    "       cout << p[i] << endl;\n",
    "    }\n",
    "\n",
    "    cout << \"使用 balance 作为地址的数组值 \" << endl;\n",
    "    for ( int i = 0; i < 5; i++ )\n",
    "    {\n",
    "       cout << \"*(balance + \" << i << \") : \";\n",
    "       cout << *(balance + i) << endl;\n",
    "    }\n",
    "\n",
    "    cout << \"使用 balance 外加索引值的数组值 \" << endl;\n",
    "    for ( int i = 0; i < 5; i++ )\n",
    "    {\n",
    "       cout << \"balance[\" << i << \"] : \";\n",
    "       cout << balance[i] << endl;\n",
    "    }\n",
    "}"
   ]
  },
  {
   "cell_type": "markdown",
   "metadata": {},
   "source": [
    "当数组传递给函数时, 可以定义参数类型为 指针 或 数组\n",
    "```cpp\n",
    "void myFunction(int *param)\n",
    "{ /* ... */ }\n",
    "void myFunction(int param[10])\n",
    "{ /* ... */ }\n",
    "void myFunction(int param[])\n",
    "{ /* ... */ }\n",
    "```"
   ]
  },
  {
   "cell_type": "markdown",
   "metadata": {},
   "source": [
    "从函数返回数组\n",
    "\n",
    "```cpp\n",
    "int * myFunction()\n",
    "{ /* ... */ }\n",
    "```"
   ]
  },
  {
   "cell_type": "code",
   "execution_count": 8,
   "metadata": {
    "ExecuteTime": {
     "end_time": "2020-03-31T09:34:52.299880Z",
     "start_time": "2020-03-31T09:34:52.280617Z"
    }
   },
   "outputs": [
    {
     "name": "stdout",
     "output_type": "stream",
     "text": [
      "1334221908\n",
      "1619275091\n",
      "1003602026\n",
      "428596873\n",
      "1538259129\n",
      "336704396\n",
      "674450553\n",
      "1496078120\n",
      "867946011\n",
      "1155734040\n",
      "*(p + 0) : 1334221908\n",
      "*(p + 1) : 1619275091\n",
      "*(p + 2) : 1003602026\n",
      "*(p + 3) : 428596873\n",
      "*(p + 4) : 1538259129\n",
      "*(p + 5) : 336704396\n",
      "*(p + 6) : 674450553\n",
      "*(p + 7) : 1496078120\n",
      "*(p + 8) : 867946011\n",
      "*(p + 9) : 1155734040\n"
     ]
    }
   ],
   "source": [
    "// 要生成和返回随机数的函数\n",
    "int * getRandom( )\n",
    "{\n",
    "  static int  r[10];\n",
    " \n",
    "  // 设置种子\n",
    "  srand( (unsigned)time( NULL ) );\n",
    "  for (int i = 0; i < 10; ++i)\n",
    "  {\n",
    "    r[i] = rand();\n",
    "    cout << r[i] << endl;\n",
    "  }\n",
    " \n",
    "  return r;\n",
    "}\n",
    " \n",
    "// 要调用上面定义函数的主函数\n",
    "{\n",
    "   // 一个指向整数的指针\n",
    "   int *p;\n",
    " \n",
    "   p = getRandom();\n",
    "   for ( int i = 0; i < 10; i++ )\n",
    "   {\n",
    "       cout << \"*(p + \" << i << \") : \";\n",
    "       cout << *(p + i) << endl;\n",
    "   }\n",
    "}"
   ]
  },
  {
   "cell_type": "code",
   "execution_count": null,
   "metadata": {},
   "outputs": [],
   "source": []
  }
 ],
 "metadata": {
  "kernelspec": {
   "display_name": "C++11",
   "language": "C++11",
   "name": "xcpp11"
  },
  "language_info": {
   "codemirror_mode": "text/x-c++src",
   "file_extension": ".cpp",
   "mimetype": "text/x-c++src",
   "name": "c++",
   "version": "11"
  }
 },
 "nbformat": 4,
 "nbformat_minor": 4
}

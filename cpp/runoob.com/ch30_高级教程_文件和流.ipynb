{
 "cells": [
  {
   "cell_type": "markdown",
   "metadata": {},
   "source": [
    "# 文件和流"
   ]
  },
  {
   "cell_type": "markdown",
   "metadata": {},
   "source": [
    "到目前为止，我们已经使用了 iostream 标准库，它提供了 cin 和 cout 方法分别用于从标准输入读取流和向标准输出写入流。\n",
    "\n",
    "本教程介绍如何从文件读取流和向文件写入流。这就需要用到 C++ 中另一个标准库 fstream，它定义了三个新的数据类型：\n",
    "\n",
    "数据类型\t描述   \n",
    "ofstream\t该数据类型表示输出文件流，用于创建文件并向文件写入信息。   \n",
    "ifstream\t该数据类型表示输入文件流，用于从文件读取信息。   \n",
    "fstream\t该数据类型通常表示文件流，且同时具有 ofstream 和 ifstream 两种功能，这意味着它可以创建文件，向文件写入信息，从文件读取信息。   "
   ]
  },
  {
   "cell_type": "markdown",
   "metadata": {},
   "source": [
    "## 打开文件\n",
    "在从文件读取信息或者向文件写入信息之前，必须先打开文件。ofstream 和 fstream 对象都可以用来打开文件进行写操作，如果只需要打开文件进行读操作，则使用 ifstream 对象。\n",
    "\n",
    "下面是 open() 函数的标准语法，open() 函数是 fstream、ifstream 和 ofstream 对象的一个成员。\n",
    "```cpp\n",
    "void open(const char *filename, ios::openmode mode);\n",
    "```\n",
    "在这里，open() 成员函数的第一参数指定要打开的文件的名称和位置，第二个参数定义文件被打开的模式。"
   ]
  },
  {
   "cell_type": "markdown",
   "metadata": {},
   "source": [
    "模式标志\t描述    \n",
    "ios::app\t追加模式。所有写入都追加到文件末尾。   \n",
    "ios::ate\t文件打开后定位到文件末尾。   \n",
    "ios::in\t打开文件用于读取。   \n",
    "ios::out\t打开文件用于写入。   \n",
    "ios::trunc\t如果该文件已经存在，其内容将在打开文件之前被截断，即把文件长度设为 0。   "
   ]
  },
  {
   "cell_type": "markdown",
   "metadata": {},
   "source": [
    "您可以把以上两种或两种以上的模式结合使用。例如，如果您想要以写入模式打开文件，并希望截断文件，以防文件已存在，那么您可以使用下面的语法：\n",
    "```cpp\n",
    "ofstream outfile;\n",
    "outfile.open(\"file.dat\", ios::out | ios::trunc );\n",
    "```\n",
    "\n",
    "类似地，您如果想要打开一个文件用于读写，可以使用下面的语法：\n",
    "```cpp\n",
    "ifstream  afile;\n",
    "afile.open(\"file.dat\", ios::out | ios::in );\n",
    "```"
   ]
  },
  {
   "cell_type": "markdown",
   "metadata": {},
   "source": [
    "## 关闭文件\n",
    "当 C++ 程序终止时，它会自动关闭刷新所有流，释放所有分配的内存，并关闭所有打开的文件。但程序员应该养成一个好习惯，在程序终止前关闭所有打开的文件。\n",
    "\n",
    "下面是 close() 函数的标准语法，close() 函数是 fstream、ifstream 和 ofstream 对象的一个成员。\n",
    "\n",
    "`void close();`"
   ]
  },
  {
   "cell_type": "markdown",
   "metadata": {},
   "source": [
    "## 写入文件\n",
    "在 C++ 编程中，我们使用流插入运算符（ << ）向文件写入信息，就像使用该运算符输出信息到屏幕上一样。唯一不同的是，在这里您使用的是 ofstream 或 fstream 对象，而不是 cout 对象。"
   ]
  },
  {
   "cell_type": "markdown",
   "metadata": {},
   "source": [
    "## 读取文件\n",
    "在 C++ 编程中，我们使用流提取运算符（ >> ）从文件读取信息，就像使用该运算符从键盘输入信息一样。唯一不同的是，在这里您使用的是 ifstream 或 fstream 对象，而不是 cin 对象。"
   ]
  },
  {
   "cell_type": "markdown",
   "metadata": {},
   "source": [
    "## 文件位置指针\n",
    "istream 和 ostream 都提供了用于重新定位文件位置指针的成员函数。这些成员函数包括关于 istream 的 seekg（\"seek get\"）和关于 ostream 的 seekp（\"seek put\"）。\n",
    "\n",
    "seekg 和 seekp 的参数通常是一个长整型。第二个参数可以用于指定查找方向。查找方向可以是 ios::beg（默认的，从流的开头开始定位），也可以是 ios::cur（从流的当前位置开始定位），也可以是 ios::end（从流的末尾开始定位）。\n",
    "\n",
    "文件位置指针是一个整数值，指定了从文件的起始位置到指针所在位置的字节数。下面是关于定位 \"get\" 文件位置指针的实例：\n",
    "```cpp\n",
    "// 定位到 fileObject 的第 n 个字节（假设是 ios::beg）\n",
    "fileObject.seekg( n );\n",
    " \n",
    "// 把文件的读指针从 fileObject 当前位置向后移 n 个字节\n",
    "fileObject.seekg( n, ios::cur );\n",
    " \n",
    "// 把文件的读指针从 fileObject 末尾往回移 n 个字节\n",
    "fileObject.seekg( n, ios::end );\n",
    " \n",
    "// 定位到 fileObject 的末尾\n",
    "fileObject.seekg( 0, ios::end );\n",
    "```"
   ]
  },
  {
   "cell_type": "markdown",
   "metadata": {},
   "source": [
    "## 读取 & 写入实例\n",
    "下面的 C++ 程序以读写模式打开一个文件。在向文件 afile.dat 写入用户输入的信息之后，程序从文件读取信息，并将其输出到屏幕上"
   ]
  },
  {
   "cell_type": "code",
   "execution_count": 1,
   "metadata": {},
   "outputs": [],
   "source": [
    "#include <fstream>\n",
    "#include <iostream>\n",
    "using namespace std;"
   ]
  },
  {
   "cell_type": "code",
   "execution_count": null,
   "metadata": {},
   "outputs": [],
   "source": [
    "{\n",
    "    char data[100];\n",
    "\n",
    "    // 以写模式打开文件\n",
    "    ofstream outfile;\n",
    "    outfile.open(\"afile.dat\");\n",
    "\n",
    "    cout << \"Writing to the file\" << endl;\n",
    "    cout << \"Enter your name: \"; \n",
    "    cin.getline(data, 100);\n",
    "\n",
    "    // 向文件写入用户输入的数据\n",
    "    outfile << data << endl;\n",
    "\n",
    "    cout << \"Enter your age: \"; \n",
    "    cin >> data;\n",
    "    cin.ignore();\n",
    "\n",
    "    // 再次向文件写入用户输入的数据\n",
    "    outfile << data << endl;\n",
    "\n",
    "    // 关闭打开的文件\n",
    "    outfile.close();\n",
    "\n",
    "    // 以读模式打开文件\n",
    "    ifstream infile; \n",
    "    infile.open(\"afile.dat\"); \n",
    "\n",
    "    cout << \"Reading from the file\" << endl; \n",
    "    infile >> data; \n",
    "\n",
    "    // 在屏幕上写入数据\n",
    "    cout << data << endl;\n",
    "\n",
    "    // 再次从文件读取数据，并显示它\n",
    "    infile >> data; \n",
    "    cout << data << endl; \n",
    "\n",
    "    // 关闭打开的文件\n",
    "    infile.close();\n",
    "}"
   ]
  }
 ],
 "metadata": {
  "kernelspec": {
   "display_name": "C++11",
   "language": "C++11",
   "name": "xcpp11"
  },
  "language_info": {
   "codemirror_mode": "text/x-c++src",
   "file_extension": ".cpp",
   "mimetype": "text/x-c++src",
   "name": "c++",
   "version": "11"
  }
 },
 "nbformat": 4,
 "nbformat_minor": 4
}

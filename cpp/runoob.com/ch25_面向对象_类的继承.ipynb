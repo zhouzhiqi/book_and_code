{
 "cells": [
  {
   "cell_type": "markdown",
   "metadata": {},
   "source": [
    "# 类的继承\n",
    "\n",
    "面向对象程序设计中最重要的一个概念是继承。继承允许我们依据另一个类来定义一个类，这使得创建和维护一个应用程序变得更容易。这样做，也达到了重用代码功能和提高执行效率的效果。\n",
    "\n",
    "当创建一个类时，您不需要重新编写新的数据成员和成员函数，只需指定新建的类继承了一个已有的类的成员即可。这个已有的类称为基类，新建的类称为派生类。\n",
    "\n",
    "继承代表了 is a 关系。例如，哺乳动物是动物，狗是哺乳动物，因此，狗是动物，等等。"
   ]
  },
  {
   "cell_type": "markdown",
   "metadata": {},
   "source": [
    "## 基类 & 派生类\n",
    "\n",
    "一个类可以派生自多个类，这意味着，它可以从多个基类继承数据和函数。定义一个派生类，我们使用一个类派生列表来指定基类。类派生列表以一个或多个基类命名，形式如下：   \n",
    "`class derived-class: access-specifier base-class`   \n",
    "其中，访问修饰符 access-specifier 是 public、protected 或 private 其中的一个，base-class 是之前定义过的某个类的名称。如果未使用访问修饰符 access-specifier，则默认为 private。   "
   ]
  },
  {
   "cell_type": "code",
   "execution_count": 1,
   "metadata": {},
   "outputs": [],
   "source": [
    "#include <iostream>\n",
    "using namespace std;"
   ]
  },
  {
   "cell_type": "code",
   "execution_count": 2,
   "metadata": {},
   "outputs": [],
   "source": [
    "// 基类\n",
    "class Shape \n",
    "{\n",
    "    public:\n",
    "        void setWidth(int w)\n",
    "        {\n",
    "            width = w;\n",
    "        }\n",
    "        void setHeight(int h)\n",
    "        {\n",
    "            height = h;\n",
    "        }\n",
    "    protected:\n",
    "        int width;\n",
    "        int height;\n",
    "};"
   ]
  },
  {
   "cell_type": "code",
   "execution_count": 3,
   "metadata": {},
   "outputs": [],
   "source": [
    "// 派生类\n",
    "class Rectangle: public Shape\n",
    "{\n",
    "    public:\n",
    "        int getArea()\n",
    "        { \n",
    "            return (width * height); \n",
    "        }\n",
    "};"
   ]
  },
  {
   "cell_type": "code",
   "execution_count": 4,
   "metadata": {},
   "outputs": [
    {
     "name": "stdout",
     "output_type": "stream",
     "text": [
      "Total area: 35\n"
     ]
    }
   ],
   "source": [
    "{\n",
    "    Rectangle Rect;\n",
    "\n",
    "    Rect.setWidth(5);\n",
    "    Rect.setHeight(7);\n",
    "\n",
    "    // 输出对象的面积\n",
    "    cout << \"Total area: \" << Rect.getArea() << endl;\n",
    "}"
   ]
  },
  {
   "cell_type": "markdown",
   "metadata": {},
   "source": [
    "## 访问控制和继承\n",
    "\n",
    "派生类可以访问基类中所有的非私有成员。因此基类成员如果不想被派生类的成员函数访问，则应在基类中声明为 private。\n",
    "\n",
    "我们可以根据访问权限总结出不同的访问类型，如下所示：\n",
    "\n",
    "访问\tpublic\tprotected\tprivate\n",
    "同一个类\tyes\tyes\tyes\n",
    "派生类\tyes\tyes\tno\n",
    "外部的类\tyes\tno\tno\n",
    "\n",
    "一个派生类继承了所有的基类方法，但下列情况除外：\n",
    "\n",
    "* 基类的构造函数、析构函数和拷贝构造函数。\n",
    "* 基类的重载运算符。\n",
    "* 基类的友元函数。"
   ]
  },
  {
   "cell_type": "markdown",
   "metadata": {},
   "source": [
    "## 继承类型\n",
    "\n",
    "当一个类派生自基类，该基类可以被继承为 public、protected 或 private 几种类型。继承类型是通过上面讲解的访问修饰符 access-specifier 来指定的。\n",
    "\n",
    "我们几乎不使用 protected 或 private 继承，通常使用 public 继承。当使用不同类型的继承时，遵循以下几个规则：\n",
    "\n",
    "* 公有继承（public）：当一个类派生自公有基类时，基类的公有成员也是派生类的公有成员，基类的保护成员也是派生类的保护成员，基类的私有成员不能直接被派生类访问，但是可以通过调用基类的公有和保护成员来访问。\n",
    "* 保护继承（protected）： 当一个类派生自保护基类时，基类的公有和保护成员将成为派生类的保护成员。\n",
    "* 私有继承（private）：当一个类派生自私有基类时，基类的公有和保护成员将成为派生类的私有成员。"
   ]
  },
  {
   "cell_type": "markdown",
   "metadata": {},
   "source": [
    "## 多继承\n",
    "\n",
    "多继承即一个子类可以有多个父类，它继承了多个父类的特性。\n",
    "\n",
    "C++ 类可以从多个类继承成员，语法如下：\n",
    "```cpp\n",
    "class <派生类名>:<继承方式1><基类名1>,<继承方式2><基类名2>,…\n",
    "{\n",
    "<派生类类体>\n",
    "};\n",
    "```\n",
    "其中，访问修饰符继承方式是 public、protected 或 private 其中的一个，用来修饰每个基类，各个基类之间用逗号分隔，如上所示。"
   ]
  },
  {
   "cell_type": "code",
   "execution_count": 1,
   "metadata": {},
   "outputs": [],
   "source": [
    "#include <iostream>\n",
    "using namespace std;"
   ]
  },
  {
   "cell_type": "code",
   "execution_count": 2,
   "metadata": {},
   "outputs": [],
   "source": [
    "// 基类\n",
    "class Shape \n",
    "{\n",
    "    public:\n",
    "        void setWidth(int w)\n",
    "        {\n",
    "            width = w;\n",
    "        }\n",
    "        void setHeight(int h)\n",
    "        {\n",
    "            height = h;\n",
    "        }\n",
    "    protected:\n",
    "        int width;\n",
    "        int height;\n",
    "};"
   ]
  },
  {
   "cell_type": "code",
   "execution_count": 3,
   "metadata": {},
   "outputs": [],
   "source": [
    "// 基类 PaintCost\n",
    "class PaintCost \n",
    "{\n",
    "    public:\n",
    "        int getCost(int area)\n",
    "        {\n",
    "             return area * 70;\n",
    "         }\n",
    "};"
   ]
  },
  {
   "cell_type": "code",
   "execution_count": 4,
   "metadata": {},
   "outputs": [],
   "source": [
    "// 派生类\n",
    "class Rectangle: public Shape, public PaintCost\n",
    "{\n",
    "    public:\n",
    "        int getArea()\n",
    "        { \n",
    "            return (width * height); \n",
    "        }\n",
    "};"
   ]
  },
  {
   "cell_type": "code",
   "execution_count": 5,
   "metadata": {},
   "outputs": [
    {
     "name": "stdout",
     "output_type": "stream",
     "text": [
      "Total area: 35\n",
      "Total paint cost: $2450\n"
     ]
    }
   ],
   "source": [
    "{\n",
    "    Rectangle Rect;\n",
    "    int area;\n",
    "\n",
    "    Rect.setWidth(5);\n",
    "    Rect.setHeight(7);\n",
    "\n",
    "    area = Rect.getArea();\n",
    "\n",
    "    // 输出对象的面积\n",
    "    cout << \"Total area: \" << Rect.getArea() << endl;\n",
    "\n",
    "    // 输出总花费\n",
    "    cout << \"Total paint cost: $\" << Rect.getCost(area) << endl;\n",
    "}"
   ]
  },
  {
   "cell_type": "markdown",
   "metadata": {},
   "source": [
    "## 多继承(环状继承)\n",
    "\n",
    "A->D, B->D, C->(A，B)，例如：\n",
    "\n",
    "```cpp\n",
    "class D{......};\n",
    "class B: public D{......};\n",
    "class A: public D{......};\n",
    "class C: public B, public A{.....};\n",
    "```\n",
    "这个继承会使D创建两个对象,要解决上面问题就要用虚拟继承格式\n",
    "\n",
    "格式：class 类名: virtual 继承方式 父类名\n",
    "```cpp\n",
    "class D{......};\n",
    "class B: virtual public D{......};\n",
    "class A: virtual public D{......};\n",
    "class C: public B, public A{.....};\n",
    "```\n",
    "\n",
    "虚继承--（在创建对象的时候会创建一个虚表）在创建父类对象的时候\n",
    "```cpp\n",
    "A:virtual public D\n",
    "B:virtual public D\n",
    "```"
   ]
  },
  {
   "cell_type": "code",
   "execution_count": null,
   "metadata": {},
   "outputs": [],
   "source": []
  }
 ],
 "metadata": {
  "kernelspec": {
   "display_name": "C++11",
   "language": "C++11",
   "name": "xcpp11"
  },
  "language_info": {
   "codemirror_mode": "text/x-c++src",
   "file_extension": ".cpp",
   "mimetype": "text/x-c++src",
   "name": "c++",
   "version": "11"
  }
 },
 "nbformat": 4,
 "nbformat_minor": 4
}

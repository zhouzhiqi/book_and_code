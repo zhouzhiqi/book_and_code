{
 "cells": [
  {
   "cell_type": "markdown",
   "metadata": {},
   "source": [
    "# 重载决策\n",
    "\n",
    "C++ 允许在同一作用域中的某个函数和运算符指定多个定义，分别称为函数重载和运算符重载。\n",
    "\n",
    "重载声明是指一个与之前已经在该作用域内声明过的函数或方法具有相同名称的声明，但是它们的参数列表和定义（实现）不相同。\n",
    "\n",
    "当您调用一个重载函数或重载运算符时，编译器通过把您所使用的参数类型与定义中的参数类型进行比较，决定选用最合适的定义。选择最合适的重载函数或重载运算符的过程，称为重载决策。"
   ]
  },
  {
   "cell_type": "markdown",
   "metadata": {},
   "source": [
    "# 函数重载\n",
    "\n",
    "在同一个作用域内，可以声明几个功能类似的同名函数，但是这些同名函数的形式参数（指参数的个数、类型或者顺序）必须不同。您不能仅通过返回类型的不同来重载函数。"
   ]
  },
  {
   "cell_type": "code",
   "execution_count": 1,
   "metadata": {},
   "outputs": [],
   "source": [
    "#include <iostream>\n",
    "using namespace std;"
   ]
  },
  {
   "cell_type": "code",
   "execution_count": 2,
   "metadata": {},
   "outputs": [],
   "source": [
    "class printData\n",
    "{\n",
    "    public:\n",
    "        void print(int i) {\n",
    "            cout << \"整数为: \" << i << endl;\n",
    "        }\n",
    "\n",
    "        void print(double  f) {\n",
    "            cout << \"浮点数为: \" << f << endl;\n",
    "        }\n",
    "\n",
    "        void print(char c[]) {\n",
    "            cout << \"字符串为: \" << c << endl;\n",
    "        }\n",
    "};"
   ]
  },
  {
   "cell_type": "code",
   "execution_count": 3,
   "metadata": {},
   "outputs": [
    {
     "name": "stdout",
     "output_type": "stream",
     "text": [
      "整数为: 5\n",
      "浮点数为: 500.263\n",
      "字符串为: Hello C++\n"
     ]
    }
   ],
   "source": [
    "{\n",
    "    printData pd;\n",
    "\n",
    "    // 输出整数\n",
    "    pd.print(5);\n",
    "    // 输出浮点数\n",
    "    pd.print(500.263);\n",
    "    // 输出字符串\n",
    "    char c[] = \"Hello C++\";\n",
    "    pd.print(c);\n",
    "}"
   ]
  },
  {
   "cell_type": "markdown",
   "metadata": {},
   "source": [
    "# 运算符重载\n",
    "\n",
    "您可以重定义或重载大部分 C++ 内置的运算符。这样，您就能使用自定义类型的运算符。\n",
    "\n",
    "重载的运算符是带有特殊名称的函数，函数名是由关键字 operator 和其后要重载的运算符符号构成的。与其他函数一样，重载运算符有一个返回类型和一个参数列表。\n",
    "```cpp\n",
    "Box operator+(const Box&);\n",
    "```\n",
    "声明加法运算符用于把两个 Box 对象相加，返回最终的 Box 对象。大多数的重载运算符可被定义为普通的非成员函数或者被定义为类成员函数。如果我们定义上面的函数为类的非成员函数，那么我们需要为每次操作传递两个参数，如下所示：\n",
    "```cpp\n",
    "Box operator+(const Box&, const Box&);\n",
    "```"
   ]
  },
  {
   "cell_type": "code",
   "execution_count": 4,
   "metadata": {},
   "outputs": [],
   "source": [
    "class Box\n",
    "{\n",
    "   public:\n",
    " \n",
    "      double getVolume(void)\n",
    "      {\n",
    "         return length * breadth * height;\n",
    "      }\n",
    "      void setLength( double len )\n",
    "      {\n",
    "          length = len;\n",
    "      }\n",
    " \n",
    "      void setBreadth( double bre )\n",
    "      {\n",
    "          breadth = bre;\n",
    "      }\n",
    " \n",
    "      void setHeight( double hei )\n",
    "      {\n",
    "          height = hei;\n",
    "      }\n",
    "      // 重载 + 运算符，用于把两个 Box 对象相加\n",
    "      Box operator+(const Box& b)\n",
    "      {\n",
    "         Box box;\n",
    "         box.length = this->length + b.length;\n",
    "         box.breadth = this->breadth + b.breadth;\n",
    "         box.height = this->height + b.height;\n",
    "         return box;\n",
    "      }\n",
    "   private:\n",
    "      double length;      // 长度\n",
    "      double breadth;     // 宽度\n",
    "      double height;      // 高度\n",
    "};"
   ]
  },
  {
   "cell_type": "code",
   "execution_count": 5,
   "metadata": {},
   "outputs": [
    {
     "name": "stdout",
     "output_type": "stream",
     "text": [
      "Volume of Box1 : 210\n",
      "Volume of Box2 : 1560\n",
      "Volume of Box3 : 5400\n"
     ]
    }
   ],
   "source": [
    "{\n",
    "    Box Box1;                // 声明 Box1，类型为 Box\n",
    "    Box Box2;                // 声明 Box2，类型为 Box\n",
    "    Box Box3;                // 声明 Box3，类型为 Box\n",
    "    double volume = 0.0;     // 把体积存储在该变量中\n",
    "\n",
    "    // Box1 详述\n",
    "    Box1.setLength(6.0); \n",
    "    Box1.setBreadth(7.0); \n",
    "    Box1.setHeight(5.0);\n",
    "\n",
    "    // Box2 详述\n",
    "    Box2.setLength(12.0); \n",
    "    Box2.setBreadth(13.0); \n",
    "    Box2.setHeight(10.0);\n",
    "\n",
    "    // Box1 的体积\n",
    "    volume = Box1.getVolume();\n",
    "    cout << \"Volume of Box1 : \" << volume <<endl;\n",
    "\n",
    "    // Box2 的体积\n",
    "    volume = Box2.getVolume();\n",
    "    cout << \"Volume of Box2 : \" << volume <<endl;\n",
    "\n",
    "    // 把两个对象相加，得到 Box3\n",
    "    Box3 = Box1 + Box2;\n",
    "\n",
    "    // Box3 的体积\n",
    "    volume = Box3.getVolume();\n",
    "    cout << \"Volume of Box3 : \" << volume <<endl;\n",
    "}"
   ]
  },
  {
   "cell_type": "markdown",
   "metadata": {},
   "source": [
    "## 可重载运算符/不可重载运算符\n",
    "\n",
    "下面是可重载的运算符列表：\n",
    "```\n",
    "双目算术运算符\t+ (加)，-(减)，*(乘)，/(除)，% (取模)\n",
    "关系运算符\t==(等于)，!= (不等于)，< (小于)，> (大于>，<=(小于等于)，>=(大于等于)\n",
    "逻辑运算符\t||(逻辑或)，&&(逻辑与)，!(逻辑非)\n",
    "单目运算符\t+ (正)，-(负)，*(指针)，&(取地址)\n",
    "自增自减运算符\t++(自增)，--(自减)\n",
    "位运算符\t| (按位或)，& (按位与)，~(按位取反)，^(按位异或),，<< (左移)，>>(右移)\n",
    "赋值运算符\t=, +=, -=, *=, /= , % = , &=, |=, ^=, <<=, >>=\n",
    "空间申请与释放\tnew, delete, new[ ] , delete[]\n",
    "其他运算符\t()(函数调用)，->(成员访问)，,(逗号)，[](下标)\n",
    "```\n",
    "\n",
    "下面是不可重载的运算符列表：\n",
    "```\n",
    ".：成员访问运算符\n",
    ".*, ->*：成员指针访问运算符\n",
    "::：域运算符\n",
    "sizeof：长度运算符\n",
    "?:：条件运算符\n",
    "#： 预处理符号\n",
    "```"
   ]
  },
  {
   "cell_type": "code",
   "execution_count": null,
   "metadata": {},
   "outputs": [],
   "source": []
  }
 ],
 "metadata": {
  "kernelspec": {
   "display_name": "C++11",
   "language": "C++11",
   "name": "xcpp11"
  },
  "language_info": {
   "codemirror_mode": "text/x-c++src",
   "file_extension": ".cpp",
   "mimetype": "text/x-c++src",
   "name": "c++",
   "version": "11"
  }
 },
 "nbformat": 4,
 "nbformat_minor": 4
}

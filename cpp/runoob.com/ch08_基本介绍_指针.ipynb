{
 "cells": [
  {
   "cell_type": "markdown",
   "metadata": {},
   "source": [
    "# 指针"
   ]
  },
  {
   "cell_type": "markdown",
   "metadata": {},
   "source": [
    "每一个变量都有一个内存位置，每一个内存位置都定义了可使用连字号（&）运算符访问的地址，它表示了在内存中的一个地址   \n",
    "指针是一个变量，其值为另一个变量的地址，即，内存位置的直接地址"
   ]
  },
  {
   "cell_type": "code",
   "execution_count": 1,
   "metadata": {
    "ExecuteTime": {
     "end_time": "2020-03-31T10:27:43.356722Z",
     "start_time": "2020-03-31T10:27:43.351466Z"
    }
   },
   "outputs": [],
   "source": [
    "#include <iostream>\n",
    " \n",
    "using namespace std;"
   ]
  },
  {
   "cell_type": "code",
   "execution_count": 2,
   "metadata": {
    "ExecuteTime": {
     "end_time": "2020-03-31T10:27:43.365394Z",
     "start_time": "2020-03-31T10:27:43.357109Z"
    }
   },
   "outputs": [
    {
     "name": "stdout",
     "output_type": "stream",
     "text": [
      "var1 变量的地址： 0x7ffe36e98da4\n",
      "var2 变量的地址： 0x7ffe36e98d9a\n"
     ]
    }
   ],
   "source": [
    "{\n",
    "    int  var1;\n",
    "    char var2[10];\n",
    "\n",
    "    cout << \"var1 变量的地址： \";\n",
    "    cout << &var1 << endl;\n",
    "\n",
    "    cout << \"var2 变量的地址： \";\n",
    "    cout << &var2 << endl;\n",
    "}"
   ]
  },
  {
   "cell_type": "markdown",
   "metadata": {},
   "source": [
    "## 指针的声明及引用\n",
    "\n",
    "指针变量声明的一般形式为：`type *var-name;`   \n",
    "这里，type 是指针的基类型，它必须是一个有效的 C++ 数据类型，var-name 是指针变量的名称, 如:   \n",
    "```cpp\n",
    "int    *ip;    /* 一个整型的指针 */\n",
    "double *dp;    /* 一个 double 型的指针 */\n",
    "float  *fp;    /* 一个浮点型的指针 */\n",
    "char   *ch;    /* 一个字符型的指针 */\n",
    "```"
   ]
  },
  {
   "cell_type": "code",
   "execution_count": 3,
   "metadata": {
    "ExecuteTime": {
     "end_time": "2020-03-31T10:32:07.133308Z",
     "start_time": "2020-03-31T10:32:07.118639Z"
    }
   },
   "outputs": [
    {
     "name": "stdout",
     "output_type": "stream",
     "text": [
      "Value of var variable: 20\n",
      "Address stored in ip variable: 0x7ffe36e98da4\n",
      "Value of *ip variable: 20\n"
     ]
    }
   ],
   "source": [
    "{\n",
    "    int  var = 20;   // 实际变量的声明\n",
    "    int  *ip;        // 指针变量的声明\n",
    "\n",
    "    ip = &var;       // 在指针变量中存储 var 的地址\n",
    "\n",
    "    cout << \"Value of var variable: \";\n",
    "    cout << var << endl;\n",
    "\n",
    "    // 输出在指针变量中存储的地址\n",
    "    cout << \"Address stored in ip variable: \";\n",
    "    cout << ip << endl;\n",
    "\n",
    "    // 访问指针中地址的值\n",
    "    cout << \"Value of *ip variable: \";\n",
    "    cout << *ip << endl;\n",
    "}"
   ]
  },
  {
   "cell_type": "markdown",
   "metadata": {},
   "source": [
    "## Null 空指针"
   ]
  },
  {
   "cell_type": "markdown",
   "metadata": {},
   "source": [
    "在变量声明的时候，如果没有确切的地址可以赋值，为指针变量赋一个 NULL 值是一个良好的编程习惯。赋为 NULL 值的指针被称为空指针。\n",
    "\n",
    "NULL 指针是一个定义在标准库中的值为零的常量。"
   ]
  },
  {
   "cell_type": "code",
   "execution_count": 7,
   "metadata": {},
   "outputs": [
    {
     "name": "stdout",
     "output_type": "stream",
     "text": [
      "ptr 的值是 0\n",
      "bool (ptr): 0\n",
      "bool (!ptr): 1\n"
     ]
    }
   ],
   "source": [
    "{\n",
    "    int  *ptr = NULL;\n",
    "    cout << \"ptr 的值是 \" << ptr << endl;\n",
    "    cout << \"bool (ptr): \" << bool(ptr) << endl;\n",
    "    cout << \"bool (!ptr): \" << bool(!ptr) << endl;\n",
    "}"
   ]
  },
  {
   "cell_type": "markdown",
   "metadata": {},
   "source": [
    "## 指针的算术运算"
   ]
  },
  {
   "cell_type": "code",
   "execution_count": 8,
   "metadata": {},
   "outputs": [
    {
     "name": "stdout",
     "output_type": "stream",
     "text": [
      "address of ptr   is : 0x7fffd602bde8\n",
      "address of ptr+1 is : 0x7fffd602bdec\n",
      "address of ptr-1 is : 0x7fffd602bde4\n",
      "address of ptr++ is : 0x7fffd602bde8\n",
      "address of ++ptr is : 0x7fffd602bdf0\n",
      "address of ptr-- is : 0x7fffd602bdf0\n",
      "address of --ptr is : 0x7fffd602bde8\n",
      "=================================\n",
      "value of ptr   is : 10\n",
      "value of ptr+1 is : 100\n",
      "value of ptr-1 is : 32767\n",
      "value of ptr++ is : 10\n",
      "value of ++ptr is : 200\n",
      "value of ptr-- is : 200\n",
      "value of --ptr is : 10\n"
     ]
    }
   ],
   "source": [
    "{\n",
    "    int max = 3;\n",
    "    int  var[] = {10, 100, 200};\n",
    "    int  *ptr;\n",
    "\n",
    "    // 指针中的数组地址\n",
    "    ptr = var;\n",
    "    cout << \"address of ptr   is : \" << ptr     << endl;\n",
    "    cout << \"address of ptr+1 is : \" << (ptr+1) << endl;\n",
    "    cout << \"address of ptr-1 is : \" << (ptr-1) << endl;\n",
    "    cout << \"address of ptr++ is : \" << (ptr++) << endl;\n",
    "    cout << \"address of ++ptr is : \" << (++ptr) << endl;\n",
    "    cout << \"address of ptr-- is : \" << (ptr--) << endl;\n",
    "    cout << \"address of --ptr is : \" << (--ptr) << endl;\n",
    "    cout << \"=================================\" << endl;\n",
    "    cout << \"value of ptr   is : \" << *ptr     << endl;\n",
    "    cout << \"value of ptr+1 is : \" << *(ptr+1) << endl;\n",
    "    cout << \"value of ptr-1 is : \" << *(ptr-1) << endl;\n",
    "    cout << \"value of ptr++ is : \" << *(ptr++) << endl;\n",
    "    cout << \"value of ++ptr is : \" << *(++ptr) << endl;\n",
    "    cout << \"value of ptr-- is : \" << *(ptr--) << endl;\n",
    "    cout << \"value of --ptr is : \" << *(--ptr) << endl;\n",
    "}"
   ]
  },
  {
   "cell_type": "code",
   "execution_count": 13,
   "metadata": {},
   "outputs": [
    {
     "name": "stdout",
     "output_type": "stream",
     "text": [
      "address of ptr          is : 0x7fffd602bde8\n",
      "address of ptr> (var+1) is : 0\n",
      "address of ptr< (var+1) is : 1\n",
      "address of ptr==(var+1) is : 0\n",
      "address of ptr==var     is : 1\n"
     ]
    }
   ],
   "source": [
    "{\n",
    "    int max = 3;\n",
    "    int  var[] = {10, 100, 200};\n",
    "    int  *ptr;\n",
    "\n",
    "    // 指针中的数组地址\n",
    "    ptr = var;\n",
    "    cout << \"address of ptr          is : \" << ptr          << endl;\n",
    "    cout << \"address of ptr> (var+1) is : \" << (ptr> (var+1)) << endl;\n",
    "    cout << \"address of ptr< (var+1) is : \" << (ptr< (var+1)) << endl;\n",
    "    cout << \"address of ptr==(var+1) is : \" << (ptr==(var+1)) << endl;\n",
    "    cout << \"address of ptr==var     is : \" << (ptr==var)     << endl;\n",
    "}"
   ]
  },
  {
   "cell_type": "markdown",
   "metadata": {},
   "source": [
    "## 指针 vs 数组"
   ]
  },
  {
   "cell_type": "code",
   "execution_count": 14,
   "metadata": {},
   "outputs": [
    {
     "name": "stdout",
     "output_type": "stream",
     "text": [
      "var[0]的内存地址为 0x7fffd602bdec\n",
      "var[0] 的值为 10\n",
      "var[1]的内存地址为 0x7fffd602bdf0\n",
      "var[1] 的值为 100\n",
      "var[2]的内存地址为 0x7fffd602bdf4\n",
      "var[2] 的值为 200\n"
     ]
    }
   ],
   "source": [
    "{\n",
    "   int  var[] = {10, 100, 200};\n",
    "   int  *ptr;\n",
    " \n",
    "   // 指针中的数组地址\n",
    "   ptr = var;\n",
    "   for (int i = 0; i < 3; i++)\n",
    "   {\n",
    "      cout << \"var[\" << i << \"]的内存地址为 \";\n",
    "      cout << ptr << endl;\n",
    " \n",
    "      cout << \"var[\" << i << \"] 的值为 \";\n",
    "      cout << *ptr << endl;\n",
    " \n",
    "      // 移动到下一个位置\n",
    "      ptr++;\n",
    "   }\n",
    "}"
   ]
  },
  {
   "cell_type": "code",
   "execution_count": 22,
   "metadata": {},
   "outputs": [
    {
     "name": "stdout",
     "output_type": "stream",
     "text": [
      "++ptr = 0x7fffd602bdf0\n",
      "66\n",
      "66\n",
      "66\n"
     ]
    }
   ],
   "source": [
    "{\n",
    "    int  var[] = {10, 100, 200};\n",
    "    int  *ptr;\n",
    "\n",
    "    // 指针中的数组地址\n",
    "    ptr = var;\n",
    "    cout << \"++ptr = \" << (++ptr) << endl;\n",
    "    // cout << \"++var = \" << (++var) << endl; // var是常量, 不能修改\n",
    "    \n",
    "    *ptr = 66; \n",
    "    cout << *ptr   << endl;\n",
    "    cout << var[1] << endl;\n",
    "    cout << ptr[0] << endl; // 指针可以作为数组名+索引使用\n",
    "}"
   ]
  },
  {
   "cell_type": "markdown",
   "metadata": {},
   "source": [
    "## 由指针组成的数组"
   ]
  },
  {
   "cell_type": "code",
   "execution_count": 23,
   "metadata": {},
   "outputs": [
    {
     "name": "stdout",
     "output_type": "stream",
     "text": [
      "Value of var[0] = 10\n",
      "Value of var[1] = 100\n",
      "Value of var[2] = 200\n"
     ]
    }
   ],
   "source": [
    "{\n",
    "   int  var[3] = {10, 100, 200};\n",
    "   int *ptr[3];\n",
    " \n",
    "   for (int i = 0; i < 3; i++)\n",
    "   {\n",
    "      ptr[i] = &var[i]; // 赋值为整数的地址\n",
    "   }\n",
    "   for (int i = 0; i < 3; i++)\n",
    "   {\n",
    "      cout << \"Value of var[\" << i << \"] = \";\n",
    "      cout << *ptr[i] << endl; //指针数组中的指针, 指向的值\n",
    "   }\n",
    "}"
   ]
  },
  {
   "cell_type": "markdown",
   "metadata": {},
   "source": [
    "## 指向指针的指针（多级间接寻址）"
   ]
  },
  {
   "cell_type": "code",
   "execution_count": 27,
   "metadata": {},
   "outputs": [
    {
     "name": "stdout",
     "output_type": "stream",
     "text": [
      "var 值为 :3000\n",
      " ptr 值为:0x7fffd602bdf4\n",
      "*ptr 值为:3000\n",
      "  pptr 值为:0x7fffd602bde8\n",
      " *pptr 值为:0x7fffd602bdf4\n",
      "**pptr 值为:3000\n"
     ]
    }
   ],
   "source": [
    "{\n",
    "    int  var;\n",
    "    int  *ptr;\n",
    "    int  **pptr;\n",
    "\n",
    "    var = 3000;\n",
    "\n",
    "    // 获取 var 的地址\n",
    "    ptr = &var;\n",
    "\n",
    "    // 使用运算符 & 获取 ptr 的地址\n",
    "    pptr = &ptr;\n",
    "\n",
    "    // 使用 pptr 获取值\n",
    "    cout << \"var 值为 :\" << var << endl;\n",
    "    cout << \" ptr 值为:\" <<  ptr << endl;\n",
    "    cout << \"*ptr 值为:\" << *ptr << endl;\n",
    "    cout << \"  pptr 值为:\" <<  pptr << endl;\n",
    "    cout << \" *pptr 值为:\" <<  *pptr << endl;\n",
    "    cout << \"**pptr 值为:\" << **pptr << endl;\n",
    "}"
   ]
  },
  {
   "cell_type": "markdown",
   "metadata": {},
   "source": [
    "## 传递指针给函数 "
   ]
  },
  {
   "cell_type": "code",
   "execution_count": 28,
   "metadata": {},
   "outputs": [
    {
     "name": "stdout",
     "output_type": "stream",
     "text": [
      "Number of seconds :1585837049\n"
     ]
    }
   ],
   "source": [
    "void getSeconds(unsigned long *par)\n",
    "{\n",
    "    // 获取当前的秒数\n",
    "    *par = time( NULL );\n",
    "    return;\n",
    "}\n",
    "\n",
    "{\n",
    "    unsigned long sec;\n",
    "    getSeconds( &sec );\n",
    "    // 输出实际值\n",
    "    cout << \"Number of seconds :\" << sec << endl;\n",
    "}"
   ]
  },
  {
   "cell_type": "markdown",
   "metadata": {},
   "source": [
    "## 从函数返回指针"
   ]
  },
  {
   "cell_type": "code",
   "execution_count": 2,
   "metadata": {},
   "outputs": [],
   "source": [
    "long *getSeconds()\n",
    "{\n",
    "    // 获取当前的秒数\n",
    "    static long par; //一定要使用static 函数可以返回局部变量\n",
    "    par = time( NULL );\n",
    "    return &par;\n",
    "}"
   ]
  },
  {
   "cell_type": "code",
   "execution_count": 3,
   "metadata": {},
   "outputs": [
    {
     "name": "stdout",
     "output_type": "stream",
     "text": [
      "Number of seconds :1585837397\n"
     ]
    }
   ],
   "source": [
    "{\n",
    "    long * sec;\n",
    "    sec = getSeconds();\n",
    "    // 输出实际值\n",
    "    cout << \"Number of seconds :\" << *sec << endl;\n",
    "}"
   ]
  },
  {
   "cell_type": "code",
   "execution_count": null,
   "metadata": {},
   "outputs": [],
   "source": []
  }
 ],
 "metadata": {
  "kernelspec": {
   "display_name": "C++11",
   "language": "C++11",
   "name": "xcpp11"
  },
  "language_info": {
   "codemirror_mode": "text/x-c++src",
   "file_extension": ".cpp",
   "mimetype": "text/x-c++src",
   "name": "c++",
   "version": "11"
  }
 },
 "nbformat": 4,
 "nbformat_minor": 4
}

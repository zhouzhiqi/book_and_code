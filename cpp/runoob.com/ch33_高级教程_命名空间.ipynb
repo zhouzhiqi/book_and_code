{
 "cells": [
  {
   "cell_type": "markdown",
   "metadata": {},
   "source": [
    "# 命名空间\n",
    "\n",
    "假设这样一种情况，当一个班上有两个名叫 Zara 的学生时，为了明确区分它们，我们在使用名字之外，不得不使用一些额外的信息，比如他们的家庭住址，或者他们父母的名字等等。\n",
    "\n",
    "同样的情况也出现在 C++ 应用程序中。例如，您可能会写一个名为 xyz() 的函数，在另一个可用的库中也存在一个相同的函数 xyz()。这样，编译器就无法判断您所使用的是哪一个 xyz() 函数。\n",
    "\n",
    "因此，引入了命名空间这个概念，专门用于解决上面的问题，它可作为附加信息来区分不同库中相同名称的函数、类、变量等。使用了命名空间即定义了上下文。本质上，命名空间就是定义了一个范围。"
   ]
  },
  {
   "cell_type": "markdown",
   "metadata": {},
   "source": [
    "## 定义命名空间\n",
    "命名空间的定义使用关键字 namespace，后跟命名空间的名称，如下所示：\n",
    "\n",
    "```cpp\n",
    "namespace namespace_name {\n",
    "   // 代码声明\n",
    "}\n",
    "\n",
    "// 为了调用带有命名空间的函数或变量，\n",
    "// 需要在前面加上命名空间的名称，如下所示：\n",
    "\n",
    "name::code;  // code 可以是变量或函数\n",
    "```"
   ]
  },
  {
   "cell_type": "code",
   "execution_count": 1,
   "metadata": {},
   "outputs": [],
   "source": [
    "#include <iostream>\n",
    "using namespace std;"
   ]
  },
  {
   "cell_type": "code",
   "execution_count": 2,
   "metadata": {},
   "outputs": [],
   "source": [
    "// 第一个命名空间\n",
    "namespace first_space{\n",
    "   void func(){\n",
    "      cout << \"Inside first_space\" << endl;\n",
    "   }\n",
    "}\n",
    "// 第二个命名空间\n",
    "namespace second_space{\n",
    "   void func(){\n",
    "      cout << \"Inside second_space\" << endl;\n",
    "   }\n",
    "}"
   ]
  },
  {
   "cell_type": "code",
   "execution_count": 3,
   "metadata": {},
   "outputs": [
    {
     "name": "stdout",
     "output_type": "stream",
     "text": [
      "Inside first_space\n",
      "Inside second_space\n"
     ]
    }
   ],
   "source": [
    "{\n",
    "   // 调用第一个命名空间中的函数\n",
    "   first_space::func();\n",
    "   \n",
    "   // 调用第二个命名空间中的函数\n",
    "   second_space::func(); \n",
    "}"
   ]
  },
  {
   "cell_type": "markdown",
   "metadata": {},
   "source": [
    "## using 指令\n",
    "\n",
    "您可以使用` using namespace `指令，这样在使用命名空间时就可以不用在前面加上命名空间的名称。这个指令会告诉编译器，后续的代码将使用指定的命名空间中的名称。"
   ]
  },
  {
   "cell_type": "code",
   "execution_count": 4,
   "metadata": {},
   "outputs": [
    {
     "name": "stdout",
     "output_type": "stream",
     "text": [
      "Inside first_space\n"
     ]
    }
   ],
   "source": [
    "{\n",
    "    using namespace first_space;\n",
    "    // 调用第一个命名空间中的函数\n",
    "    func();\n",
    "}"
   ]
  },
  {
   "cell_type": "markdown",
   "metadata": {},
   "source": [
    "using 指令也可以用来指定命名空间中的特定项目。例如，如果您只打算使用 std 命名空间中的 cout 部分，您可以使用如下的语句：\n",
    "\n",
    "`using std::cout;`\n",
    "随后的代码中，在使用 cout 时就可以不用加上命名空间名称作为前缀，但是 std 命名空间中的其他项目仍然需要加上命名空间名称作为前缀，如下所示：\n",
    "\n",
    "```cpp\n",
    "#include <iostream>\n",
    "using std::cout;\n",
    " \n",
    "int main ()\n",
    "{\n",
    " \n",
    "   cout << \"std::endl is used with std!\" << std::endl;\n",
    "   \n",
    "   return 0;\n",
    "}\n",
    "```\n",
    "using 指令引入的名称遵循正常的范围规则。名称从使用 using 指令开始是可见的，直到该范围结束。此时，在范围以外定义的同名实体是隐藏的。"
   ]
  },
  {
   "cell_type": "markdown",
   "metadata": {},
   "source": [
    "## 不连续的命名空间\n",
    "命名空间可以定义在几个不同的部分中，因此命名空间是由几个单独定义的部分组成的。一个命名空间的各个组成部分可以分散在多个文件中。\n",
    "\n",
    "所以，如果命名空间中的某个组成部分需要请求定义在另一个文件中的名称，则仍然需要声明该名称。下面的命名空间定义可以是定义一个新的命名空间，也可以是为已有的命名空间增加新的元素：\n",
    "```cpp\n",
    "namespace namespace_name {\n",
    "   // 代码声明\n",
    "}\n",
    "```"
   ]
  },
  {
   "cell_type": "markdown",
   "metadata": {},
   "source": [
    "## 嵌套的命名空间\n",
    "命名空间可以嵌套，您可以在一个命名空间中定义另一个命名空间，如下所示：\n",
    "```cpp\n",
    "namespace namespace_name1 {\n",
    "   // 代码声明\n",
    "   namespace namespace_name2 {\n",
    "      // 代码声明\n",
    "   }\n",
    "}\n",
    "// 您可以通过使用 :: 运算符来访问嵌套的命名空间中的成员：\n",
    "\n",
    "// 访问 namespace_name2 中的成员\n",
    "using namespace namespace_name1::namespace_name2;\n",
    " \n",
    "// 访问 namespace:name1 中的成员\n",
    "using namespace namespace_name1;\n",
    "```\n",
    "在上面的语句中，如果使用的是 namespace_name1，那么在该范围内 namespace_name2 中的元素也是可用的"
   ]
  },
  {
   "cell_type": "code",
   "execution_count": null,
   "metadata": {},
   "outputs": [],
   "source": []
  }
 ],
 "metadata": {
  "kernelspec": {
   "display_name": "C++11",
   "language": "C++11",
   "name": "xcpp11"
  },
  "language_info": {
   "codemirror_mode": "text/x-c++src",
   "file_extension": ".cpp",
   "mimetype": "text/x-c++src",
   "name": "c++",
   "version": "11"
  }
 },
 "nbformat": 4,
 "nbformat_minor": 4
}

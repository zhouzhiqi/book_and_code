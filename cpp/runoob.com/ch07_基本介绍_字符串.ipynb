{
 "cells": [
  {
   "cell_type": "markdown",
   "metadata": {},
   "source": [
    "# 字符串"
   ]
  },
  {
   "cell_type": "markdown",
   "metadata": {},
   "source": [
    "## C 风格字符串\n",
    "\n",
    "字符串实际上是使用 null 字符 '\\0' 终止的一维字符数组"
   ]
  },
  {
   "cell_type": "markdown",
   "metadata": {},
   "source": [
    "## C 风格字符串-初始化\n",
    "\n",
    "```cpp\n",
    "char greeting[6] = {'H', 'e', 'l', 'l', 'o', '\\0'};\n",
    "char greeting[] = \"Hello\";\n",
    "```"
   ]
  },
  {
   "cell_type": "code",
   "execution_count": 1,
   "metadata": {
    "ExecuteTime": {
     "end_time": "2020-03-31T10:05:56.610114Z",
     "start_time": "2020-03-31T10:05:56.604716Z"
    }
   },
   "outputs": [],
   "source": [
    "#include <iostream>\n",
    "\n",
    "using namespace std;"
   ]
  },
  {
   "cell_type": "code",
   "execution_count": 3,
   "metadata": {
    "ExecuteTime": {
     "end_time": "2020-03-31T10:06:05.192747Z",
     "start_time": "2020-03-31T10:06:05.182828Z"
    }
   },
   "outputs": [
    {
     "name": "stdout",
     "output_type": "stream",
     "text": [
      "Greeting message: \n",
      "Hello\n",
      "Hello\n"
     ]
    }
   ],
   "source": [
    "{\n",
    "    char greeting_a[6] = {'H', 'e', 'l', 'l', 'o', '\\0'};\n",
    "    char greeting_b[] = \"Hello\";\n",
    "\n",
    "    cout << \"Greeting message: \\n\";\n",
    "    cout << greeting_a << endl;\n",
    "    cout << greeting_b << endl;\n",
    "}"
   ]
  },
  {
   "cell_type": "markdown",
   "metadata": {},
   "source": [
    "## 常用字符串函数\n",
    "\n",
    "trcpy(s1, s2); 复制字符串 s2 到字符串 s1。   \n",
    "strcat(s1, s2); 连接字符串 s2 到字符串 s1 的末尾。   \n",
    "strlen(s1); 返回字符串 s1 的长度。   \n",
    "strcmp(s1, s2); 如果 s1 和 s2 是相同的，则返回 0；如果 s1<s2 则返回值小于 0；如果 s1>s2 则返回值大于 0。   \n",
    "strchr(s1, ch); 返回一个指针，指向字符串 s1 中字符 ch 的第一次出现的位置。   \n",
    "strstr(s1, s2); 返回一个指针，指向字符串 s1 中字符串 s2 的第一次出现的位置。   "
   ]
  },
  {
   "cell_type": "markdown",
   "metadata": {},
   "source": [
    "## C++ 中的 String 类\n",
    "\n",
    "支持上述所有的操作，另外还增加了其他更多的功能"
   ]
  },
  {
   "cell_type": "code",
   "execution_count": 4,
   "metadata": {
    "ExecuteTime": {
     "end_time": "2020-03-31T10:09:00.674219Z",
     "start_time": "2020-03-31T10:09:00.673371Z"
    }
   },
   "outputs": [],
   "source": [
    "#include <string>"
   ]
  },
  {
   "cell_type": "code",
   "execution_count": 5,
   "metadata": {
    "ExecuteTime": {
     "end_time": "2020-03-31T10:09:17.451129Z",
     "start_time": "2020-03-31T10:09:17.424634Z"
    }
   },
   "outputs": [
    {
     "name": "stdout",
     "output_type": "stream",
     "text": [
      "str3 : Hello\n",
      "str1 + str2 : HelloWorld\n",
      "str3.size() :  10\n"
     ]
    }
   ],
   "source": [
    "{\n",
    "    string str1 = \"Hello\";\n",
    "    string str2 = \"World\";\n",
    "    string str3;\n",
    "    int  len ;\n",
    "\n",
    "    // 复制 str1 到 str3\n",
    "    str3 = str1;\n",
    "    cout << \"str3 : \" << str3 << endl;\n",
    "\n",
    "    // 连接 str1 和 str2\n",
    "    str3 = str1 + str2;\n",
    "    cout << \"str1 + str2 : \" << str3 << endl;\n",
    "\n",
    "    // 连接后，str3 的总长度\n",
    "    len = str3.size();\n",
    "    cout << \"str3.size() :  \" << len << endl;\n",
    "}"
   ]
  },
  {
   "cell_type": "code",
   "execution_count": null,
   "metadata": {},
   "outputs": [],
   "source": []
  }
 ],
 "metadata": {
  "kernelspec": {
   "display_name": "C++11",
   "language": "C++11",
   "name": "xcpp11"
  },
  "language_info": {
   "codemirror_mode": "text/x-c++src",
   "file_extension": ".cpp",
   "mimetype": "text/x-c++src",
   "name": "c++",
   "version": "11"
  }
 },
 "nbformat": 4,
 "nbformat_minor": 4
}

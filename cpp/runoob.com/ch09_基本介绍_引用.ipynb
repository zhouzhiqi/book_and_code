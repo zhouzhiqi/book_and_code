{
 "cells": [
  {
   "cell_type": "markdown",
   "metadata": {},
   "source": [
    "# 引用"
   ]
  },
  {
   "cell_type": "markdown",
   "metadata": {},
   "source": [
    "引用变量是一个别名，也就是说，它是某个已存在变量的另一个名字。一旦把引用初始化为某个变量，就可以使用该引用名称或变量名称来指向变量。"
   ]
  },
  {
   "cell_type": "markdown",
   "metadata": {},
   "source": [
    "## 引用 vs 指针\n",
    "\n",
    "引用很容易与指针混淆，它们之间有三个主要的不同：\n",
    "\n",
    "1. 不存在空引用。引用必须连接到一块合法的内存。\n",
    "2. 一旦引用被初始化为一个对象，就不能被指向到另一个对象。指针可以在任何时候指向到另一个对象。\n",
    "3. 引用必须在创建时被初始化。指针可以在任何时间被初始化。"
   ]
  },
  {
   "cell_type": "markdown",
   "metadata": {},
   "source": [
    "试想变量名称是变量附属在内存位置中的标签，您可以把引用当成是变量附属在内存位置中的第二个标签。因此，您可以通过原始变量名称或引用来访问变量的内容。\n",
    "\n",
    "```cpp\n",
    "int  i = 17;\n",
    "int&  r = i;\n",
    "```\n",
    "\n",
    "在这些声明中，& 读作引用。因此，第一个声明可以读作 \"r 是一个初始化为 i 的整型引用\"，第二个声明可以读作 \"s 是一个初始化为 d 的 double 型引用\"。"
   ]
  },
  {
   "cell_type": "code",
   "execution_count": 1,
   "metadata": {},
   "outputs": [],
   "source": [
    "#include <iostream>\n",
    "\n",
    "using namespace std;"
   ]
  },
  {
   "cell_type": "code",
   "execution_count": 3,
   "metadata": {},
   "outputs": [
    {
     "name": "stdout",
     "output_type": "stream",
     "text": [
      "Value of i : 5\n",
      "Value of i reference : 5\n",
      "Value of i : 55\n",
      "Value of i reference : 55\n",
      "Value of d : 11.7\n",
      "Value of d reference : 11.7\n"
     ]
    }
   ],
   "source": [
    "{\n",
    "    // 声明简单的变量\n",
    "    int    i;\n",
    "    double d;\n",
    "\n",
    "    // 声明引用变量\n",
    "    int&    r = i;\n",
    "    double& s = d;\n",
    "\n",
    "    i = 5;\n",
    "    cout << \"Value of i : \" << i << endl;\n",
    "    cout << \"Value of i reference : \" << r  << endl;\n",
    "    r = 55;\n",
    "    cout << \"Value of i : \" << i << endl;\n",
    "    cout << \"Value of i reference : \" << r  << endl;\n",
    "    \n",
    "    d = 11.7;\n",
    "    cout << \"Value of d : \" << d << endl;\n",
    "    cout << \"Value of d reference : \" << s  << endl;\n",
    "}"
   ]
  },
  {
   "cell_type": "markdown",
   "metadata": {},
   "source": [
    "## 把引用作为参数"
   ]
  },
  {
   "cell_type": "code",
   "execution_count": 4,
   "metadata": {},
   "outputs": [
    {
     "name": "stdout",
     "output_type": "stream",
     "text": [
      "交换前，a 的值：100\n",
      "交换前，b 的值：200\n",
      "交换后，a 的值：200\n",
      "交换后，b 的值：100\n"
     ]
    }
   ],
   "source": [
    "// 函数定义\n",
    "void swap(int& x, int& y)\n",
    "{\n",
    "    int temp;\n",
    "    temp = x; /* 保存地址 x 的值 */\n",
    "    x = y;    /* 把 y 赋值给 x */\n",
    "    y = temp; /* 把 x 赋值给 y  */\n",
    "\n",
    "    return;\n",
    "}\n",
    "\n",
    "{\n",
    "    // 局部变量声明\n",
    "    int a = 100;\n",
    "    int b = 200;\n",
    "\n",
    "    cout << \"交换前，a 的值：\" << a << endl;\n",
    "    cout << \"交换前，b 的值：\" << b << endl;\n",
    "\n",
    "    /* 调用函数来交换值 */\n",
    "    swap(a, b);\n",
    "\n",
    "    cout << \"交换后，a 的值：\" << a << endl;\n",
    "    cout << \"交换后，b 的值：\" << b << endl;\n",
    "}"
   ]
  },
  {
   "cell_type": "markdown",
   "metadata": {},
   "source": [
    "## 把引用作为返回值"
   ]
  },
  {
   "cell_type": "code",
   "execution_count": 9,
   "metadata": {},
   "outputs": [],
   "source": [
    "double vals[] = {10.1, 12.6, 33.1, 24.1, 50.0};"
   ]
  },
  {
   "cell_type": "code",
   "execution_count": 10,
   "metadata": {},
   "outputs": [],
   "source": [
    "double& setValues( int i )\n",
    "{\n",
    "  return vals[i];   // 返回第 i 个元素的引用\n",
    "}"
   ]
  },
  {
   "cell_type": "code",
   "execution_count": 11,
   "metadata": {},
   "outputs": [
    {
     "name": "stdout",
     "output_type": "stream",
     "text": [
      "改变前的值\n",
      "vals[0] = 10.1\n",
      "vals[1] = 12.6\n",
      "vals[2] = 33.1\n",
      "vals[3] = 24.1\n",
      "vals[4] = 50\n",
      "改变后的值\n",
      "vals[0] = 10.1\n",
      "vals[1] = 20.23\n",
      "vals[2] = 33.1\n",
      "vals[3] = 70.8\n",
      "vals[4] = 50\n"
     ]
    }
   ],
   "source": [
    "// 要调用上面定义函数的主函数\n",
    "{\n",
    "    cout << \"改变前的值\" << endl;\n",
    "    for ( int i = 0; i < 5; i++ )\n",
    "    {\n",
    "        cout << \"vals[\" << i << \"] = \";\n",
    "        cout << vals[i] << endl;\n",
    "    }\n",
    "\n",
    "    setValues(1) = 20.23; // 改变第 2 个元素\n",
    "    setValues(3) = 70.8;  // 改变第 4 个元素\n",
    "\n",
    "    cout << \"改变后的值\" << endl;\n",
    "    for ( int i = 0; i < 5; i++ )\n",
    "    {\n",
    "        cout << \"vals[\" << i << \"] = \";\n",
    "        cout << vals[i] << endl;\n",
    "    }\n",
    "}"
   ]
  },
  {
   "cell_type": "code",
   "execution_count": null,
   "metadata": {},
   "outputs": [],
   "source": []
  }
 ],
 "metadata": {
  "kernelspec": {
   "display_name": "C++11",
   "language": "C++11",
   "name": "xcpp11"
  },
  "language_info": {
   "codemirror_mode": "text/x-c++src",
   "file_extension": ".cpp",
   "mimetype": "text/x-c++src",
   "name": "c++",
   "version": "11"
  }
 },
 "nbformat": 4,
 "nbformat_minor": 4
}

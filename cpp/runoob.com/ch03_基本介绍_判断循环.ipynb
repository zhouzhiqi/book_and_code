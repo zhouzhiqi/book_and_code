{
 "cells": [
  {
   "cell_type": "markdown",
   "metadata": {},
   "source": [
    "# 循环"
   ]
  },
  {
   "cell_type": "code",
   "execution_count": 1,
   "metadata": {},
   "outputs": [],
   "source": [
    "#include <iostream>\n",
    "using namespace std;"
   ]
  },
  {
   "cell_type": "markdown",
   "metadata": {},
   "source": [
    "## while 循环\n",
    "\n",
    "while(condition)\n",
    "{\n",
    "   statement(s);\n",
    "}\n"
   ]
  },
  {
   "cell_type": "code",
   "execution_count": 2,
   "metadata": {},
   "outputs": [
    {
     "name": "stdout",
     "output_type": "stream",
     "text": [
      "a 的值：10\n",
      "a 的值：11\n",
      "a 的值：12\n",
      "a 的值：13\n",
      "a 的值：14\n",
      "a 的值：15\n",
      "a 的值：16\n",
      "a 的值：17\n",
      "a 的值：18\n",
      "a 的值：19\n"
     ]
    }
   ],
   "source": [
    "{\n",
    "   // 局部变量声明\n",
    "   int a = 10;\n",
    "\n",
    "   // while 循环执行\n",
    "   while( a < 20 )\n",
    "   {\n",
    "       cout << \"a 的值：\" << a << endl;\n",
    "       a++;\n",
    "   }\n",
    "}"
   ]
  },
  {
   "cell_type": "markdown",
   "metadata": {},
   "source": [
    "## for 循环\n",
    "\n",
    "for ( init; condition; increment )\n",
    "{\n",
    "   statement(s);\n",
    "}"
   ]
  },
  {
   "cell_type": "code",
   "execution_count": 3,
   "metadata": {},
   "outputs": [
    {
     "name": "stdout",
     "output_type": "stream",
     "text": [
      "a 的值：10\n",
      "a 的值：11\n",
      "a 的值：12\n",
      "a 的值：13\n",
      "a 的值：14\n",
      "a 的值：15\n",
      "a 的值：16\n",
      "a 的值：17\n",
      "a 的值：18\n",
      "a 的值：19\n"
     ]
    }
   ],
   "source": [
    "{\n",
    "   // for 循环执行\n",
    "   for( int a = 10; a < 20; a = a + 1 )\n",
    "   {\n",
    "       cout << \"a 的值：\" << a << endl;\n",
    "   }\n",
    "}"
   ]
  },
  {
   "cell_type": "code",
   "execution_count": 4,
   "metadata": {},
   "outputs": [
    {
     "name": "stdout",
     "output_type": "stream",
     "text": [
      "2\n",
      "4\n",
      "6\n",
      "8\n",
      "10\n",
      "4\n",
      "8\n",
      "12\n",
      "16\n",
      "20\n"
     ]
    }
   ],
   "source": [
    "{   // 基于范围的for循环(C++11)\n",
    "    int my_array[5] = {1, 2, 3, 4, 5};\n",
    "    // 每个数组元素乘于 2\n",
    "    for (int &x : my_array)\n",
    "    {\n",
    "        x *= 2;\n",
    "        cout << x << endl;  \n",
    "    }\n",
    "    // auto 类型也是 C++11 新标准中的，用来自动获取变量的类型\n",
    "    for (auto &x : my_array) {\n",
    "        x *= 2;\n",
    "        cout << x << endl;  \n",
    "    }\n",
    "}"
   ]
  },
  {
   "cell_type": "markdown",
   "metadata": {},
   "source": [
    "## do...while 循环\n",
    "\n",
    "do {\n",
    "   statement(s);\n",
    "}while( \n",
    "   condition \n",
    ");"
   ]
  },
  {
   "cell_type": "code",
   "execution_count": 5,
   "metadata": {},
   "outputs": [
    {
     "name": "stdout",
     "output_type": "stream",
     "text": [
      "a 的值：10\n",
      "a 的值：11\n",
      "a 的值：12\n",
      "a 的值：13\n",
      "a 的值：14\n",
      "a 的值：15\n",
      "a 的值：16\n",
      "a 的值：17\n",
      "a 的值：18\n",
      "a 的值：19\n"
     ]
    }
   ],
   "source": [
    "{\n",
    "   // 局部变量声明\n",
    "   int a = 10;\n",
    "\n",
    "   // do 循环执行\n",
    "   do\n",
    "   {\n",
    "       cout << \"a 的值：\" << a << endl;\n",
    "       a = a + 1;\n",
    "   }while( a < 20 );\n",
    "}"
   ]
  },
  {
   "cell_type": "markdown",
   "metadata": {},
   "source": [
    "## 循环的控制\n",
    "\n",
    "break 语句: 终止 loop 或 switch 语句，程序流将继续执行紧接着 loop 或 switch 的下一条语句。   \n",
    "continue 语句: 引起循环跳过主体的剩余部分，立即重新开始测试条件。   \n",
    "goto 语句: 将控制转移到被标记的语句。但是不建议在程序中使用 goto 语句。   "
   ]
  },
  {
   "cell_type": "markdown",
   "metadata": {},
   "source": [
    "## 无限循环"
   ]
  },
  {
   "cell_type": "markdown",
   "metadata": {},
   "source": [
    "```cpp\n",
    "{\n",
    "   // 无限循环\n",
    "   for( ; ; )\n",
    "   {\n",
    "      printf(\"This loop will run forever.\\n\");\n",
    "   }\n",
    "}\n",
    "```"
   ]
  },
  {
   "cell_type": "code",
   "execution_count": null,
   "metadata": {},
   "outputs": [],
   "source": []
  }
 ],
 "metadata": {
  "kernelspec": {
   "display_name": "C++11",
   "language": "C++11",
   "name": "xcpp11"
  },
  "language_info": {
   "codemirror_mode": "text/x-c++src",
   "file_extension": ".cpp",
   "mimetype": "text/x-c++src",
   "name": "c++",
   "version": "11"
  }
 },
 "nbformat": 4,
 "nbformat_minor": 4
}

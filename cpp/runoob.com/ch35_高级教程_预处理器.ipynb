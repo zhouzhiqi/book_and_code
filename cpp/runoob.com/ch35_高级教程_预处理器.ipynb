{
 "cells": [
  {
   "cell_type": "markdown",
   "metadata": {},
   "source": [
    "# 预处理器\n",
    "\n",
    "预处理器是一些指令，指示编译器在实际编译之前所需完成的预处理。\n",
    "\n",
    "所有的预处理器指令都是以井号（#）开头，只有空格字符可以出现在预处理指令之前。预处理指令不是 C++ 语句，所以它们不会以分号（;）结尾。\n",
    "\n",
    "我们已经看到，之前所有的实例中都有 #include 指令。这个宏用于把头文件包含到源文件中。\n",
    "\n",
    "C++ 还支持很多预处理指令，比如 #include、#define、#if、#else、#line 等，让我们一起看看这些重要指令。"
   ]
  },
  {
   "cell_type": "markdown",
   "metadata": {},
   "source": [
    "## #define 预处理\n",
    "#define 预处理指令用于创建符号常量。该符号常量通常称为宏，指令的一般形式是：\n",
    "\n",
    "#define macro-name replacement-text \n",
    "当这一行代码出现在一个文件中时，在该文件中后续出现的所有宏都将会在程序编译之前被替换为 replacement-text。"
   ]
  },
  {
   "cell_type": "code",
   "execution_count": 1,
   "metadata": {},
   "outputs": [],
   "source": [
    "#include <iostream>\n",
    "using namespace std;"
   ]
  },
  {
   "cell_type": "code",
   "execution_count": 2,
   "metadata": {},
   "outputs": [],
   "source": [
    "#define PI 3.14159"
   ]
  },
  {
   "cell_type": "code",
   "execution_count": 3,
   "metadata": {},
   "outputs": [
    {
     "name": "stdout",
     "output_type": "stream",
     "text": [
      "Value of PI :3.14159\n"
     ]
    }
   ],
   "source": [
    "{\n",
    "    cout << \"Value of PI :\" << PI << endl; \n",
    "}"
   ]
  },
  {
   "cell_type": "markdown",
   "metadata": {},
   "source": [
    "## 参数宏\n",
    "\n",
    "您可以使用 #define 来定义一个带有参数的宏，如下所示："
   ]
  },
  {
   "cell_type": "code",
   "execution_count": 4,
   "metadata": {},
   "outputs": [],
   "source": [
    "#define MIN(a,b) (a<b ? a : b)"
   ]
  },
  {
   "cell_type": "code",
   "execution_count": 5,
   "metadata": {},
   "outputs": [
    {
     "name": "stdout",
     "output_type": "stream",
     "text": [
      "较小的值为：30\n"
     ]
    }
   ],
   "source": [
    "{\n",
    "   int i, j;\n",
    "   i = 100;\n",
    "   j = 30;\n",
    "   cout <<\"较小的值为：\" << MIN(i, j) << endl;\n",
    "}"
   ]
  },
  {
   "cell_type": "markdown",
   "metadata": {},
   "source": [
    "## 条件编译\n",
    "有几个指令可以用来有选择地对部分程序源代码进行编译。这个过程被称为条件编译。\n",
    "\n",
    "条件预处理器的结构与 if 选择结构很像。请看下面这段预处理器的代码：\n",
    "```cpp\n",
    "#ifdef NULL\n",
    "   #define NULL 0\n",
    "#endif\n",
    "```\n",
    "您可以只在调试时进行编译，调试开关可以使用一个宏来实现，如下所示：\n",
    "```cpp\n",
    "#ifdef DEBUG\n",
    "   cerr <<\"Variable x = \" << x << endl;\n",
    "#endif\n",
    "```\n",
    "如果在指令 #ifdef DEBUG 之前已经定义了符号常量 DEBUG，则会对程序中的 cerr 语句进行编译。您可以使用 #if 0 语句注释掉程序的一部分，如下所示：\n",
    "```cpp\n",
    "#if 0\n",
    "   不进行编译的代码\n",
    "#endif\n",
    "```"
   ]
  },
  {
   "cell_type": "code",
   "execution_count": 6,
   "metadata": {},
   "outputs": [],
   "source": [
    "#define DEBUG"
   ]
  },
  {
   "cell_type": "code",
   "execution_count": 7,
   "metadata": {},
   "outputs": [
    {
     "name": "stderr",
     "output_type": "stream",
     "text": [
      "Trace: Inside main function\n"
     ]
    },
    {
     "name": "stdout",
     "output_type": "stream",
     "text": [
      "The minimum is 30\n"
     ]
    },
    {
     "name": "stderr",
     "output_type": "stream",
     "text": [
      "Trace: Coming out of main function\n"
     ]
    }
   ],
   "source": [
    "{\n",
    "   int i, j;\n",
    "   i = 100;\n",
    "   j = 30;\n",
    "#ifdef DEBUG\n",
    "   cerr <<\"Trace: Inside main function\" << endl;\n",
    "#endif\n",
    "\n",
    "#if 0\n",
    "   /* 这是注释部分 */\n",
    "   cout << MKSTR(HELLO C++) << endl;\n",
    "#endif\n",
    "\n",
    "   cout <<\"The minimum is \" << MIN(i, j) << endl;\n",
    "\n",
    "#ifdef DEBUG\n",
    "   cerr <<\"Trace: Coming out of main function\" << endl;\n",
    "#endif\n",
    "}"
   ]
  },
  {
   "cell_type": "markdown",
   "metadata": {},
   "source": [
    "## # 和 ## 运算符\n",
    "\n",
    "#和##预处理运算符在 C++ 和 ANSI/ISO C 中都是可用的。# 运算符会把 replacement-text 令牌转换为用引号引起来的字符串。"
   ]
  },
  {
   "cell_type": "markdown",
   "metadata": {},
   "source": [
    "    # 和 ## 运算符\n",
    "\n",
    "    # 字符串化的意思，出现在宏定义中的#是把跟在后面的参数转换成一个字符串。\n",
    "\n",
    "    当用作字符串化操作时，# 的主要作用是将宏参数不经扩展地转换成字符串常量。\n",
    "\n",
    "     宏定义参数的左右两边的空格会被忽略，参数的各个 Token 之间的多个空格会被转换成一个空格。\n",
    "     宏定义参数中含有需要特殊含义字符如\"或\\时，它们前面会自动被加上转义字符 \\。\n",
    "    ## 连接符号，把参数连在一起。\n",
    "\n",
    "    将多个 Token 连接成一个 Token。要点：\n",
    "\n",
    "     它不能是宏定义中的第一个或最后一个 Token。\n",
    "     前后的空格可有可无。"
   ]
  },
  {
   "cell_type": "code",
   "execution_count": 8,
   "metadata": {},
   "outputs": [],
   "source": [
    "#define MKSTR( x ) #x\n",
    "// cout << MKSTR(HELLO C++) << endl;\n",
    "// cout << \"HELLO C++\" << endl;"
   ]
  },
  {
   "cell_type": "code",
   "execution_count": 9,
   "metadata": {},
   "outputs": [
    {
     "name": "stdout",
     "output_type": "stream",
     "text": [
      "HELLO C++\n"
     ]
    }
   ],
   "source": [
    "{\n",
    "    cout << MKSTR(HELLO C++) << endl;\n",
    "}"
   ]
  },
  {
   "cell_type": "code",
   "execution_count": 10,
   "metadata": {},
   "outputs": [],
   "source": [
    "#define concat(a, b) a ## b\n",
    "// cout << concat(x, y);\n",
    "// cout << xy;"
   ]
  },
  {
   "cell_type": "code",
   "execution_count": 11,
   "metadata": {},
   "outputs": [
    {
     "name": "stdout",
     "output_type": "stream",
     "text": [
      "100"
     ]
    }
   ],
   "source": [
    "{\n",
    "   int xy = 100;\n",
    "   cout << concat(x, y);\n",
    "}"
   ]
  },
  {
   "cell_type": "markdown",
   "metadata": {},
   "source": [
    "## 预定义宏\n",
    "C++ 提供了下表所示的一些预定义宏：\n",
    "\n",
    "    宏\t描述\n",
    "    __LINE__\t这会在程序编译时包含当前行号。\n",
    "    __FILE__\t这会在程序编译时包含当前文件名。\n",
    "    __DATE__\t这会包含一个形式为 month/day/year 的字符串，它表示把源文件转换为目标代码的日期。\n",
    "    __TIME__\t这会包含一个形式为 hour:minute:second 的字符串，它表示程序被编译的时间。"
   ]
  },
  {
   "cell_type": "code",
   "execution_count": 12,
   "metadata": {},
   "outputs": [
    {
     "name": "stdout",
     "output_type": "stream",
     "text": [
      "Value of __LINE__ : 3\n",
      "Value of __FILE__ : input_line_19\n",
      "Value of __DATE__ : Apr  6 2020\n",
      "Value of __TIME__ : 20:31:09\n"
     ]
    }
   ],
   "source": [
    "{\n",
    "    cout << \"Value of __LINE__ : \" << __LINE__ << endl;\n",
    "    cout << \"Value of __FILE__ : \" << __FILE__ << endl;\n",
    "    cout << \"Value of __DATE__ : \" << __DATE__ << endl;\n",
    "    cout << \"Value of __TIME__ : \" << __TIME__ << endl;\n",
    "}"
   ]
  },
  {
   "cell_type": "code",
   "execution_count": null,
   "metadata": {},
   "outputs": [],
   "source": []
  }
 ],
 "metadata": {
  "kernelspec": {
   "display_name": "C++11",
   "language": "C++11",
   "name": "xcpp11"
  },
  "language_info": {
   "codemirror_mode": "text/x-c++src",
   "file_extension": ".cpp",
   "mimetype": "text/x-c++src",
   "name": "c++",
   "version": "11"
  }
 },
 "nbformat": 4,
 "nbformat_minor": 4
}

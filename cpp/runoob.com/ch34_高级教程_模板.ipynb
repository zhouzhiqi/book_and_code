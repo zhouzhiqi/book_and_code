{
 "cells": [
  {
   "cell_type": "markdown",
   "metadata": {},
   "source": [
    "# 模板\n",
    "\n",
    "模板是泛型编程的基础，泛型编程即以一种独立于任何特定类型的方式编写代码。\n",
    "\n",
    "模板是创建泛型类或函数的蓝图或公式。库容器，比如迭代器和算法，都是泛型编程的例子，它们都使用了模板的概念。\n",
    "\n",
    "每个容器都有一个单一的定义，比如 向量，我们可以定义许多不同类型的向量，比如 vector <int> 或 vector <string>。\n",
    "\n",
    "您可以使用模板来定义函数和类，接下来让我们一起来看看如何使用。"
   ]
  },
  {
   "cell_type": "markdown",
   "metadata": {},
   "source": [
    "## 函数模板\n",
    "模板函数定义的一般形式如下所示：\n",
    "```cpp\n",
    "template <class type> ret-type func-name(parameter list)\n",
    "{\n",
    "   // 函数的主体\n",
    "}\n",
    "```\n",
    "在这里，type 是函数所使用的数据类型的占位符名称。这个名称可以在函数定义中使用。"
   ]
  },
  {
   "cell_type": "code",
   "execution_count": 1,
   "metadata": {},
   "outputs": [],
   "source": [
    "#include <iostream>\n",
    "#include <string>\n",
    " \n",
    "using namespace std;"
   ]
  },
  {
   "cell_type": "code",
   "execution_count": 2,
   "metadata": {},
   "outputs": [],
   "source": [
    "template <typename T>\n",
    "inline T const& Max (T const& a, T const& b) \n",
    "{ \n",
    "    return a < b ? b:a; \n",
    "} "
   ]
  },
  {
   "cell_type": "code",
   "execution_count": 3,
   "metadata": {},
   "outputs": [
    {
     "name": "stdout",
     "output_type": "stream",
     "text": [
      "Max(i, j): 39\n",
      "Max(f1, f2): 20.7\n",
      "Max(s1, s2): World\n"
     ]
    }
   ],
   "source": [
    "{\n",
    "    int i = 39;\n",
    "    int j = 20;\n",
    "    cout << \"Max(i, j): \" << Max(i, j) << endl; \n",
    "\n",
    "    double f1 = 13.5; \n",
    "    double f2 = 20.7; \n",
    "    cout << \"Max(f1, f2): \" << Max(f1, f2) << endl; \n",
    "\n",
    "    string s1 = \"Hello\"; \n",
    "    string s2 = \"World\"; \n",
    "    cout << \"Max(s1, s2): \" << Max(s1, s2) << endl; \n",
    "}"
   ]
  },
  {
   "cell_type": "markdown",
   "metadata": {},
   "source": [
    "## 类模板\n",
    "正如我们定义函数模板一样，我们也可以定义类模板。泛型类声明的一般形式如下所示：\n",
    "```cpp\n",
    "template <class type> class class-name {\n",
    ".\n",
    ".\n",
    ".\n",
    "}\n",
    "```\n",
    "在这里，type 是占位符类型名称，可以在类被实例化的时候进行指定。您可以使用一个逗号分隔的列表来定义多个泛型数据类型。"
   ]
  },
  {
   "cell_type": "code",
   "execution_count": 4,
   "metadata": {},
   "outputs": [],
   "source": [
    "#include <iostream>\n",
    "#include <vector>\n",
    "#include <cstdlib>\n",
    "#include <string>\n",
    "#include <stdexcept>\n",
    "\n",
    "using namespace std;"
   ]
  },
  {
   "cell_type": "code",
   "execution_count": 5,
   "metadata": {},
   "outputs": [],
   "source": [
    "template <class T>\n",
    "class Stack { \n",
    "  private: \n",
    "    vector<T> elems;     // 元素 \n",
    " \n",
    "  public: \n",
    "    void push(T const&);  // 入栈\n",
    "    void pop();               // 出栈\n",
    "    T top() const;            // 返回栈顶元素\n",
    "    bool empty() const{       // 如果为空则返回真。\n",
    "        return elems.empty(); \n",
    "    } \n",
    "}; \n",
    " \n",
    "template <class T>\n",
    "void Stack<T>::push (T const& elem) \n",
    "{ \n",
    "    // 追加传入元素的副本\n",
    "    elems.push_back(elem);    \n",
    "} \n",
    " \n",
    "template <class T>\n",
    "void Stack<T>::pop () \n",
    "{ \n",
    "    if (elems.empty()) { \n",
    "        throw out_of_range(\"Stack<>::pop(): empty stack\"); \n",
    "    }\n",
    "    // 删除最后一个元素\n",
    "    elems.pop_back();         \n",
    "} \n",
    " \n",
    "template <class T>\n",
    "T Stack<T>::top () const \n",
    "{ \n",
    "    if (elems.empty()) { \n",
    "        throw out_of_range(\"Stack<>::top(): empty stack\"); \n",
    "    }\n",
    "    // 返回最后一个元素的副本 \n",
    "    return elems.back();      \n",
    "} "
   ]
  },
  {
   "cell_type": "code",
   "execution_count": 6,
   "metadata": {},
   "outputs": [
    {
     "name": "stdout",
     "output_type": "stream",
     "text": [
      "7\n",
      "hello\n"
     ]
    },
    {
     "name": "stderr",
     "output_type": "stream",
     "text": [
      "Exception: Stack<>::pop(): empty stack\n"
     ]
    },
    {
     "data": {
      "text/plain": [
       "-1"
      ]
     },
     "execution_count": 6,
     "metadata": {},
     "output_type": "execute_result"
    }
   ],
   "source": [
    "{ \n",
    "    try { \n",
    "        Stack<int>         intStack;  // int 类型的栈 \n",
    "        Stack<string> stringStack;    // string 类型的栈 \n",
    " \n",
    "        // 操作 int 类型的栈 \n",
    "        intStack.push(7); \n",
    "        cout << intStack.top() <<endl; \n",
    " \n",
    "        // 操作 string 类型的栈 \n",
    "        stringStack.push(\"hello\"); \n",
    "        cout << stringStack.top() << std::endl; \n",
    "        stringStack.pop(); \n",
    "        stringStack.pop(); \n",
    "    } \n",
    "    catch (exception const& ex) { \n",
    "        cerr << \"Exception: \" << ex.what() <<endl; \n",
    "        return -1;\n",
    "    } \n",
    "}"
   ]
  },
  {
   "cell_type": "code",
   "execution_count": null,
   "metadata": {},
   "outputs": [],
   "source": []
  }
 ],
 "metadata": {
  "kernelspec": {
   "display_name": "C++11",
   "language": "C++11",
   "name": "xcpp11"
  },
  "language_info": {
   "codemirror_mode": "text/x-c++src",
   "file_extension": ".cpp",
   "mimetype": "text/x-c++src",
   "name": "c++",
   "version": "11"
  }
 },
 "nbformat": 4,
 "nbformat_minor": 4
}

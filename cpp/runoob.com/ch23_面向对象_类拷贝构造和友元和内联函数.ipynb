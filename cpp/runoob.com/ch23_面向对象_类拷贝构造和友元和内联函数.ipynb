{
 "cells": [
  {
   "cell_type": "markdown",
   "metadata": {},
   "source": [
    "# 拷贝构造函数"
   ]
  },
  {
   "cell_type": "markdown",
   "metadata": {},
   "source": [
    "拷贝构造函数是一种特殊的构造函数，它在创建对象时，是使用同一类中之前创建的对象来初始化新创建的对象。拷贝构造函数通常用于：\n",
    "\n",
    "* 通过使用另一个同类型的对象来初始化新创建的对象。    \n",
    "* 复制对象把它作为参数传递给函数。   \n",
    "* 复制对象，并从函数返回这个对象。"
   ]
  },
  {
   "cell_type": "markdown",
   "metadata": {},
   "source": [
    "如果在类中没有定义拷贝构造函数，编译器会自行定义一个。如果类带有指针变量，并有动态内存分配，则它必须有一个拷贝构造函数。拷贝构造函数的最常见形式如下：\n",
    "```cpp\n",
    "classname (const classname &obj) {\n",
    "   // 构造函数的主体\n",
    "}\n",
    "```"
   ]
  },
  {
   "cell_type": "code",
   "execution_count": 1,
   "metadata": {},
   "outputs": [],
   "source": [
    "#include <iostream>\n",
    "using namespace std;"
   ]
  },
  {
   "cell_type": "code",
   "execution_count": 2,
   "metadata": {},
   "outputs": [],
   "source": [
    "class Line\n",
    "{\n",
    "    public:\n",
    "        int getLength( void )\n",
    "        {\n",
    "            return *ptr;\n",
    "        }\n",
    "        Line( int len )             // 简单的构造函数\n",
    "        {\n",
    "            cout << \"调用构造函数\" << endl;\n",
    "            // 为指针分配内存\n",
    "            ptr = new int;\n",
    "            *ptr = len;\n",
    "        }\n",
    "        Line( const Line &obj)      // 拷贝构造函数\n",
    "        {\n",
    "            cout << \"调用拷贝构造函数并为指针 ptr 分配内存\" << endl;\n",
    "            ptr = new int;\n",
    "            *ptr = *obj.ptr; // 拷贝值\n",
    "        }\n",
    "        ~Line()                     // 析构函数\n",
    "        {\n",
    "            cout << \"释放内存\" << endl;\n",
    "            delete ptr;\n",
    "        }\n",
    "    private:\n",
    "        int *ptr;\n",
    "};"
   ]
  },
  {
   "cell_type": "code",
   "execution_count": 3,
   "metadata": {},
   "outputs": [],
   "source": [
    "void display(Line obj)\n",
    "{\n",
    "    cout << \"line 大小 : \" << obj.getLength() <<endl;\n",
    "}"
   ]
  },
  {
   "cell_type": "code",
   "execution_count": 4,
   "metadata": {},
   "outputs": [
    {
     "name": "stdout",
     "output_type": "stream",
     "text": [
      "调用构造函数\n",
      "调用拷贝构造函数并为指针 ptr 分配内存\n",
      "line 大小 : 10\n",
      "释放内存\n",
      "释放内存\n"
     ]
    }
   ],
   "source": [
    "{\n",
    "   Line line(10);\n",
    " \n",
    "   display(line);\n",
    "}"
   ]
  },
  {
   "cell_type": "code",
   "execution_count": 5,
   "metadata": {},
   "outputs": [
    {
     "name": "stdout",
     "output_type": "stream",
     "text": [
      "调用构造函数\n",
      "调用拷贝构造函数并为指针 ptr 分配内存\n",
      "调用拷贝构造函数并为指针 ptr 分配内存\n",
      "line 大小 : 10\n",
      "释放内存\n",
      "调用拷贝构造函数并为指针 ptr 分配内存\n",
      "line 大小 : 10\n",
      "释放内存\n",
      "释放内存\n",
      "释放内存\n"
     ]
    }
   ],
   "source": [
    "{\n",
    "    Line line1(10);\n",
    "\n",
    "    Line line2 = line1; // 这里也调用了拷贝构造函数\n",
    "\n",
    "    display(line1);\n",
    "    display(line2);\n",
    "}"
   ]
  },
  {
   "cell_type": "markdown",
   "metadata": {},
   "source": [
    "## 友元函数\n",
    "\n",
    "类的友元函数是定义在类外部，但有权访问类的所有私有（private）成员和保护（protected）成员。尽管友元函数的原型有在类的定义中出现过，但是友元函数并不是成员函数。\n",
    "\n",
    "友元可以是一个函数，该函数被称为友元函数；友元也可以是一个类，该类被称为友元类，在这种情况下，整个类及其所有成员都是友元。\n",
    "\n",
    "如果要声明函数为一个类的友元，需要在类定义中该函数原型前使用关键字 friend，\n",
    "\n",
    "```cpp\n",
    "class Box\n",
    "{\n",
    "   double width;\n",
    "public:\n",
    "   double length;\n",
    "   friend void printWidth( Box box );\n",
    "   void setWidth( double wid );\n",
    "};\n",
    "```\n",
    "\n",
    "声明类 ClassTwo 的所有成员函数作为类 ClassOne 的友元，需要在类 ClassOne 的定义中放置如下声明：\n",
    "```cpp\n",
    "friend class ClassTwo;\n",
    "```"
   ]
  },
  {
   "cell_type": "code",
   "execution_count": 6,
   "metadata": {},
   "outputs": [],
   "source": [
    "#include <iostream>\n",
    "using namespace std;"
   ]
  },
  {
   "cell_type": "code",
   "execution_count": 13,
   "metadata": {},
   "outputs": [],
   "source": [
    "class Box\n",
    "{\n",
    "    double width;\n",
    "    public:\n",
    "        friend void printWidth( Box box )\n",
    "        // 请注意：printWidth() 不是任何类的成员函数\n",
    "        {\n",
    "            /* 因为 printWidth() 是 Box 的友元，它可以直接访问该类的任何成员 */\n",
    "            cout << \"Width of box : \" << box.width <<endl;\n",
    "        }\n",
    "        void setWidth( double wid )\n",
    "        {\n",
    "            width = wid;\n",
    "        }\n",
    "};"
   ]
  },
  {
   "cell_type": "code",
   "execution_count": 14,
   "metadata": {},
   "outputs": [
    {
     "name": "stdout",
     "output_type": "stream",
     "text": [
      "Width of box : 10\n"
     ]
    }
   ],
   "source": [
    "{\n",
    "    Box box;\n",
    "\n",
    "    // 使用成员函数设置宽度\n",
    "    box.setWidth(10.0);\n",
    "\n",
    "    // 使用友元函数输出宽度\n",
    "    printWidth( box );\n",
    "}"
   ]
  },
  {
   "cell_type": "markdown",
   "metadata": {},
   "source": [
    "### 友元函数的使用\n",
    "\n",
    "因为友元函数没有this指针，则参数要有三种情况：   \n",
    "要访问非static成员时，需要对象做参数；   \n",
    "要访问static成员或全局变量时，则不需要对象做参数；   \n",
    "如果做参数的对象是全局对象，则不需要对象做参数.   \n",
    "可以直接调用友元函数，不需要通过对象或指针   \n",
    "\n",
    "```cpp\n",
    "class INTEGER\n",
    "{\n",
    "    friend void Print(const INTEGER& obj);//声明友元函数\n",
    "};\n",
    "\n",
    "void Print(const INTEGER& obj）\n",
    "{\n",
    "    //函数体\n",
    "}\n",
    "\n",
    "void main()\n",
    "{\n",
    "    INTEGER obj;\n",
    "    Print(obj);//直接调用\n",
    "}\n",
    "```"
   ]
  },
  {
   "cell_type": "markdown",
   "metadata": {},
   "source": [
    "## 内联函数\n",
    "\n",
    "C++ 内联函数是通常与类一起使用。如果一个函数是内联的，那么在编译时，编译器会把该函数的代码副本放置在每个调用该函数的地方。\n",
    "\n",
    "对内联函数进行任何修改，都需要重新编译函数的所有客户端，因为编译器需要重新更换一次所有的代码，否则将会继续使用旧的函数。\n",
    "\n",
    "如果想把一个函数定义为内联函数，则需要在函数名前面放置关键字 inline，在调用函数之前需要对函数进行定义。如果已定义的函数多于一行，编译器会忽略 inline 限定符。\n",
    "\n",
    "在类定义中的定义的函数都是内联函数，即使没有使用 inline 说明符。"
   ]
  },
  {
   "cell_type": "code",
   "execution_count": 15,
   "metadata": {},
   "outputs": [],
   "source": [
    "inline int Max(int x, int y)\n",
    "{\n",
    "   return (x > y)? x : y;\n",
    "}\n"
   ]
  },
  {
   "cell_type": "code",
   "execution_count": 16,
   "metadata": {},
   "outputs": [
    {
     "name": "stdout",
     "output_type": "stream",
     "text": [
      "Max (20,10): 20\n",
      "Max (0,200): 200\n",
      "Max (100,1010): 1010\n"
     ]
    }
   ],
   "source": [
    "{\n",
    "    cout << \"Max (20,10): \" << Max(20,10) << endl;\n",
    "    cout << \"Max (0,200): \" << Max(0,200) << endl;\n",
    "    cout << \"Max (100,1010): \" << Max(100,1010) << endl;\n",
    "}"
   ]
  },
  {
   "cell_type": "markdown",
   "metadata": {},
   "source": [
    "内联函数inline：引入内联函数的目的是为了解决程序中函数调用的效率问题，这么说吧，程序在编译器编译的时候，编译器将程序中出现的内联函数的调用表达式用内联函数的函数体进行替换，而对于其他的函数，都是在运行时候才被替代。这其实就是个空间代价换时间的i节省。所以内联函数一般都是1-5行的小函数。在使用内联函数时要留神：\n",
    "\n",
    "1. 在内联函数内不允许使用循环语句和开关语句；\n",
    "2. 内联函数的定义必须出现在内联函数第一次调用之前；\n",
    "3. 类结构中所在的类说明内部定义的函数是内联函数。"
   ]
  },
  {
   "cell_type": "code",
   "execution_count": null,
   "metadata": {},
   "outputs": [],
   "source": []
  }
 ],
 "metadata": {
  "kernelspec": {
   "display_name": "C++11",
   "language": "C++11",
   "name": "xcpp11"
  },
  "language_info": {
   "codemirror_mode": "text/x-c++src",
   "file_extension": ".cpp",
   "mimetype": "text/x-c++src",
   "name": "c++",
   "version": "11"
  }
 },
 "nbformat": 4,
 "nbformat_minor": 4
}

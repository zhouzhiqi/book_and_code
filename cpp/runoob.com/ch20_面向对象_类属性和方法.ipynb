{
 "cells": [
  {
   "cell_type": "markdown",
   "metadata": {},
   "source": [
    "# 类和对象"
   ]
  },
  {
   "cell_type": "markdown",
   "metadata": {},
   "source": [
    "## 类的定义\n",
    "\n",
    "定义一个类，本质上是定义一个数据类型的蓝图。这实际上并没有定义任何数据，但它定义了类的名称意味着什么，也就是说，它定义了类的对象包括了什么，以及可以在这个对象上执行哪些操作。\n",
    "\n",
    "类定义是以关键字 class 开头，后跟类的名称。类的主体是包含在一对花括号中。类定义后必须跟着一个分号或一个声明列表。例如，我们使用关键字 class 定义 Box 数据类型，如下所示：\n",
    "\n",
    "```cpp\n",
    "class Box\n",
    "{\n",
    "   public:\n",
    "      double length;   // 盒子的长度\n",
    "      double breadth;  // 盒子的宽度\n",
    "      double height;   // 盒子的高度\n",
    "};\n",
    "```\n",
    "关键字 public 确定了类成员的访问属性。在类对象作用域内，公共成员在类的外部是可访问的。您也可以指定类的成员为 private 或 protected，这个我们稍后会进行讲解"
   ]
  },
  {
   "cell_type": "markdown",
   "metadata": {},
   "source": [
    "## 对象(实例化类)\n",
    "\n",
    "类提供了对象的蓝图，所以基本上，对象是根据类来创建的。声明类的对象，就像声明基本类型的变量一样。\n",
    "```cpp\n",
    "Box Box1;          // 声明 Box1，类型为 Box\n",
    "Box Box2;          // 声明 Box2，类型为 Box\n",
    "```\n",
    "对象 Box1 和 Box2 都有它们各自的数据成员。"
   ]
  },
  {
   "cell_type": "markdown",
   "metadata": {},
   "source": [
    "## 访问数据成员\n",
    "\n",
    "类的对象的公共数据成员可以使用直接成员访问运算符 (.) 来访问"
   ]
  },
  {
   "cell_type": "code",
   "execution_count": 1,
   "metadata": {},
   "outputs": [],
   "source": [
    "#include <iostream>\n",
    "using namespace std;"
   ]
  },
  {
   "cell_type": "code",
   "execution_count": 2,
   "metadata": {},
   "outputs": [],
   "source": [
    "class Box\n",
    "{\n",
    "   public:\n",
    "      double length;   // 长度\n",
    "      double breadth;  // 宽度\n",
    "      double height;   // 高度\n",
    "};"
   ]
  },
  {
   "cell_type": "code",
   "execution_count": 3,
   "metadata": {},
   "outputs": [
    {
     "name": "stdout",
     "output_type": "stream",
     "text": [
      "Box1 的体积：210\n",
      "Box2 的体积：1560\n"
     ]
    }
   ],
   "source": [
    "{\n",
    "    Box Box1;        // 声明 Box1，类型为 Box\n",
    "    Box Box2;        // 声明 Box2，类型为 Box\n",
    "    double volume = 0.0;     // 用于存储体积\n",
    "\n",
    "    // box 1 详述\n",
    "    Box1.height = 5.0; \n",
    "    Box1.length = 6.0; \n",
    "    Box1.breadth = 7.0;\n",
    "\n",
    "    // box 2 详述\n",
    "    Box2.height = 10.0;\n",
    "    Box2.length = 12.0;\n",
    "    Box2.breadth = 13.0;\n",
    "\n",
    "    // box 1 的体积\n",
    "    volume = Box1.height * Box1.length * Box1.breadth;\n",
    "    cout << \"Box1 的体积：\" << volume <<endl;\n",
    "\n",
    "    // box 2 的体积\n",
    "    volume = Box2.height * Box2.length * Box2.breadth;\n",
    "    cout << \"Box2 的体积：\" << volume <<endl;\n",
    "}"
   ]
  },
  {
   "cell_type": "markdown",
   "metadata": {},
   "source": [
    "## 类成员函数\n",
    "\n",
    "类的成员函数是指那些把定义和原型写在类定义内部的函数，就像类定义中的其他变量一样。类成员函数是类的一个成员，它可以操作类的任意对象，可以访问对象中的所有成员。"
   ]
  },
  {
   "cell_type": "markdown",
   "metadata": {},
   "source": [
    "让我们看看之前定义的类 Box，现在我们要使用成员函数来访问类的成员，而不是直接访问这些类的成员   \n",
    "成员函数可以定义在类定义内部，或者单独使用范围解析运算符 :: 来定义。在类定义中定义的成员函数把函数声明为内联的，即便没有使用 inline 标识符   \n",
    "\n",
    "```cpp\n",
    "class Box\n",
    "{\n",
    "   public:\n",
    "      double length;      // 长度\n",
    "      double breadth;     // 宽度\n",
    "      double height;      // 高度\n",
    "   \n",
    "      double getVolume(void)\n",
    "      {\n",
    "         return length * breadth * height;\n",
    "      }\n",
    "};\n",
    "```\n",
    "或\n",
    "```cpp\n",
    "class Box\n",
    "{\n",
    "   public:\n",
    "      double length;      // 长度\n",
    "      double breadth;     // 宽度\n",
    "      double height;      // 高度\n",
    "};\n",
    "double Box::getVolume(void)\n",
    "{\n",
    "    return length * breadth * height;\n",
    "}\n",
    "```"
   ]
  },
  {
   "cell_type": "code",
   "execution_count": 1,
   "metadata": {},
   "outputs": [],
   "source": [
    "#include <iostream>\n",
    "using namespace std;"
   ]
  },
  {
   "cell_type": "code",
   "execution_count": 6,
   "metadata": {},
   "outputs": [],
   "source": [
    "class Box\n",
    "{\n",
    "    public:\n",
    "        double length;         // 长度\n",
    "        double breadth;        // 宽度\n",
    "        double height;         // 高度\n",
    "\n",
    "        // 成员函数声明\n",
    "        double getVolume(void)\n",
    "        {\n",
    "             return length * breadth * height;\n",
    "        };\n",
    "        void setLength( double len )\n",
    "        {\n",
    "             length = len;\n",
    "        };\n",
    "        void setBreadth( double bre )\n",
    "        {\n",
    "             breadth = bre;\n",
    "        };\n",
    "        void setHeight( double hei )\n",
    "        {\n",
    "             height = hei;\n",
    "        };\n",
    "};"
   ]
  },
  {
   "cell_type": "code",
   "execution_count": 7,
   "metadata": {},
   "outputs": [
    {
     "name": "stdout",
     "output_type": "stream",
     "text": [
      "Box1 的体积：210\n",
      "Box2 的体积：1560\n"
     ]
    }
   ],
   "source": [
    "{\n",
    "    Box Box1;                // 声明 Box1，类型为 Box\n",
    "    Box Box2;                // 声明 Box2，类型为 Box\n",
    "    double volume = 0.0;     // 用于存储体积\n",
    "\n",
    "    // box 1 详述\n",
    "    Box1.setLength(6.0); \n",
    "    Box1.setBreadth(7.0); \n",
    "    Box1.setHeight(5.0);\n",
    "\n",
    "    // box 2 详述\n",
    "    Box2.setLength(12.0); \n",
    "    Box2.setBreadth(13.0); \n",
    "    Box2.setHeight(10.0);\n",
    "\n",
    "    // box 1 的体积\n",
    "    volume = Box1.getVolume();\n",
    "    cout << \"Box1 的体积：\" << volume <<endl;\n",
    "\n",
    "    // box 2 的体积\n",
    "    volume = Box2.getVolume();\n",
    "    cout << \"Box2 的体积：\" << volume <<endl;\n",
    "}"
   ]
  },
  {
   "cell_type": "code",
   "execution_count": null,
   "metadata": {},
   "outputs": [],
   "source": []
  }
 ],
 "metadata": {
  "kernelspec": {
   "display_name": "C++11",
   "language": "C++11",
   "name": "xcpp11"
  },
  "language_info": {
   "codemirror_mode": "text/x-c++src",
   "file_extension": ".cpp",
   "mimetype": "text/x-c++src",
   "name": "c++",
   "version": "11"
  }
 },
 "nbformat": 4,
 "nbformat_minor": 4
}

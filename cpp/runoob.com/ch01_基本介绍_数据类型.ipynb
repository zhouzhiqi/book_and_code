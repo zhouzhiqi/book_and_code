{
 "cells": [
  {
   "cell_type": "markdown",
   "metadata": {},
   "source": [
    "# hello,word"
   ]
  },
  {
   "cell_type": "code",
   "execution_count": 1,
   "metadata": {},
   "outputs": [],
   "source": [
    "#include <iostream>\n",
    "using namespace std;"
   ]
  },
  {
   "cell_type": "code",
   "execution_count": 2,
   "metadata": {},
   "outputs": [
    {
     "name": "stdout",
     "output_type": "stream",
     "text": [
      "Hello, world!\n"
     ]
    }
   ],
   "source": [
    "// main() 是程序开始执行的地方\n",
    "// int main() \n",
    "// 但是jupyter中不允许有main函数\n",
    "{\n",
    "    cout << \"Hello, world!\" << endl;\n",
    "//     return 0;\n",
    "//     在main函数中 返回0 说明程序执行成功, \n",
    "//     返回其他值说明执行失败\n",
    "}"
   ]
  },
  {
   "cell_type": "markdown",
   "metadata": {},
   "source": [
    "#  数据类型"
   ]
  },
  {
   "cell_type": "markdown",
   "metadata": {},
   "source": [
    "七种基本的 C++ 数据类型：\n",
    "\n",
    "布尔型: bool;  \n",
    "字符型: char;  \n",
    "整型: int;  \n",
    "浮点型: float;  \n",
    "双浮点型: double;  \n",
    "无类型: void;  \n",
    "宽字符型: wchar_t;  \n",
    "\n",
    "一些基本类型可以使用一个或多个类型修饰符进行修饰：\n",
    "\n",
    "如: signed;  unsigned;  short;  long"
   ]
  },
  {
   "cell_type": "code",
   "execution_count": 13,
   "metadata": {},
   "outputs": [
    {
     "name": "stdout",
     "output_type": "stream",
     "text": [
      "type: \t************size**************\n",
      "bool: \t所占字节数：1\t最大值：1\t最小值：0\n"
     ]
    }
   ],
   "source": [
    "{\n",
    "    cout << \"type: \\t\" << \"************size**************\"<< endl;  \n",
    "    cout << \"bool: \\t\" << \"所占字节数：\" << sizeof(bool);  \n",
    "    cout << \"\\t最大值：\" << (numeric_limits<bool>::max)();  \n",
    "    cout << \"\\t最小值：\" << (numeric_limits<bool>::min)() << endl;  \n",
    "}"
   ]
  },
  {
   "cell_type": "code",
   "execution_count": 14,
   "metadata": {},
   "outputs": [
    {
     "name": "stdout",
     "output_type": "stream",
     "text": [
      "char: \t所占字节数：1\n",
      "signed char: \t所占字节数：1\n",
      "unsigned char: \t所占字节数：1\n",
      "wchar_t: \t所占字节数：4\n",
      "string: \t所占字节数：32\n"
     ]
    }
   ],
   "source": [
    "{   // 执行后kernel出问题\n",
    "    cout << \"char: \\t\" << \"所占字节数：\" << sizeof(char) << endl;   \n",
    "//     cout << \"\\t最大值：\" << (numeric_limits<char>::max)();  \n",
    "//     cout << \"\\t最小值：\" << (numeric_limits<char>::min)() << endl;  \n",
    "    cout << \"signed char: \\t\" << \"所占字节数：\" << sizeof(signed char) << endl; \n",
    "//     cout << \"\\t最大值：\" << (numeric_limits<signed char>::max)();  \n",
    "//     cout << \"\\t最小值：\" << (numeric_limits<signed char>::min)() << endl;  \n",
    "    cout << \"unsigned char: \\t\" << \"所占字节数：\" << sizeof(unsigned char) << endl;   \n",
    "//     cout << \"\\t最大值：\" << (numeric_limits<unsigned char>::max)();  \n",
    "//     cout << \"\\t最小值：\" << (numeric_limits<unsigned char>::min)() << endl;  \n",
    "    cout << \"wchar_t: \\t\" << \"所占字节数：\" << sizeof(wchar_t) << endl;   \n",
    "//     cout << \"\\t最大值：\" << (numeric_limits<wchar_t>::max)();  \n",
    "//     cout << \"\\t最小值：\" << (numeric_limits<wchar_t>::min)() << endl;  \n",
    "    cout << \"string: \\t\" << \"所占字节数：\" << sizeof(string) << endl;  \n",
    "    // << \"\\t最大值：\" << (numeric_limits<string>::max)() << \"\\t最小值：\" << (numeric_limits<string>::min)() << endl;  \n",
    "\n",
    "\n",
    "}"
   ]
  },
  {
   "cell_type": "code",
   "execution_count": 15,
   "metadata": {},
   "outputs": [
    {
     "name": "stdout",
     "output_type": "stream",
     "text": [
      "short: \t\t所占字节数：2\t最大值：32767\t\t最小值：-32768\n",
      "int: \t\t所占字节数：4\t最大值：2147483647\t最小值：-2147483648\n",
      "unsigned: \t所占字节数：4\t最大值：4294967295\t最小值：0\n"
     ]
    }
   ],
   "source": [
    "{\n",
    "    cout << \"short: \\t\\t\" << \"所占字节数：\" << sizeof(short);  \n",
    "    cout << \"\\t最大值：\" << (numeric_limits<short>::max)();  \n",
    "    cout << \"\\t\\t最小值：\" << (numeric_limits<short>::min)() << endl;  \n",
    "    cout << \"int: \\t\\t\" << \"所占字节数：\" << sizeof(int);  \n",
    "    cout << \"\\t最大值：\" << (numeric_limits<int>::max)();  \n",
    "    cout << \"\\t最小值：\" << (numeric_limits<int>::min)() << endl;  \n",
    "    cout << \"unsigned: \\t\" << \"所占字节数：\" << sizeof(unsigned);  \n",
    "    cout << \"\\t最大值：\" << (numeric_limits<unsigned>::max)();  \n",
    "    cout << \"\\t最小值：\" << (numeric_limits<unsigned>::min)() << endl;  \n",
    "}"
   ]
  },
  {
   "cell_type": "code",
   "execution_count": 16,
   "metadata": {},
   "outputs": [
    {
     "name": "stdout",
     "output_type": "stream",
     "text": [
      "long: \t\t所占字节数：8\t最大值：9223372036854775807\t最小值：-9223372036854775808\n",
      "unsigned long: \t所占字节数：8\t最大值：18446744073709551615\t最小值：0\n",
      "size_t: \t所占字节数：8\t最大值：18446744073709551615\t最小值：0\n"
     ]
    }
   ],
   "source": [
    "{\n",
    "    cout << \"long: \\t\\t\" << \"所占字节数：\" << sizeof(long);  \n",
    "    cout << \"\\t最大值：\" << (numeric_limits<long>::max)();  \n",
    "    cout << \"\\t最小值：\" << (numeric_limits<long>::min)() << endl;  \n",
    "    cout << \"unsigned long: \\t\" << \"所占字节数：\" << sizeof(unsigned long);  \n",
    "    cout << \"\\t最大值：\" << (numeric_limits<unsigned long>::max)();  \n",
    "    cout << \"\\t最小值：\" << (numeric_limits<unsigned long>::min)() << endl;  \n",
    "    cout << \"size_t: \\t\" << \"所占字节数：\" << sizeof(size_t);  \n",
    "    cout << \"\\t最大值：\" << (numeric_limits<size_t>::max)();  \n",
    "    cout << \"\\t最小值：\" << (numeric_limits<size_t>::min)() << endl;  \n",
    "}"
   ]
  },
  {
   "cell_type": "code",
   "execution_count": 17,
   "metadata": {},
   "outputs": [
    {
     "name": "stdout",
     "output_type": "stream",
     "text": [
      "double: \t所占字节数：8\t最大值：1.79769e+308\t最小值：2.22507e-308\n",
      "long double: \t所占字节数：16\t最大值：1.18973e+4932\t最小值：3.3621e-4932\n",
      "float: \t\t所占字节数：4\t最大值：3.40282e+38\t最小值：1.17549e-38\n",
      "type: \t\t************size**************\n"
     ]
    }
   ],
   "source": [
    "{  \n",
    "    cout << \"double: \\t\" << \"所占字节数：\" << sizeof(double);  \n",
    "    cout << \"\\t最大值：\" << (numeric_limits<double>::max)();  \n",
    "    cout << \"\\t最小值：\" << (numeric_limits<double>::min)() << endl;  \n",
    "    cout << \"long double: \\t\" << \"所占字节数：\" << sizeof(long double);  \n",
    "    cout << \"\\t最大值：\" << (numeric_limits<long double>::max)();  \n",
    "    cout << \"\\t最小值：\" << (numeric_limits<long double>::min)() << endl;  \n",
    "    cout << \"float: \\t\\t\" << \"所占字节数：\" << sizeof(float);  \n",
    "    cout << \"\\t最大值：\" << (numeric_limits<float>::max)();  \n",
    "    cout << \"\\t最小值：\" << (numeric_limits<float>::min)() << endl;  \n",
    "\n",
    "\n",
    "    cout << \"type: \\t\\t\" << \"************size**************\"<< endl;  \n",
    "}"
   ]
  },
  {
   "cell_type": "markdown",
   "metadata": {},
   "source": [
    "## 枚举值\n",
    "\n",
    "默认情况下，第一个名称的值为 0，第二个名称的值为 1，第三个名称的值为 2，以此类推。但是，您也可以给名称赋予一个特殊的值，只需要添加一个初始值即可。"
   ]
  },
  {
   "cell_type": "code",
   "execution_count": 10,
   "metadata": {},
   "outputs": [
    {
     "name": "stdout",
     "output_type": "stream",
     "text": [
      "2"
     ]
    }
   ],
   "source": [
    "{\n",
    "    enum color { red, green, blue } c;\n",
    "    c = blue;\n",
    "    cout << c ;\n",
    "}"
   ]
  },
  {
   "cell_type": "markdown",
   "metadata": {},
   "source": [
    "例如，在下面的枚举中，green 的值为 5。在这里，blue 的值为 6，因为默认情况下，每个名称都会比它前面一个名称大 1，但 red 的值依然为 0。"
   ]
  },
  {
   "cell_type": "code",
   "execution_count": 11,
   "metadata": {},
   "outputs": [
    {
     "name": "stdout",
     "output_type": "stream",
     "text": [
      "6"
     ]
    }
   ],
   "source": [
    "{\n",
    "    enum color { red, green=5, blue } c;\n",
    "    c = blue;\n",
    "    cout << c ;\n",
    "}"
   ]
  },
  {
   "cell_type": "markdown",
   "metadata": {},
   "source": [
    "# 变量的声明与定义"
   ]
  },
  {
   "cell_type": "code",
   "execution_count": 18,
   "metadata": {},
   "outputs": [
    {
     "name": "stdout",
     "output_type": "stream",
     "text": [
      "30\n",
      "23.3333\n"
     ]
    }
   ],
   "source": [
    "// 变量声明\n",
    "int a, b;\n",
    "int c;\n",
    "float f;\n",
    "\n",
    "{\n",
    "  // 变量定义\n",
    "  int a, b;\n",
    "  int c;\n",
    "  float f;\n",
    " \n",
    "  // 实际初始化\n",
    "  a = 10;\n",
    "  b = 20;\n",
    "  c = a + b;\n",
    " \n",
    "  cout << c << endl ;\n",
    " \n",
    "  f = 70.0/3.0;\n",
    "  cout << f << endl ;\n",
    "\n",
    "}"
   ]
  },
  {
   "cell_type": "markdown",
   "metadata": {},
   "source": [
    "# 变量的作用域"
   ]
  },
  {
   "cell_type": "code",
   "execution_count": 7,
   "metadata": {},
   "outputs": [
    {
     "name": "stdout",
     "output_type": "stream",
     "text": [
      "10"
     ]
    }
   ],
   "source": [
    "// 全局变量声明\n",
    "int g = 20;\n",
    "\n",
    "{\n",
    "  // 局部变量声明\n",
    "  int g = 10;\n",
    " \n",
    "  cout << g;\n",
    "}"
   ]
  },
  {
   "cell_type": "markdown",
   "metadata": {},
   "source": [
    "# 定义常量的方法"
   ]
  },
  {
   "cell_type": "code",
   "execution_count": 10,
   "metadata": {},
   "outputs": [
    {
     "name": "stdout",
     "output_type": "stream",
     "text": [
      "50\n",
      "5"
     ]
    }
   ],
   "source": [
    "#define LENGTH 10   \n",
    "#define WIDTH  5\n",
    "#define NEWLINE '\\n'\n",
    "\n",
    "{\n",
    "   int area;  \n",
    "   \n",
    "   area = LENGTH * WIDTH;\n",
    "   cout << area << endl;\n",
    "   cout << WIDTH;\n",
    "}"
   ]
  },
  {
   "cell_type": "code",
   "execution_count": 4,
   "metadata": {},
   "outputs": [
    {
     "name": "stdout",
     "output_type": "stream",
     "text": [
      "50\n",
      "5"
     ]
    }
   ],
   "source": [
    "{\n",
    "   const int  LENGTH = 10;\n",
    "   const int  WIDTH  = 5;\n",
    "   const char NEWLINE = '\\n';\n",
    "   int area;  \n",
    "   \n",
    "   area = LENGTH * WIDTH;\n",
    "   cout << area << endl;\n",
    "   cout << WIDTH;\n",
    "}"
   ]
  },
  {
   "cell_type": "markdown",
   "metadata": {},
   "source": [
    "# 修饰符类型"
   ]
  },
  {
   "cell_type": "markdown",
   "metadata": {},
   "source": [
    "修饰符 signed、unsigned、long 和 short 可应用于整型，signed 和 unsigned 可应用于字符型，long 可应用于双精度型。\n",
    "\n",
    "修饰符 signed 和 unsigned 也可以作为 long 或 short 修饰符的前缀。"
   ]
  },
  {
   "cell_type": "code",
   "execution_count": 5,
   "metadata": {},
   "outputs": [
    {
     "name": "stdout",
     "output_type": "stream",
     "text": [
      "-15536 50000"
     ]
    }
   ],
   "source": [
    "{\n",
    "   short int i;           // 有符号短整数\n",
    "   short unsigned int j;  // 无符号短整数\n",
    " \n",
    "   j = 50000;\n",
    " \n",
    "   i = j;\n",
    "   cout << i << \" \" << j;\n",
    "    // 无符号短整数 50,000 的位模式被解释为有符号短整数 -15,536。\n",
    "}"
   ]
  },
  {
   "cell_type": "markdown",
   "metadata": {},
   "source": [
    "# 存储类"
   ]
  },
  {
   "cell_type": "markdown",
   "metadata": {},
   "source": [
    "## static 存储类\n",
    "\n",
    "static 存储类指示编译器在程序的生命周期内保持局部变量的存在，而不需要在每次它进入和离开作用域时进行创建和销毁。因此，使用 static 修饰局部变量可以在函数调用之间保持局部变量的值。\n",
    "\n",
    "static 修饰符也可以应用于全局变量。当 static 修饰全局变量时，会使变量的作用域限制在声明它的文件内。\n",
    "\n",
    "在 C++ 中，当 static 用在类数据成员上时，会导致仅有一个该成员的副本被类的所有对象共享。"
   ]
  },
  {
   "cell_type": "markdown",
   "metadata": {},
   "source": [
    "## extern 存储类\n",
    "extern 存储类用于提供一个全局变量的引用，全局变量对所有的程序文件都是可见的。当您使用 'extern' 时，对于无法初始化的变量，会把变量名指向一个之前定义过的存储位置。\n",
    "\n",
    "当您有多个文件且定义了一个可以在其他文件中使用的全局变量或函数时，可以在其他文件中使用 extern 来得到已定义的变量或函数的引用。可以这么理解，extern 是用来在另一个文件中声明一个全局变量或函数。"
   ]
  },
  {
   "cell_type": "markdown",
   "metadata": {},
   "source": [
    "## mutable 存储类\n",
    "\n",
    "mutable 说明符仅适用于类的对象，这将在本教程的最后进行讲解。它允许对象的成员替代常量。也就是说，mutable 成员可以通过 const 成员函数修改。"
   ]
  },
  {
   "cell_type": "markdown",
   "metadata": {},
   "source": [
    "## thread_local 存储类\n",
    "\n",
    "使用 thread_local 说明符声明的变量仅可在它在其上创建的线程上访问。 变量在创建线程时创建，并在销毁线程时销毁。 每个线程都有其自己的变量副本。\n",
    "\n",
    "thread_local 说明符可以与 static 或 extern 合并。\n",
    "\n",
    "可以将 thread_local 仅应用于数据声明和定义，thread_local 不能用于函数声明或定义。"
   ]
  },
  {
   "cell_type": "code",
   "execution_count": null,
   "metadata": {},
   "outputs": [],
   "source": []
  }
 ],
 "metadata": {
  "kernelspec": {
   "display_name": "C++11",
   "language": "C++11",
   "name": "xcpp11"
  },
  "language_info": {
   "codemirror_mode": "text/x-c++src",
   "file_extension": ".cpp",
   "mimetype": "text/x-c++src",
   "name": "c++",
   "version": "11"
  }
 },
 "nbformat": 4,
 "nbformat_minor": 4
}

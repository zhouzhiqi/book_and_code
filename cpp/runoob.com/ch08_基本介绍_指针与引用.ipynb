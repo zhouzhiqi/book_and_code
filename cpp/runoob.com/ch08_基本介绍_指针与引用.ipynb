{
 "cells": [
  {
   "cell_type": "markdown",
   "metadata": {},
   "source": [
    "# 指针"
   ]
  },
  {
   "cell_type": "markdown",
   "metadata": {},
   "source": [
    "每一个变量都有一个内存位置，每一个内存位置都定义了可使用连字号（&）运算符访问的地址，它表示了在内存中的一个地址   \n",
    "指针是一个变量，其值为另一个变量的地址，即，内存位置的直接地址"
   ]
  },
  {
   "cell_type": "code",
   "execution_count": 1,
   "metadata": {
    "ExecuteTime": {
     "end_time": "2020-03-31T10:27:43.356722Z",
     "start_time": "2020-03-31T10:27:43.351466Z"
    }
   },
   "outputs": [],
   "source": [
    "#include <iostream>\n",
    " \n",
    "using namespace std;"
   ]
  },
  {
   "cell_type": "code",
   "execution_count": 2,
   "metadata": {
    "ExecuteTime": {
     "end_time": "2020-03-31T10:27:43.365394Z",
     "start_time": "2020-03-31T10:27:43.357109Z"
    }
   },
   "outputs": [
    {
     "name": "stdout",
     "output_type": "stream",
     "text": [
      "var1 变量的地址： 0x7ffe36e98da4\n",
      "var2 变量的地址： 0x7ffe36e98d9a\n"
     ]
    }
   ],
   "source": [
    "{\n",
    "    int  var1;\n",
    "    char var2[10];\n",
    "\n",
    "    cout << \"var1 变量的地址： \";\n",
    "    cout << &var1 << endl;\n",
    "\n",
    "    cout << \"var2 变量的地址： \";\n",
    "    cout << &var2 << endl;\n",
    "}"
   ]
  },
  {
   "cell_type": "markdown",
   "metadata": {},
   "source": [
    "## 指针的声明及引用\n",
    "\n",
    "指针变量声明的一般形式为：`type *var-name;`   \n",
    "这里，type 是指针的基类型，它必须是一个有效的 C++ 数据类型，var-name 是指针变量的名称, 如:   \n",
    "```cpp\n",
    "int    *ip;    /* 一个整型的指针 */\n",
    "double *dp;    /* 一个 double 型的指针 */\n",
    "float  *fp;    /* 一个浮点型的指针 */\n",
    "char   *ch;    /* 一个字符型的指针 */\n",
    "```"
   ]
  },
  {
   "cell_type": "code",
   "execution_count": 3,
   "metadata": {
    "ExecuteTime": {
     "end_time": "2020-03-31T10:32:07.133308Z",
     "start_time": "2020-03-31T10:32:07.118639Z"
    }
   },
   "outputs": [
    {
     "name": "stdout",
     "output_type": "stream",
     "text": [
      "Value of var variable: 20\n",
      "Address stored in ip variable: 0x7ffe36e98da4\n",
      "Value of *ip variable: 20\n"
     ]
    }
   ],
   "source": [
    "{\n",
    "    int  var = 20;   // 实际变量的声明\n",
    "    int  *ip;        // 指针变量的声明\n",
    "\n",
    "    ip = &var;       // 在指针变量中存储 var 的地址\n",
    "\n",
    "    cout << \"Value of var variable: \";\n",
    "    cout << var << endl;\n",
    "\n",
    "    // 输出在指针变量中存储的地址\n",
    "    cout << \"Address stored in ip variable: \";\n",
    "    cout << ip << endl;\n",
    "\n",
    "    // 访问指针中地址的值\n",
    "    cout << \"Value of *ip variable: \";\n",
    "    cout << *ip << endl;\n",
    "}"
   ]
  },
  {
   "cell_type": "code",
   "execution_count": null,
   "metadata": {},
   "outputs": [],
   "source": []
  },
  {
   "cell_type": "code",
   "execution_count": null,
   "metadata": {},
   "outputs": [],
   "source": []
  },
  {
   "cell_type": "code",
   "execution_count": null,
   "metadata": {},
   "outputs": [],
   "source": []
  }
 ],
 "metadata": {
  "kernelspec": {
   "display_name": "C++11",
   "language": "C++11",
   "name": "xcpp11"
  },
  "language_info": {
   "codemirror_mode": "text/x-c++src",
   "file_extension": ".cpp",
   "mimetype": "text/x-c++src",
   "name": "c++",
   "version": "11"
  }
 },
 "nbformat": 4,
 "nbformat_minor": 4
}

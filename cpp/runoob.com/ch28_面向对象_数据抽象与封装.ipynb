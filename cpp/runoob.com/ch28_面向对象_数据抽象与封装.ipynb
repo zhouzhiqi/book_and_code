{
 "cells": [
  {
   "cell_type": "markdown",
   "metadata": {},
   "source": [
    "# 数据抽象\n",
    "\n",
    "数据抽象是指，只向外界提供关键信息，并隐藏其后台的实现细节，即只表现必要的信息而不呈现细节。\n",
    "\n",
    "数据抽象是一种依赖于接口和实现分离的编程（设计）技术。\n",
    "\n",
    "让我们举一个现实生活中的真实例子，比如一台电视机，您可以打开和关闭、切换频道、调整音量、添加外部组件（如喇叭、录像机、DVD 播放器），但是您不知道它的内部实现细节，也就是说，您并不知道它是如何通过缆线接收信号，如何转换信号，并最终显示在屏幕上。\n",
    "\n",
    "因此，我们可以说电视把它的内部实现和外部接口分离开了，您无需知道它的内部实现原理，直接通过它的外部接口（比如电源按钮、遥控器、声量控制器）就可以操控电视。\n",
    "\n",
    "现在，让我们言归正传，就 C++ 编程而言，C++ 类为数据抽象提供了可能。它们向外界提供了大量用于操作对象数据的公共方法，也就是说，外界实际上并不清楚类的内部实现。\n",
    "\n",
    "例如，您的程序可以调用 sort() 函数，而不需要知道函数中排序数据所用到的算法。实际上，函数排序的底层实现会因库的版本不同而有所差异，只要接口不变，函数调用就可以照常工作。\n",
    "\n",
    "在 C++ 中，我们使用类来定义我们自己的抽象数据类型（ADT）。"
   ]
  },
  {
   "cell_type": "markdown",
   "metadata": {},
   "source": [
    "您可以使用类 iostream 的 cout 对象来输出数据到标准输出，如下所示：\n",
    "```cpp\n",
    "#include <iostream>\n",
    "using namespace std;\n",
    " \n",
    "int main( )\n",
    "{\n",
    "   cout << \"Hello C++\" <<endl;\n",
    "   return 0;\n",
    "}\n",
    "```\n",
    "在这里，您不需要理解 cout 是如何在用户的屏幕上显示文本。您只需要知道公共接口即可，cout 的底层实现可以自由改变。"
   ]
  },
  {
   "cell_type": "markdown",
   "metadata": {},
   "source": [
    "## 访问标签强制抽象\n",
    "\n",
    "在 C++ 中，我们使用访问标签来定义类的抽象接口。一个类可以包含零个或多个访问标签：\n",
    "\n",
    "* 使用公共标签定义的成员都可以访问该程序的所有部分。一个类型的数据抽象视图是由它的公共成员来定义的。   \n",
    "* 使用私有标签定义的成员无法访问到使用类的代码。私有部分对使用类型的代码隐藏了实现细节。   \n",
    "\n",
    "访问标签出现的频率没有限制。每个访问标签指定了紧随其后的成员定义的访问级别。指定的访问级别会一直有效，直到遇到下一个访问标签或者遇到类主体的关闭右括号为止。"
   ]
  },
  {
   "cell_type": "markdown",
   "metadata": {},
   "source": [
    "## 数据抽象的好处\n",
    "数据抽象有两个重要的优势：\n",
    "\n",
    "* 类的内部受到保护，不会因无意的用户级错误导致对象状态受损。\n",
    "* 类实现可能随着时间的推移而发生变化，以便应对不断变化的需求，或者应对那些要求不改变用户级代码的错误报告。\n",
    "\n",
    "如果只在类的私有部分定义数据成员，编写该类的作者就可以随意更改数据。如果实现发生改变，则只需要检查类的代码，看看这个改变会导致哪些影响。如果数据是公有的，则任何直接访问旧表示形式的数据成员的函数都可能受到影响。"
   ]
  },
  {
   "cell_type": "markdown",
   "metadata": {},
   "source": [
    "## 设计策略\n",
    "\n",
    "抽象把代码分离为接口和实现。所以在设计组件时，必须保持接口独立于实现，这样，如果改变底层实现，接口也将保持不变。\n",
    "\n",
    "在这种情况下，不管任何程序使用接口，接口都不会受到影响，只需要将最新的实现重新编译即可。"
   ]
  },
  {
   "cell_type": "markdown",
   "metadata": {},
   "source": [
    "## 数据抽象的实例\n",
    "C++ 程序中，任何带有公有和私有成员的类都可以作为数据抽象的实例。"
   ]
  },
  {
   "cell_type": "code",
   "execution_count": 1,
   "metadata": {},
   "outputs": [],
   "source": [
    "#include <iostream>\n",
    "using namespace std;"
   ]
  },
  {
   "cell_type": "code",
   "execution_count": 2,
   "metadata": {},
   "outputs": [],
   "source": [
    "class Adder{\n",
    "   public:\n",
    "      // 构造函数\n",
    "      Adder(int i = 0)\n",
    "      {\n",
    "        total = i;\n",
    "      }\n",
    "      // 对外的接口\n",
    "      void addNum(int number)\n",
    "      {\n",
    "          total += number;\n",
    "      }\n",
    "      // 对外的接口\n",
    "      int getTotal()\n",
    "      {\n",
    "          return total;\n",
    "      };\n",
    "   private:\n",
    "      // 对外隐藏的数据\n",
    "      int total;\n",
    "};\n",
    "// 上面的类把数字相加，并返回总和。\n",
    "// 公有成员 addNum 和 getTotal 是对外的接口，用户需要知道它们以便使用类。\n",
    "// 私有成员 total 是用户不需要了解的，但又是类能正常工作所必需的。"
   ]
  },
  {
   "cell_type": "code",
   "execution_count": 3,
   "metadata": {},
   "outputs": [
    {
     "name": "stdout",
     "output_type": "stream",
     "text": [
      "Total 60\n"
     ]
    }
   ],
   "source": [
    "{\n",
    "    Adder a;\n",
    "\n",
    "    a.addNum(10);\n",
    "    a.addNum(20);\n",
    "    a.addNum(30);\n",
    "\n",
    "    cout << \"Total \" << a.getTotal() <<endl;\n",
    "}"
   ]
  },
  {
   "cell_type": "markdown",
   "metadata": {},
   "source": [
    "# 数据封装\n",
    "\n",
    "所有的 C++ 程序都有以下两个基本要素：\n",
    "\n",
    "* 程序语句（代码）：这是程序中执行动作的部分，它们被称为函数。\n",
    "* 程序数据：数据是程序的信息，会受到程序函数的影响。\n",
    "\n",
    "封装是面向对象编程中的把数据和操作数据的函数绑定在一起的一个概念，这样能避免受到外界的干扰和误用，从而确保了安全。数据封装引申出了另一个重要的 OOP 概念，即数据隐藏。\n",
    "\n",
    "数据封装是一种把数据和操作数据的函数捆绑在一起的机制，数据抽象是一种仅向用户暴露接口而把具体的实现细节隐藏起来的机制。\n",
    "\n",
    "C++ 通过创建类来支持封装和数据隐藏（public、protected、private）。我们已经知道，类包含私有成员（private）、保护成员（protected）和公有成员（public）成员。默认情况下，在类中定义的所有项目都是私有的。"
   ]
  },
  {
   "cell_type": "markdown",
   "metadata": {},
   "source": [
    "例如：\n",
    "```cpp\n",
    "class Box\n",
    "{\n",
    "   public:\n",
    "      double getVolume(void)\n",
    "      {\n",
    "         return length * breadth * height;\n",
    "      }\n",
    "   private:\n",
    "      double length;      // 长度\n",
    "      double breadth;     // 宽度\n",
    "      double height;      // 高度\n",
    "};\n",
    "```\n",
    "\n",
    "变量 length、breadth 和 height 都是私有的（private）。这意味着它们只能被 Box 类中的其他成员访问，而不能被程序中其他部分访问。这是实现封装的一种方式。\n",
    "\n",
    "为了使类中的成员变成公有的（即，程序中的其他部分也能访问），必须在这些成员前使用 public 关键字进行声明。所有定义在 public 标识符后边的变量或函数可以被程序中所有其他的函数访问。\n",
    "\n",
    "把一个类定义为另一个类的友元类，会暴露实现细节，从而降低了封装性。理想的做法是尽可能地对外隐藏每个类的实现细节。"
   ]
  },
  {
   "cell_type": "markdown",
   "metadata": {},
   "source": [
    "## 设计策略\n",
    "通常情况下，我们都会设置类成员状态为私有（private），除非我们真的需要将其暴露，这样才能保证良好的封装性。\n",
    "\n",
    "这通常应用于数据成员，但它同样适用于所有成员，包括虚函数。"
   ]
  },
  {
   "cell_type": "markdown",
   "metadata": {},
   "source": [
    "## 数据封装的实例\n",
    "C++ 程序中，任何带有公有和私有成员的类都可以作为数据封装和数据抽象的实例。"
   ]
  },
  {
   "cell_type": "code",
   "execution_count": 1,
   "metadata": {},
   "outputs": [],
   "source": [
    "#include <iostream>\n",
    "using namespace std;"
   ]
  },
  {
   "cell_type": "code",
   "execution_count": 2,
   "metadata": {},
   "outputs": [],
   "source": [
    "class Adder{\n",
    "   public:\n",
    "      // 构造函数\n",
    "      Adder(int i = 0)\n",
    "      {\n",
    "        total = i;\n",
    "      }\n",
    "      // 对外的接口\n",
    "      void addNum(int number)\n",
    "      {\n",
    "          total += number;\n",
    "      }\n",
    "      // 对外的接口\n",
    "      int getTotal()\n",
    "      {\n",
    "          return total;\n",
    "      };\n",
    "   private:\n",
    "      // 对外隐藏的数据\n",
    "      int total;\n",
    "};\n",
    "// 上面的类把数字相加，并返回总和。\n",
    "// 公有成员 addNum 和 getTotal 是对外的接口，用户需要知道它们以便使用类。\n",
    "// 私有成员 total 是对外隐藏的，用户不需要了解它，但它又是类能正常工作所必需的。"
   ]
  },
  {
   "cell_type": "code",
   "execution_count": 3,
   "metadata": {},
   "outputs": [
    {
     "name": "stdout",
     "output_type": "stream",
     "text": [
      "Total 60\n"
     ]
    }
   ],
   "source": [
    "{\n",
    "   Adder a;\n",
    "   \n",
    "   a.addNum(10);\n",
    "   a.addNum(20);\n",
    "   a.addNum(30);\n",
    " \n",
    "   cout << \"Total \" << a.getTotal() <<endl;\n",
    "}"
   ]
  },
  {
   "cell_type": "markdown",
   "metadata": {},
   "source": [
    "C++中, 虚函数可以为private, 并且可以被子类覆盖（因为虚函数表的传递），但子类不能调用父类的private虚函数。虚函数的重载性和它声明的权限无关。\n",
    "\n",
    "一个成员函数被定义为private属性，标志着其只能被当前类的其他成员函数(或友元函数)所访问。而virtual修饰符则强调父类的成员函数可以在子类中被重写，因为重写之时并没有与父类发生任何的调用关系，故而重写是被允许的。\n",
    "\n",
    "编译器不检查虚函数的各类属性。被virtual修饰的成员函数，不论他们是private、protect或是public的，都会被统一的放置到虚函数表中。对父类进行派生时，子类会继承到拥有相同偏移地址的虚函数表（相同偏移地址指，各虚函数相对于VPTR指针的偏移），则子类就会被允许对这些虚函数进行重载。且重载时可以给重载函数定义新的属性，例如public，其只标志着该重载函数在该子类中的访问属性为public，和父类的private属性没有任何关系！\n",
    "\n",
    "纯虚函数可以设计成私有的，不过这样不允许在本类之外的非友元函数中直接调用它，子类中只有覆盖这种纯虚函数的义务，却没有调用它的权利。"
   ]
  },
  {
   "cell_type": "code",
   "execution_count": null,
   "metadata": {},
   "outputs": [],
   "source": []
  }
 ],
 "metadata": {
  "kernelspec": {
   "display_name": "C++11",
   "language": "C++11",
   "name": "xcpp11"
  },
  "language_info": {
   "codemirror_mode": "text/x-c++src",
   "file_extension": ".cpp",
   "mimetype": "text/x-c++src",
   "name": "c++",
   "version": "11"
  }
 },
 "nbformat": 4,
 "nbformat_minor": 4
}

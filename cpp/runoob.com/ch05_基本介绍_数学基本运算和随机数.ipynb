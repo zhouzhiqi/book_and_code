{
 "cells": [
  {
   "cell_type": "markdown",
   "metadata": {},
   "source": [
    "# 数学基本运算"
   ]
  },
  {
   "cell_type": "markdown",
   "metadata": {},
   "source": [
    "## 一些基本运算参见运算符章节"
   ]
  },
  {
   "cell_type": "markdown",
   "metadata": {},
   "source": [
    "## 数学函数"
   ]
  },
  {
   "cell_type": "code",
   "execution_count": 1,
   "metadata": {
    "ExecuteTime": {
     "end_time": "2020-03-31T08:51:17.738862Z",
     "start_time": "2020-03-31T08:51:17.731708Z"
    }
   },
   "outputs": [],
   "source": [
    "#include <iostream>\n",
    "#include <cmath>\n",
    "using namespace std;"
   ]
  },
  {
   "cell_type": "code",
   "execution_count": 2,
   "metadata": {
    "ExecuteTime": {
     "end_time": "2020-03-31T08:51:22.734834Z",
     "start_time": "2020-03-31T08:51:22.699686Z"
    }
   },
   "outputs": [
    {
     "name": "stdout",
     "output_type": "stream",
     "text": [
      "sin(d) :-0.634939\n",
      "abs(i)  :1000\n",
      "floor(d) :200\n",
      "sqrt(f) :15.1812\n",
      "pow( d, 2) :40149.7\n"
     ]
    }
   ],
   "source": [
    "{\n",
    "   // 数字定义\n",
    "   short  s = 10;\n",
    "   int    i = -1000;\n",
    "   long   l = 100000;\n",
    "   float  f = 230.47;\n",
    "   double d = 200.374;\n",
    " \n",
    "   // 数学运算\n",
    "   cout << \"sin(d) :\" << sin(d) << endl;\n",
    "   cout << \"abs(i)  :\" << abs(i) << endl;\n",
    "   cout << \"floor(d) :\" << floor(d) << endl;\n",
    "   cout << \"sqrt(f) :\" << sqrt(f) << endl;\n",
    "   cout << \"pow( d, 2) :\" << pow(d, 2) << endl;\n",
    "}"
   ]
  },
  {
   "cell_type": "markdown",
   "metadata": {},
   "source": [
    "## 随机数\n",
    "\n",
    "关于随机数生成器，有两个相关的函数。一个是 rand()，该函数只返回一个伪随机数。生成随机数之前必须先调用 srand() 函数。\n",
    "\n",
    "下面是一个关于生成随机数的简单实例。实例中使用了 time() 函数来获取系统时间的秒数，通过调用 rand() 函数来生成随机数"
   ]
  },
  {
   "cell_type": "code",
   "execution_count": 3,
   "metadata": {
    "ExecuteTime": {
     "end_time": "2020-03-31T08:53:03.653731Z",
     "start_time": "2020-03-31T08:53:03.652319Z"
    }
   },
   "outputs": [],
   "source": [
    "#include <iostream>\n",
    "#include <ctime>\n",
    "#include <cstdlib>\n",
    " \n",
    "using namespace std;"
   ]
  },
  {
   "cell_type": "code",
   "execution_count": 4,
   "metadata": {
    "ExecuteTime": {
     "end_time": "2020-03-31T08:53:04.757080Z",
     "start_time": "2020-03-31T08:53:04.62422Z"
    }
   },
   "outputs": [
    {
     "name": "stdout",
     "output_type": "stream",
     "text": [
      "随机数： 1733044231\n",
      "随机数： 2090970929\n",
      "随机数： 158027477\n",
      "随机数： 422841008\n",
      "随机数： 1924562914\n",
      "随机数： 896640015\n",
      "随机数： 681858048\n",
      "随机数： 366865122\n",
      "随机数： 1833410372\n",
      "随机数： 935220932\n"
     ]
    }
   ],
   "source": [
    "{\n",
    "   int i,j;\n",
    " \n",
    "   // 设置种子\n",
    "   srand( (unsigned)time( NULL ) );\n",
    " \n",
    "   /* 生成 10 个随机数 */\n",
    "   for( i = 0; i < 10; i++ )\n",
    "   {\n",
    "      // 生成实际的随机数\n",
    "      j= rand();\n",
    "      cout <<\"随机数： \" << j << endl;\n",
    "   }\n",
    "}"
   ]
  },
  {
   "cell_type": "code",
   "execution_count": null,
   "metadata": {},
   "outputs": [],
   "source": []
  }
 ],
 "metadata": {
  "kernelspec": {
   "display_name": "C++11",
   "language": "C++11",
   "name": "xcpp11"
  },
  "language_info": {
   "codemirror_mode": "text/x-c++src",
   "file_extension": ".cpp",
   "mimetype": "text/x-c++src",
   "name": "c++",
   "version": "11"
  }
 },
 "nbformat": 4,
 "nbformat_minor": 4
}

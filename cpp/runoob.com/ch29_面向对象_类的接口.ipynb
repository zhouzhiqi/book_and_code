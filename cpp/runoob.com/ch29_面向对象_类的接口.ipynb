{
 "cells": [
  {
   "cell_type": "markdown",
   "metadata": {},
   "source": [
    "# 接口\n",
    "\n",
    "接口描述了类的行为和功能，而不需要完成类的特定实现。\n",
    "\n",
    "C++ 接口是使用抽象类来实现的，抽象类与数据抽象互不混淆，数据抽象是一个把实现细节与相关的数据分离开的概念。\n",
    "\n",
    "如果类中至少有一个函数被声明为纯虚函数，则这个类就是抽象类。纯虚函数是通过在声明中使用 \"= 0\" 来指定的，如下所示：\n",
    "```cpp\n",
    "class Box\n",
    "{\n",
    "   public:\n",
    "      // 纯虚函数\n",
    "      virtual double getVolume() = 0;\n",
    "   private:\n",
    "      double length;      // 长度\n",
    "      double breadth;     // 宽度\n",
    "      double height;      // 高度\n",
    "};\n",
    "```\n",
    "设计抽象类（通常称为 ABC）的目的，是为了给其他类提供一个可以继承的适当的基类。`抽象类不能被用于实例化对象，它只能作为接口使用。`如果试图实例化一个抽象类的对象，会导致编译错误。\n",
    "\n",
    "因此，如果一个 ABC 的子类需要被实例化，则必须实现每个虚函数，这也意味着 C++ 支持使用 ABC 声明接口。如果没有在派生类中重写纯虚函数，就尝试实例化该类的对象，会导致编译错误。\n",
    "\n",
    "可用于实例化对象的类被称为具体类。"
   ]
  },
  {
   "cell_type": "markdown",
   "metadata": {},
   "source": [
    "## 设计策略\n",
    "面向对象的系统可能会使用一个抽象基类为所有的外部应用程序提供一个适当的、通用的、标准化的接口。然后，派生类通过继承抽象基类，就把所有类似的操作都继承下来。\n",
    "\n",
    "外部应用程序提供的功能（即公有函数）在抽象基类中是以纯虚函数的形式存在的。这些纯虚函数在相应的派生类中被实现。\n",
    "\n",
    "这个架构也使得新的应用程序可以很容易地被添加到系统中，即使是在系统被定义之后依然可以如此。"
   ]
  },
  {
   "cell_type": "markdown",
   "metadata": {},
   "source": [
    "抽象类的实例\n",
    "请看下面的实例，基类 Shape 提供了一个接口 getArea()，在两个派生类 Rectangle 和 Triangle 中分别实现了 getArea()："
   ]
  },
  {
   "cell_type": "code",
   "execution_count": 1,
   "metadata": {},
   "outputs": [],
   "source": [
    "#include <iostream>\n",
    "using namespace std;"
   ]
  },
  {
   "cell_type": "code",
   "execution_count": 2,
   "metadata": {},
   "outputs": [],
   "source": [
    "// 基类\n",
    "class Shape \n",
    "{\n",
    "    public:\n",
    "        // 提供接口框架的纯虚函数\n",
    "        virtual int getArea() = 0;\n",
    "        void setWidth(int w)\n",
    "        {\n",
    "            width = w;\n",
    "        }\n",
    "        void setHeight(int h)\n",
    "        {\n",
    "            height = h;\n",
    "        }\n",
    "    protected:\n",
    "        int width;\n",
    "        int height;\n",
    "};"
   ]
  },
  {
   "cell_type": "code",
   "execution_count": 3,
   "metadata": {},
   "outputs": [],
   "source": [
    "// 派生类 - Rectangle\n",
    "class Rectangle: public Shape\n",
    "{\n",
    "    public:\n",
    "        int getArea()\n",
    "        { \n",
    "            return (width * height); \n",
    "        }\n",
    "};\n",
    "\n",
    "// 派生类 - Triangle\n",
    "class Triangle: public Shape\n",
    "{\n",
    "    public:\n",
    "        int getArea()\n",
    "        { \n",
    "            return (width * height)/2; \n",
    "        }\n",
    "};"
   ]
  },
  {
   "cell_type": "code",
   "execution_count": 4,
   "metadata": {},
   "outputs": [
    {
     "name": "stdout",
     "output_type": "stream",
     "text": [
      "Total Rectangle area: 35\n",
      "Total Triangle area: 17\n"
     ]
    }
   ],
   "source": [
    "{\n",
    "    Rectangle Rect;\n",
    "    Triangle  Tri;\n",
    "\n",
    "    Rect.setWidth(5);\n",
    "    Rect.setHeight(7);\n",
    "    // 输出对象的面积\n",
    "    cout << \"Total Rectangle area: \" << Rect.getArea() << endl;\n",
    "\n",
    "    Tri.setWidth(5);\n",
    "    Tri.setHeight(7);\n",
    "    // 输出对象的面积\n",
    "    cout << \"Total Triangle area: \" << Tri.getArea() << endl; \n",
    "}"
   ]
  },
  {
   "cell_type": "code",
   "execution_count": null,
   "metadata": {},
   "outputs": [],
   "source": []
  }
 ],
 "metadata": {
  "kernelspec": {
   "display_name": "C++11",
   "language": "C++11",
   "name": "xcpp11"
  },
  "language_info": {
   "codemirror_mode": "text/x-c++src",
   "file_extension": ".cpp",
   "mimetype": "text/x-c++src",
   "name": "c++",
   "version": "11"
  }
 },
 "nbformat": 4,
 "nbformat_minor": 4
}

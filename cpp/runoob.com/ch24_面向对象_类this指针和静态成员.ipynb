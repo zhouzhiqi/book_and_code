{
 "cells": [
  {
   "cell_type": "markdown",
   "metadata": {},
   "source": [
    "# this指针\n",
    "\n",
    "在 C++ 中，每一个对象都能通过 this 指针来访问自己的地址。this 指针是所有成员函数的隐含参数。因此，在成员函数内部，它可以用来指向调用对象。\n",
    "\n",
    "友元函数没有 this 指针，因为友元不是类的成员。只有成员函数才有 this 指针。"
   ]
  },
  {
   "cell_type": "code",
   "execution_count": 1,
   "metadata": {},
   "outputs": [],
   "source": [
    "#include <iostream>\n",
    "using namespace std;"
   ]
  },
  {
   "cell_type": "code",
   "execution_count": 2,
   "metadata": {},
   "outputs": [],
   "source": [
    "class Box\n",
    "{\n",
    "    public:\n",
    "        // 构造函数定义\n",
    "        Box(double l=2.0, double b=2.0, double h=2.0)\n",
    "        {\n",
    "         cout <<\"Constructor called.\" << endl;\n",
    "         length = l;\n",
    "         breadth = b;\n",
    "         height = h;\n",
    "        }\n",
    "        double Volume()\n",
    "        {\n",
    "          return length * breadth * height;\n",
    "        }\n",
    "        int compare(Box box)\n",
    "        {\n",
    "          return this->Volume() > box.Volume();\n",
    "        }\n",
    "    private:\n",
    "        double length;     // Length of a box\n",
    "        double breadth;    // Breadth of a box\n",
    "        double height;     // Height of a box\n",
    "};"
   ]
  },
  {
   "cell_type": "code",
   "execution_count": 3,
   "metadata": {},
   "outputs": [
    {
     "name": "stdout",
     "output_type": "stream",
     "text": [
      "Constructor called.\n",
      "Constructor called.\n",
      "Box2 is equal to or larger than Box1\n"
     ]
    }
   ],
   "source": [
    "{\n",
    "    Box Box1(3.3, 1.2, 1.5);    // Declare box1\n",
    "    Box Box2(8.5, 6.0, 2.0);    // Declare box2\n",
    "\n",
    "    if(Box1.compare(Box2))\n",
    "    {\n",
    "        cout << \"Box2 is smaller than Box1\" <<endl;\n",
    "    }\n",
    "    else\n",
    "    {\n",
    "        cout << \"Box2 is equal to or larger than Box1\" <<endl;\n",
    "    }\n",
    "}"
   ]
  },
  {
   "cell_type": "markdown",
   "metadata": {},
   "source": [
    "当我们调用成员函数时，实际上是替某个对象调用它。\n",
    "\n",
    "成员函数通过一个名为 this 的额外隐式参数来访问调用它的那个对象，当我们调用一个成员函数时，用请求该函数的对象地址初始化 this。例如，如果调用 total.isbn()则编译器负责把 total 的地址传递给 isbn 的隐式形参 this，可以等价地认为编译器将该调用重写成了以下形式：\n",
    "```cpp\n",
    "//伪代码，用于说明调用成员函数的实际执行过程\n",
    "Sales_data::isbn(&total)\n",
    "```\n",
    "其中，调用 Sales_data 的 isbn 成员时传入了 total 的地址。\n",
    "在成员函数内部，我们可以直接使用调用该函数的对象的成员，而无须通过成员访问运算符来做到这一点，因为 this 所指的正是这个对象。任何对类成员的直接访问都被看作是对 this 的隐式引用，也就是说，当 isbn 使用 bookNo 时，它隐式地使用 this 指向的成员，就像我们书写了 this->bookNo 一样。\n",
    "\n",
    "对于我们来说，this 形参是隐式定义的。实际上，任何自定义名为 this 的参数或变量的行为都是非法的。我们可以在成员函数体内部使用 this，因此尽管没有必要，我们还是能把 isbn 定义成如下形式：\n",
    "```cpp\n",
    "std::string isbn() const { return this->bookNo; }\n",
    "```\n",
    "因为 this 的目的总是指向“这个”对象，所以 this 是一个常量指针（参见2.4.2节，第56页），我们不允许改变 this 中保存的地址。"
   ]
  },
  {
   "cell_type": "markdown",
   "metadata": {},
   "source": [
    "# 静态成员\n",
    "\n",
    "我们可以使用 static 关键字来把类成员定义为静态的。当我们声明类的成员为静态时，这意味着无论创建多少个类的对象，静态成员都只有一个副本。\n",
    "\n",
    "静态成员在类的所有对象中是共享的。如果不存在其他的初始化语句，在创建第一个对象时，所有的静态数据都会被初始化为零。我们不能把静态成员的初始化放置在类的定义中，但是可以在类的外部通过使用范围解析运算符 :: 来重新声明静态变量从而对它进行初始化"
   ]
  },
  {
   "cell_type": "code",
   "execution_count": 1,
   "metadata": {},
   "outputs": [],
   "source": [
    "#include <iostream>\n",
    "using namespace std;"
   ]
  },
  {
   "cell_type": "code",
   "execution_count": 2,
   "metadata": {},
   "outputs": [],
   "source": [
    "class Box\n",
    "{\n",
    "   public:\n",
    "      static int objectCount;\n",
    "      // 构造函数定义\n",
    "      Box(double l=2.0, double b=2.0, double h=2.0)\n",
    "      {\n",
    "         cout <<\"Constructor called.\" << endl;\n",
    "         length = l;\n",
    "         breadth = b;\n",
    "         height = h;\n",
    "         // 每次创建对象时增加 1\n",
    "         objectCount++;\n",
    "      }\n",
    "      double Volume()\n",
    "      {\n",
    "         return length * breadth * height;\n",
    "      }\n",
    "   private:\n",
    "      double length;     // 长度\n",
    "      double breadth;    // 宽度\n",
    "      double height;     // 高度\n",
    "};"
   ]
  },
  {
   "cell_type": "code",
   "execution_count": 3,
   "metadata": {},
   "outputs": [
    {
     "name": "stderr",
     "output_type": "stream",
     "text": [
      "\u001b[1minput_line_10:3:10: \u001b[0m\u001b[0;1;31merror: \u001b[0m\u001b[1mdefinition or redeclaration of 'objectCount' not allowed inside a function\u001b[0m\n",
      "int Box::objectCount = 0;\n",
      "\u001b[0;1;32m    ~~~~~^\n",
      "\u001b[0m"
     ]
    },
    {
     "ename": "Interpreter Error",
     "evalue": "",
     "output_type": "error",
     "traceback": [
      "Interpreter Error: "
     ]
    }
   ],
   "source": [
    "// 初始化类 Box 的静态成员\n",
    "int Box::objectCount = 0;"
   ]
  },
  {
   "cell_type": "code",
   "execution_count": 4,
   "metadata": {},
   "outputs": [
    {
     "name": "stderr",
     "output_type": "stream",
     "text": [
      "IncrementalExecutor::executeFunction: symbol '_ZN3Box11objectCountE' unresolved while linking [cling interface function]!\n",
      "You are probably missing the definition of Box::objectCount\n",
      "Maybe you need to load the corresponding shared library?\n"
     ]
    },
    {
     "ename": "Interpreter Error",
     "evalue": "",
     "output_type": "error",
     "traceback": [
      "Interpreter Error: "
     ]
    }
   ],
   "source": [
    "{\n",
    "    Box Box1(3.3, 1.2, 1.5);    // 声明 box1\n",
    "    Box Box2(8.5, 6.0, 2.0);    // 声明 box2\n",
    "\n",
    "    // 输出对象的总数\n",
    "    cout << \"Total objects: \" << Box::objectCount << endl;\n",
    "}"
   ]
  },
  {
   "cell_type": "markdown",
   "metadata": {},
   "source": [
    "# 静态成员函数\n",
    "\n",
    "如果把函数成员声明为静态的，就可以把函数与类的任何特定对象独立开来。静态成员函数即使在类对象不存在的情况下也能被调用，静态函数只要使用类名加范围解析运算符 :: 就可以访问。\n",
    "\n",
    "静态成员函数只能访问静态成员数据、其他静态成员函数和类外部的其他函数。\n",
    "\n",
    "静态成员函数有一个类范围，他们不能访问类的 this 指针。您可以使用静态成员函数来判断类的某些对象是否已被创建。"
   ]
  },
  {
   "cell_type": "markdown",
   "metadata": {},
   "source": [
    "## 静态成员函数与普通成员函数的区别：\n",
    "\n",
    "* 静态成员函数没有 this 指针，只能访问静态成员（包括静态成员变量和静态成员函数）。\n",
    "* 普通成员函数有 this 指针，可以访问类中的任意成员；而静态成员函数没有 this 指针。"
   ]
  },
  {
   "cell_type": "code",
   "execution_count": 1,
   "metadata": {},
   "outputs": [],
   "source": [
    "#include <iostream>\n",
    "using namespace std;"
   ]
  },
  {
   "cell_type": "code",
   "execution_count": 2,
   "metadata": {},
   "outputs": [],
   "source": [
    " \n",
    "class Box\n",
    "{\n",
    "   public:\n",
    "      static int objectCount;\n",
    "      // 构造函数定义\n",
    "      Box(double l=2.0, double b=2.0, double h=2.0)\n",
    "      {\n",
    "         cout <<\"Constructor called.\" << endl;\n",
    "         length = l;\n",
    "         breadth = b;\n",
    "         height = h;\n",
    "         // 每次创建对象时增加 1\n",
    "         objectCount++;\n",
    "      }\n",
    "      double Volume()\n",
    "      {\n",
    "         return length * breadth * height;\n",
    "      }\n",
    "      static int getCount()\n",
    "      {\n",
    "         return objectCount;\n",
    "      }\n",
    "   private:\n",
    "      double length;     // 长度\n",
    "      double breadth;    // 宽度\n",
    "      double height;     // 高度\n",
    "};"
   ]
  },
  {
   "cell_type": "code",
   "execution_count": 3,
   "metadata": {},
   "outputs": [
    {
     "name": "stderr",
     "output_type": "stream",
     "text": [
      "\u001b[1minput_line_10:3:10: \u001b[0m\u001b[0;1;31merror: \u001b[0m\u001b[1mdefinition or redeclaration of 'objectCount' not allowed inside a function\u001b[0m\n",
      "int Box::objectCount = 0;\n",
      "\u001b[0;1;32m    ~~~~~^\n",
      "\u001b[0m"
     ]
    },
    {
     "ename": "Interpreter Error",
     "evalue": "",
     "output_type": "error",
     "traceback": [
      "Interpreter Error: "
     ]
    }
   ],
   "source": [
    "// 初始化类 Box 的静态成员\n",
    "int Box::objectCount = 0;"
   ]
  },
  {
   "cell_type": "code",
   "execution_count": 4,
   "metadata": {},
   "outputs": [
    {
     "name": "stderr",
     "output_type": "stream",
     "text": [
      "IncrementalExecutor::executeFunction: symbol '_ZN3Box11objectCountE' unresolved while linking [cling interface function]!\n",
      "You are probably missing the definition of Box::objectCount\n",
      "Maybe you need to load the corresponding shared library?\n"
     ]
    },
    {
     "ename": "Interpreter Error",
     "evalue": "",
     "output_type": "error",
     "traceback": [
      "Interpreter Error: "
     ]
    }
   ],
   "source": [
    "{\n",
    "    // 在创建对象之前输出对象的总数\n",
    "    cout << \"Inital Stage Count: \" << Box::getCount() << endl;\n",
    "\n",
    "    Box Box1(3.3, 1.2, 1.5);    // 声明 box1\n",
    "    Box Box2(8.5, 6.0, 2.0);    // 声明 box2\n",
    "\n",
    "    // 在创建对象之后输出对象的总数\n",
    "    cout << \"Final Stage Count: \" << Box::getCount() << endl;\n",
    "}"
   ]
  },
  {
   "cell_type": "code",
   "execution_count": null,
   "metadata": {},
   "outputs": [],
   "source": []
  },
  {
   "cell_type": "code",
   "execution_count": null,
   "metadata": {},
   "outputs": [],
   "source": []
  }
 ],
 "metadata": {
  "kernelspec": {
   "display_name": "C++11",
   "language": "C++11",
   "name": "xcpp11"
  },
  "language_info": {
   "codemirror_mode": "text/x-c++src",
   "file_extension": ".cpp",
   "mimetype": "text/x-c++src",
   "name": "c++",
   "version": "11"
  }
 },
 "nbformat": 4,
 "nbformat_minor": 4
}

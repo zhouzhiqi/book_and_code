{
 "cells": [
  {
   "cell_type": "markdown",
   "metadata": {},
   "source": [
    "# 多态\n",
    "\n",
    "多态按字面的意思就是多种形态。当类之间存在层次结构，并且类之间是通过继承关联时，就会用到多态。\n",
    "\n",
    "C++ 多态意味着调用成员函数时，会根据调用函数的对象的类型来执行不同的函数。"
   ]
  },
  {
   "cell_type": "code",
   "execution_count": 1,
   "metadata": {},
   "outputs": [],
   "source": [
    "#include <iostream> \n",
    "using namespace std;"
   ]
  },
  {
   "cell_type": "code",
   "execution_count": 2,
   "metadata": {},
   "outputs": [],
   "source": [
    "// 父类\n",
    "class Shape {\n",
    "   protected:\n",
    "      int width, height;\n",
    "   public:\n",
    "      Shape( int a=0, int b=0)\n",
    "      {\n",
    "         width = a;\n",
    "         height = b;\n",
    "      }\n",
    "      int area()\n",
    "      {\n",
    "         cout << \"Parent class area :\" <<endl;\n",
    "         return 0;\n",
    "      }\n",
    "};"
   ]
  },
  {
   "cell_type": "code",
   "execution_count": 3,
   "metadata": {},
   "outputs": [],
   "source": [
    "// 子类 - Rectangle\n",
    "class Rectangle: public Shape{\n",
    "   public:\n",
    "      Rectangle( int a=0, int b=0):Shape(a, b) { }\n",
    "      int area ()\n",
    "      { \n",
    "         cout << \"Rectangle class area :\" <<endl;\n",
    "         return (width * height); \n",
    "      }\n",
    "};\n",
    "\n",
    "// 子类 - Triangle\n",
    "class Triangle: public Shape{\n",
    "   public:\n",
    "      Triangle( int a=0, int b=0):Shape(a, b) { }\n",
    "      int area ()\n",
    "      { \n",
    "         cout << \"Triangle class area :\" <<endl;\n",
    "         return (width * height / 2); \n",
    "      }\n",
    "};"
   ]
  },
  {
   "cell_type": "code",
   "execution_count": 4,
   "metadata": {},
   "outputs": [
    {
     "name": "stdout",
     "output_type": "stream",
     "text": [
      "Parent class area :\n",
      "Parent class area :\n"
     ]
    }
   ],
   "source": [
    "{\n",
    "    Shape *shape;\n",
    "    Rectangle rec(10,7);\n",
    "    Triangle  tri(10,5);\n",
    "\n",
    "    // 存储矩形的地址\n",
    "    shape = &rec;\n",
    "    // 调用矩形的求面积函数 area\n",
    "    shape->area();\n",
    "\n",
    "    // 存储三角形的地址\n",
    "    shape = &tri;\n",
    "    // 调用三角形的求面积函数 area\n",
    "    shape->area();\n",
    "}"
   ]
  },
  {
   "cell_type": "markdown",
   "metadata": {},
   "source": [
    "导致错误输出的原因是，调用函数 area() 被编译器设置为基类中的版本，这就是所谓的静态多态，或静态链接 - 函数调用在程序执行前就准备好了。有时候这也被称为早绑定，因为 area() 函数在程序编译期间就已经设置好了。\n",
    "\n",
    "但现在，让我们对程序稍作修改，在 Shape 类中，area() 的声明前放置关键字 `virtual`"
   ]
  },
  {
   "cell_type": "code",
   "execution_count": 1,
   "metadata": {},
   "outputs": [],
   "source": [
    "#include <iostream> \n",
    "using namespace std;"
   ]
  },
  {
   "cell_type": "code",
   "execution_count": 2,
   "metadata": {},
   "outputs": [],
   "source": [
    "// 父类\n",
    "class Shape {\n",
    "   protected:\n",
    "      int width, height;\n",
    "   public:\n",
    "      Shape( int a=0, int b=0)\n",
    "      {\n",
    "         width = a;\n",
    "         height = b;\n",
    "      }\n",
    "      virtual int area()\n",
    "      {\n",
    "         cout << \"Parent class area :\" <<endl;\n",
    "         return 0;\n",
    "      }\n",
    "};"
   ]
  },
  {
   "cell_type": "code",
   "execution_count": 3,
   "metadata": {},
   "outputs": [],
   "source": [
    "// 子类 - Rectangle\n",
    "class Rectangle: public Shape{\n",
    "   public:\n",
    "      Rectangle( int a=0, int b=0):Shape(a, b) { }\n",
    "      int area ()\n",
    "      { \n",
    "         cout << \"Rectangle class area :\" <<endl;\n",
    "         return (width * height); \n",
    "      }\n",
    "};\n",
    "\n",
    "// 子类 - Triangle\n",
    "class Triangle: public Shape{\n",
    "   public:\n",
    "      Triangle( int a=0, int b=0):Shape(a, b) { }\n",
    "      int area ()\n",
    "      { \n",
    "         cout << \"Triangle class area :\" <<endl;\n",
    "         return (width * height / 2); \n",
    "      }\n",
    "};"
   ]
  },
  {
   "cell_type": "code",
   "execution_count": 4,
   "metadata": {},
   "outputs": [
    {
     "name": "stdout",
     "output_type": "stream",
     "text": [
      "Rectangle class area :\n",
      "Triangle class area :\n"
     ]
    }
   ],
   "source": [
    "{\n",
    "    Shape *shape;\n",
    "    Rectangle rec(10,7);\n",
    "    Triangle  tri(10,5);\n",
    "\n",
    "    // 存储矩形的地址\n",
    "    shape = &rec;\n",
    "    // 调用矩形的求面积函数 area\n",
    "    shape->area();\n",
    "\n",
    "    // 存储三角形的地址\n",
    "    shape = &tri;\n",
    "    // 调用三角形的求面积函数 area\n",
    "    shape->area();\n",
    "}"
   ]
  },
  {
   "cell_type": "markdown",
   "metadata": {},
   "source": [
    "## 虚函数\n",
    "虚函数 是在基类中使用关键字 `virtual` 声明的函数。在派生类中重新定义基类中定义的虚函数时，会告诉编译器不要静态链接到该函数。\n",
    "\n",
    "我们想要的是在程序中任意点可以根据所调用的对象类型来选择调用的函数，这种操作被称为动态链接，或后期绑定。\n",
    "```cpp\n",
    "class Shape {\n",
    "   protected:\n",
    "      int width, height;\n",
    "   public:\n",
    "      Shape( int a=0, int b=0)\n",
    "      {\n",
    "         width = a;\n",
    "         height = b;\n",
    "      }\n",
    "      virtual int area()\n",
    "      {\n",
    "         cout << \"Parent class area :\" <<endl;\n",
    "         return 0;\n",
    "      }\n",
    "};\n",
    "```"
   ]
  },
  {
   "cell_type": "markdown",
   "metadata": {},
   "source": [
    "## 纯虚函数\n",
    "\n",
    "您可能想要在基类中定义虚函数，以便在派生类中重新定义该函数更好地适用于对象，但是您在基类中又不能对虚函数给出有意义的实现，这个时候就会用到纯虚函数。\n",
    "\n",
    "我们可以把基类中的虚函数 area() 改写如下：\n",
    "```cpp\n",
    "class Shape {\n",
    "   protected:\n",
    "      int width, height;\n",
    "   public:\n",
    "      Shape( int a=0, int b=0)\n",
    "      {\n",
    "         width = a;\n",
    "         height = b;\n",
    "      }\n",
    "      // pure virtual function\n",
    "      // = 0 告诉编译器，函数没有主体，上面的虚函数是纯虚函数。\n",
    "      virtual int area() = 0;\n",
    "};\n",
    "```"
   ]
  },
  {
   "cell_type": "code",
   "execution_count": null,
   "metadata": {},
   "outputs": [],
   "source": []
  }
 ],
 "metadata": {
  "kernelspec": {
   "display_name": "C++11",
   "language": "C++11",
   "name": "xcpp11"
  },
  "language_info": {
   "codemirror_mode": "text/x-c++src",
   "file_extension": ".cpp",
   "mimetype": "text/x-c++src",
   "name": "c++",
   "version": "11"
  }
 },
 "nbformat": 4,
 "nbformat_minor": 4
}

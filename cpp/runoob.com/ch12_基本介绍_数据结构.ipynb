{
 "cells": [
  {
   "cell_type": "markdown",
   "metadata": {},
   "source": [
    "# 数据结构"
   ]
  },
  {
   "cell_type": "markdown",
   "metadata": {},
   "source": [
    "## 定义结构\n",
    "\n",
    "为了定义结构，您必须使用 struct 语句。struct 语句定义了一个包含多个成员的新的数据类型，struct 语句的格式如下：\n",
    "```cpp\n",
    "struct type_name {\n",
    "member_type1 member_name1;\n",
    "member_type2 member_name2;\n",
    "member_type3 member_name3;\n",
    ".\n",
    ".\n",
    "} object_names;\n",
    "```\n",
    "type_name 是结构体类型的名称，member_type1 member_name1 是标准的变量定义，比如 int i; 或者 float f; 或者其他有效的变量定义。在结构定义的末尾，最后一个分号之前，您可以指定一个或多个结构变量，这是可选的。"
   ]
  },
  {
   "cell_type": "markdown",
   "metadata": {},
   "source": [
    "## 访问结构成员\n",
    "\n",
    "为了访问结构的成员，我们使用成员访问运算符（.）。成员访问运算符是结构变量名称和我们要访问的结构成员之间的一个句号。"
   ]
  },
  {
   "cell_type": "code",
   "execution_count": 1,
   "metadata": {},
   "outputs": [],
   "source": [
    "#include <iostream>\n",
    "#include <cstring>\n",
    " \n",
    "using namespace std;"
   ]
  },
  {
   "cell_type": "code",
   "execution_count": 2,
   "metadata": {},
   "outputs": [],
   "source": [
    "// 声明一个结构体类型 Books \n",
    "struct Books\n",
    "{\n",
    "    char  title[50];\n",
    "    char  author[50];\n",
    "    char  subject[100];\n",
    "    int   book_id;\n",
    "};"
   ]
  },
  {
   "cell_type": "code",
   "execution_count": 3,
   "metadata": {},
   "outputs": [
    {
     "name": "stdout",
     "output_type": "stream",
     "text": [
      "第一本书标题 : C++ 教程\n",
      "第一本书作者 : Runoob\n",
      "第一本书类目 : 编程语言\n",
      "第一本书 ID : 12345\n",
      "第二本书标题 : CSS 教程\n",
      "第二本书作者 : Runoob\n",
      "第二本书类目 : 前端技术\n",
      "第二本书 ID : 12346\n"
     ]
    }
   ],
   "source": [
    "{\n",
    "    Books Book1;        // 定义结构体类型 Books 的变量 Book1\n",
    "    Books Book2;        // 定义结构体类型 Books 的变量 Book2\n",
    "\n",
    "    // Book1 详述\n",
    "    strcpy( Book1.title, \"C++ 教程\");\n",
    "    strcpy( Book1.author, \"Runoob\"); \n",
    "    strcpy( Book1.subject, \"编程语言\");\n",
    "    Book1.book_id = 12345;\n",
    "\n",
    "    // Book2 详述\n",
    "    strcpy( Book2.title, \"CSS 教程\");\n",
    "    strcpy( Book2.author, \"Runoob\");\n",
    "    strcpy( Book2.subject, \"前端技术\");\n",
    "    Book2.book_id = 12346;\n",
    "\n",
    "    // 输出 Book1 信息\n",
    "    cout << \"第一本书标题 : \" << Book1.title <<endl;\n",
    "    cout << \"第一本书作者 : \" << Book1.author <<endl;\n",
    "    cout << \"第一本书类目 : \" << Book1.subject <<endl;\n",
    "    cout << \"第一本书 ID : \" << Book1.book_id <<endl;\n",
    "\n",
    "    // 输出 Book2 信息\n",
    "    cout << \"第二本书标题 : \" << Book2.title <<endl;\n",
    "    cout << \"第二本书作者 : \" << Book2.author <<endl;\n",
    "    cout << \"第二本书类目 : \" << Book2.subject <<endl;\n",
    "    cout << \"第二本书 ID : \" << Book2.book_id <<endl;\n",
    " \n",
    "}"
   ]
  },
  {
   "cell_type": "markdown",
   "metadata": {},
   "source": [
    "## 结构作为函数参数\n",
    "\n",
    "您可以把结构作为函数参数，传参方式与其他类型的变量或指针类似。您可以使用上面实例中的方式来访问结构变量："
   ]
  },
  {
   "cell_type": "code",
   "execution_count": 4,
   "metadata": {},
   "outputs": [],
   "source": [
    "void printBook( struct Books book )\n",
    "{\n",
    "    cout << \"书标题 : \" << book.title <<endl;\n",
    "    cout << \"书作者 : \" << book.author <<endl;\n",
    "    cout << \"书类目 : \" << book.subject <<endl;\n",
    "    cout << \"书 ID : \" << book.book_id <<endl;\n",
    "}"
   ]
  },
  {
   "cell_type": "code",
   "execution_count": 5,
   "metadata": {},
   "outputs": [
    {
     "name": "stdout",
     "output_type": "stream",
     "text": [
      "书标题 : C++ 教程\n",
      "书作者 : Runoob\n",
      "书类目 : 编程语言\n",
      "书 ID : 12345\n",
      "书标题 : CSS 教程\n",
      "书作者 : Runoob\n",
      "书类目 : 前端技术\n",
      "书 ID : 12346\n"
     ]
    }
   ],
   "source": [
    "{\n",
    "    Books Book1;        // 定义结构体类型 Books 的变量 Book1\n",
    "    Books Book2;        // 定义结构体类型 Books 的变量 Book2\n",
    "\n",
    "    // Book1 详述\n",
    "    strcpy( Book1.title, \"C++ 教程\");\n",
    "    strcpy( Book1.author, \"Runoob\"); \n",
    "    strcpy( Book1.subject, \"编程语言\");\n",
    "    Book1.book_id = 12345;\n",
    "\n",
    "    // Book2 详述\n",
    "    strcpy( Book2.title, \"CSS 教程\");\n",
    "    strcpy( Book2.author, \"Runoob\");\n",
    "    strcpy( Book2.subject, \"前端技术\");\n",
    "    Book2.book_id = 12346;\n",
    "\n",
    "    // 输出 Book1 信息\n",
    "    printBook( Book1 );\n",
    "\n",
    "    // 输出 Book2 信息\n",
    "    printBook( Book2 );\n",
    "}"
   ]
  },
  {
   "cell_type": "markdown",
   "metadata": {},
   "source": [
    "## 指向结构的指针\n",
    "\n",
    "您可以定义指向结构的指针，方式与定义指向其他类型变量的指针相似，如下所示：\n",
    "`struct Books *struct_pointer;`   \n",
    "为了查找结构变量的地址，请把 & 运算符放在结构名称的前面，如下所示：\n",
    "`struct_pointer = &Book1;`   \n",
    "为了使用指向该结构的指针访问结构的成员，您必须使用 -> 运算符，如下所示：\n",
    "`struct_pointer->title;`   "
   ]
  },
  {
   "cell_type": "code",
   "execution_count": 6,
   "metadata": {},
   "outputs": [],
   "source": [
    "// 该函数以结构指针作为参数\n",
    "void printBook( struct Books *book )\n",
    "{\n",
    "   cout << \"书标题  : \" << book->title <<endl;\n",
    "   cout << \"书作者 : \" << book->author <<endl;\n",
    "   cout << \"书类目 : \" << book->subject <<endl;\n",
    "   cout << \"书 ID : \" << book->book_id <<endl;\n",
    "}"
   ]
  },
  {
   "cell_type": "code",
   "execution_count": 7,
   "metadata": {},
   "outputs": [
    {
     "name": "stdout",
     "output_type": "stream",
     "text": [
      "书标题  : C++ 教程\n",
      "书作者 : Runoob\n",
      "书类目 : 编程语言\n",
      "书 ID : 12345\n",
      "书标题  : CSS 教程\n",
      "书作者 : Runoob\n",
      "书类目 : 前端技术\n",
      "书 ID : 12346\n"
     ]
    }
   ],
   "source": [
    "{\n",
    "    Books Book1;        // 定义结构体类型 Books 的变量 Book1\n",
    "    Books Book2;        // 定义结构体类型 Books 的变量 Book2\n",
    "\n",
    "    // Book1 详述\n",
    "    strcpy( Book1.title, \"C++ 教程\");\n",
    "    strcpy( Book1.author, \"Runoob\"); \n",
    "    strcpy( Book1.subject, \"编程语言\");\n",
    "    Book1.book_id = 12345;\n",
    "\n",
    "    // Book2 详述\n",
    "    strcpy( Book2.title, \"CSS 教程\");\n",
    "    strcpy( Book2.author, \"Runoob\");\n",
    "    strcpy( Book2.subject, \"前端技术\");\n",
    "    Book2.book_id = 12346;\n",
    "\n",
    "    // 通过传 Book1 的地址来输出 Book1 信息\n",
    "    printBook( &Book1 );\n",
    "\n",
    "    // 通过传 Book2 的地址来输出 Book2 信息\n",
    "    printBook( &Book2 );\n",
    "}"
   ]
  },
  {
   "cell_type": "markdown",
   "metadata": {},
   "source": [
    "## typedef 关键字\n",
    "\n",
    "下面是一种更简单的定义结构的方式，您可以为创建的类型取一个\"别名\"。例如：\n",
    "```cpp\n",
    "typedef struct Books\n",
    "{\n",
    "   char  title[50];\n",
    "   char  author[50];\n",
    "   char  subject[100];\n",
    "   int   book_id;\n",
    "}Books;\n",
    "```\n",
    "现在，您可以直接使用 Books 来定义 Books 类型的变量，而不需要使用 struct 关键字。下面是实例：\n",
    "```cpp\n",
    "Books Book1, Book2;\n",
    "```\n",
    "您可以使用 typedef 关键字来定义非结构类型，如下所示：\n",
    "```cpp\n",
    "typedef long int *pint32;\n",
    " \n",
    "pint32 x, y, z;\n",
    "```\n",
    "x, y 和 z 都是指向长整型 long int 的指针。"
   ]
  },
  {
   "cell_type": "code",
   "execution_count": null,
   "metadata": {},
   "outputs": [],
   "source": []
  }
 ],
 "metadata": {
  "kernelspec": {
   "display_name": "C++11",
   "language": "C++11",
   "name": "xcpp11"
  },
  "language_info": {
   "codemirror_mode": "text/x-c++src",
   "file_extension": ".cpp",
   "mimetype": "text/x-c++src",
   "name": "c++",
   "version": "11"
  }
 },
 "nbformat": 4,
 "nbformat_minor": 4
}

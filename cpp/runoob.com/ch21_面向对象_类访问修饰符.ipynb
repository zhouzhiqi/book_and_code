{
 "cells": [
  {
   "cell_type": "markdown",
   "metadata": {},
   "source": [
    "# 类访问修饰符\n",
    "\n",
    "数据封装是面向对象编程的一个重要特点，它防止函数直接访问类类型的内部成员。类成员的访问限制是通过在类主体内部对各个区域标记` public、private、protected `来指定的。关键字` public、private、protected `称为访问修饰符。\n",
    "\n",
    "一个类可以有多个` public、protected 或 private `标记区域。每个标记区域在下一个标记区域开始之前或者在遇到类主体结束右括号之前都是有效的。成员和类的默认访问修饰符是` private `。\n",
    "\n",
    "```cpp\n",
    "class Base {\n",
    " \n",
    "   public:\n",
    " \n",
    "  // 公有成员\n",
    " \n",
    "   protected:\n",
    " \n",
    "  // 受保护成员\n",
    " \n",
    "   private:\n",
    " \n",
    "  // 私有成员\n",
    " \n",
    "};\n",
    "```"
   ]
  },
  {
   "cell_type": "markdown",
   "metadata": {},
   "source": [
    "## 公有（public）成员\n",
    "\n",
    "公有成员在程序中类的外部是可访问的。您可以不使用任何成员函数来设置和获取公有变量的值"
   ]
  },
  {
   "cell_type": "code",
   "execution_count": 2,
   "metadata": {},
   "outputs": [],
   "source": [
    "#include <iostream>\n",
    "using namespace std;"
   ]
  },
  {
   "cell_type": "code",
   "execution_count": 4,
   "metadata": {},
   "outputs": [],
   "source": [
    "class Line\n",
    "{\n",
    "    public:\n",
    "        double length;\n",
    "        void setLength( double len )\n",
    "        {\n",
    "            length = len;\n",
    "        }\n",
    "        double getLength( void )\n",
    "        {\n",
    "            return length ;\n",
    "        }\n",
    "};"
   ]
  },
  {
   "cell_type": "code",
   "execution_count": 5,
   "metadata": {},
   "outputs": [
    {
     "name": "stdout",
     "output_type": "stream",
     "text": [
      "Length of line : 6\n",
      "Length of line : 10\n"
     ]
    }
   ],
   "source": [
    "{\n",
    "    Line line;\n",
    "\n",
    "    // 设置长度\n",
    "    line.setLength(6.0); \n",
    "    cout << \"Length of line : \" << line.getLength() <<endl;\n",
    "\n",
    "    // 不使用成员函数设置长度\n",
    "    line.length = 10.0; // OK: 因为 length 是公有的\n",
    "    cout << \"Length of line : \" << line.length <<endl;\n",
    "}"
   ]
  },
  {
   "cell_type": "markdown",
   "metadata": {},
   "source": [
    "## 私有（private）成员\n",
    "私有成员变量或函数在类的外部是不可访问的，甚至是不可查看的。只有`类和友元函数`可以访问私有成员。\n",
    "\n",
    "默认情况下，类的所有成员都是私有的。例如在下面的类中，width 是一个私有成员，这意味着，如果您没有使用任何访问修饰符，类的成员将被假定为私有成员：\n",
    "\n",
    "```cpp\n",
    "class Box\n",
    "{\n",
    "   double width; // 默认是私有变量\n",
    "   public:\n",
    "      double length;\n",
    "      void setWidth( double wid );\n",
    "      double getWidth( void );\n",
    "};\n",
    "```\n",
    "\n",
    "实际操作中，我们一般会在私有区域定义数据，在公有区域定义相关的函数，以便在类的外部也可以调用这些函数"
   ]
  },
  {
   "cell_type": "code",
   "execution_count": 1,
   "metadata": {},
   "outputs": [],
   "source": [
    "#include <iostream>\n",
    "using namespace std;"
   ]
  },
  {
   "cell_type": "code",
   "execution_count": 2,
   "metadata": {},
   "outputs": [],
   "source": [
    "class Box\n",
    "{\n",
    "    public:\n",
    "        double length;\n",
    "        void setWidth( double wid )\n",
    "        {\n",
    "            width = wid;\n",
    "        }\n",
    "        double getWidth( void )\n",
    "        {\n",
    "            return width ;\n",
    "        }\n",
    "\n",
    "    private:\n",
    "        double width;\n",
    "};"
   ]
  },
  {
   "cell_type": "code",
   "execution_count": 3,
   "metadata": {},
   "outputs": [
    {
     "name": "stdout",
     "output_type": "stream",
     "text": [
      "Length of box : 10\n",
      "Width of box : 10\n"
     ]
    }
   ],
   "source": [
    "{\n",
    "    Box box;\n",
    "\n",
    "    // 不使用成员函数设置长度\n",
    "    box.length = 10.0; // OK: 因为 length 是公有的\n",
    "    cout << \"Length of box : \" << box.length <<endl;\n",
    "\n",
    "    // 不使用成员函数设置宽度\n",
    "    // box.width = 10.0; // Error: 因为 width 是私有的\n",
    "    box.setWidth(10.0);  // 使用成员函数设置宽度\n",
    "    cout << \"Width of box : \" << box.getWidth() <<endl;\n",
    "}"
   ]
  },
  {
   "cell_type": "markdown",
   "metadata": {},
   "source": [
    "## 保护（protected）成员\n",
    "\n",
    "保护成员变量或函数与私有成员十分相似，但有一点不同，保护成员在派生类（即子类）中是可访问的。"
   ]
  },
  {
   "cell_type": "code",
   "execution_count": 1,
   "metadata": {},
   "outputs": [],
   "source": [
    "#include <iostream>\n",
    "using namespace std;"
   ]
  },
  {
   "cell_type": "code",
   "execution_count": 3,
   "metadata": {},
   "outputs": [],
   "source": [
    "class Box\n",
    "{\n",
    "    protected:\n",
    "        double width;\n",
    "};\n",
    " \n",
    "class SmallBox:Box // SmallBox 是派生类\n",
    "{\n",
    "    public:\n",
    "        // 子类的成员函数\n",
    "        void setSmallWidth( double wid )\n",
    "        {\n",
    "             width = wid;\n",
    "        }\n",
    "        double getSmallWidth( void )\n",
    "        {\n",
    "             return width ;\n",
    "        }\n",
    "};"
   ]
  },
  {
   "cell_type": "code",
   "execution_count": 4,
   "metadata": {},
   "outputs": [
    {
     "name": "stdout",
     "output_type": "stream",
     "text": [
      "Width of box : 5\n"
     ]
    }
   ],
   "source": [
    "{\n",
    "    SmallBox box;\n",
    "\n",
    "    // 使用成员函数设置宽度\n",
    "    box.setSmallWidth(5.0);\n",
    "    cout << \"Width of box : \"<< box.getSmallWidth() << endl;\n",
    "}"
   ]
  },
  {
   "cell_type": "markdown",
   "metadata": {},
   "source": [
    "## 继承中的特点\n",
    "\n",
    "有public, protected, private三种继承方式，它们相应地改变了基类成员的访问属性。\n",
    "\n",
    "1. public 继承：基类 public 成员，protected 成员，private 成员的访问属性在派生类中分别变成：public, protected, private\n",
    "\n",
    "2. protected 继承：基类 public 成员，protected 成员，private 成员的访问属性在派生类中分别变成：protected, protected, private\n",
    "\n",
    "3. private 继承：基类 public 成员，protected 成员，private 成员的访问属性在派生类中分别变成：private, private, private\n",
    "\n",
    "但无论哪种继承方式，上面两点都没有改变：\n",
    "\n",
    "1. private 成员只能被本类成员（类内）和友元访问，不能被派生类访问；\n",
    "\n",
    "2. protected 成员可以被派生类访问。"
   ]
  },
  {
   "cell_type": "code",
   "execution_count": 5,
   "metadata": {},
   "outputs": [],
   "source": [
    "#include<iostream>\n",
    "#include<assert.h>\n",
    "using namespace std;"
   ]
  },
  {
   "cell_type": "code",
   "execution_count": 6,
   "metadata": {},
   "outputs": [],
   "source": [
    "class A{\n",
    "    public:\n",
    "        int a;\n",
    "        A(){\n",
    "            a1 = 1;\n",
    "            a2 = 2;\n",
    "            a3 = 3;\n",
    "            a = 4;\n",
    "        }\n",
    "        void fun(){\n",
    "            cout << a << endl;    //正确\n",
    "            cout << a1 << endl;   //正确\n",
    "            cout << a2 << endl;   //正确\n",
    "            cout << a3 << endl;   //正确\n",
    "        }\n",
    "    public:\n",
    "        int a1;\n",
    "    protected:\n",
    "        int a2;\n",
    "    private:\n",
    "        int a3;\n",
    "};"
   ]
  },
  {
   "cell_type": "markdown",
   "metadata": {},
   "source": [
    "### public 继承"
   ]
  },
  {
   "cell_type": "code",
   "execution_count": 7,
   "metadata": {},
   "outputs": [
    {
     "name": "stderr",
     "output_type": "stream",
     "text": [
      "\u001b[1minput_line_15:12:21: \u001b[0m\u001b[0;1;31merror: \u001b[0m\u001b[1m'a3' is a private member of 'A'\u001b[0m\n",
      "            cout << a3 << endl;       //错误，基类的private成员不能被派生类访问。\n",
      "\u001b[0;1;32m                    ^\n",
      "\u001b[0m\u001b[1minput_line_14:21:13: \u001b[0m\u001b[0;1;30mnote: \u001b[0mdeclared private here\u001b[0m\n",
      "        int a3;\n",
      "\u001b[0;1;32m            ^\n",
      "\u001b[0m"
     ]
    },
    {
     "ename": "Interpreter Error",
     "evalue": "",
     "output_type": "error",
     "traceback": [
      "Interpreter Error: "
     ]
    }
   ],
   "source": [
    "class B : public A{\n",
    "    public:\n",
    "        int a;\n",
    "        B(int i){\n",
    "            A();\n",
    "            a = i;\n",
    "        }\n",
    "        void fun(){\n",
    "            cout << a << endl;       //正确，public成员\n",
    "            cout << a1 << endl;       //正确，基类的public成员，在派生类中仍是public成员。\n",
    "            cout << a2 << endl;       //正确，基类的protected成员，在派生类中仍是protected可以被派生类访问。\n",
    "            cout << a3 << endl;       //错误，基类的private成员不能被派生类访问。\n",
    "        }\n",
    "};"
   ]
  },
  {
   "cell_type": "code",
   "execution_count": null,
   "metadata": {},
   "outputs": [],
   "source": [
    "{\n",
    "    B b(10);\n",
    "    cout << b.a << endl;\n",
    "    cout << b.a1 << endl;   //正确\n",
    "    cout << b.a2 << endl;   //错误，类外不能访问protected成员\n",
    "    cout << b.a3 << endl;   //错误，类外不能访问private成员\n",
    "    system(\"pause\");\n",
    "}"
   ]
  },
  {
   "cell_type": "markdown",
   "metadata": {},
   "source": [
    "### protected 继承"
   ]
  },
  {
   "cell_type": "code",
   "execution_count": 8,
   "metadata": {},
   "outputs": [
    {
     "name": "stderr",
     "output_type": "stream",
     "text": [
      "\u001b[1minput_line_16:12:21: \u001b[0m\u001b[0;1;31merror: \u001b[0m\u001b[1m'a3' is a private member of 'A'\u001b[0m\n",
      "            cout << a3 << endl;       //错误，基类的private成员不能被派生类访问。\n",
      "\u001b[0;1;32m                    ^\n",
      "\u001b[0m\u001b[1minput_line_14:21:13: \u001b[0m\u001b[0;1;30mnote: \u001b[0mdeclared private here\u001b[0m\n",
      "        int a3;\n",
      "\u001b[0;1;32m            ^\n",
      "\u001b[0m"
     ]
    },
    {
     "ename": "Interpreter Error",
     "evalue": "",
     "output_type": "error",
     "traceback": [
      "Interpreter Error: "
     ]
    }
   ],
   "source": [
    "class B : protected A{\n",
    "    public:\n",
    "        int a;\n",
    "        B(int i){\n",
    "            A();\n",
    "            a = i;\n",
    "        }\n",
    "        void fun(){\n",
    "            cout << a << endl;       //正确，public成员。\n",
    "            cout << a1 << endl;       //正确，基类的public成员，在派生类中变成了protected，可以被派生类访问。\n",
    "            cout << a2 << endl;       //正确，基类的protected成员，在派生类中还是protected，可以被派生类访问。\n",
    "            cout << a3 << endl;       //错误，基类的private成员不能被派生类访问。\n",
    "        }\n",
    "};"
   ]
  },
  {
   "cell_type": "code",
   "execution_count": null,
   "metadata": {},
   "outputs": [],
   "source": [
    "{\n",
    "    B b(10);\n",
    "    cout << b.a << endl;       //正确。public成员\n",
    "    cout << b.a1 << endl;      //错误，protected成员不能在类外访问。\n",
    "    cout << b.a2 << endl;      //错误，protected成员不能在类外访问。\n",
    "    cout << b.a3 << endl;      //错误，private成员不能在类外访问。\n",
    "    system(\"pause\");\n",
    "}"
   ]
  },
  {
   "cell_type": "markdown",
   "metadata": {},
   "source": [
    "### private 继承"
   ]
  },
  {
   "cell_type": "code",
   "execution_count": 10,
   "metadata": {},
   "outputs": [
    {
     "name": "stderr",
     "output_type": "stream",
     "text": [
      "\u001b[1minput_line_18:12:21: \u001b[0m\u001b[0;1;31merror: \u001b[0m\u001b[1m'a3' is a private member of 'A'\u001b[0m\n",
      "            cout << a3 << endl;       //错误，基类的private成员不能被派生类访问。\n",
      "\u001b[0;1;32m                    ^\n",
      "\u001b[0m\u001b[1minput_line_14:21:13: \u001b[0m\u001b[0;1;30mnote: \u001b[0mdeclared private here\u001b[0m\n",
      "        int a3;\n",
      "\u001b[0;1;32m            ^\n",
      "\u001b[0m"
     ]
    },
    {
     "ename": "Interpreter Error",
     "evalue": "",
     "output_type": "error",
     "traceback": [
      "Interpreter Error: "
     ]
    }
   ],
   "source": [
    "class B : private A{\n",
    "    public:\n",
    "        int a;\n",
    "        B(int i){\n",
    "            A();\n",
    "            a = i;\n",
    "        }\n",
    "        void fun(){\n",
    "            cout << a << endl;       //正确，public成员。\n",
    "            cout << a1 << endl;       //正确，基类public成员,在派生类中变成了private,可以被派生类访问。\n",
    "            cout << a2 << endl;       //正确，基类的protected成员，在派生类中变成了private,可以被派生类访问。\n",
    "            cout << a3 << endl;       //错误，基类的private成员不能被派生类访问。\n",
    "        }\n",
    "};"
   ]
  },
  {
   "cell_type": "code",
   "execution_count": null,
   "metadata": {},
   "outputs": [],
   "source": [
    "{\n",
    "    B b(10);\n",
    "    cout << b.a << endl;       //正确。public成员\n",
    "    cout << b.a1 << endl;      //错误，private成员不能在类外访问。\n",
    "    cout << b.a2 << endl;      //错误, private成员不能在类外访问。\n",
    "    cout << b.a3 << endl;      //错误，private成员不能在类外访问。\n",
    "    system(\"pause\");\n",
    "}"
   ]
  },
  {
   "cell_type": "markdown",
   "metadata": {},
   "source": [
    "继承方式\t基类的public成员\t基类的protected成员\t基类的private成员\t继承引起的访问控制关系变化概括   \n",
    "public继承\t仍为public成员\t仍为protected成员\t不可见\t基类的非私有成员在子类的访问属性不变   \n",
    "protected继承\t变为protected成员\t变为protected成员\t不可见\t基类的非私有成员都为子类的保护成员   \n",
    "private继承\t变为private成员\t变为private成员\t不可见\t基类中的非私有成员都称为子类的私有成员   "
   ]
  },
  {
   "cell_type": "code",
   "execution_count": null,
   "metadata": {},
   "outputs": [],
   "source": []
  }
 ],
 "metadata": {
  "kernelspec": {
   "display_name": "C++11",
   "language": "C++11",
   "name": "xcpp11"
  },
  "language_info": {
   "codemirror_mode": "text/x-c++src",
   "file_extension": ".cpp",
   "mimetype": "text/x-c++src",
   "name": "c++",
   "version": "11"
  }
 },
 "nbformat": 4,
 "nbformat_minor": 4
}

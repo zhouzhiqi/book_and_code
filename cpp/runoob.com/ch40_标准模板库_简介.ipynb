{
 "cells": [
  {
   "cell_type": "markdown",
   "metadata": {},
   "source": [
    "# STL 教程\n",
    "\n",
    "在前面的章节中，我们已经学习了 C++ 模板的概念。C++ STL（标准模板库）是一套功能强大的 C++ 模板类，提供了通用的模板类和函数，这些模板类和函数可以实现多种流行和常用的算法和数据结构，如向量、链表、队列、栈。"
   ]
  },
  {
   "cell_type": "markdown",
   "metadata": {},
   "source": [
    "C++ 标准模板库的核心包括以下三个组件：\n",
    "\n",
    "    组件\t描述\n",
    "    容器（Containers）\t容器是用来管理某一类对象的集合。C++ 提供了各种不同类型的容器，比如 deque、list、vector、map 等。\n",
    "    算法（Algorithms）\t算法作用于容器。它们提供了执行各种操作的方式，包括对容器内容执行初始化、排序、搜索和转换等操作。\n",
    "    迭代器（iterators）\t迭代器用于遍历对象集合的元素。这些集合可能是容器，也可能是容器的子集。\n",
    "    \n",
    "这三个组件都带有丰富的预定义函数，帮助我们通过简单的方式处理复杂的任务。"
   ]
  },
  {
   "cell_type": "code",
   "execution_count": 1,
   "metadata": {},
   "outputs": [],
   "source": [
    "#include <iostream>\n",
    "#include <vector>\n",
    "using namespace std;"
   ]
  },
  {
   "cell_type": "code",
   "execution_count": 2,
   "metadata": {},
   "outputs": [
    {
     "name": "stdout",
     "output_type": "stream",
     "text": [
      "vector size = 0\n",
      "extended vector size = 5\n",
      "value of vec [0] = 0\n",
      "value of vec [1] = 1\n",
      "value of vec [2] = 2\n",
      "value of vec [3] = 3\n",
      "value of vec [4] = 4\n",
      "value of v = 0\n",
      "value of v = 1\n",
      "value of v = 2\n",
      "value of v = 3\n",
      "value of v = 4\n"
     ]
    }
   ],
   "source": [
    "{\n",
    "   // 创建一个向量存储 int\n",
    "   vector<int> vec; \n",
    "   int i;\n",
    " \n",
    "   // 显示 vec 的原始大小\n",
    "   cout << \"vector size = \" << vec.size() << endl;\n",
    " \n",
    "   // 推入 5 个值到向量中\n",
    "   for(i = 0; i < 5; i++){\n",
    "      vec.push_back(i);\n",
    "   }\n",
    " \n",
    "   // 显示 vec 扩展后的大小\n",
    "   cout << \"extended vector size = \" << vec.size() << endl;\n",
    " \n",
    "   // 访问向量中的 5 个值\n",
    "   for(i = 0; i < 5; i++){\n",
    "      cout << \"value of vec [\" << i << \"] = \" << vec[i] << endl;\n",
    "   }\n",
    " \n",
    "   // 使用迭代器 iterator 访问值\n",
    "   vector<int>::iterator v = vec.begin();\n",
    "   while( v != vec.end()) {\n",
    "      cout << \"value of v = \" << *v << endl;\n",
    "      v++;\n",
    "   }\n",
    "}"
   ]
  },
  {
   "cell_type": "markdown",
   "metadata": {},
   "source": [
    "关于上面实例中所使用的各种函数，有几点要注意：\n",
    "\n",
    "* push_back( ) 成员函数在向量的末尾插入值，如果有必要会扩展向量的大小。\n",
    "* size( ) 函数显示向量的大小。\n",
    "* begin( ) 函数返回一个指向向量开头的迭代器。\n",
    "* end( ) 函数返回一个指向向量末尾的迭代器。"
   ]
  },
  {
   "cell_type": "markdown",
   "metadata": {},
   "source": [
    "# C++ 标准库"
   ]
  },
  {
   "cell_type": "markdown",
   "metadata": {},
   "source": [
    "## C++ 标准库可以分为两部分：\n",
    "\n",
    "* 标准函数库： 这个库是由通用的、独立的、不属于任何类的函数组成的。函数库继承自 C 语言。\n",
    "* 面向对象类库： 这个库是类及其相关函数的集合。\n",
    "\n",
    "C++ 标准库包含了所有的 C 标准库，为了支持类型安全，做了一定的添加和修改。"
   ]
  },
  {
   "cell_type": "markdown",
   "metadata": {},
   "source": [
    "## 标准函数库\n",
    "标准函数库分为以下几类：\n",
    "\n",
    "输入/输出 I/O\n",
    "字符串和字符处理\n",
    "数学\n",
    "时间、日期和本地化\n",
    "动态分配\n",
    "其他\n",
    "宽字符函数\n",
    "面向对象类库\n",
    "标准的 C++ 面向对象类库定义了大量支持一些常见操作的类，比如输入/输出 I/O、字符串处理、数值处理。面向对象类库包含以下内容："
   ]
  },
  {
   "cell_type": "markdown",
   "metadata": {},
   "source": [
    "## 标准的 C++ I/O 类\n",
    "String 类\n",
    "数值类\n",
    "STL 容器类\n",
    "STL 算法\n",
    "STL 函数对象\n",
    "STL 迭代器\n",
    "STL 分配器\n",
    "本地化库\n",
    "异常处理类\n",
    "杂项支持库"
   ]
  },
  {
   "cell_type": "code",
   "execution_count": null,
   "metadata": {},
   "outputs": [],
   "source": []
  }
 ],
 "metadata": {
  "kernelspec": {
   "display_name": "C++11",
   "language": "C++11",
   "name": "xcpp11"
  },
  "language_info": {
   "codemirror_mode": "text/x-c++src",
   "file_extension": ".cpp",
   "mimetype": "text/x-c++src",
   "name": "c++",
   "version": "11"
  }
 },
 "nbformat": 4,
 "nbformat_minor": 4
}

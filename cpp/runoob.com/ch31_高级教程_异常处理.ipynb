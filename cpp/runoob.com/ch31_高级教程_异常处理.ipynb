{
 "cells": [
  {
   "cell_type": "markdown",
   "metadata": {},
   "source": [
    "# 异常处理\n",
    "异常是程序在执行期间产生的问题。C++ 异常是指在程序运行时发生的特殊情况，比如尝试除以零的操作。\n",
    "\n",
    "异常提供了一种转移程序控制权的方式。C++ 异常处理涉及到三个关键字：try、catch、throw。\n",
    "\n",
    "* throw: 当问题出现时，程序会抛出一个异常。这是通过使用 throw 关键字来完成的。\n",
    "* catch: 在您想要处理问题的地方，通过异常处理程序捕获异常。catch 关键字用于捕获异常。\n",
    "* try: try 块中的代码标识将被激活的特定异常。它后面通常跟着一个或多个 catch 块。"
   ]
  },
  {
   "cell_type": "markdown",
   "metadata": {},
   "source": [
    "如果有一个块抛出一个异常，捕获异常的方法会使用 try 和 catch 关键字。try 块中放置可能抛出异常的代码，try 块中的代码被称为保护代码。使用 try/catch 语句的语法如下所示：\n",
    "```cpp\n",
    "try\n",
    "{\n",
    "   // 保护代码\n",
    "}catch( ExceptionName e1 )\n",
    "{\n",
    "   // catch 块\n",
    "}catch( ExceptionName e2 )\n",
    "{\n",
    "   // catch 块\n",
    "}catch( ExceptionName eN )\n",
    "{\n",
    "   // catch 块\n",
    "}\n",
    "```\n",
    "\n",
    "如果 try 块在不同的情境下会抛出不同的异常，这个时候可以尝试罗列多个 catch 语句，用于捕获不同类型的异常。"
   ]
  },
  {
   "cell_type": "markdown",
   "metadata": {},
   "source": [
    "## 抛出异常\n",
    "您可以使用 throw 语句在代码块中的任何地方抛出异常。throw 语句的操作数可以是任意的表达式，表达式的结果的类型决定了抛出的异常的类型。\n",
    "\n",
    "以下是尝试除以零时抛出异常的实例：\n",
    "```cpp\n",
    "double division(int a, int b)\n",
    "{\n",
    "   if( b == 0 )\n",
    "   {\n",
    "      throw \"Division by zero condition!\";\n",
    "   }\n",
    "   return (a/b);\n",
    "}\n",
    "```"
   ]
  },
  {
   "cell_type": "markdown",
   "metadata": {},
   "source": [
    "## 捕获异常\n",
    "catch 块跟在 try 块后面，用于捕获异常。您可以指定想要捕捉的异常类型，这是由 catch 关键字后的括号内的异常声明决定的。\n",
    "```cpp\n",
    "try\n",
    "{\n",
    "   // 保护代码\n",
    "}catch( ExceptionName e )\n",
    "{\n",
    "  // 处理 ExceptionName 异常的代码\n",
    "}\n",
    "```\n",
    "上面的代码会捕获一个类型为 ExceptionName 的异常。如果您想让 catch 块能够处理 try 块抛出的任何类型的异常，则必须在异常声明的括号内使用省略号 ...，如下所示：\n",
    "```cpp\n",
    "try\n",
    "{\n",
    "   // 保护代码\n",
    "}catch(...)\n",
    "{\n",
    "  // 能处理任何异常的代码\n",
    "}\n",
    "```"
   ]
  },
  {
   "cell_type": "code",
   "execution_count": 1,
   "metadata": {},
   "outputs": [],
   "source": [
    "#include <iostream>\n",
    "using namespace std;"
   ]
  },
  {
   "cell_type": "code",
   "execution_count": 2,
   "metadata": {},
   "outputs": [],
   "source": [
    "double division(int a, int b)\n",
    "{\n",
    "   if( b == 0 )\n",
    "   {\n",
    "      throw \"Division by zero condition!\";\n",
    "   }\n",
    "   return (a/b);\n",
    "}"
   ]
  },
  {
   "cell_type": "code",
   "execution_count": 3,
   "metadata": {},
   "outputs": [
    {
     "name": "stderr",
     "output_type": "stream",
     "text": [
      "Division by zero condition!\n"
     ]
    }
   ],
   "source": [
    "{\n",
    "   int x = 50;\n",
    "   int y = 0;\n",
    "   double z = 0;\n",
    " \n",
    "   try {\n",
    "     z = division(x, y);\n",
    "     cout << z << endl;\n",
    "   }catch (const char* msg) {\n",
    "     cerr << msg << endl;\n",
    "   }\n",
    "}"
   ]
  },
  {
   "cell_type": "markdown",
   "metadata": {},
   "source": [
    "## C++ 标准的异常\n",
    "C++ 提供了一系列标准的异常，定义在 <exception> 中，我们可以在程序中使用这些标准的异常。它们是以父子类层次结构组织起来的\n",
    "```\n",
    "异常\t描述\n",
    "std::exception\t该异常是所有标准 C++ 异常的父类。\n",
    "std::bad_alloc\t该异常可以通过 new 抛出。\n",
    "std::bad_cast\t该异常可以通过 dynamic_cast 抛出。\n",
    "std::bad_exception\t这在处理 C++ 程序中无法预期的异常时非常有用。\n",
    "std::bad_typeid\t该异常可以通过 typeid 抛出。\n",
    "std::logic_error\t理论上可以通过读取代码来检测到的异常。\n",
    "std::domain_error\t当使用了一个无效的数学域时，会抛出该异常。\n",
    "std::invalid_argument\t当使用了无效的参数时，会抛出该异常。\n",
    "std::length_error\t当创建了太长的 std::string 时，会抛出该异常。\n",
    "std::out_of_range\t该异常可以通过方法抛出，例如 std::vector 和 std::bitset<>::operator[]()。\n",
    "std::runtime_error\t理论上不可以通过读取代码来检测到的异常。\n",
    "std::overflow_error\t当发生数学上溢时，会抛出该异常。\n",
    "std::range_error\t当尝试存储超出范围的值时，会抛出该异常。\n",
    "std::underflow_error\t当发生数学下溢时，会抛出该异常。\n",
    "```"
   ]
  },
  {
   "cell_type": "markdown",
   "metadata": {},
   "source": [
    "## 定义新的异常\n",
    "\n",
    "您可以通过继承和重载 exception 类来定义新的异常。下面的实例演示了如何使用 std::exception 类来实现自己的异常："
   ]
  },
  {
   "cell_type": "code",
   "execution_count": 1,
   "metadata": {},
   "outputs": [],
   "source": [
    "#include <iostream>\n",
    "#include <exception>\n",
    "using namespace std;"
   ]
  },
  {
   "cell_type": "code",
   "execution_count": 2,
   "metadata": {},
   "outputs": [],
   "source": [
    "struct MyException : public exception\n",
    "{\n",
    "  const char * what () const throw ()\n",
    "  {\n",
    "    return \"C++ Exception\";\n",
    "  }\n",
    "};"
   ]
  },
  {
   "cell_type": "code",
   "execution_count": 3,
   "metadata": {},
   "outputs": [
    {
     "name": "stdout",
     "output_type": "stream",
     "text": [
      "MyException caught\n",
      "C++ Exception\n"
     ]
    }
   ],
   "source": [
    "{\n",
    "    try\n",
    "    {\n",
    "        throw MyException();\n",
    "    }\n",
    "    catch(MyException& e)\n",
    "    {\n",
    "        std::cout << \"MyException caught\" << std::endl;\n",
    "        // what() 是异常类提供的一个公共方法，它已被所有子异常类重载。这将返回异常产生的原因。\n",
    "        std::cout << e.what() << std::endl;\n",
    "    }\n",
    "    catch(std::exception& e)\n",
    "    {\n",
    "        //其他的错误\n",
    "    }\n",
    "}"
   ]
  }
 ],
 "metadata": {
  "kernelspec": {
   "display_name": "C++11",
   "language": "C++11",
   "name": "xcpp11"
  },
  "language_info": {
   "codemirror_mode": "text/x-c++src",
   "file_extension": ".cpp",
   "mimetype": "text/x-c++src",
   "name": "c++",
   "version": "11"
  }
 },
 "nbformat": 4,
 "nbformat_minor": 4
}

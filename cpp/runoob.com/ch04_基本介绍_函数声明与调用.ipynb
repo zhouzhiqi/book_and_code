{
 "cells": [
  {
   "cell_type": "markdown",
   "metadata": {},
   "source": [
    "# 函数"
   ]
  },
  {
   "cell_type": "markdown",
   "metadata": {},
   "source": [
    "## 函数声明\n",
    "\n",
    "```cpp\n",
    "// 返回类型   函数名称     参数列表\n",
    "return_type function_name( parameter list )\n",
    "```"
   ]
  },
  {
   "cell_type": "markdown",
   "metadata": {},
   "source": [
    "## 函数定义\n",
    "\n",
    "```cpp\n",
    "// 返回类型   函数名称     参数列表\n",
    "return_type function_name( parameter list )\n",
    "{\n",
    "    // 函数主体\n",
    "    body of the function\n",
    "}\n",
    "```"
   ]
  },
  {
   "cell_type": "markdown",
   "metadata": {},
   "source": [
    "返回类型：一个函数可以返回一个值。return_type 是函数返回的值的数据类型。有些函数执行所需的操作而不返回值，在这种情况下，return_type 是关键字 void。   \n",
    "函数名称：这是函数的实际名称。函数名和参数列表一起构成了函数签名。   \n",
    "参数：参数就像是占位符。当函数被调用时，您向参数传递一个值，这个值被称为实际参数。参数列表包括函数参数的类型、顺序、数量。参数是可选的，也就是说，函数可能不包含参数。   \n",
    "函数主体：函数主体包含一组定义函数执行任务的语句。"
   ]
  },
  {
   "cell_type": "markdown",
   "metadata": {},
   "source": [
    "函数使用之前必须先声明或定义, 如:\n",
    "> 定义函数 -> 使用函数   \n",
    "> 声明函数 -> 使用函数 -> 定义函数"
   ]
  },
  {
   "cell_type": "code",
   "execution_count": 1,
   "metadata": {},
   "outputs": [],
   "source": [
    "#include <iostream>\n",
    "using namespace std;"
   ]
  },
  {
   "cell_type": "code",
   "execution_count": 2,
   "metadata": {},
   "outputs": [],
   "source": [
    "// 函数声明\n",
    "// int max_test(int num1, int num2);\n",
    " \n",
    "// 函数返回两个数中较大的那个数\n",
    "int max_test(int num1, int num2) \n",
    "{\n",
    "    // 局部变量声明\n",
    "    int result;\n",
    "\n",
    "    if (num1 > num2)\n",
    "      result = num1;\n",
    "    else\n",
    "      result = num2;\n",
    "\n",
    "    return result; \n",
    "}"
   ]
  },
  {
   "cell_type": "code",
   "execution_count": 3,
   "metadata": {},
   "outputs": [
    {
     "name": "stdout",
     "output_type": "stream",
     "text": [
      "Max value is : 200\n"
     ]
    }
   ],
   "source": [
    "{\n",
    "    // 局部变量声明\n",
    "    int a = 100;\n",
    "    int b = 200;\n",
    "    int ret;\n",
    "\n",
    "    // 调用函数来获取最大值\n",
    "    ret = max_test(a, b);\n",
    "\n",
    "    cout << \"Max value is : \" << ret << endl;\n",
    "}"
   ]
  },
  {
   "cell_type": "markdown",
   "metadata": {},
   "source": [
    "## 函数参数 - 传值调用\n",
    "\n",
    "向函数传递参数的传值调用方法，把参数的实际值复制给函数的形式参数。在这种情况下，修改函数内的形式参数不会影响实际参数。\n",
    "\n",
    "默认情况下，C++ 使用传值调用方法来传递参数。一般来说，这意味着函数内的代码不会改变用于调用函数的实际参数。"
   ]
  },
  {
   "cell_type": "code",
   "execution_count": 4,
   "metadata": {},
   "outputs": [
    {
     "name": "stdout",
     "output_type": "stream",
     "text": [
      "交换前，a 的值：100\n",
      "交换前，b 的值：200\n",
      "交换后，a 的值：100\n",
      "交换后，b 的值：200\n"
     ]
    }
   ],
   "source": [
    "// 函数定义\n",
    "void swap(int x, int y)\n",
    "{\n",
    "    int temp;\n",
    "\n",
    "    temp = x; /* 保存 x 的值 */\n",
    "    x = y;    /* 把 y 赋值给 x */\n",
    "    y = temp; /* 把 x 赋值给 y */\n",
    "\n",
    "    return;\n",
    "}\n",
    "{\n",
    "    // 局部变量声明\n",
    "    int a = 100;\n",
    "    int b = 200;\n",
    "\n",
    "    cout << \"交换前，a 的值：\" << a << endl;\n",
    "    cout << \"交换前，b 的值：\" << b << endl;\n",
    "\n",
    "    // 调用函数来交换值\n",
    "    swap(a, b);\n",
    "\n",
    "    cout << \"交换后，a 的值：\" << a << endl;\n",
    "    cout << \"交换后，b 的值：\" << b << endl;\n",
    "}"
   ]
  },
  {
   "cell_type": "markdown",
   "metadata": {},
   "source": [
    "## 函数参数 - 指针调用\n",
    "\n",
    "向函数传递参数的指针调用方法，把参数的地址复制给形式参数。在函数内，该地址用于访问调用中要用到的实际参数。这意味着，修改形式参数会影响实际参数。\n",
    "\n",
    "按指针传递值，参数指针被传递给函数，就像传递其他值给函数一样。因此相应地，在下面的函数 swap() 中，您需要声明函数参数为指针类型，该函数用于交换参数所指向的两个整数变量的值。"
   ]
  },
  {
   "cell_type": "code",
   "execution_count": 5,
   "metadata": {},
   "outputs": [
    {
     "name": "stdout",
     "output_type": "stream",
     "text": [
      "交换前，a 的值：100\n",
      "交换前，b 的值：200\n",
      "交换后，a 的值：200\n",
      "交换后，b 的值：100\n"
     ]
    }
   ],
   "source": [
    "// 函数定义\n",
    "void swap(int *x, int *y)\n",
    "{\n",
    "    int temp;\n",
    "    temp = *x;    /* 保存地址 x 的值 */\n",
    "    *x = *y;        /* 把 y 赋值给 x */\n",
    "    *y = temp;    /* 把 x 赋值给 y */\n",
    "\n",
    "    return;\n",
    "}\n",
    "{\n",
    "    // 局部变量声明\n",
    "    int a = 100;\n",
    "    int b = 200;\n",
    "\n",
    "    cout << \"交换前，a 的值：\" << a << endl;\n",
    "    cout << \"交换前，b 的值：\" << b << endl;\n",
    "\n",
    "    /* 调用函数来交换值\n",
    "    * &a 表示指向 a 的指针，即变量 a 的地址 \n",
    "    * &b 表示指向 b 的指针，即变量 b 的地址 \n",
    "    */\n",
    "    swap(&a, &b);\n",
    "\n",
    "    cout << \"交换后，a 的值：\" << a << endl;\n",
    "    cout << \"交换后，b 的值：\" << b << endl;\n",
    "}"
   ]
  },
  {
   "cell_type": "markdown",
   "metadata": {},
   "source": [
    "## 函数参数 - 引用调用\n",
    "\n",
    "向函数传递参数的引用调用方法，把引用的地址复制给形式参数。在函数内，该引用用于访问调用中要用到的实际参数。这意味着，修改形式参数会影响实际参数。\n",
    "\n",
    "按引用传递值，参数引用被传递给函数，就像传递其他值给函数一样。因此相应地，在下面的函数 swap() 中，您需要声明函数参数为引用类型，该函数用于交换参数所指向的两个整数变量的值。"
   ]
  },
  {
   "cell_type": "code",
   "execution_count": 2,
   "metadata": {},
   "outputs": [
    {
     "name": "stdout",
     "output_type": "stream",
     "text": [
      "交换前，a 的值：100\n",
      "交换前，b 的值：200\n",
      "交换后，a 的值：200\n",
      "交换后，b 的值：100\n"
     ]
    }
   ],
   "source": [
    "// 函数定义\n",
    "void swap(int &x, int &y)\n",
    "{\n",
    "    int temp;\n",
    "    temp = x; /* 保存地址 x 的值 */\n",
    "    x = y;    /* 把 y 赋值给 x */\n",
    "    y = temp; /* 把 x 赋值给 y  */\n",
    "\n",
    "    return;\n",
    "}\n",
    "{\n",
    "    // 局部变量声明\n",
    "    int a = 100;\n",
    "    int b = 200;\n",
    "\n",
    "    cout << \"交换前，a 的值：\" << a << endl;\n",
    "    cout << \"交换前，b 的值：\" << b << endl;\n",
    "\n",
    "    /* 调用函数来交换值 */\n",
    "    swap(a, b);\n",
    "\n",
    "    cout << \"交换后，a 的值：\" << a << endl;\n",
    "    cout << \"交换后，b 的值：\" << b << endl;\n",
    "}"
   ]
  },
  {
   "cell_type": "markdown",
   "metadata": {},
   "source": [
    "## 参数的默认值"
   ]
  },
  {
   "cell_type": "code",
   "execution_count": 3,
   "metadata": {},
   "outputs": [
    {
     "name": "stdout",
     "output_type": "stream",
     "text": [
      "Total value is :300\n",
      "Total value is :120\n"
     ]
    }
   ],
   "source": [
    "int sum(int a, int b=20)\n",
    "{\n",
    "    int result;\n",
    "\n",
    "    result = a + b;\n",
    "\n",
    "    return result;\n",
    "}\n",
    "\n",
    "{\n",
    "    // 局部变量声明\n",
    "    int a = 100;\n",
    "    int b = 200;\n",
    "    int result;\n",
    "\n",
    "    // 调用函数来添加值\n",
    "    result = sum(a, b);\n",
    "    cout << \"Total value is :\" << result << endl;\n",
    "\n",
    "    // 再次调用函数\n",
    "    result = sum(a);\n",
    "    cout << \"Total value is :\" << result << endl;\n",
    "}"
   ]
  },
  {
   "cell_type": "markdown",
   "metadata": {},
   "source": [
    "## Lambda 函数与表达式\n",
    "\n",
    "C++11 提供了对匿名函数的支持,称为 Lambda 函数(也叫 Lambda 表达式)。\n",
    "\n",
    "Lambda 表达式把函数看作对象。Lambda 表达式可以像对象一样使用，比如可以将它们赋给变量和作为参数传递，还可以像函数一样对其求值。\n",
    "\n",
    "Lambda 表达式本质上与函数声明非常类似。"
   ]
  },
  {
   "cell_type": "markdown",
   "metadata": {},
   "source": [
    "表达式为:  `[capture](parameters)->return-type{body}`\n",
    "\n",
    "```cpp\n",
    "[](int x, int y){ return x < y ; }\n",
    "[](int x, int y) -> int { int z = x + y; return z + x; }\n",
    "```"
   ]
  },
  {
   "cell_type": "markdown",
   "metadata": {},
   "source": [
    "在Lambda表达式内可以访问当前作用域的变量，这是Lambda表达式的闭包（Closure）行为。 与JavaScript闭包不同，C++变量传递有传值和传引用的区别。可以通过前面的[]来指定：\n",
    "\n",
    "```cpp\n",
    "[]      // 沒有定义任何变量。使用未定义变量会引发错误。   \n",
    "[x, &y] // x以传值方式传入（默认），y以引用方式传入。   \n",
    "[&]     // 任何被使用到的外部变量都隐式地以引用方式加以引用。   \n",
    "[=]     // 任何被使用到的外部变量都隐式地以传值方式加以引用。   \n",
    "[&, x]  // x显式地以传值方式加以引用。其余变量以引用方式加以引用。   \n",
    "[=, &z] // z显式地以引用方式加以引用。其余变量以传值方式加以引用。   \n",
    "```"
   ]
  },
  {
   "cell_type": "markdown",
   "metadata": {},
   "source": [
    "对于[=]或[&]的形式，lambda 表达式可以直接使用 this 指针。但是，对于[]的形式，如果要使用 this 指针，必须显式传入：\n",
    "\n",
    "`[this]() { this->someFunc(); }();`"
   ]
  },
  {
   "cell_type": "code",
   "execution_count": null,
   "metadata": {},
   "outputs": [],
   "source": []
  }
 ],
 "metadata": {
  "kernelspec": {
   "display_name": "C++11",
   "language": "C++11",
   "name": "xcpp11"
  },
  "language_info": {
   "codemirror_mode": "text/x-c++src",
   "file_extension": ".cpp",
   "mimetype": "text/x-c++src",
   "name": "c++",
   "version": "11"
  }
 },
 "nbformat": 4,
 "nbformat_minor": 4
}

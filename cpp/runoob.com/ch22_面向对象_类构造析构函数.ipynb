{
 "cells": [
  {
   "cell_type": "markdown",
   "metadata": {},
   "source": [
    "# 类的构造函数\n",
    "\n",
    "类的构造函数是类的一种特殊的成员函数，它会在每次创建类的新对象时执行。\n",
    "\n",
    "构造函数的名称与类的名称是完全相同的，并且不会返回任何类型，也不会返回 void。构造函数可用于为某些成员变量设置初始值。"
   ]
  },
  {
   "cell_type": "code",
   "execution_count": 1,
   "metadata": {},
   "outputs": [],
   "source": [
    "#include <iostream>\n",
    "using namespace std;"
   ]
  },
  {
   "cell_type": "code",
   "execution_count": 5,
   "metadata": {},
   "outputs": [],
   "source": [
    "class Line\n",
    "{\n",
    "    public:\n",
    "        void setLength( double len )\n",
    "        {\n",
    "             length = len;\n",
    "        }\n",
    "        double getLength( void )\n",
    "        {\n",
    "             return length;\n",
    "        }\n",
    "        Line()  // 这是构造函数\n",
    "        // 成员函数定义，包括构造函数\n",
    "        {\n",
    "             cout << \"Object is being created\" << endl;\n",
    "        }\n",
    "    private:\n",
    "        double length;\n",
    "};"
   ]
  },
  {
   "cell_type": "code",
   "execution_count": 6,
   "metadata": {},
   "outputs": [
    {
     "name": "stdout",
     "output_type": "stream",
     "text": [
      "Object is being created\n",
      "Length of line : 6\n"
     ]
    }
   ],
   "source": [
    "{\n",
    "    Line line;\n",
    "\n",
    "    // 设置长度\n",
    "    line.setLength(6.0); \n",
    "    cout << \"Length of line : \" << line.getLength() <<endl;\n",
    "}"
   ]
  },
  {
   "cell_type": "markdown",
   "metadata": {},
   "source": [
    "## 带参数的构造函数\n",
    "\n",
    "默认的构造函数没有任何参数，但如果需要，构造函数也可以带有参数。这样在创建对象时就会给对象赋初始值"
   ]
  },
  {
   "cell_type": "code",
   "execution_count": 1,
   "metadata": {},
   "outputs": [],
   "source": [
    "#include <iostream>\n",
    "using namespace std;"
   ]
  },
  {
   "cell_type": "code",
   "execution_count": 2,
   "metadata": {},
   "outputs": [],
   "source": [
    "class Line\n",
    "{\n",
    "    public:\n",
    "        void setLength( double len )\n",
    "        {\n",
    "             length = len;\n",
    "        }\n",
    "        double getLength( void )\n",
    "        {\n",
    "             return length;\n",
    "        }\n",
    "        Line(double len)  // 这是构造函数\n",
    "        // 成员函数定义，包括构造函数\n",
    "        {\n",
    "             cout << \"Object is being created, length = \" << len << endl;\n",
    "             length = len;\n",
    "        }\n",
    "    private:\n",
    "        double length;\n",
    "};"
   ]
  },
  {
   "cell_type": "code",
   "execution_count": 3,
   "metadata": {},
   "outputs": [
    {
     "name": "stdout",
     "output_type": "stream",
     "text": [
      "Object is being created, length = 10\n",
      "Length of line : 10\n",
      "Length of line : 6\n"
     ]
    }
   ],
   "source": [
    "{\n",
    "    Line line(10.0);\n",
    "\n",
    "    // 获取默认设置的长度\n",
    "    cout << \"Length of line : \" << line.getLength() <<endl;\n",
    "    // 再次设置长度\n",
    "    line.setLength(6.0); \n",
    "    cout << \"Length of line : \" << line.getLength() <<endl;\n",
    "}"
   ]
  },
  {
   "cell_type": "markdown",
   "metadata": {},
   "source": [
    "## 使用初始化列表来初始化字段\n",
    "\n",
    "```cpp\n",
    "Line::Line( double len): length(len)\n",
    "{\n",
    "    cout << \"Object is being created, length = \" << len << endl;\n",
    "}\n",
    "//  上面的语法等同于如下语法\n",
    "{\n",
    "    length = len;\n",
    "    cout << \"Object is being created, length = \" << len << endl;\n",
    "}\n",
    "```"
   ]
  },
  {
   "cell_type": "markdown",
   "metadata": {},
   "source": [
    "## 类的析构函数\n",
    "\n",
    "类的析构函数是类的一种特殊的成员函数，它会在每次删除所创建的对象时执行。\n",
    "\n",
    "析构函数的名称与类的名称是完全相同的，只是在前面加了个波浪号（~）作为前缀，它不会返回任何值，也不能带有任何参数。析构函数有助于在跳出程序（比如关闭文件、释放内存等）前释放资源。"
   ]
  },
  {
   "cell_type": "code",
   "execution_count": 1,
   "metadata": {},
   "outputs": [],
   "source": [
    "#include <iostream>\n",
    "using namespace std;"
   ]
  },
  {
   "cell_type": "code",
   "execution_count": 2,
   "metadata": {},
   "outputs": [],
   "source": [
    "class Line\n",
    "{\n",
    "    public:\n",
    "        void setLength( double len )\n",
    "        {\n",
    "             length = len;\n",
    "        }\n",
    "        double getLength( void )\n",
    "        {\n",
    "             return length;\n",
    "        }\n",
    "        Line()  // 这是构造函数\n",
    "        // 成员函数定义，包括构造函数\n",
    "        {\n",
    "             cout << \"Object is being created\" << endl;\n",
    "        }\n",
    "        ~Line()  // 这是析构函数声明\n",
    "        {\n",
    "            cout << \"Object is being deleted\" << endl;\n",
    "        }\n",
    "    private:\n",
    "        double length;\n",
    "};"
   ]
  },
  {
   "cell_type": "code",
   "execution_count": 3,
   "metadata": {},
   "outputs": [
    {
     "name": "stdout",
     "output_type": "stream",
     "text": [
      "Object is being created\n",
      "Length of line : 6\n",
      "Object is being deleted\n"
     ]
    }
   ],
   "source": [
    "{\n",
    "    Line line;\n",
    "\n",
    "    // 设置长度\n",
    "    line.setLength(6.0); \n",
    "    cout << \"Length of line : \" << line.getLength() <<endl;\n",
    "}"
   ]
  },
  {
   "cell_type": "code",
   "execution_count": null,
   "metadata": {},
   "outputs": [],
   "source": []
  }
 ],
 "metadata": {
  "kernelspec": {
   "display_name": "C++11",
   "language": "C++11",
   "name": "xcpp11"
  },
  "language_info": {
   "codemirror_mode": "text/x-c++src",
   "file_extension": ".cpp",
   "mimetype": "text/x-c++src",
   "name": "c++",
   "version": "11"
  }
 },
 "nbformat": 4,
 "nbformat_minor": 4
}

{
 "cells": [
  {
   "cell_type": "markdown",
   "metadata": {},
   "source": [
    "# 运算符"
   ]
  },
  {
   "cell_type": "code",
   "execution_count": 1,
   "metadata": {},
   "outputs": [],
   "source": [
    "#include <iostream>\n",
    "using namespace std;"
   ]
  },
  {
   "cell_type": "markdown",
   "metadata": {},
   "source": [
    "## 算术运算符"
   ]
  },
  {
   "cell_type": "code",
   "execution_count": 6,
   "metadata": {},
   "outputs": [
    {
     "name": "stdout",
     "output_type": "stream",
     "text": [
      "a + b 的值是 31\n",
      "a - b 的值是 11\n",
      "a * b 的值是 210\n",
      "a / b 的值是 2\n",
      "a % b 的值是 1\n"
     ]
    }
   ],
   "source": [
    "{\n",
    "    int a = 21, b = 10, c;\n",
    "\n",
    "    cout << \"a + b 的值是 \" << a + b << endl ;\n",
    "    c = a - b;\n",
    "    cout << \"a - b 的值是 \" << a - b << endl ;\n",
    "    c = a * b;\n",
    "    cout << \"a * b 的值是 \" << a * b << endl ;\n",
    "    c = a / b;\n",
    "    cout << \"a / b 的值是 \" << a / b << endl ;\n",
    "    c = a % b;\n",
    "    cout << \"a % b 的值是 \" << a % b << endl ;\n",
    "}"
   ]
  },
  {
   "cell_type": "code",
   "execution_count": 7,
   "metadata": {},
   "outputs": [
    {
     "name": "stderr",
     "output_type": "stream",
     "text": [
      "\u001b[1minput_line_14:6:34: \u001b[0m\u001b[0;1;35mwarning: \u001b[0m\u001b[1munsequenced modification and access to 'd' [-Wunsequenced]\u001b[0m\n",
      "    cout << \"d++ 的值是 \" << d++ << \"\\t d 的值是 \" << d << endl ;\n",
      "\u001b[0;1;32m                              ^                       ~\n",
      "\u001b[0m\u001b[1minput_line_14:7:33: \u001b[0m\u001b[0;1;35mwarning: \u001b[0m\u001b[1munsequenced modification and access to 'd' [-Wunsequenced]\u001b[0m\n",
      "    cout << \"++d 的值是 \" << ++d << \"\\t d 的值是 \" << d << endl ;\n",
      "\u001b[0;1;32m                             ^                        ~\n",
      "\u001b[0m\u001b[1minput_line_14:9:34: \u001b[0m\u001b[0;1;35mwarning: \u001b[0m\u001b[1munsequenced modification and access to 'd' [-Wunsequenced]\u001b[0m\n",
      "    cout << \"d-- 的值是 \" << d-- << \"\\t d 的值是 \" << d << endl ;\n",
      "\u001b[0;1;32m                              ^                       ~\n",
      "\u001b[0m\u001b[1minput_line_14:10:33: \u001b[0m\u001b[0;1;35mwarning: \u001b[0m\u001b[1munsequenced modification and access to 'd' [-Wunsequenced]\u001b[0m\n",
      "    cout << \"--d 的值是 \" << --d << \"\\t d 的值是 \" << d << endl ;\n",
      "\u001b[0;1;32m                             ^                        ~\n",
      "\u001b[0m"
     ]
    },
    {
     "name": "stdout",
     "output_type": "stream",
     "text": [
      "d++ 的值是 10\t d 的值是 11\n",
      "++d 的值是 12\t d 的值是 12\n",
      "d-- 的值是 10\t d 的值是 9\n",
      "--d 的值是 8\t d 的值是 8\n"
     ]
    }
   ],
   "source": [
    "{   //  测试自增、自减\n",
    "    // 注意优先级, 左结合的(如赋值)\n",
    "    int d=0;   \n",
    "    d = 10;\n",
    "    cout << \"d++ 的值是 \" << d++ << \"\\t d 的值是 \" << d << endl ;\n",
    "    cout << \"++d 的值是 \" << ++d << \"\\t d 的值是 \" << d << endl ;\n",
    "\n",
    "    d = 10;    // 重新赋值\n",
    "    cout << \"d-- 的值是 \" << d-- << \"\\t d 的值是 \" << d << endl ;\n",
    "    cout << \"--d 的值是 \" << --d << \"\\t d 的值是 \" << d << endl ;\n",
    "}"
   ]
  },
  {
   "cell_type": "markdown",
   "metadata": {},
   "source": [
    "## 关系运算符"
   ]
  },
  {
   "cell_type": "code",
   "execution_count": 9,
   "metadata": {},
   "outputs": [
    {
     "name": "stdout",
     "output_type": "stream",
     "text": [
      "a == b 的值为: 0\n",
      "a != b 的值为: 1\n",
      "a >  b 的值为: 1\n",
      "a <  b 的值为: 0\n",
      "a >= b 的值为: 1\n",
      "a <= b 的值为: 0\n"
     ]
    }
   ],
   "source": [
    "{\n",
    "    int a = 21, b = 10;\n",
    "    \n",
    "    cout << \"a == b 的值为: \" << (a == b) << endl;\n",
    "    cout << \"a != b 的值为: \" << (a != b) << endl;\n",
    "    cout << \"a >  b 的值为: \" << (a >  b) << endl;\n",
    "    cout << \"a <  b 的值为: \" << (a <  b) << endl;\n",
    "    cout << \"a >= b 的值为: \" << (a >= b) << endl;\n",
    "    cout << \"a <= b 的值为: \" << (a <= b) << endl;\n",
    "}"
   ]
  },
  {
   "cell_type": "markdown",
   "metadata": {},
   "source": [
    "## 逻辑运算符"
   ]
  },
  {
   "cell_type": "code",
   "execution_count": 14,
   "metadata": {},
   "outputs": [
    {
     "name": "stdout",
     "output_type": "stream",
     "text": [
      "a && b 的值为: 1\n",
      "a && b 的值为: 1\n",
      "b   的值为: 20\n",
      "!b  的值为: 0\n",
      "!!b 的值为: 1\n"
     ]
    }
   ],
   "source": [
    "{\n",
    "    int a = 5, b = 20;\n",
    "    \n",
    "    cout << \"a && b 的值为: \" << (a && b) << endl;\n",
    "    cout << \"a && b 的值为: \" << (a || b) << endl;\n",
    "    cout << \"b   的值为: \" << ( b ) << endl;\n",
    "    cout << \"!b  的值为: \" << ( !b ) << endl;\n",
    "    cout << \"!!b 的值为: \" << ( !!b ) << endl;\n",
    "}"
   ]
  },
  {
   "cell_type": "markdown",
   "metadata": {},
   "source": [
    "## 位运算符"
   ]
  },
  {
   "cell_type": "code",
   "execution_count": 17,
   "metadata": {},
   "outputs": [
    {
     "name": "stdout",
     "output_type": "stream",
     "text": [
      "00111100 &  00001101 的值是 \n",
      "00001100    00001100\n",
      "\n",
      "00111100 |  00001101 的值是 \n",
      "00111101    00111101\n",
      "\n",
      "00111100 ^  00001101 的值是 \n",
      "00110001    00110001\n",
      "\n",
      "00111100 ~  的值是 \n",
      "11000011\n",
      "\n",
      "00111100 << 2 的值是 \n",
      "11110000\n",
      "\n",
      "00111100 >> 2 的值是 \n",
      "00001111\n",
      "\n"
     ]
    }
   ],
   "source": [
    "#include <bitset>\n",
    "{\n",
    "    unsigned int a = 60;      // 60 = 0011 1100  \n",
    "    unsigned int b = 13;      // 13 = 0000 1101\n",
    "    std::bitset<8> c;           \n",
    "\n",
    "    c = a & b;             // 12 = 0000 1100\n",
    "    cout << \"00111100 &  00001101 的值是 \" << endl;\n",
    "    cout << c   << \"    \" << c << endl << endl;\n",
    " \n",
    "    c = a | b;             // 61 = 0011 1101\n",
    "    cout << \"00111100 |  00001101 的值是 \" << endl;\n",
    "    cout << c   << \"    \" << c << endl << endl;\n",
    "\n",
    "    c = a ^ b;             // 49 = 0011 0001\n",
    "    cout << \"00111100 ^  00001101 的值是 \" << endl;\n",
    "    cout << c   << \"    \" << c << endl << endl;\n",
    "\n",
    "    c = ~a;                // -61 = 1100 0011\n",
    "    cout << \"00111100 ~  的值是 \" << endl;\n",
    "    cout << c   << endl << endl;\n",
    "\n",
    "    c = a << 2;            // 240 = 1111 0000\n",
    "    cout << \"00111100 << 2 的值是 \" << endl;\n",
    "    cout << c   << endl << endl;\n",
    "\n",
    "    c = a >> 2;            // 15 = 0000 1111\n",
    "    cout << \"00111100 >> 2 的值是 \" << endl;\n",
    "    cout << c   << endl << endl;\n",
    "}"
   ]
  },
  {
   "cell_type": "markdown",
   "metadata": {},
   "source": [
    "## 赋值运算符"
   ]
  },
  {
   "cell_type": "code",
   "execution_count": 7,
   "metadata": {},
   "outputs": [
    {
     "name": "stdout",
     "output_type": "stream",
     "text": [
      "Line 1 - =  运算符实例，c 的值 = : 21\n",
      "Line 2 - += 运算符实例，c 的值 = : 42\n",
      "Line 3 - -= 运算符实例，c 的值 = : 21\n",
      "Line 4 - *= 运算符实例，c 的值 = : 441\n",
      "Line 5 - /= 运算符实例，c 的值 = : 21\n",
      "Line 6 - %= 运算符实例，c 的值 = : 11\n",
      "Line 7 - <<= 运算符实例，c 的值 = : 44\n",
      "Line 8 - >>= 运算符实例，c 的值 = : 11\n",
      "Line 9 - &= 运算符实例，c 的值 = : 2\n",
      "Line 10 - ^= 运算符实例，c 的值 = : 0\n",
      "Line 11 - |= 运算符实例，c 的值 = : 2\n"
     ]
    }
   ],
   "source": [
    "{\n",
    "   int a = 21;\n",
    "   int c ;\n",
    " \n",
    "   c =  a;\n",
    "   cout << \"Line 1 - =  运算符实例，c 的值 = : \" <<c<< endl ;\n",
    " \n",
    "   c +=  a;\n",
    "   cout << \"Line 2 - += 运算符实例，c 的值 = : \" <<c<< endl ;\n",
    " \n",
    "   c -=  a;\n",
    "   cout << \"Line 3 - -= 运算符实例，c 的值 = : \" <<c<< endl ;\n",
    " \n",
    "   c *=  a;\n",
    "   cout << \"Line 4 - *= 运算符实例，c 的值 = : \" <<c<< endl ;\n",
    " \n",
    "   c /=  a;\n",
    "   cout << \"Line 5 - /= 运算符实例，c 的值 = : \" <<c<< endl ;\n",
    " \n",
    "   c  = 200;\n",
    "   c %=  a;\n",
    "   cout << \"Line 6 - %= 运算符实例，c 的值 = : \" <<c<< endl ;\n",
    " \n",
    "   c <<=  2;\n",
    "   cout << \"Line 7 - <<= 运算符实例，c 的值 = : \" <<c<< endl ;\n",
    " \n",
    "   c >>=  2;\n",
    "   cout << \"Line 8 - >>= 运算符实例，c 的值 = : \" <<c<< endl ;\n",
    " \n",
    "   c &=  2;\n",
    "   cout << \"Line 9 - &= 运算符实例，c 的值 = : \" <<c<< endl ;\n",
    " \n",
    "   c ^=  2;\n",
    "   cout << \"Line 10 - ^= 运算符实例，c 的值 = : \" <<c<< endl ;\n",
    " \n",
    "   c |=  2;\n",
    "   cout << \"Line 11 - |= 运算符实例，c 的值 = : \" <<c<< endl ;\n",
    " \n",
    "}"
   ]
  },
  {
   "cell_type": "markdown",
   "metadata": {},
   "source": [
    "## 杂项运算符"
   ]
  },
  {
   "cell_type": "code",
   "execution_count": 18,
   "metadata": {},
   "outputs": [
    {
     "name": "stdout",
     "output_type": "stream",
     "text": [
      "Size of char : 1\n",
      "Size of int : 4\n",
      "Size of short int : 2\n",
      "Size of long int : 8\n",
      "Size of float : 4\n",
      "Size of double : 8\n",
      "Size of wchar_t : 4\n"
     ]
    }
   ],
   "source": [
    "{\n",
    "    // sizeof 是一个关键字，它是一个编译时运算符，用于判断变量或数据类型的字节大小。\n",
    "    // sizeof 运算符可用于获取类、结构、共用体和其他用户自定义数据类型的大小。\n",
    "    cout << \"Size of char : \" << sizeof(char) << endl;\n",
    "    cout << \"Size of int : \" << sizeof(int) << endl;\n",
    "    cout << \"Size of short int : \" << sizeof(short int) << endl;\n",
    "    cout << \"Size of long int : \" << sizeof(long int) << endl;\n",
    "    cout << \"Size of float : \" << sizeof(float) << endl;\n",
    "    cout << \"Size of double : \" << sizeof(double) << endl;\n",
    "    cout << \"Size of wchar_t : \" << sizeof(wchar_t) << endl;\n",
    "}"
   ]
  },
  {
   "cell_type": "code",
   "execution_count": 20,
   "metadata": {},
   "outputs": [
    {
     "name": "stdout",
     "output_type": "stream",
     "text": [
      "value of x: 30\n"
     ]
    }
   ],
   "source": [
    "{\n",
    "    // 条件运算符   condition ? var1 : var2\n",
    "    // 三元运算符，因为它需要三个操作数，可以用来代替如下所示的 if-else 语句\n",
    "    // 局部变量声明\n",
    "    int x, y = 10;\n",
    "    x = (y < 20) ? 30 : 40;\n",
    "    cout << \"value of x: \" << x << endl;\n",
    "}"
   ]
  },
  {
   "cell_type": "code",
   "execution_count": 27,
   "metadata": {},
   "outputs": [
    {
     "name": "stdout",
     "output_type": "stream",
     "text": [
      "点运算符 . \n",
      "箭头运算符 -> \n"
     ]
    }
   ],
   "source": [
    "{\n",
    "    // .（点）运算符和 ->（箭头）运算符用于引用类、结构和共用体的成员。\n",
    "    struct Employee {\n",
    "      char first_name[16];\n",
    "      int  age;\n",
    "    } emp;\n",
    "    \n",
    "    // 点运算符应用于实际的对象\n",
    "    strcpy(emp.first_name, \"点运算符 . \");\n",
    "    cout << emp.first_name << endl;\n",
    "    \n",
    "    // 箭头运算符与一个指向对象的指针一起使用\n",
    "    strcpy((&emp)->first_name, \"箭头运算符 -> \");\n",
    "    cout << emp.first_name << endl;\n",
    "    \n",
    "}"
   ]
  },
  {
   "cell_type": "code",
   "execution_count": 2,
   "metadata": {},
   "outputs": [
    {
     "name": "stdout",
     "output_type": "stream",
     "text": [
      "Line 1 - c 的值是 31\n",
      "Line 2 - c 的值是 11\n",
      "Line 3 - c 的值是 210\n",
      "Line 4 - c 的值是 2\n",
      "Line 5 - c 的值是 1\n",
      "Line 6 - c 的值是 10\n",
      "Line 7 - c 的值是 10\n"
     ]
    }
   ],
   "source": [
    "{\n",
    "    // 使用逗号运算符是为了把几个表达式放在一起。\n",
    "    // 整个逗号表达式的值为系列中最后一个表达式的值。\n",
    "    // 从本质上讲，逗号的作用是将一系列运算按顺序执行。\n",
    "    // 最右边的那个表达式的值将作为整个逗号表达式的值，其他表达式的值会被丢弃\n",
    "    int i, j;\n",
    "\n",
    "    j = 10;\n",
    "    i = (j++, j+100, 999+j);\n",
    "\n",
    "    cout << i;\n",
    "}"
   ]
  },
  {
   "cell_type": "code",
   "execution_count": null,
   "metadata": {},
   "outputs": [],
   "source": []
  }
 ],
 "metadata": {
  "kernelspec": {
   "display_name": "C++11",
   "language": "C++11",
   "name": "xcpp11"
  },
  "language_info": {
   "codemirror_mode": "text/x-c++src",
   "file_extension": ".cpp",
   "mimetype": "text/x-c++src",
   "name": "c++",
   "version": "11"
  }
 },
 "nbformat": 4,
 "nbformat_minor": 4
}

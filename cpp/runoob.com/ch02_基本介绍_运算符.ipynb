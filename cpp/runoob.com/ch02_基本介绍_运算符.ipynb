{
 "cells": [
  {
   "cell_type": "markdown",
   "metadata": {},
   "source": [
    "# 运算符"
   ]
  },
  {
   "cell_type": "code",
   "execution_count": 1,
   "metadata": {},
   "outputs": [],
   "source": [
    "#include <iostream>\n",
    "using namespace std;"
   ]
  },
  {
   "cell_type": "markdown",
   "metadata": {},
   "source": [
    "## 算术运算符"
   ]
  },
  {
   "cell_type": "code",
   "execution_count": 6,
   "metadata": {},
   "outputs": [
    {
     "name": "stdout",
     "output_type": "stream",
     "text": [
      "a + b 的值是 31\n",
      "a - b 的值是 11\n",
      "a * b 的值是 210\n",
      "a / b 的值是 2\n",
      "a % b 的值是 1\n"
     ]
    }
   ],
   "source": [
    "{\n",
    "    int a = 21, b = 10, c;\n",
    "\n",
    "    cout << \"a + b 的值是 \" << a + b << endl ;\n",
    "    c = a - b;\n",
    "    cout << \"a - b 的值是 \" << a - b << endl ;\n",
    "    c = a * b;\n",
    "    cout << \"a * b 的值是 \" << a * b << endl ;\n",
    "    c = a / b;\n",
    "    cout << \"a / b 的值是 \" << a / b << endl ;\n",
    "    c = a % b;\n",
    "    cout << \"a % b 的值是 \" << a % b << endl ;\n",
    "}"
   ]
  },
  {
   "cell_type": "code",
   "execution_count": 7,
   "metadata": {},
   "outputs": [
    {
     "name": "stderr",
     "output_type": "stream",
     "text": [
      "\u001b[1minput_line_14:6:34: \u001b[0m\u001b[0;1;35mwarning: \u001b[0m\u001b[1munsequenced modification and access to 'd' [-Wunsequenced]\u001b[0m\n",
      "    cout << \"d++ 的值是 \" << d++ << \"\\t d 的值是 \" << d << endl ;\n",
      "\u001b[0;1;32m                              ^                       ~\n",
      "\u001b[0m\u001b[1minput_line_14:7:33: \u001b[0m\u001b[0;1;35mwarning: \u001b[0m\u001b[1munsequenced modification and access to 'd' [-Wunsequenced]\u001b[0m\n",
      "    cout << \"++d 的值是 \" << ++d << \"\\t d 的值是 \" << d << endl ;\n",
      "\u001b[0;1;32m                             ^                        ~\n",
      "\u001b[0m\u001b[1minput_line_14:9:34: \u001b[0m\u001b[0;1;35mwarning: \u001b[0m\u001b[1munsequenced modification and access to 'd' [-Wunsequenced]\u001b[0m\n",
      "    cout << \"d-- 的值是 \" << d-- << \"\\t d 的值是 \" << d << endl ;\n",
      "\u001b[0;1;32m                              ^                       ~\n",
      "\u001b[0m\u001b[1minput_line_14:10:33: \u001b[0m\u001b[0;1;35mwarning: \u001b[0m\u001b[1munsequenced modification and access to 'd' [-Wunsequenced]\u001b[0m\n",
      "    cout << \"--d 的值是 \" << --d << \"\\t d 的值是 \" << d << endl ;\n",
      "\u001b[0;1;32m                             ^                        ~\n",
      "\u001b[0m"
     ]
    },
    {
     "name": "stdout",
     "output_type": "stream",
     "text": [
      "d++ 的值是 10\t d 的值是 11\n",
      "++d 的值是 12\t d 的值是 12\n",
      "d-- 的值是 10\t d 的值是 9\n",
      "--d 的值是 8\t d 的值是 8\n"
     ]
    }
   ],
   "source": [
    "{   //  测试自增、自减\n",
    "    // 注意优先级, 左结合的(如赋值)\n",
    "    int d=0;   \n",
    "    d = 10;\n",
    "    cout << \"d++ 的值是 \" << d++ << \"\\t d 的值是 \" << d << endl ;\n",
    "    cout << \"++d 的值是 \" << ++d << \"\\t d 的值是 \" << d << endl ;\n",
    "\n",
    "    d = 10;    // 重新赋值\n",
    "    cout << \"d-- 的值是 \" << d-- << \"\\t d 的值是 \" << d << endl ;\n",
    "    cout << \"--d 的值是 \" << --d << \"\\t d 的值是 \" << d << endl ;\n",
    "}"
   ]
  },
  {
   "cell_type": "markdown",
   "metadata": {},
   "source": [
    "## 关系运算符"
   ]
  },
  {
   "cell_type": "code",
   "execution_count": 9,
   "metadata": {},
   "outputs": [
    {
     "name": "stdout",
     "output_type": "stream",
     "text": [
      "a == b 的值为: 0\n",
      "a != b 的值为: 1\n",
      "a >  b 的值为: 1\n",
      "a <  b 的值为: 0\n",
      "a >= b 的值为: 1\n",
      "a <= b 的值为: 0\n"
     ]
    }
   ],
   "source": [
    "{\n",
    "    int a = 21, b = 10;\n",
    "    \n",
    "    cout << \"a == b 的值为: \" << (a == b) << endl;\n",
    "    cout << \"a != b 的值为: \" << (a != b) << endl;\n",
    "    cout << \"a >  b 的值为: \" << (a >  b) << endl;\n",
    "    cout << \"a <  b 的值为: \" << (a <  b) << endl;\n",
    "    cout << \"a >= b 的值为: \" << (a >= b) << endl;\n",
    "    cout << \"a <= b 的值为: \" << (a <= b) << endl;\n",
    "}"
   ]
  },
  {
   "cell_type": "markdown",
   "metadata": {},
   "source": [
    "## 逻辑运算符"
   ]
  },
  {
   "cell_type": "code",
   "execution_count": 14,
   "metadata": {},
   "outputs": [
    {
     "name": "stdout",
     "output_type": "stream",
     "text": [
      "a && b 的值为: 1\n",
      "a && b 的值为: 1\n",
      "b   的值为: 20\n",
      "!b  的值为: 0\n",
      "!!b 的值为: 1\n"
     ]
    }
   ],
   "source": [
    "{\n",
    "    int a = 5, b = 20;\n",
    "    \n",
    "    cout << \"a && b 的值为: \" << (a && b) << endl;\n",
    "    cout << \"a && b 的值为: \" << (a || b) << endl;\n",
    "    cout << \"b   的值为: \" << ( b ) << endl;\n",
    "    cout << \"!b  的值为: \" << ( !b ) << endl;\n",
    "    cout << \"!!b 的值为: \" << ( !!b ) << endl;\n",
    "}"
   ]
  },
  {
   "cell_type": "markdown",
   "metadata": {},
   "source": [
    "## 位运算符"
   ]
  },
  {
   "cell_type": "code",
   "execution_count": 17,
   "metadata": {},
   "outputs": [
    {
     "name": "stdout",
     "output_type": "stream",
     "text": [
      "00111100 &  00001101 的值是 \n",
      "00001100    00001100\n",
      "\n",
      "00111100 |  00001101 的值是 \n",
      "00111101    00111101\n",
      "\n",
      "00111100 ^  00001101 的值是 \n",
      "00110001    00110001\n",
      "\n",
      "00111100 ~  的值是 \n",
      "11000011\n",
      "\n",
      "00111100 << 2 的值是 \n",
      "11110000\n",
      "\n",
      "00111100 >> 2 的值是 \n",
      "00001111\n",
      "\n"
     ]
    }
   ],
   "source": [
    "#include <bitset>\n",
    "{\n",
    "    unsigned int a = 60;      // 60 = 0011 1100  \n",
    "    unsigned int b = 13;      // 13 = 0000 1101\n",
    "    std::bitset<8> c;           \n",
    "\n",
    "    c = a & b;             // 12 = 0000 1100\n",
    "    cout << \"00111100 &  00001101 的值是 \" << endl;\n",
    "    cout << c   << \"    \" << c << endl << endl;\n",
    " \n",
    "    c = a | b;             // 61 = 0011 1101\n",
    "    cout << \"00111100 |  00001101 的值是 \" << endl;\n",
    "    cout << c   << \"    \" << c << endl << endl;\n",
    "\n",
    "    c = a ^ b;             // 49 = 0011 0001\n",
    "    cout << \"00111100 ^  00001101 的值是 \" << endl;\n",
    "    cout << c   << \"    \" << c << endl << endl;\n",
    "\n",
    "    c = ~a;                // -61 = 1100 0011\n",
    "    cout << \"00111100 ~  的值是 \" << endl;\n",
    "    cout << c   << endl << endl;\n",
    "\n",
    "    c = a << 2;            // 240 = 1111 0000\n",
    "    cout << \"00111100 << 2 的值是 \" << endl;\n",
    "    cout << c   << endl << endl;\n",
    "\n",
    "    c = a >> 2;            // 15 = 0000 1111\n",
    "    cout << \"00111100 >> 2 的值是 \" << endl;\n",
    "    cout << c   << endl << endl;\n",
    "}"
   ]
  },
  {
   "cell_type": "markdown",
   "metadata": {},
   "source": [
    "## 赋值运算符"
   ]
  },
  {
   "cell_type": "code",
   "execution_count": 7,
   "metadata": {},
   "outputs": [
    {
     "name": "stdout",
     "output_type": "stream",
     "text": [
      "Line 1 - =  运算符实例，c 的值 = : 21\n",
      "Line 2 - += 运算符实例，c 的值 = : 42\n",
      "Line 3 - -= 运算符实例，c 的值 = : 21\n",
      "Line 4 - *= 运算符实例，c 的值 = : 441\n",
      "Line 5 - /= 运算符实例，c 的值 = : 21\n",
      "Line 6 - %= 运算符实例，c 的值 = : 11\n",
      "Line 7 - <<= 运算符实例，c 的值 = : 44\n",
      "Line 8 - >>= 运算符实例，c 的值 = : 11\n",
      "Line 9 - &= 运算符实例，c 的值 = : 2\n",
      "Line 10 - ^= 运算符实例，c 的值 = : 0\n",
      "Line 11 - |= 运算符实例，c 的值 = : 2\n"
     ]
    }
   ],
   "source": [
    "{\n",
    "   int a = 21;\n",
    "   int c ;\n",
    " \n",
    "   c =  a;\n",
    "   cout << \"Line 1 - =  运算符实例，c 的值 = : \" <<c<< endl ;\n",
    " \n",
    "   c +=  a;\n",
    "   cout << \"Line 2 - += 运算符实例，c 的值 = : \" <<c<< endl ;\n",
    " \n",
    "   c -=  a;\n",
    "   cout << \"Line 3 - -= 运算符实例，c 的值 = : \" <<c<< endl ;\n",
    " \n",
    "   c *=  a;\n",
    "   cout << \"Line 4 - *= 运算符实例，c 的值 = : \" <<c<< endl ;\n",
    " \n",
    "   c /=  a;\n",
    "   cout << \"Line 5 - /= 运算符实例，c 的值 = : \" <<c<< endl ;\n",
    " \n",
    "   c  = 200;\n",
    "   c %=  a;\n",
    "   cout << \"Line 6 - %= 运算符实例，c 的值 = : \" <<c<< endl ;\n",
    " \n",
    "   c <<=  2;\n",
    "   cout << \"Line 7 - <<= 运算符实例，c 的值 = : \" <<c<< endl ;\n",
    " \n",
    "   c >>=  2;\n",
    "   cout << \"Line 8 - >>= 运算符实例，c 的值 = : \" <<c<< endl ;\n",
    " \n",
    "   c &=  2;\n",
    "   cout << \"Line 9 - &= 运算符实例，c 的值 = : \" <<c<< endl ;\n",
    " \n",
    "   c ^=  2;\n",
    "   cout << \"Line 10 - ^= 运算符实例，c 的值 = : \" <<c<< endl ;\n",
    " \n",
    "   c |=  2;\n",
    "   cout << \"Line 11 - |= 运算符实例，c 的值 = : \" <<c<< endl ;\n",
    " \n",
    "}"
   ]
  },
  {
   "cell_type": "markdown",
   "metadata": {},
   "source": [
    "## 杂项运算符"
   ]
  },
  {
   "cell_type": "code",
   "execution_count": 18,
   "metadata": {},
   "outputs": [
    {
     "name": "stdout",
     "output_type": "stream",
     "text": [
      "Size of char : 1\n",
      "Size of int : 4\n",
      "Size of short int : 2\n",
      "Size of long int : 8\n",
      "Size of float : 4\n",
      "Size of double : 8\n",
      "Size of wchar_t : 4\n"
     ]
    }
   ],
   "source": [
    "{\n",
    "    // sizeof 是一个关键字，它是一个编译时运算符，用于判断变量或数据类型的字节大小。\n",
    "    // sizeof 运算符可用于获取类、结构、共用体和其他用户自定义数据类型的大小。\n",
    "    cout << \"Size of char : \" << sizeof(char) << endl;\n",
    "    cout << \"Size of int : \" << sizeof(int) << endl;\n",
    "    cout << \"Size of short int : \" << sizeof(short int) << endl;\n",
    "    cout << \"Size of long int : \" << sizeof(long int) << endl;\n",
    "    cout << \"Size of float : \" << sizeof(float) << endl;\n",
    "    cout << \"Size of double : \" << sizeof(double) << endl;\n",
    "    cout << \"Size of wchar_t : \" << sizeof(wchar_t) << endl;\n",
    "}"
   ]
  },
  {
   "cell_type": "code",
   "execution_count": 20,
   "metadata": {},
   "outputs": [
    {
     "name": "stdout",
     "output_type": "stream",
     "text": [
      "value of x: 30\n"
     ]
    }
   ],
   "source": [
    "{\n",
    "    // 条件运算符   condition ? var1 : var2\n",
    "    // 三元运算符，因为它需要三个操作数，可以用来代替如下所示的 if-else 语句\n",
    "    // 局部变量声明\n",
    "    int x, y = 10;\n",
    "    x = (y < 20) ? 30 : 40;\n",
    "    cout << \"value of x: \" << x << endl;\n",
    "}"
   ]
  },
  {
   "cell_type": "code",
   "execution_count": 27,
   "metadata": {},
   "outputs": [
    {
     "name": "stdout",
     "output_type": "stream",
     "text": [
      "点运算符 . \n",
      "箭头运算符 -> \n"
     ]
    }
   ],
   "source": [
    "{\n",
    "    // .（点）运算符和 ->（箭头）运算符用于引用类、结构和共用体的成员。\n",
    "    struct Employee {\n",
    "      char first_name[16];\n",
    "      int  age;\n",
    "    } emp;\n",
    "    \n",
    "    // 点运算符应用于实际的对象\n",
    "    strcpy(emp.first_name, \"点运算符 . \");\n",
    "    cout << emp.first_name << endl;\n",
    "    \n",
    "    // 箭头运算符与一个指向对象的指针一起使用\n",
    "    strcpy((&emp)->first_name, \"箭头运算符 -> \");\n",
    "    cout << emp.first_name << endl;\n",
    "    \n",
    "}"
   ]
  },
  {
   "cell_type": "code",
   "execution_count": 3,
   "metadata": {},
   "outputs": [
    {
     "name": "stdout",
     "output_type": "stream",
     "text": [
      "a = 1.888, cast to int 之后 1\n"
     ]
    }
   ],
   "source": [
    "{\n",
    "    // 强制转换运算符  (type) expression \n",
    "    double a = 1.888;\n",
    "    int i;\n",
    "    i = (int) a;\n",
    "    cout << \"a = \" << a << \", cast to int 之后 \" << i << endl;\n",
    "}\n",
    "// const_cast<type> (expr): const_cast 运算符用于修改类型的 const / volatile 属性。除了 const 或 volatile 属性之外，\n",
    "// 目标类型必须与源类型相同。这种类型的转换主要是用来操作所传对象的 const 属性，可以加上 const 属性，也可以去掉 const 属性。\n",
    "\n",
    "// dynamic_cast<type> (expr): dynamic_cast 在运行时执行转换，验证转换的有效性。如果转换未执行，则转换失败，\n",
    "// 表达式 expr 被判定为 null。dynamic_cast 执行动态转换时，type 必须是类的指针、类的引用或者 void*，\n",
    "// 如果 type 是类指针类型，那么 expr 也必须是一个指针，如果 type 是一个引用，那个 expr 也必须是一个引用。\n",
    "\n",
    "// reinterpret_cast<type> (expr): reinterpret_cast 运算符把某种指针改为其他类型的指针。它可以把一个指针转换为一个整数，\n",
    "// 也可以把一个整数转换为一个指针。\n",
    "\n",
    "// static_cast<type> (expr): static_cast 运算符执行非动态转换，没有运行时类检查来保证转换的安全性。例如，\n",
    "// 它可以用来把一个基类指针转换为派生类指针。"
   ]
  },
  {
   "cell_type": "markdown",
   "metadata": {},
   "source": [
    "## 指针运算符（& 和 \\*)\n",
    "\n",
    "C++ 提供了两种指针运算符，一种是取地址运算符 &，一种是间接寻址运算符 *。\n",
    "\n",
    "指针是一个包含了另一个变量地址的变量，您可以把一个包含了另一个变量地址的变量说成是\"指向\"另一个变量。变量可以是任意的数据类型，包括对象、结构或者指针。\n",
    "\n",
    "取地址运算符 &\n",
    "& 是一元运算符，返回操作数的内存地址。例如，如果 var 是一个整型变量，则 &var 是它的地址。该运算符与其他一元运算符具有相同的优先级，在运算时它是从右向左顺序进行的。\n",
    "\n",
    "您可以把 & 运算符读作\"取地址运算符\"，这意味着，&var 读作\"var 的地址\"。\n",
    "\n",
    "间接寻址运算符 *\n",
    "第二个运算符是间接寻址运算符 *，它是 & 运算符的补充。* 是一元运算符，返回操作数所指定地址的变量的值。"
   ]
  },
  {
   "cell_type": "code",
   "execution_count": 4,
   "metadata": {},
   "outputs": [
    {
     "name": "stdout",
     "output_type": "stream",
     "text": [
      "Value of var   :3000\n",
      "var 的内存地址 :0x7ffff4f52904\n",
      "var 的内存地址对应的值 :3000\n"
     ]
    }
   ],
   "source": [
    "{\n",
    "    int  var;\n",
    "    int  *ptr;\n",
    "    int  val;\n",
    "\n",
    "    var = 3000;\n",
    "\n",
    "    // 获取 变量 的内存地址\n",
    "    ptr = &var;\n",
    "\n",
    "    // 获取 内存地址 的值\n",
    "    val = *ptr;\n",
    "    cout << \"Value of var   :\" << var << endl;\n",
    "    cout << \"var 的内存地址 :\" << ptr << endl;\n",
    "    cout << \"var 的内存地址对应的值 :\" << val << endl;\n",
    "}"
   ]
  },
  {
   "cell_type": "code",
   "execution_count": null,
   "metadata": {},
   "outputs": [],
   "source": []
  }
 ],
 "metadata": {
  "kernelspec": {
   "display_name": "C++11",
   "language": "C++11",
   "name": "xcpp11"
  },
  "language_info": {
   "codemirror_mode": "text/x-c++src",
   "file_extension": ".cpp",
   "mimetype": "text/x-c++src",
   "name": "c++",
   "version": "11"
  }
 },
 "nbformat": 4,
 "nbformat_minor": 4
}

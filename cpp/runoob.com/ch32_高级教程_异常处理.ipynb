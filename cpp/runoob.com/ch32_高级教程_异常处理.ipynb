{
 "cells": [
  {
   "cell_type": "markdown",
   "metadata": {},
   "source": [
    "# 动态内存\n",
    "了解动态内存在 C++ 中是如何工作的是成为一名合格的 C++ 程序员必不可少的。C++ 程序中的内存分为两个部分：\n",
    "\n",
    "* 栈：在函数内部声明的所有变量都将占用栈内存。\n",
    "* 堆：这是程序中未使用的内存，在程序运行时可用于动态分配内存。\n",
    "\n",
    "很多时候，您无法提前预知需要多少内存来存储某个定义变量中的特定信息，所需内存的大小需要在运行时才能确定。\n",
    "\n",
    "在 C++ 中，您可以使用特殊的运算符为给定类型的变量在运行时分配堆内的内存，这会返回所分配的空间地址。这种运算符即 new 运算符。\n",
    "\n",
    "如果您不再需要动态分配的内存空间，可以使用 delete 运算符，删除之前由 new 运算符分配的内存。"
   ]
  },
  {
   "cell_type": "markdown",
   "metadata": {},
   "source": [
    "## new 和 delete 运算符\n",
    "\n",
    "下面是使用 new 运算符来为任意的数据类型动态分配内存的通用语法：\n",
    "\n",
    "`new data-type;`\n",
    "\n",
    "在这里，data-type 可以是包括数组在内的任意内置的数据类型，也可以是包括类或结构在内的用户自定义的任何数据类型。让我们先来看下内置的数据类型。例如，我们可以定义一个指向 double 类型的指针，然后请求内存，该内存在执行时被分配。"
   ]
  },
  {
   "cell_type": "markdown",
   "metadata": {},
   "source": [
    "我们可以按照下面的语句使用 new 运算符来完成这点：\n",
    "```cpp\n",
    "double* pvalue  = NULL; // 初始化为 null 的指针\n",
    "pvalue  = new double;   // 为变量请求内存\n",
    "// 如果自由存储区已被用完，可能无法成功分配内存。\n",
    "// 所以建议检查 new 运算符是否返回 NULL 指针，并采取以下适当的操作：\n",
    "\n",
    "double* pvalue  = NULL;\n",
    "if( !(pvalue  = new double ))\n",
    "{\n",
    "   cout << \"Error: out of memory.\" <<endl;\n",
    "   exit(1);\n",
    "}\n",
    "```\n",
    "malloc() 函数在 C 语言中就出现了，在 C++ 中仍然存在，但建议尽量不要使用 malloc() 函数。new 与 malloc() 函数相比，其主要的优点是，new 不只是分配了内存，它还创建了对象。"
   ]
  },
  {
   "cell_type": "markdown",
   "metadata": {},
   "source": [
    "在任何时候，当您觉得某个已经动态分配内存的变量不再需要使用时，您可以使用` delete `操作符释放它所占用的内存，如下所示：\n",
    "```cpp\n",
    "delete pvalue;        // 释放 pvalue 所指向的内存\n",
    "```"
   ]
  },
  {
   "cell_type": "code",
   "execution_count": 1,
   "metadata": {},
   "outputs": [],
   "source": [
    "#include <iostream>\n",
    "using namespace std;"
   ]
  },
  {
   "cell_type": "code",
   "execution_count": 2,
   "metadata": {},
   "outputs": [
    {
     "name": "stdout",
     "output_type": "stream",
     "text": [
      "Value of pvalue : 29495\n"
     ]
    }
   ],
   "source": [
    "{\n",
    "   double* pvalue  = NULL; // 初始化为 null 的指针\n",
    "   pvalue  = new double;   // 为变量请求内存\n",
    " \n",
    "   *pvalue = 29494.99;     // 在分配的地址存储值\n",
    "   cout << \"Value of pvalue : \" << *pvalue << endl;\n",
    " \n",
    "   delete pvalue;         // 释放内存\n",
    "}"
   ]
  },
  {
   "cell_type": "markdown",
   "metadata": {},
   "source": [
    "## 数组的动态内存分配\n",
    "假设我们要为一个字符数组（一个有 20 个字符的字符串）分配内存，我们可以使用上面实例中的语法来为数组动态地分配内存，如下所示：\n",
    "```cpp\n",
    "char* pvalue  = NULL;   // 初始化为 null 的指针\n",
    "pvalue  = new char[20]; // 为变量请求内存\n",
    "\n",
    "delete [] pvalue;        // 删除 pvalue 所指向的数组\n",
    "```"
   ]
  },
  {
   "cell_type": "markdown",
   "metadata": {},
   "source": [
    "### 一维数组\n",
    "```cpp\n",
    "// 动态分配,数组长度为 m\n",
    "int *array=new int [m]；\n",
    " \n",
    "//释放内存\n",
    "delete [] array;\n",
    "```"
   ]
  },
  {
   "cell_type": "markdown",
   "metadata": {},
   "source": [
    "### 二维数组\n",
    "```cpp\n",
    "int **array\n",
    "// 假定数组第一维长度为 m， 第二维长度为 n\n",
    "// 动态分配空间\n",
    "array = new int *[m];\n",
    "for( int i=0; i<m; i++ )\n",
    "{\n",
    "    array[i] = new int [n]  ;\n",
    "}\n",
    "//释放\n",
    "for( int i=0; i<m; i++ )\n",
    "{\n",
    "    delete [] arrary[i];\n",
    "}\n",
    "delete [] array;\n",
    "```"
   ]
  },
  {
   "cell_type": "markdown",
   "metadata": {},
   "source": [
    "### 三维数组\n",
    "```cpp\n",
    "int ***array;\n",
    "// 假定数组第一维为 m， 第二维为 n， 第三维为h\n",
    "// 动态分配空间\n",
    "array = new int **[m];\n",
    "for( int i=0; i<m; i++ )\n",
    "{\n",
    "    array[i] = new int *[n];\n",
    "    for( int j=0; j<n; j++ )\n",
    "    {\n",
    "        array[i][j] = new int [h];\n",
    "    }\n",
    "}\n",
    "//释放\n",
    "for( int i=0; i<m; i++ )\n",
    "{\n",
    "    for( int j=0; j<n; j++ )\n",
    "    {\n",
    "        delete[] array[i][j];\n",
    "    }\n",
    "    delete[] array[i];\n",
    "}\n",
    "delete[] array;\n",
    "```"
   ]
  },
  {
   "cell_type": "markdown",
   "metadata": {},
   "source": [
    "## 对象的动态内存分配"
   ]
  },
  {
   "cell_type": "code",
   "execution_count": 4,
   "metadata": {},
   "outputs": [],
   "source": [
    "class Box\n",
    "{\n",
    "   public:\n",
    "      Box() { \n",
    "         cout << \"调用构造函数！\" <<endl; \n",
    "      }\n",
    "      ~Box() { \n",
    "         cout << \"调用析构函数！\" <<endl; \n",
    "      }\n",
    "};"
   ]
  },
  {
   "cell_type": "code",
   "execution_count": 5,
   "metadata": {},
   "outputs": [
    {
     "name": "stdout",
     "output_type": "stream",
     "text": [
      "调用构造函数！\n",
      "调用构造函数！\n",
      "调用构造函数！\n",
      "调用构造函数！\n",
      "调用析构函数！\n",
      "调用析构函数！\n",
      "调用析构函数！\n",
      "调用析构函数！\n"
     ]
    }
   ],
   "source": [
    "{\n",
    "   Box* myBoxArray = new Box[4];\n",
    " \n",
    "   delete [] myBoxArray; // 删除数组\n",
    "}"
   ]
  },
  {
   "cell_type": "code",
   "execution_count": null,
   "metadata": {},
   "outputs": [],
   "source": []
  }
 ],
 "metadata": {
  "kernelspec": {
   "display_name": "C++11",
   "language": "C++11",
   "name": "xcpp11"
  },
  "language_info": {
   "codemirror_mode": "text/x-c++src",
   "file_extension": ".cpp",
   "mimetype": "text/x-c++src",
   "name": "c++",
   "version": "11"
  }
 },
 "nbformat": 4,
 "nbformat_minor": 4
}

{
 "cells": [
  {
   "cell_type": "markdown",
   "metadata": {},
   "source": [
    "# 信号处理\n",
    "信号是由操作系统传给进程的中断，会提早终止一个程序。在 UNIX、LINUX、Mac OS X 或 Windows 系统上，可以通过按 Ctrl+C 产生中断。\n",
    "\n",
    "有些信号不能被程序捕获，但是下表所列信号可以在程序中捕获，并可以基于信号采取适当的动作。这些信号是定义在 C++ 头文件 <csignal> 中。\n",
    "\n",
    "    信号\t描述\n",
    "    SIGABRT\t程序的异常终止，如调用 abort。\n",
    "    SIGFPE\t错误的算术运算，比如除以零或导致溢出的操作。\n",
    "    SIGILL\t检测非法指令。\n",
    "    SIGINT\t接收到交互注意信号。\n",
    "    SIGSEGV\t非法访问内存。\n",
    "    SIGTERM\t发送到程序的终止请求。"
   ]
  },
  {
   "cell_type": "markdown",
   "metadata": {},
   "source": [
    "## signal() 函数\n",
    "C++ 信号处理库提供了 signal 函数，用来捕获突发事件。以下是 signal() 函数的语法：\n",
    "\n",
    "`void (*signal (int sig, void (*func)(int)))(int); `   \n",
    "这个函数接收两个参数：第一个参数是一个整数，代表了信号的编号；第二个参数是一个指向信号处理函数的指针。\n",
    "\n",
    "让我们编写一个简单的 C++ 程序，使用 signal() 函数捕获 SIGINT 信号。不管您想在程序中捕获什么信号，您都必须使用 signal 函数来注册信号，并将其与信号处理程序相关联。"
   ]
  },
  {
   "cell_type": "code",
   "execution_count": 1,
   "metadata": {},
   "outputs": [],
   "source": [
    "#include <iostream>\n",
    "#include <csignal>\n",
    "#include <unistd.h>\n",
    "\n",
    "using namespace std;"
   ]
  },
  {
   "cell_type": "code",
   "execution_count": 2,
   "metadata": {},
   "outputs": [],
   "source": [
    "void signalHandler( int signum )\n",
    "{\n",
    "    cout << \"Interrupt signal (\" << signum << \") received.\\n\";\n",
    " \n",
    "    // 清理并关闭\n",
    "    // 终止程序  \n",
    " \n",
    "   exit(signum);  \n",
    " \n",
    "}"
   ]
  },
  {
   "cell_type": "code",
   "execution_count": null,
   "metadata": {},
   "outputs": [
    {
     "name": "stdout",
     "output_type": "stream",
     "text": [
      "Going to sleep....\n",
      "Going to sleep....\n",
      "Going to sleep....\n",
      "Going to sleep....\n"
     ]
    }
   ],
   "source": [
    "{\n",
    "    // 注册信号 SIGINT 和信号处理程序\n",
    "    signal(SIGINT, signalHandler);  \n",
    " \n",
    "    while(1){\n",
    "       cout << \"Going to sleep....\" << endl;\n",
    "       sleep(1);\n",
    "    }\n",
    "}"
   ]
  },
  {
   "cell_type": "markdown",
   "metadata": {},
   "source": [
    "## raise() 函数\n",
    "\n",
    "您可以使用函数 raise() 生成信号，该函数带有一个整数信号编号作为参数，语法如下：\n",
    "\n",
    "`int raise (signal sig);`   \n",
    "在这里，sig 是要发送的信号的编号，这些信号包括：SIGINT、SIGABRT、SIGFPE、SIGILL、SIGSEGV、SIGTERM、SIGHUP。"
   ]
  },
  {
   "cell_type": "code",
   "execution_count": null,
   "metadata": {},
   "outputs": [],
   "source": [
    "{\n",
    "    int i = 0;\n",
    "    // 注册信号 SIGINT 和信号处理程序\n",
    "    signal(SIGINT, signalHandler);  \n",
    " \n",
    "    while(++i){\n",
    "       cout << \"Going to sleep....\" << endl;\n",
    "       if( i == 3 ){\n",
    "          raise( SIGINT);\n",
    "       }\n",
    "       sleep(1);\n",
    "    }\n",
    "}"
   ]
  },
  {
   "cell_type": "code",
   "execution_count": null,
   "metadata": {},
   "outputs": [],
   "source": []
  }
 ],
 "metadata": {
  "kernelspec": {
   "display_name": "C++11",
   "language": "C++11",
   "name": "xcpp11"
  },
  "language_info": {
   "codemirror_mode": "text/x-c++src",
   "file_extension": ".cpp",
   "mimetype": "text/x-c++src",
   "name": "c++",
   "version": "11"
  }
 },
 "nbformat": 4,
 "nbformat_minor": 4
}

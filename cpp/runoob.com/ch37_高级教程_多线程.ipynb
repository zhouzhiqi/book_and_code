{
 "cells": [
  {
   "cell_type": "markdown",
   "metadata": {},
   "source": [
    "# 多线程\n",
    "多线程是多任务处理的一种特殊形式，多任务处理允许让电脑同时运行两个或两个以上的程序。一般情况下，两种类型的多任务处理：基于进程和基于线程。\n",
    "\n",
    "* 基于进程的多任务处理是程序的并发执行。\n",
    "* 基于线程的多任务处理是同一程序的片段的并发执行。\n",
    "\n",
    "多线程程序包含可以同时运行的两个或多个部分。这样的程序中的每个部分称为一个线程，每个线程定义了一个单独的执行路径。\n",
    "\n",
    "本教程假设您使用的是 Linux 操作系统，我们要使用 POSIX 编写多线程 C++ 程序。POSIX Threads 或 Pthreads 提供的 API 可在多种类 Unix POSIX 系统上可用，比如 FreeBSD、NetBSD、GNU/Linux、Mac OS X 和 Solaris。"
   ]
  },
  {
   "cell_type": "markdown",
   "metadata": {},
   "source": [
    "## 创建线程\n",
    "\n",
    "下面的程序，我们可以用它来创建一个 POSIX 线程：\n",
    "```cpp\n",
    "#include <pthread.h>\n",
    "pthread_create (thread, attr, start_routine, arg) \n",
    "```\n",
    "在这里，pthread_create 创建一个新的线程，并让它可执行。下面是关于参数的说明："
   ]
  },
  {
   "cell_type": "markdown",
   "metadata": {},
   "source": [
    "参数\t描述   \n",
    "thread\t指向线程标识符指针。   \n",
    "attr\t一个不透明的属性对象，可以被用来设置线程属性。您可以指定线程属性对象，也可以使用默认值 NULL。   \n",
    "start_routine\t线程运行函数起始地址，一旦线程被创建就会执行。   \n",
    "arg\t运行函数的参数。它必须通过把引用作为指针强制转换为 void 类型进行传递。如果没有传递参数，则使用 NULL。   \n",
    "创建线程成功时，函数返回 0，若返回值不为 0 则说明创建线程失败。   "
   ]
  },
  {
   "cell_type": "markdown",
   "metadata": {},
   "source": [
    "## 终止线程\n",
    "使用下面的程序，我们可以用它来终止一个 POSIX 线程：\n",
    "```cpp\n",
    "#include <pthread.h>\n",
    "pthread_exit (status) \n",
    "```\n",
    "    \n",
    "在这里，pthread_exit 用于显式地退出一个线程。通常情况下，pthread_exit() 函数是在线程完成工作后无需继续存在时被调用。\n",
    "\n",
    "如果 main() 是在它所创建的线程之前结束，并通过 pthread_exit() 退出，那么其他线程将继续执行。否则，它们将在 main() 结束时自动被终止。"
   ]
  },
  {
   "cell_type": "code",
   "execution_count": 1,
   "metadata": {},
   "outputs": [],
   "source": [
    "#include <iostream>\n",
    "// 必须的头文件\n",
    "#include <pthread.h>\n",
    "\n",
    "using namespace std;\n",
    "#define NUM_THREADS 5"
   ]
  },
  {
   "cell_type": "code",
   "execution_count": 2,
   "metadata": {},
   "outputs": [],
   "source": [
    "// 线程的运行函数\n",
    "void* say_hello(void* args)\n",
    "{\n",
    "    cout << \"Hello Runoob！\" << endl;\n",
    "    return 0;\n",
    "}"
   ]
  },
  {
   "cell_type": "code",
   "execution_count": null,
   "metadata": {},
   "outputs": [
    {
     "name": "stdout",
     "output_type": "stream",
     "text": [
      "Hello Runoob！\n",
      "Hello Runoob！\n",
      "Hello Runoob！\n",
      "Hello Runoob！\n",
      "Hello Runoob！\n",
      "Hello Runoob！\n",
      "Hello Runoob！\n"
     ]
    }
   ],
   "source": [
    "{\n",
    "    // 定义线程的 id 变量，多个变量使用数组\n",
    "    pthread_t tids[NUM_THREADS];\n",
    "    for(int i = 0; i < NUM_THREADS; ++i)\n",
    "    {\n",
    "        //参数依次是：创建的线程id，线程参数，调用的函数，传入的函数参数\n",
    "        int ret = pthread_create(&tids[i], NULL, say_hello, NULL);\n",
    "        if (ret != 0)\n",
    "        {\n",
    "           cout << \"pthread_create error: error_code=\" << ret << endl;\n",
    "        }\n",
    "    }\n",
    "    //等各个线程退出后，进程才结束，否则进程强制结束了，线程可能还没反应过来；\n",
    "    pthread_exit(NULL);\n",
    "}"
   ]
  },
  {
   "cell_type": "markdown",
   "metadata": {},
   "source": [
    "---------"
   ]
  },
  {
   "cell_type": "code",
   "execution_count": 1,
   "metadata": {},
   "outputs": [],
   "source": [
    "#include <iostream>\n",
    "#include <cstdlib>\n",
    "#include <pthread.h>\n",
    " \n",
    "using namespace std;\n",
    " \n",
    "#define NUM_THREADS     5"
   ]
  },
  {
   "cell_type": "code",
   "execution_count": 2,
   "metadata": {},
   "outputs": [],
   "source": [
    "void *PrintHello(void *threadid)\n",
    "{  \n",
    "   // 对传入的参数进行强制类型转换，由无类型指针变为整形数指针，然后再读取\n",
    "   int tid = *((int*)threadid);\n",
    "   cout << \"Hello Runoob! 线程 ID, \" << tid << endl;\n",
    "   pthread_exit(NULL);\n",
    "}"
   ]
  },
  {
   "cell_type": "code",
   "execution_count": null,
   "metadata": {},
   "outputs": [
    {
     "name": "stdout",
     "output_type": "stream",
     "text": [
      "main() : 创建线程, 0\n",
      "main() : 创建线程, 1\n",
      "main() : 创建线程, 1\n",
      "Hello Runoob! 线程 ID, 0\n",
      "main() : 创建线程, 2\n",
      "Hello Runoob! 线程 ID, 1\n",
      "Hello Runoob! 线程 ID, 1\n",
      "main() : 创建线程, 3\n",
      "main() : 创建线程, 4\n",
      "Hello Runoob! 线程 ID, 0\n",
      "Hello Runoob! 线程 ID, 0\n",
      "Hello Runoob! 线程 ID, 0\n",
      "Hello Runoob! 线程 ID, 4\n"
     ]
    }
   ],
   "source": [
    "{\n",
    "   pthread_t threads[NUM_THREADS];\n",
    "   int indexes[NUM_THREADS];// 用数组来保存i的值\n",
    "   int rc;\n",
    "   int i;\n",
    "   for( i=0; i < NUM_THREADS; i++ ){      \n",
    "      cout << \"main() : 创建线程, \" << i << endl;\n",
    "      indexes[i] = i; //先保存i的值\n",
    "      // 传入的时候必须强制转换为void* 类型，即无类型指针        \n",
    "      rc = pthread_create(&threads[i], NULL, \n",
    "                          PrintHello, (void *)&(indexes[i]));\n",
    "      if (rc){\n",
    "         cout << \"Error:无法创建线程,\" << rc << endl;\n",
    "         exit(-1);\n",
    "      }\n",
    "   }\n",
    "   pthread_exit(NULL);\n",
    "}"
   ]
  },
  {
   "cell_type": "code",
   "execution_count": null,
   "metadata": {},
   "outputs": [],
   "source": [
    "## 向线程传递参数\n",
    "这个实例演示了如何通过结构传递多个参数。您可以在线程回调中传递任意的数据类型，因为它指向 void，"
   ]
  },
  {
   "cell_type": "code",
   "execution_count": 1,
   "metadata": {},
   "outputs": [],
   "source": [
    "#include <iostream>\n",
    "#include <cstdlib>\n",
    "#include <pthread.h>\n",
    " \n",
    "using namespace std;\n",
    " \n",
    "#define NUM_THREADS     5"
   ]
  },
  {
   "cell_type": "code",
   "execution_count": 2,
   "metadata": {},
   "outputs": [],
   "source": [
    "struct thread_data{\n",
    "   int  thread_id;\n",
    "   char *message;\n",
    "};"
   ]
  },
  {
   "cell_type": "code",
   "execution_count": 3,
   "metadata": {},
   "outputs": [],
   "source": [
    "void *PrintHello(void *threadarg)\n",
    "{\n",
    "   struct thread_data *my_data;\n",
    " \n",
    "   my_data = (struct thread_data *) threadarg;\n",
    " \n",
    "   cout << \"Thread ID : \" << my_data->thread_id ;\n",
    "   cout << \" Message : \" << my_data->message << endl;\n",
    " \n",
    "   pthread_exit(NULL);\n",
    "}"
   ]
  },
  {
   "cell_type": "code",
   "execution_count": null,
   "metadata": {},
   "outputs": [
    {
     "name": "stdout",
     "output_type": "stream",
     "text": [
      "main() : creating thread, 0\n",
      "main() : creating thread, 1\n",
      "0 Message : This is message\n",
      "0 Message : This is message\n",
      "main() : creating thread, 2\n",
      "main() : creating thread, 3\n",
      "Thread ID : 1 Message : This is message\n",
      "Thread ID : 1 Message : This is message\n",
      "main() : creating thread, 4\n",
      "Thread ID : -252337388 Message : \n"
     ]
    }
   ],
   "source": [
    "{\n",
    "   pthread_t threads[NUM_THREADS];\n",
    "   struct thread_data td[NUM_THREADS];\n",
    "   int rc;\n",
    "   int i;\n",
    " \n",
    "   for( i=0; i < NUM_THREADS; i++ ){\n",
    "      cout <<\"main() : creating thread, \" << i << endl;\n",
    "      td[i].thread_id = i;\n",
    "      td[i].message = (char*)\"This is message\";\n",
    "      rc = pthread_create(&threads[i], NULL,\n",
    "                          PrintHello, (void *)&td[i]);\n",
    "      if (rc){\n",
    "         cout << \"Error:unable to create thread,\" << rc << endl;\n",
    "         exit(-1);\n",
    "      }\n",
    "   }\n",
    "   pthread_exit(NULL);\n",
    "}"
   ]
  },
  {
   "cell_type": "markdown",
   "metadata": {},
   "source": [
    "## 连接和分离线程\n",
    "我们可以使用以下两个函数来连接或分离线程：\n",
    "```cpp\n",
    "pthread_join (threadid, status) \n",
    "pthread_detach (threadid) \n",
    "```\n",
    "pthread_join() 子程序阻碍调用程序，直到指定的 threadid 线程终止为止。当创建一个线程时，它的某个属性会定义它是否是可连接的（joinable）或可分离的（detached）。只有创建时定义为可连接的线程才可以被连接。如果线程创建时被定义为可分离的，则它永远也不能被连接。"
   ]
  },
  {
   "cell_type": "code",
   "execution_count": 1,
   "metadata": {},
   "outputs": [],
   "source": [
    "#include <iostream>\n",
    "#include <cstdlib>\n",
    "#include <pthread.h>\n",
    "#include <unistd.h>\n",
    " \n",
    "using namespace std;\n",
    " \n",
    "#define NUM_THREADS     5"
   ]
  },
  {
   "cell_type": "code",
   "execution_count": 2,
   "metadata": {},
   "outputs": [],
   "source": [
    "void *wait(void *t)\n",
    "{\n",
    "   int i;\n",
    "   long tid;\n",
    " \n",
    "   tid = (long)t;\n",
    " \n",
    "   sleep(1);\n",
    "   cout << \"Sleeping in thread \" << endl;\n",
    "   cout << \"Thread with id : \" << tid << \"  ...exiting \" << endl;\n",
    "   pthread_exit(NULL);\n",
    "}"
   ]
  },
  {
   "cell_type": "code",
   "execution_count": null,
   "metadata": {},
   "outputs": [
    {
     "name": "stdout",
     "output_type": "stream",
     "text": [
      "main() : creating thread, 0\n",
      "main() : creating thread, 1\n",
      "main() : creating thread, 2\n",
      "main() : creating thread, 3\n",
      "main() : creating thread, 4\n",
      "Sleeping in thread \n",
      "Thread with id : 140736447153232  ...exiting \n",
      "Sleeping in thread \n",
      "Sleeping in thread \n",
      "\u0000hread with id : 140736447153232  ...exiting \n",
      "Sleeping in thread \n",
      "\u0000hread with id : 140736447153232  ...exiting \n",
      "Sleeping in thThread with id : 140736447153232  ...exiting \n",
      "Thread with id : 140736447153232  ...exiting \n",
      "Thread with id : 140736447153232  ...exiting \n",
      "Sleeping in thread \n",
      "Thread with id : 140736447153232  ...exiting \n",
      "Thread with id : 140736447153232  ...exiting \n",
      "0\n",
      "Main: completed thread id :1  exiting with status :0\n",
      "Main: completed thread id :2  exiting with status :0\n",
      "Main: completed thread id :3  exiting with status :0\n",
      "Main: completed thread id :4  exiting with status :0\n",
      "Main: program exiting.\n"
     ]
    }
   ],
   "source": [
    "{\n",
    "   int rc;\n",
    "   int i;\n",
    "   pthread_t threads[NUM_THREADS];\n",
    "   pthread_attr_t attr;\n",
    "   void *status;\n",
    " \n",
    "   // 初始化并设置线程为可连接的（joinable）\n",
    "   pthread_attr_init(&attr);\n",
    "   pthread_attr_setdetachstate(&attr, PTHREAD_CREATE_JOINABLE);\n",
    " \n",
    "   for( i=0; i < NUM_THREADS; i++ ){\n",
    "      cout << \"main() : creating thread, \" << i << endl;\n",
    "      rc = pthread_create(&threads[i], NULL, wait, (void *)&i );\n",
    "      if (rc){\n",
    "         cout << \"Error:unable to create thread,\" << rc << endl;\n",
    "         exit(-1);\n",
    "      }\n",
    "   }\n",
    " \n",
    "   // 删除属性，并等待其他线程\n",
    "   pthread_attr_destroy(&attr);\n",
    "   for( i=0; i < NUM_THREADS; i++ ){\n",
    "      rc = pthread_join(threads[i], &status);\n",
    "      if (rc){\n",
    "         cout << \"Error:unable to join,\" << rc << endl;\n",
    "         exit(-1);\n",
    "      }\n",
    "      cout << \"Main: completed thread id :\" << i ;\n",
    "      cout << \"  exiting with status :\" << status << endl;\n",
    "   }\n",
    " \n",
    "   cout << \"Main: program exiting.\" << endl;\n",
    "   pthread_exit(NULL);\n",
    "}"
   ]
  },
  {
   "cell_type": "code",
   "execution_count": null,
   "metadata": {},
   "outputs": [],
   "source": []
  },
  {
   "cell_type": "code",
   "execution_count": null,
   "metadata": {},
   "outputs": [],
   "source": []
  },
  {
   "cell_type": "code",
   "execution_count": null,
   "metadata": {},
   "outputs": [],
   "source": []
  }
 ],
 "metadata": {
  "kernelspec": {
   "display_name": "C++11",
   "language": "C++11",
   "name": "xcpp11"
  },
  "language_info": {
   "codemirror_mode": "text/x-c++src",
   "file_extension": ".cpp",
   "mimetype": "text/x-c++src",
   "name": "c++",
   "version": "11"
  }
 },
 "nbformat": 4,
 "nbformat_minor": 4
}

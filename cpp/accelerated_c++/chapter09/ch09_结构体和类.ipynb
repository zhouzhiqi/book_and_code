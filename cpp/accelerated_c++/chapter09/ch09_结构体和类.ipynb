{
 "cells": [
  {
   "cell_type": "code",
   "execution_count": 1,
   "metadata": {},
   "outputs": [],
   "source": [
    "#include <algorithm>\n",
    "#include <stdexcept>\n",
    "#include <vector>\n",
    "#include <iostream>"
   ]
  },
  {
   "cell_type": "markdown",
   "metadata": {},
   "source": [
    "# 自定义类型"
   ]
  },
  {
   "cell_type": "code",
   "execution_count": 2,
   "metadata": {},
   "outputs": [],
   "source": [
    "// **.h\n",
    "struct Student_info {\n",
    "    std::string name;\n",
    "    double midterm, final;\n",
    "    std::vector<double> homework;\n",
    "    \n",
    "    std::istream read(std::istream&);\n",
    "    double grade() const;\n",
    "};"
   ]
  },
  {
   "cell_type": "code",
   "execution_count": null,
   "metadata": {},
   "outputs": [],
   "source": [
    "std::istream& Student_info::read(std::istream& in)\n",
    "{\n",
    "    in >> name >> midterm >> final;\n",
    "    read_hw(in, homework);\n",
    "    return in;\n",
    "}"
   ]
  },
  {
   "cell_type": "code",
   "execution_count": null,
   "metadata": {},
   "outputs": [],
   "source": [
    "double Student_info::grade() const\n",
    "{\n",
    "    return ::grade(midterm, final, homework);\n",
    "}"
   ]
  },
  {
   "cell_type": "markdown",
   "metadata": {},
   "source": [
    "# 保护成员"
   ]
  },
  {
   "cell_type": "code",
   "execution_count": null,
   "metadata": {},
   "outputs": [],
   "source": [
    "class Student_info\n",
    "{\n",
    "    public:\n",
    "        // 类提供的接口\n",
    "        double grade() const;\n",
    "        std::istream& read(std::istream&);\n",
    "    \n",
    "    private:\n",
    "        // 类成员\n",
    "        std::string name;\n",
    "        double midterm, final;\n",
    "        std::vector<double> homework;\n",
    "        \n",
    "};"
   ]
  },
  {
   "cell_type": "code",
   "execution_count": null,
   "metadata": {},
   "outputs": [],
   "source": [
    "// 未指定公有私有情况下\n",
    "// class   默认私有\n",
    "// struct  默认共有"
   ]
  },
  {
   "cell_type": "markdown",
   "metadata": {},
   "source": [
    "# 存取器函数"
   ]
  },
  {
   "cell_type": "code",
   "execution_count": null,
   "metadata": {},
   "outputs": [],
   "source": [
    "class Student_info\n",
    "{\n",
    "    public:\n",
    "        // 类提供的接口\n",
    "        double grade() const;\n",
    "        std::istream& read(std::istream&);\n",
    "        std::string name() const \n",
    "        {\n",
    "            return n; // 改动\n",
    "        }\n",
    "    \n",
    "    private:\n",
    "        // 类成员\n",
    "        std::string n; // 改动\n",
    "        double midterm, final;\n",
    "        std::vector<double> homework;\n",
    "        \n",
    "};"
   ]
  },
  {
   "cell_type": "code",
   "execution_count": null,
   "metadata": {},
   "outputs": [],
   "source": [
    "bool compare(const Student_info& x, const Student_info& y)\n",
    "{\n",
    "    return x.name() < y.name();\n",
    "}"
   ]
  },
  {
   "cell_type": "code",
   "execution_count": null,
   "metadata": {},
   "outputs": [],
   "source": [
    "class Student_info\n",
    "{\n",
    "    public:\n",
    "        bool valid() // 检查对象是否为空\n",
    "        {\n",
    "            return !homework.empty();\n",
    "        }\n",
    "        // 类提供的接口\n",
    "        double grade() const;\n",
    "        std::istream& read(std::istream&);\n",
    "        std::string name() const \n",
    "        {\n",
    "            return n; // 改动\n",
    "        }\n",
    "    \n",
    "    private:\n",
    "        // 类成员\n",
    "        std::string n; // 改动\n",
    "        double midterm, final;\n",
    "        std::vector<double> homework;\n",
    "        \n",
    "};"
   ]
  },
  {
   "cell_type": "markdown",
   "metadata": {},
   "source": [
    "# 构造函数"
   ]
  },
  {
   "cell_type": "code",
   "execution_count": null,
   "metadata": {},
   "outputs": [],
   "source": [
    "class Student_info\n",
    "{\n",
    "    public:\n",
    "    Student_info();               // 构造一个空对象\n",
    "    Student_info(std::istream&);  //  从 cin 读取数据从而构造一个对象\n",
    "}"
   ]
  },
  {
   "cell_type": "code",
   "execution_count": null,
   "metadata": {},
   "outputs": [],
   "source": [
    "Student_info::Student_info() : midterm(0), final(0) {}  // 构造对象时传入默认值"
   ]
  },
  {
   "cell_type": "code",
   "execution_count": null,
   "metadata": {},
   "outputs": [],
   "source": [
    "Student_info::Student_info(stdistream& is) { read(is); }"
   ]
  },
  {
   "cell_type": "markdown",
   "metadata": {},
   "source": [
    "# 使用Student_info类"
   ]
  },
  {
   "cell_type": "code",
   "execution_count": null,
   "metadata": {},
   "outputs": [],
   "source": [
    "{\n",
    "    vector<Student_info> students; \n",
    "    Student_info record; \n",
    "    string::size_type maxlen = 0;\n",
    "    \n",
    "    // read and store the data \n",
    "    while (record.read(cin)) { // changed \n",
    "        maxlen = max(maxlen, record.name().size()) // changed\n",
    "        students.push_back(record); \n",
    "    }\n",
    "    \n",
    "    // alphabetize the student records \n",
    "    sort(students.begin(), students.end(), compare);\n",
    "    // write the names and grades\n",
    "    for (vector<Student_info>::size_type i = 0;\n",
    "        i != students.size(); ++i) { cout << students[i].name()  // changed \n",
    "        << string(maxlen + 1 - students[i].name.size(), ' ');\n",
    "        try {\n",
    "            double final_grade = students[i].grade();     // changed\n",
    "            streamsize prec = cout.precision();\n",
    "            cout << setprecision(3) << final_grade\n",
    "                 << setprecision(prec) << endl; \n",
    "        } catch (domain_error e) {\n",
    "            cout << e.what() << endl; \n",
    "        }\n",
    "    }\n",
    "    return 0; \n",
    "}\n"
   ]
  }
 ],
 "metadata": {
  "kernelspec": {
   "display_name": "C++11",
   "language": "C++11",
   "name": "xcpp11"
  },
  "language_info": {
   "codemirror_mode": "text/x-c++src",
   "file_extension": ".cpp",
   "mimetype": "text/x-c++src",
   "name": "c++",
   "version": "11"
  }
 },
 "nbformat": 4,
 "nbformat_minor": 4
}

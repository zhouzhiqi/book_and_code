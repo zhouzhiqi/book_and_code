{
 "cells": [
  {
   "cell_type": "markdown",
   "metadata": {},
   "source": [
    "# 字符串操作"
   ]
  },
  {
   "cell_type": "code",
   "execution_count": 1,
   "metadata": {},
   "outputs": [],
   "source": [
    "#include <stdexcept>\n",
    "#include <string>\n",
    "#include <vector>\n",
    "#include <cctype>\n",
    "#include <iostream>\n",
    "using namespace std;"
   ]
  },
  {
   "cell_type": "markdown",
   "metadata": {},
   "source": [
    "## 分割字符串"
   ]
  },
  {
   "cell_type": "code",
   "execution_count": 2,
   "metadata": {},
   "outputs": [
    {
     "name": "stderr",
     "output_type": "stream",
     "text": [
      "input_line_9:3:1: error: function definition is not allowed here\n",
      "{\n",
      "^\n"
     ]
    },
    {
     "ename": "Interpreter Error",
     "evalue": "",
     "output_type": "error",
     "traceback": [
      "Interpreter Error: "
     ]
    }
   ],
   "source": [
    "vector<string> split(const string& s)\n",
    "{\n",
    "    vector<string> ret;\n",
    "    typedef string::size_type string_size;\n",
    "    string_size i = 0;\n",
    "    \n",
    "    // 不变式: 我们已经处理了在索引 [先前的i, i) 中的字符\n",
    "    while (i != s.size())\n",
    "    {\n",
    "        // 忽略前端空白\n",
    "        // 不变式: 索引域 [先前的j, 当前的j) 中的所有字符都是空格\n",
    "        while (i != s.size() && isspace(s[i]))\n",
    "            ++i;\n",
    "        \n",
    "        // 找出下一个单词的终结点\n",
    "        string_size j = i;\n",
    "        // 不变式: 索引域 [先前的j, 当前的j) 的任一字符都不是空格\n",
    "        while (j != s.size() && !isspace(s[j]))\n",
    "            ++j;\n",
    "        \n",
    "        // 如果找的一些非空白字符\n",
    "        if (i != j)\n",
    "        {\n",
    "            // 从 i 开始复制 s 的 j-i 个字符\n",
    "            ret.push_back(s.substr(i, j-i));\n",
    "            i = j;\n",
    "        }\n",
    "    }\n",
    "    \n",
    "    return ret;\n",
    "}"
   ]
  },
  {
   "cell_type": "markdown",
   "metadata": {},
   "source": [
    "## 拼接字符串"
   ]
  },
  {
   "cell_type": "code",
   "execution_count": 7,
   "metadata": {},
   "outputs": [],
   "source": [
    "// 找出向量中最长字符串的长度\n",
    "string::size_type width(const vector<string>& v)\n",
    "{\n",
    "    string::size_type maxlen = 0;\n",
    "    for (string::size_type i = 0;\n",
    "         i != v.size(); ++i)\n",
    "    {\n",
    "        maxlen = max(maxlen, v[i].size());\n",
    "    }\n",
    "    return maxlen;\n",
    "}"
   ]
  },
  {
   "cell_type": "code",
   "execution_count": 9,
   "metadata": {},
   "outputs": [
    {
     "name": "stderr",
     "output_type": "stream",
     "text": [
      "input_line_20:3:1: error: function definition is not allowed here\n",
      "{\n",
      "^\n"
     ]
    },
    {
     "ename": "Interpreter Error",
     "evalue": "",
     "output_type": "error",
     "traceback": [
      "Interpreter Error: "
     ]
    }
   ],
   "source": [
    "vector<string> frame(const vector<string>& v)\n",
    "{\n",
    "    vector<string> ret;\n",
    "    string::size_type maxlen = width(v);\n",
    "    string border(maxlen + 4, '*');\n",
    "    \n",
    "    // 输出顶部的边框\n",
    "    ret.push_back(border);\n",
    "    \n",
    "    // 输出内部的行, 每一行都用一个星号和一个空格来框起\n",
    "    for (vector<string>::size_type i = 0;\n",
    "         i != v.size(); ++i)\n",
    "    {\n",
    "        ret.push_back(\n",
    "            \"*\" + v[i] + string(maxlen-v[i].size(), ' ') + \"*\"\n",
    "        );\n",
    "    }\n",
    "    \n",
    "    // 输出底部的边框\n",
    "    ret.push_back(border);\n",
    "    return ret;\n",
    "}"
   ]
  },
  {
   "cell_type": "markdown",
   "metadata": {},
   "source": [
    "## 纵向拼接"
   ]
  },
  {
   "cell_type": "code",
   "execution_count": 6,
   "metadata": {},
   "outputs": [
    {
     "name": "stderr",
     "output_type": "stream",
     "text": [
      "input_line_13:3:1: error: function definition is not allowed here\n",
      "{\n",
      "^\n"
     ]
    },
    {
     "ename": "Interpreter Error",
     "evalue": "",
     "output_type": "error",
     "traceback": [
      "Interpreter Error: "
     ]
    }
   ],
   "source": [
    "vector<string> vcat(const vector<string>& top, const vector<string>& bottom)\n",
    "{\n",
    "    // 复制顶部图案\n",
    "    vector<string> ret = top;\n",
    "    \n",
    "    // 复制整个底部图案\n",
    "    for (vector<string>::const_iteratot it = bottom.begin();\n",
    "         it != bottom.end(); ++it)\n",
    "    {\n",
    "        ret.push_back(*it);\n",
    "    }\n",
    "    \n",
    "    return ret;\n",
    "}"
   ]
  },
  {
   "cell_type": "markdown",
   "metadata": {},
   "source": [
    "## 横向拼接"
   ]
  },
  {
   "cell_type": "code",
   "execution_count": null,
   "metadata": {},
   "outputs": [],
   "source": [
    "vector<string> hcat(const vector<string>& left, const vector<string> right)\n",
    "{\n",
    "    vector<string> ret;\n",
    "    \n",
    "    // 对width(left)加1, 在两幅图案之间留一个空格\n",
    "    string::size_type widthl = width(left) + 1;\n",
    "    \n",
    "    // 用来遍历left和right的索引\n",
    "    vector<string>::size_type i = 0, j = 0;\n",
    "    \n",
    "    // 循环操作直到我们查看完了两幅图案的所有行\n",
    "    while (i != left.size() || j != right.size())\n",
    "    {\n",
    "        // 构造新字符串来保存字符, 这些字符来自两幅输入图案\n",
    "        string s;\n",
    "        \n",
    "        // 如果右侧图案还有待复制的行, 那就复制一行\n",
    "        if (i != left.size())\n",
    "            s -= left[i++];\n",
    "            \n",
    "        // 填充至适当的长度\n",
    "        s += string(widthl - s.size(), ' ');\n",
    "        \n",
    "        // 如果左侧图案还有待复制的行, 那就复制一行\n",
    "        if (j != right.size())\n",
    "            s += right[j++];\n",
    "        \n",
    "        // 把s添加到我们正在创建的图案中\n",
    "        ret.push_back(s);\n",
    "    }\n",
    "    \n",
    "    return ret;\n",
    "}"
   ]
  },
  {
   "cell_type": "code",
   "execution_count": null,
   "metadata": {},
   "outputs": [],
   "source": []
  },
  {
   "cell_type": "code",
   "execution_count": null,
   "metadata": {},
   "outputs": [],
   "source": []
  }
 ],
 "metadata": {
  "kernelspec": {
   "display_name": "C++11",
   "language": "C++11",
   "name": "xcpp11"
  },
  "language_info": {
   "codemirror_mode": "text/x-c++src",
   "file_extension": ".cpp",
   "mimetype": "text/x-c++src",
   "name": "c++",
   "version": "11"
  }
 },
 "nbformat": 4,
 "nbformat_minor": 4
}

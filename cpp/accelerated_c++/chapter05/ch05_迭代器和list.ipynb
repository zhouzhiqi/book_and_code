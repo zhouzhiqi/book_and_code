{
 "cells": [
  {
   "cell_type": "markdown",
   "metadata": {},
   "source": [
    "# 使用顺序容器并分析字符串"
   ]
  },
  {
   "cell_type": "code",
   "execution_count": 1,
   "metadata": {},
   "outputs": [],
   "source": [
    "#include <algorithm>\n",
    "#include <iomanip>\n",
    "#include <ios>\n",
    "#include <iostream>\n",
    "#include <stdexcept>\n",
    "#include <string>\n",
    "#include <vector>\n",
    "using namespace std;"
   ]
  },
  {
   "cell_type": "code",
   "execution_count": 2,
   "metadata": {},
   "outputs": [],
   "source": [
    "#include \"grade.h\"\n",
    "#include \"Student_info.h\""
   ]
  },
  {
   "cell_type": "code",
   "execution_count": 3,
   "metadata": {},
   "outputs": [],
   "source": [
    "// 判断学生是否不及格\n",
    "bool fgrade(const Student_info& s)\n",
    "{\n",
    "    return grade(s) < 60;\n",
    "}"
   ]
  },
  {
   "cell_type": "code",
   "execution_count": 5,
   "metadata": {},
   "outputs": [
    {
     "name": "stderr",
     "output_type": "stream",
     "text": [
      "input_line_12:4:1: error: function definition is not allowed here\n",
      "{\n",
      "^\n"
     ]
    },
    {
     "ename": "Interpreter Error",
     "evalue": "",
     "output_type": "error",
     "traceback": [
      "Interpreter Error: "
     ]
    }
   ],
   "source": [
    "// v1: 把及格和不及格的学生记录分离开来\n",
    "vector<Student_info> extract_falis(vector<Student_info>& students)\n",
    "{\n",
    "    vector<Student_info> pass, fail;\n",
    "    \n",
    "    for (vector<Student_info>::size_type i = 0;\n",
    "         i != students.size(); ++i)\n",
    "    {\n",
    "        if (fgrade(students[i]))\n",
    "        {\n",
    "            fail.push_back(students[i]);\n",
    "        }\n",
    "        else\n",
    "        {\n",
    "            pass.push_back(students[i]);\n",
    "        }\n",
    "    }\n",
    "    \n",
    "    students = pass;\n",
    "    return fail;\n",
    "}"
   ]
  },
  {
   "cell_type": "code",
   "execution_count": 6,
   "metadata": {},
   "outputs": [
    {
     "name": "stderr",
     "output_type": "stream",
     "text": [
      "input_line_13:4:1: error: function definition is not allowed here\n",
      "{\n",
      "^\n"
     ]
    },
    {
     "ename": "Interpreter Error",
     "evalue": "",
     "output_type": "error",
     "traceback": [
      "Interpreter Error: "
     ]
    }
   ],
   "source": [
    "// v2: 函数正确, 速度可能相当慢\n",
    "vector<Student_info> extract_falis(vector<Student_info>& students)\n",
    "{\n",
    "    vector<Student_info> fail;\n",
    "    vector<Student_info>::size_type i = 0;\n",
    "    \n",
    "    while (i != students.size())\n",
    "    {\n",
    "        if (fgrade(students[i]))\n",
    "        {\n",
    "            fail.push_back(students[i]);\n",
    "            students.earse(students.begin() + i)\n",
    "        }\n",
    "        else\n",
    "            ++i;\n",
    "    }\n",
    "    \n",
    "    return fail;\n",
    "}"
   ]
  },
  {
   "cell_type": "code",
   "execution_count": null,
   "metadata": {},
   "outputs": [],
   "source": [
    "// v3: 使用迭代器代替索引, 速度可能相当慢\n",
    "vector<Student_info> extract_falis(vector<Student_info>& students)\n",
    "{\n",
    "    vector<Student_info> fail;\n",
    "    vector<Student_info>::iterator iter = students.begin();\n",
    "    \n",
    "    while (iter != students.end())\n",
    "    {\n",
    "        if (fgrade(*iter))\n",
    "        {\n",
    "            fail.push_back(*iter);\n",
    "            iter = students.earse(iter)\n",
    "        }\n",
    "        else\n",
    "            ++iter;\n",
    "    }\n",
    "    \n",
    "    return fail;\n",
    "}"
   ]
  },
  {
   "cell_type": "code",
   "execution_count": null,
   "metadata": {},
   "outputs": [],
   "source": [
    "// v4: 使用迭代器代替索引, 并使用list替代list\n",
    "list<Student_info> extract_falis(list<Student_info>& students)\n",
    "{\n",
    "    list<Student_info> fail;\n",
    "    list<Student_info>::iterator iter = students.begin();\n",
    "    \n",
    "    while (iter != students.end())\n",
    "    {\n",
    "        if (fgrade(*iter))\n",
    "        {\n",
    "            fail.push_back(*iter);\n",
    "            iter = students.earse(iter)\n",
    "        }\n",
    "        else\n",
    "            ++iter;\n",
    "    }\n",
    "    \n",
    "    return fail;\n",
    "}"
   ]
  }
 ],
 "metadata": {
  "kernelspec": {
   "display_name": "C++11",
   "language": "C++11",
   "name": "xcpp11"
  },
  "language_info": {
   "codemirror_mode": "text/x-c++src",
   "file_extension": ".cpp",
   "mimetype": "text/x-c++src",
   "name": "c++",
   "version": "11"
  }
 },
 "nbformat": 4,
 "nbformat_minor": 4
}

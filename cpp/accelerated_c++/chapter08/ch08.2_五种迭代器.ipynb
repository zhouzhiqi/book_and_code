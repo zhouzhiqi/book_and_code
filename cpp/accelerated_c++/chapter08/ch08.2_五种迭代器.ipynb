{
 "cells": [
  {
   "cell_type": "code",
   "execution_count": 1,
   "metadata": {},
   "outputs": [],
   "source": [
    "#include <algorithm>\n",
    "#include <stdexcept>\n",
    "#include <vector>\n",
    "#include <iostream>"
   ]
  },
  {
   "cell_type": "code",
   "execution_count": 2,
   "metadata": {},
   "outputs": [],
   "source": [
    "using namespace std;"
   ]
  },
  {
   "cell_type": "code",
   "execution_count": 3,
   "metadata": {},
   "outputs": [],
   "source": [
    "vector<int> vec_temp = {1,2,3,4,5,6,7,8,9,0,};"
   ]
  },
  {
   "cell_type": "markdown",
   "metadata": {},
   "source": [
    "# 顺序只读访问"
   ]
  },
  {
   "cell_type": "code",
   "execution_count": 4,
   "metadata": {},
   "outputs": [],
   "source": [
    "template <class In, class X>\n",
    "In my_find(In begin, In end, const X& x)\n",
    "{\n",
    "    while (begin != end && *begin != x)\n",
    "        ++begin;\n",
    "    return begin;\n",
    "}"
   ]
  },
  {
   "cell_type": "code",
   "execution_count": 5,
   "metadata": {},
   "outputs": [],
   "source": [
    "vector<int>::iterator iter = my_find(vec_temp.begin(), vec_temp.end(), 5)"
   ]
  },
  {
   "cell_type": "code",
   "execution_count": 6,
   "metadata": {},
   "outputs": [
    {
     "name": "stdout",
     "output_type": "stream",
     "text": [
      " = 5\n"
     ]
    }
   ],
   "source": [
    "cout << \" = \" << *iter << endl;"
   ]
  },
  {
   "cell_type": "markdown",
   "metadata": {},
   "source": [
    "# 顺序只写访问"
   ]
  },
  {
   "cell_type": "code",
   "execution_count": 7,
   "metadata": {},
   "outputs": [],
   "source": [
    "template<class In, class Out>\n",
    "Out my_copy(In begin, In end, Out dest)\n",
    "{\n",
    "    while (begin != end)\n",
    "        *dest++ = *begin++;\n",
    "        \n",
    "    return dest;\n",
    "}"
   ]
  },
  {
   "cell_type": "code",
   "execution_count": 8,
   "metadata": {},
   "outputs": [],
   "source": [
    "vector<int> vec_dest = {0,0,0,0,0,0,0,0,0,0,0,0,0,0,0,};"
   ]
  },
  {
   "cell_type": "code",
   "execution_count": 9,
   "metadata": {},
   "outputs": [],
   "source": [
    "vector<int>::iterator iter_out = my_copy(vec_temp.begin(), vec_temp.end(), vec_dest.begin());"
   ]
  },
  {
   "cell_type": "code",
   "execution_count": 10,
   "metadata": {},
   "outputs": [
    {
     "data": {
      "text/plain": [
       "0"
      ]
     },
     "execution_count": 10,
     "metadata": {},
     "output_type": "execute_result"
    }
   ],
   "source": [
    "*iter_out"
   ]
  },
  {
   "cell_type": "code",
   "execution_count": 11,
   "metadata": {},
   "outputs": [
    {
     "data": {
      "text/plain": [
       "{ 1, 2, 3, 4, 5, 6, 7, 8, 9, 0, 0, 0, 0, 0, 0 }"
      ]
     },
     "execution_count": 11,
     "metadata": {},
     "output_type": "execute_result"
    }
   ],
   "source": [
    "vec_dest"
   ]
  },
  {
   "cell_type": "markdown",
   "metadata": {},
   "source": [
    "# 顺序读写访问"
   ]
  },
  {
   "cell_type": "code",
   "execution_count": 12,
   "metadata": {},
   "outputs": [],
   "source": [
    "template <class For, class X>\n",
    "void my_replace(For beg, For end, const X& x, const X& y)\n",
    "{\n",
    "    while (beg != end)\n",
    "    {\n",
    "        if (*beg == x)\n",
    "            *beg = y;\n",
    "        ++beg;\n",
    "    }\n",
    "}"
   ]
  },
  {
   "cell_type": "code",
   "execution_count": 13,
   "metadata": {},
   "outputs": [],
   "source": [
    "my_replace(vec_dest.begin(), vec_dest.end(), 5, 666)"
   ]
  },
  {
   "cell_type": "code",
   "execution_count": 14,
   "metadata": {},
   "outputs": [
    {
     "data": {
      "text/plain": [
       "{ 1, 2, 3, 4, 666, 6, 7, 8, 9, 0, 0, 0, 0, 0, 0 }"
      ]
     },
     "execution_count": 14,
     "metadata": {},
     "output_type": "execute_result"
    }
   ],
   "source": [
    "vec_dest"
   ]
  },
  {
   "cell_type": "markdown",
   "metadata": {},
   "source": [
    "# 可逆访问"
   ]
  },
  {
   "cell_type": "code",
   "execution_count": 15,
   "metadata": {},
   "outputs": [],
   "source": [
    "template <class Bi>\n",
    "void my_reverse(Bi begin, Bi end)\n",
    "{\n",
    "    while (begin != end)\n",
    "    {\n",
    "        --end;\n",
    "        if (begin != end)\n",
    "            swap(*begin++, &end);\n",
    "    }\n",
    "}"
   ]
  },
  {
   "cell_type": "code",
   "execution_count": 16,
   "metadata": {},
   "outputs": [
    {
     "name": "stderr",
     "output_type": "stream",
     "text": [
      "input_line_26:8:13: error: no matching function for call to 'swap'\n",
      "            swap(*begin++, &end);\n",
      "            ^~~~\n",
      "input_line_27:2:2: note: in instantiation of function template specialization 'my_reverse<__gnu_cxx::__normal_iterator<int *, std::vector<int, std::allocator<int> > > >' requested here\n",
      " my_reverse(vec_dest.begin(), vec_dest.end())\n",
      " ^\n",
      "/root/miniconda3/envs/cling/bin/../lib/gcc/x86_64-conda_cos6-linux-gnu/7.5.0/../../../../x86_64-conda_cos6-linux-gnu/include/c++/7.5.0/bits/stl_bvector.h:112:3: note: candidate function not viable: no known conversion from 'int' to 'std::_Bit_reference' for 1st argument\n",
      "  swap(_Bit_reference __x, _Bit_reference __y) noexcept\n",
      "  ^\n",
      "/root/miniconda3/envs/cling/bin/../lib/gcc/x86_64-conda_cos6-linux-gnu/7.5.0/../../../../x86_64-conda_cos6-linux-gnu/include/c++/7.5.0/bits/stl_bvector.h:120:3: note: candidate function not viable: no known conversion from 'int' to 'std::_Bit_reference' for 1st argument\n",
      "  swap(_Bit_reference __x, bool& __y) noexcept\n",
      "  ^\n",
      "/root/miniconda3/envs/cling/bin/../lib/gcc/x86_64-conda_cos6-linux-gnu/7.5.0/../../../../x86_64-conda_cos6-linux-gnu/include/c++/7.5.0/bits/stl_bvector.h:128:3: note: candidate function not viable: no known conversion from 'int' to 'bool &' for 1st argument\n",
      "  swap(bool& __x, _Bit_reference __y) noexcept\n",
      "  ^\n",
      "/root/miniconda3/envs/cling/bin/../lib/gcc/x86_64-conda_cos6-linux-gnu/7.5.0/../../../../x86_64-conda_cos6-linux-gnu/include/c++/7.5.0/bits/move.h:187:5: note: candidate template ignored: deduced conflicting types for parameter '_Tp' ('int' vs. '__gnu_cxx::__normal_iterator<int *, std::vector<int, std::allocator<int> > > *')\n",
      "    swap(_Tp& __a, _Tp& __b)\n",
      "    ^\n",
      "/root/miniconda3/envs/cling/bin/../lib/gcc/x86_64-conda_cos6-linux-gnu/7.5.0/../../../../x86_64-conda_cos6-linux-gnu/include/c++/7.5.0/bits/move.h:210:5: note: candidate template ignored: could not match '_Tp [_Nm]' against 'int'\n",
      "    swap(_Tp (&__a)[_Nm], _Tp (&__b)[_Nm])\n",
      "    ^\n",
      "/root/miniconda3/envs/cling/bin/../lib/gcc/x86_64-conda_cos6-linux-gnu/7.5.0/../../../../x86_64-conda_cos6-linux-gnu/include/c++/7.5.0/bits/stl_pair.h:495:5: note: candidate template ignored: could not match 'pair<type-parameter-0-0, type-parameter-0-1>' against 'int'\n",
      "    swap(pair<_T1, _T2>& __x, pair<_T1, _T2>& __y)\n",
      "    ^\n",
      "/root/miniconda3/envs/cling/bin/../lib/gcc/x86_64-conda_cos6-linux-gnu/7.5.0/../../../../x86_64-conda_cos6-linux-gnu/include/c++/7.5.0/bits/basic_string.h:6246:5: note: candidate template ignored: could not match 'basic_string<type-parameter-0-0, type-parameter-0-1, type-parameter-0-2>' against 'int'\n",
      "    swap(basic_string<_CharT, _Traits, _Alloc>& __lhs,\n",
      "    ^\n",
      "/root/miniconda3/envs/cling/bin/../lib/gcc/x86_64-conda_cos6-linux-gnu/7.5.0/../../../../x86_64-conda_cos6-linux-gnu/include/c++/7.5.0/array:294:5: note: candidate template ignored: could not match 'array<type-parameter-0-0, _Nm>' against 'int'\n",
      "    swap(array<_Tp, _Nm>& __one, array<_Tp, _Nm>& __two)\n",
      "    ^\n",
      "/root/miniconda3/envs/cling/bin/../lib/gcc/x86_64-conda_cos6-linux-gnu/7.5.0/../../../../x86_64-conda_cos6-linux-gnu/include/c++/7.5.0/tuple:1602:5: note: candidate template ignored: could not match 'tuple<type-parameter-0-0...>' against 'int'\n",
      "    swap(tuple<_Elements...>& __x, tuple<_Elements...>& __y)\n",
      "    ^\n",
      "/root/miniconda3/envs/cling/bin/../lib/gcc/x86_64-conda_cos6-linux-gnu/7.5.0/../../../../x86_64-conda_cos6-linux-gnu/include/c++/7.5.0/bits/std_function.h:803:5: note: candidate template ignored: could not match 'function<type-parameter-0-0 (type-parameter-0-1...)>' against 'int'\n",
      "    swap(function<_Res(_Args...)>& __x, function<_Res(_Args...)>& __y) noexcept\n",
      "    ^\n",
      "/root/miniconda3/envs/cling/bin/../lib/gcc/x86_64-conda_cos6-linux-gnu/7.5.0/../../../../x86_64-conda_cos6-linux-gnu/include/c++/7.5.0/bits/stl_vector.h:1649:5: note: candidate template ignored: could not match 'vector<type-parameter-0-0, type-parameter-0-1>' against 'int'\n",
      "    swap(vector<_Tp, _Alloc>& __x, vector<_Tp, _Alloc>& __y)\n",
      "    ^\n",
      "/root/miniconda3/envs/cling/bin/../lib/gcc/x86_64-conda_cos6-linux-gnu/7.5.0/../../../../x86_64-conda_cos6-linux-gnu/include/c++/7.5.0/bits/stl_list.h:1949:5: note: candidate template ignored: could not match 'list<type-parameter-0-0, type-parameter-0-1>' against 'int'\n",
      "    swap(list<_Tp, _Alloc>& __x, list<_Tp, _Alloc>& __y)\n",
      "    ^\n",
      "/root/miniconda3/envs/cling/bin/../lib/gcc/x86_64-conda_cos6-linux-gnu/7.5.0/../../../../x86_64-conda_cos6-linux-gnu/include/c++/7.5.0/bits/stl_tree.h:1581:5: note: candidate template ignored: could not match '_Rb_tree<type-parameter-0-0, type-parameter-0-1, type-parameter-0-2, type-parameter-0-3, type-parameter-0-4>' against 'int'\n",
      "    swap(_Rb_tree<_Key, _Val, _KeyOfValue, _Compare, _Alloc>& __x,\n",
      "    ^\n",
      "/root/miniconda3/envs/cling/bin/../lib/gcc/x86_64-conda_cos6-linux-gnu/7.5.0/../../../../x86_64-conda_cos6-linux-gnu/include/c++/7.5.0/bits/stl_map.h:1446:5: note: candidate template ignored: could not match 'map<type-parameter-0-0, type-parameter-0-1, type-parameter-0-2, type-parameter-0-3>' against 'int'\n",
      "    swap(map<_Key, _Tp, _Compare, _Alloc>& __x,\n",
      "    ^\n",
      "/root/miniconda3/envs/cling/bin/../lib/gcc/x86_64-conda_cos6-linux-gnu/7.5.0/../../../../x86_64-conda_cos6-linux-gnu/include/c++/7.5.0/bits/stl_multimap.h:1111:5: note: candidate template ignored: could not match 'multimap<type-parameter-0-0, type-parameter-0-1, type-parameter-0-2, type-parameter-0-3>' against 'int'\n",
      "    swap(multimap<_Key, _Tp, _Compare, _Alloc>& __x,\n",
      "    ^\n",
      "/root/miniconda3/envs/cling/bin/../lib/gcc/x86_64-conda_cos6-linux-gnu/7.5.0/../../../../x86_64-conda_cos6-linux-gnu/include/c++/7.5.0/bits/unique_ptr.h:665:5: note: candidate template ignored: could not match 'unique_ptr<type-parameter-0-0, type-parameter-0-1>' against 'int'\n",
      "    swap(unique_ptr<_Tp, _Dp>& __x,\n",
      "    ^\n",
      "/root/miniconda3/envs/cling/bin/../lib/gcc/x86_64-conda_cos6-linux-gnu/7.5.0/../../../../x86_64-conda_cos6-linux-gnu/include/c++/7.5.0/bits/shared_ptr_base.h:1533:5: note: candidate template ignored: could not match '__shared_ptr<type-parameter-0-0, _Lp>' against 'int'\n",
      "    swap(__shared_ptr<_Tp, _Lp>& __a, __shared_ptr<_Tp, _Lp>& __b) noexcept\n",
      "    ^\n",
      "/root/miniconda3/envs/cling/bin/../lib/gcc/x86_64-conda_cos6-linux-gnu/7.5.0/../../../../x86_64-conda_cos6-linux-gnu/include/c++/7.5.0/bits/shared_ptr_base.h:1741:5: note: candidate template ignored: could not match '__weak_ptr<type-parameter-0-0, _Lp>' against 'int'\n",
      "    swap(__weak_ptr<_Tp, _Lp>& __a, __weak_ptr<_Tp, _Lp>& __b) noexcept\n",
      "    ^\n",
      "/root/miniconda3/envs/cling/bin/../lib/gcc/x86_64-conda_cos6-linux-gnu/7.5.0/../../../../x86_64-conda_cos6-linux-gnu/include/c++/7.5.0/bits/shared_ptr.h:474:5: note: candidate template ignored: could not match 'shared_ptr<type-parameter-0-0>' against 'int'\n",
      "    swap(shared_ptr<_Tp>& __a, shared_ptr<_Tp>& __b) noexcept\n",
      "    ^\n",
      "/root/miniconda3/envs/cling/bin/../lib/gcc/x86_64-conda_cos6-linux-gnu/7.5.0/../../../../x86_64-conda_cos6-linux-gnu/include/c++/7.5.0/bits/shared_ptr.h:595:5: note: candidate template ignored: could not match 'weak_ptr<type-parameter-0-0>' against 'int'\n",
      "    swap(weak_ptr<_Tp>& __a, weak_ptr<_Tp>& __b) noexcept\n",
      "    ^\n",
      "/root/miniconda3/envs/cling/bin/../lib/gcc/x86_64-conda_cos6-linux-gnu/7.5.0/../../../../x86_64-conda_cos6-linux-gnu/include/c++/7.5.0/bits/forward_list.h:1424:5: note: candidate template ignored: could not match 'forward_list<type-parameter-0-0, type-parameter-0-1>' against 'int'\n",
      "    swap(forward_list<_Tp, _Alloc>& __lx,\n",
      "    ^\n",
      "/root/miniconda3/envs/cling/bin/../lib/gcc/x86_64-conda_cos6-linux-gnu/7.5.0/../../../../x86_64-conda_cos6-linux-gnu/include/c++/7.5.0/bits/unordered_map.h:1890:5: note: candidate template ignored: could not match 'unordered_map<type-parameter-0-0, type-parameter-0-1, type-parameter-0-2, type-parameter-0-3, type-parameter-0-4>' against 'int'\n",
      "    swap(unordered_map<_Key, _Tp, _Hash, _Pred, _Alloc>& __x,\n",
      "    ^\n"
     ]
    },
    {
     "name": "stderr",
     "output_type": "stream",
     "text": [
      "/root/miniconda3/envs/cling/bin/../lib/gcc/x86_64-conda_cos6-linux-gnu/7.5.0/../../../../x86_64-conda_cos6-linux-gnu/include/c++/7.5.0/bits/unordered_map.h:1897:5: note: candidate template ignored: could not match 'unordered_multimap<type-parameter-0-0, type-parameter-0-1, type-parameter-0-2, type-parameter-0-3, type-parameter-0-4>' against 'int'\n",
      "    swap(unordered_multimap<_Key, _Tp, _Hash, _Pred, _Alloc>& __x,\n",
      "    ^\n",
      "/root/miniconda3/envs/cling/bin/../lib/gcc/x86_64-conda_cos6-linux-gnu/7.5.0/../../../../x86_64-conda_cos6-linux-gnu/include/c++/7.5.0/sstream:796:5: note: candidate template ignored: could not match 'basic_stringbuf<type-parameter-0-0, type-parameter-0-1, type-parameter-0-2>' against 'int'\n",
      "    swap(basic_stringbuf<_CharT, _Traits, _Allocator>& __x,\n",
      "    ^\n",
      "/root/miniconda3/envs/cling/bin/../lib/gcc/x86_64-conda_cos6-linux-gnu/7.5.0/../../../../x86_64-conda_cos6-linux-gnu/include/c++/7.5.0/sstream:803:5: note: candidate template ignored: could not match 'basic_istringstream<type-parameter-0-0, type-parameter-0-1, type-parameter-0-2>' against 'int'\n",
      "    swap(basic_istringstream<_CharT, _Traits, _Allocator>& __x,\n",
      "    ^\n",
      "/root/miniconda3/envs/cling/bin/../lib/gcc/x86_64-conda_cos6-linux-gnu/7.5.0/../../../../x86_64-conda_cos6-linux-gnu/include/c++/7.5.0/sstream:810:5: note: candidate template ignored: could not match 'basic_ostringstream<type-parameter-0-0, type-parameter-0-1, type-parameter-0-2>' against 'int'\n",
      "    swap(basic_ostringstream<_CharT, _Traits, _Allocator>& __x,\n",
      "    ^\n",
      "/root/miniconda3/envs/cling/bin/../lib/gcc/x86_64-conda_cos6-linux-gnu/7.5.0/../../../../x86_64-conda_cos6-linux-gnu/include/c++/7.5.0/sstream:817:5: note: candidate template ignored: could not match 'basic_stringstream<type-parameter-0-0, type-parameter-0-1, type-parameter-0-2>' against 'int'\n",
      "    swap(basic_stringstream<_CharT, _Traits, _Allocator>& __x,\n",
      "    ^\n",
      "/root/miniconda3/envs/cling/bin/../lib/gcc/x86_64-conda_cos6-linux-gnu/7.5.0/../../../../x86_64-conda_cos6-linux-gnu/include/c++/7.5.0/bits/stl_deque.h:2312:5: note: candidate template ignored: could not match 'deque<type-parameter-0-0, type-parameter-0-1>' against 'int'\n",
      "    swap(deque<_Tp,_Alloc>& __x, deque<_Tp,_Alloc>& __y)\n",
      "    ^\n"
     ]
    },
    {
     "ename": "Interpreter Error",
     "evalue": "",
     "output_type": "error",
     "traceback": [
      "Interpreter Error: "
     ]
    }
   ],
   "source": [
    "my_reverse(vec_dest.begin(), vec_dest.end())"
   ]
  },
  {
   "cell_type": "code",
   "execution_count": 17,
   "metadata": {},
   "outputs": [
    {
     "data": {
      "text/plain": [
       "{ 1, 2, 3, 4, 666, 6, 7, 8, 9, 0, 0, 0, 0, 0, 0 }"
      ]
     },
     "execution_count": 17,
     "metadata": {},
     "output_type": "execute_result"
    }
   ],
   "source": [
    "vec_dest"
   ]
  },
  {
   "cell_type": "code",
   "execution_count": null,
   "metadata": {},
   "outputs": [],
   "source": []
  },
  {
   "cell_type": "code",
   "execution_count": null,
   "metadata": {},
   "outputs": [],
   "source": []
  }
 ],
 "metadata": {
  "kernelspec": {
   "display_name": "C++11",
   "language": "C++11",
   "name": "xcpp11"
  },
  "language_info": {
   "codemirror_mode": "text/x-c++src",
   "file_extension": ".cpp",
   "mimetype": "text/x-c++src",
   "name": "c++",
   "version": "11"
  }
 },
 "nbformat": 4,
 "nbformat_minor": 4
}

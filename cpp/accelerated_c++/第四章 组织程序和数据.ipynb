{
 "cells": [
  {
   "cell_type": "markdown",
   "metadata": {},
   "source": [
    "# 第四章 组织程序和数据"
   ]
  },
  {
   "cell_type": "code",
   "execution_count": 1,
   "metadata": {},
   "outputs": [],
   "source": [
    "#include <algorithm>\n",
    "#include <iomanip>\n",
    "#include <ios>\n",
    "#include <iostream>\n",
    "#include <string>\n",
    "#include <vector>"
   ]
  },
  {
   "cell_type": "code",
   "execution_count": 2,
   "metadata": {},
   "outputs": [],
   "source": [
    "using namespace std;"
   ]
  },
  {
   "cell_type": "code",
   "execution_count": 3,
   "metadata": {},
   "outputs": [],
   "source": [
    "//根据学生的期中考试, 期末考试以及家庭作业成绩来计算总成绩\n",
    "double grade(double midterm, double final, double homework)\n",
    "{\n",
    "    return 0.2*midterm + 0.4*final + 0.4*homework;\n",
    "}"
   ]
  },
  {
   "cell_type": "code",
   "execution_count": 6,
   "metadata": {},
   "outputs": [],
   "source": [
    "//计算一个vector<double>类型的变量的中值\n",
    "//值得注意的是, 调用函数时整个vector参数都会被复制\n",
    "double median(vector<double> vec){\n",
    "    typedef vector<double>::size_type vec_sz;\n",
    "    \n",
    "    vec_sz size = vec.size();\n",
    "    if (size==0)\n",
    "        //抛出异常\n",
    "        throw domain_error(\"media of an empty vector\");\n",
    "        \n",
    "    sort(vec.begin(), vec.end());\n",
    "    vec_sz mid = size/2;\n",
    "    \n",
    "    return size%2==0 ? (vec[mid] + vec[mid-1]) / 2 : vec[mid];\n",
    "}"
   ]
  },
  {
   "cell_type": "code",
   "execution_count": 7,
   "metadata": {},
   "outputs": [],
   "source": [
    "//根据学生的期中考试, 期末考试以及家庭作业成绩来计算总成绩\n",
    "//这个函数不用复制它的参数, 因为median已经为我们完成了这个工作\n",
    "// const vector<double>& 对参数类型为 double 的 向量 常量 的 引用\n",
    "double grade(double midterm, double final, const vector<double>& hw)\n",
    "{\n",
    "    if (hw.size()==0)\n",
    "        throw domain_error(\"student has done no homework\");\n",
    "    \n",
    "    return grade(midterm, final, median(hw));\n",
    "}"
   ]
  },
  {
   "cell_type": "code",
   "execution_count": null,
   "metadata": {},
   "outputs": [],
   "source": []
  },
  {
   "cell_type": "code",
   "execution_count": null,
   "metadata": {},
   "outputs": [],
   "source": []
  }
 ],
 "metadata": {
  "kernelspec": {
   "display_name": "C++11",
   "language": "C++11",
   "name": "xcpp11"
  },
  "language_info": {
   "codemirror_mode": "text/x-c++src",
   "file_extension": ".cpp",
   "mimetype": "text/x-c++src",
   "name": "c++",
   "version": "11"
  }
 },
 "nbformat": 4,
 "nbformat_minor": 4
}

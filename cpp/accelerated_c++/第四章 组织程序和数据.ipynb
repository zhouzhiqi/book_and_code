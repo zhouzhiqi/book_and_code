{
 "cells": [
  {
   "cell_type": "markdown",
   "metadata": {},
   "source": [
    "# 第四章 组织程序和数据"
   ]
  },
  {
   "cell_type": "code",
   "execution_count": 1,
   "metadata": {},
   "outputs": [],
   "source": [
    "#include <algorithm>\n",
    "#include <iomanip>\n",
    "#include <ios>\n",
    "#include <iostream>\n",
    "#include <string>\n",
    "#include <vector>"
   ]
  },
  {
   "cell_type": "code",
   "execution_count": 2,
   "metadata": {},
   "outputs": [],
   "source": [
    "using namespace std;"
   ]
  },
  {
   "cell_type": "code",
   "execution_count": 3,
   "metadata": {},
   "outputs": [],
   "source": [
    "//根据学生的期中考试, 期末考试以及家庭作业成绩来计算总成绩\n",
    "double grade(double midterm, double final, double homework)\n",
    "{\n",
    "    return 0.2*midterm + 0.4*final + 0.4*homework;\n",
    "}"
   ]
  },
  {
   "cell_type": "code",
   "execution_count": 4,
   "metadata": {},
   "outputs": [],
   "source": [
    "//计算一个vector<double>类型的变量的中值\n",
    "//值得注意的是, 调用函数时整个vector参数都会被复制\n",
    "double median(vector<double> vec)\n",
    "{\n",
    "    typedef vector<double>::size_type vec_sz;\n",
    "    \n",
    "    vec_sz size = vec.size();\n",
    "    if (size==0)\n",
    "        //抛出异常\n",
    "        throw domain_error(\"media of an empty vector\");\n",
    "        \n",
    "    sort(vec.begin(), vec.end());\n",
    "    vec_sz mid = size/2;\n",
    "    \n",
    "    return size%2==0 ? (vec[mid] + vec[mid-1]) / 2 : vec[mid];\n",
    "}"
   ]
  },
  {
   "cell_type": "code",
   "execution_count": 5,
   "metadata": {},
   "outputs": [],
   "source": [
    "//根据学生的期中考试, 期末考试以及家庭作业成绩来计算总成绩\n",
    "//这个函数不用复制它的参数, 因为median已经为我们完成了这个工作\n",
    "// const vector<double>& 对参数类型为 double 的 向量 常量 的 引用\n",
    "double grade(double midterm, double final, const vector<double>& hw)\n",
    "{\n",
    "    if (hw.size()==0)\n",
    "        throw domain_error(\"student has done no homework\");\n",
    "    \n",
    "    return grade(midterm, final, median(hw));\n",
    "}"
   ]
  },
  {
   "cell_type": "code",
   "execution_count": 6,
   "metadata": {},
   "outputs": [],
   "source": [
    "// 从输入流中将家庭作业读入到一个vector<double>中\n",
    "istream& read_hw(istream& in, vector<double>& hw)\n",
    "{\n",
    "    if (in) {\n",
    "        // 清除原先的内容\n",
    "        hw.clear();\n",
    "        \n",
    "        // 读取家庭作业成绩\n",
    "        double x;\n",
    "        while (in >> x)\n",
    "            hw.push_back(x);\n",
    "        \n",
    "        // 清除流以使输入动作对下一个学生有效\n",
    "        in.clear();\n",
    "        \n",
    "    }\n",
    "    return in;\n",
    "}"
   ]
  },
  {
   "cell_type": "code",
   "execution_count": 7,
   "metadata": {},
   "outputs": [],
   "source": [
    "// 返回空向量的函数\n",
    "// vector<double> emptyvet()\n",
    "// {\n",
    "//     vector<double> v;\n",
    "//     return v;\n",
    "// }"
   ]
  },
  {
   "cell_type": "code",
   "execution_count": null,
   "metadata": {
    "scrolled": false
   },
   "outputs": [
    {
     "name": "stdout",
     "output_type": "stream",
     "text": [
      "Please enter your first name: zhou\n",
      "hello, zhou!\n",
      "Please enter your midterm and final exam grades: 80\n",
      "90\n",
      "Enter all your homework grades, followed by end-of-file;66\n",
      "77\n",
      "88\n",
      "99\n"
     ]
    }
   ],
   "source": [
    "{\n",
    "    //请求读入学生姓名\n",
    "    cout << \"Please enter your first name: \";\n",
    "    string name;\n",
    "    cin >> name;\n",
    "    cout << \"hello, \" << name << \"!\" << endl;\n",
    "    \n",
    "    //请求并读入期中和期末考试成绩\n",
    "    cout << \"Please enter your midterm and final exam grades: \";\n",
    "    double midterm, final;\n",
    "    cin >> midterm >> final;\n",
    "    \n",
    "    //请求用户输入家庭作业成绩\n",
    "    cout << \"Enter all your homework grades, \"\n",
    "            \"followed by end-of-file;\";\n",
    "    \n",
    "    vector<double> homework;\n",
    "    \n",
    "    // 读入家庭作业成绩\n",
    "    read_hw(cin, homework);\n",
    "    \n",
    "    // 如果可以的话, 计算生产总成绩\n",
    "    try {\n",
    "        double final_grade = grade(midterm, final, homework);\n",
    "        streamsize prec = cout.precision();\n",
    "        cout << \"Your final grade is \" << setprecision(3)\n",
    "             << final_grade << setprecision(prec) << endl;\n",
    "    } catch (domain_error) {\n",
    "        cout << endl << \"You must enter your grades. \"\n",
    "             << \"Please try again. \" << endl;\n",
    "        return 1;\n",
    "    }\n",
    "    return 0;\n",
    "}"
   ]
  },
  {
   "cell_type": "code",
   "execution_count": null,
   "metadata": {},
   "outputs": [],
   "source": []
  }
 ],
 "metadata": {
  "kernelspec": {
   "display_name": "C++11",
   "language": "C++11",
   "name": "xcpp11"
  },
  "language_info": {
   "codemirror_mode": "text/x-c++src",
   "file_extension": ".cpp",
   "mimetype": "text/x-c++src",
   "name": "c++",
   "version": "11"
  }
 },
 "nbformat": 4,
 "nbformat_minor": 4
}

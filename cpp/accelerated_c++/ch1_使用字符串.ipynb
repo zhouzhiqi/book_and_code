{
 "cells": [
  {
   "cell_type": "code",
   "execution_count": 1,
   "metadata": {},
   "outputs": [],
   "source": [
    "#include <iostream>\n",
    "using namespace std;"
   ]
  },
  {
   "cell_type": "markdown",
   "metadata": {},
   "source": [
    "# 第零章 开始学习C++"
   ]
  },
  {
   "cell_type": "code",
   "execution_count": 2,
   "metadata": {},
   "outputs": [
    {
     "name": "stdout",
     "output_type": "stream",
     "text": [
      "Hello World"
     ]
    }
   ],
   "source": [
    "// int main() \n",
    "// jupyter notebook中不能定义 main 函数\n",
    "{\n",
    "   cout << \"Hello World\"; // 输出 Hello World\n",
    "//    return 0;\n",
    "}"
   ]
  },
  {
   "cell_type": "markdown",
   "metadata": {},
   "source": [
    "# 第一章 使用字符串"
   ]
  },
  {
   "cell_type": "code",
   "execution_count": 3,
   "metadata": {},
   "outputs": [],
   "source": [
    "#include <string>"
   ]
  },
  {
   "cell_type": "markdown",
   "metadata": {},
   "source": [
    "## 1.1 输入"
   ]
  },
  {
   "cell_type": "code",
   "execution_count": 4,
   "metadata": {},
   "outputs": [
    {
     "name": "stdout",
     "output_type": "stream",
     "text": [
      "Please enter your first name: zhou\n",
      "hello, zhou!\n"
     ]
    }
   ],
   "source": [
    "{\n",
    "    cout << \"Please enter your first name: \";\n",
    "    string name;\n",
    "    cin >> name;\n",
    "    cout << \"hello, \" << name << \"!\" << endl;\n",
    "}"
   ]
  },
  {
   "cell_type": "markdown",
   "metadata": {},
   "source": [
    "## 1.2 为姓名装框"
   ]
  },
  {
   "cell_type": "code",
   "execution_count": 6,
   "metadata": {},
   "outputs": [
    {
     "name": "stdout",
     "output_type": "stream",
     "text": [
      "Please enter you first name: zhou\n",
      "\n",
      "**************\n",
      "*            *\n",
      "*hello, zhou!*\n",
      "*            *\n",
      "**************\n"
     ]
    }
   ],
   "source": [
    "{\n",
    "    cout << \"Please enter you first name: \";\n",
    "    string name;\n",
    "    cin >> name;\n",
    "    \n",
    "    // 构造我们将要输出的信息\n",
    "    const string greeting = \"hello, \" + name + \"!\";\n",
    "    \n",
    "    // 构造输出的第二和第四行\n",
    "    const string spaces(greeting.size(), ' ');\n",
    "    const string second = \"*\" + spaces + \"*\";\n",
    "    \n",
    "    // 构造输出的第一和第五行\n",
    "    const string first(second.size(), '*');\n",
    "    \n",
    "    // 输出所有的内容\n",
    "    cout << endl;\n",
    "    cout << first << endl;\n",
    "    cout << second << endl;\n",
    "    cout << \"*\" << greeting << \"*\" << endl;\n",
    "    cout << second << endl;\n",
    "    cout << first << endl;\n",
    "\n",
    "}\n"
   ]
  },
  {
   "cell_type": "markdown",
   "metadata": {},
   "source": [
    "## 小结"
   ]
  },
  {
   "cell_type": "code",
   "execution_count": 9,
   "metadata": {},
   "outputs": [],
   "source": [
    "{\n",
    "    const string hello = \"hello\";\n",
    "    const string message = hello + \", world\" + \"!\";\n",
    "}"
   ]
  },
  {
   "cell_type": "code",
   "execution_count": 10,
   "metadata": {},
   "outputs": [
    {
     "name": "stderr",
     "output_type": "stream",
     "text": [
      "\u001b[1minput_line_17:4:36: \u001b[0m\u001b[0;1;31merror: \u001b[0m\u001b[1minvalid operands to binary expression ('const char *' and 'const char *')\u001b[0m\n",
      "    const string message = \"hello\" + \", world\" + exclam;\n",
      "\u001b[0;1;32m                           ~~~~~~~ ^ ~~~~~~~~~\n",
      "\u001b[0m"
     ]
    },
    {
     "ename": "Interpreter Error",
     "evalue": "",
     "output_type": "error",
     "traceback": [
      "Interpreter Error: "
     ]
    }
   ],
   "source": [
    "{\n",
    "    const string exclam = \"!\";\n",
    "    const string message = \"hello\" + \", world\" + exclam;\n",
    "}"
   ]
  },
  {
   "cell_type": "code",
   "execution_count": 11,
   "metadata": {},
   "outputs": [
    {
     "name": "stdout",
     "output_type": "stream",
     "text": [
      "s atring\n",
      "another string\n"
     ]
    }
   ],
   "source": [
    "{\n",
    "    {\n",
    "        const string s = \"s atring\";\n",
    "        cout << s << endl;\n",
    "    }\n",
    "    {\n",
    "        const string s = \"another string\";\n",
    "        cout << s << endl;\n",
    "    }\n",
    "}"
   ]
  },
  {
   "cell_type": "code",
   "execution_count": 13,
   "metadata": {},
   "outputs": [
    {
     "name": "stdout",
     "output_type": "stream",
     "text": [
      "s atring\n",
      "another string\n"
     ]
    }
   ],
   "source": [
    "{\n",
    "    {\n",
    "        const string s = \"s atring\";\n",
    "        cout << s << endl;\n",
    "        {\n",
    "            const string s = \"another string\";\n",
    "            cout << s << endl;\n",
    "        };\n",
    "    }\n",
    "\n",
    "}"
   ]
  },
  {
   "cell_type": "code",
   "execution_count": 14,
   "metadata": {},
   "outputs": [
    {
     "name": "stdout",
     "output_type": "stream",
     "text": [
      "s atring\n",
      "another string\n"
     ]
    }
   ],
   "source": [
    "{\n",
    "    {\n",
    "        const string s = \"s atring\";\n",
    "        cout << s << endl;\n",
    "        {\n",
    "            const string s = \"another string\";\n",
    "            cout << s << endl;\n",
    "        }\n",
    "    }\n",
    "\n",
    "}"
   ]
  },
  {
   "cell_type": "code",
   "execution_count": 15,
   "metadata": {},
   "outputs": [
    {
     "name": "stderr",
     "output_type": "stream",
     "text": [
      "\u001b[1minput_line_22:9:17: \u001b[0m\u001b[0;1;31merror: \u001b[0m\u001b[1muse of undeclared identifier 'x'\u001b[0m\n",
      "        cout << x << endl;\n",
      "\u001b[0;1;32m                ^\n",
      "\u001b[0m"
     ]
    },
    {
     "ename": "Interpreter Error",
     "evalue": "",
     "output_type": "error",
     "traceback": [
      "Interpreter Error: "
     ]
    }
   ],
   "source": [
    "{\n",
    "    {\n",
    "        const string s = \"s atring\";\n",
    "        {\n",
    "            const string x = s + \", really\";\n",
    "            cout << s << endl;\n",
    "        }\n",
    "        cout << x << endl; // 作用域不同\n",
    "    }\n",
    "\n",
    "}"
   ]
  },
  {
   "cell_type": "code",
   "execution_count": null,
   "metadata": {},
   "outputs": [],
   "source": []
  }
 ],
 "metadata": {
  "kernelspec": {
   "display_name": "C++11",
   "language": "C++11",
   "name": "xcpp11"
  },
  "language_info": {
   "codemirror_mode": "text/x-c++src",
   "file_extension": ".cpp",
   "mimetype": "text/x-c++src",
   "name": "c++",
   "version": "11"
  }
 },
 "nbformat": 4,
 "nbformat_minor": 4
}

{
 "cells": [
  {
   "cell_type": "markdown",
   "metadata": {},
   "source": [
    "# 第二章 循环和计数"
   ]
  },
  {
   "cell_type": "code",
   "execution_count": 1,
   "metadata": {},
   "outputs": [],
   "source": [
    "#include <iostream>\n",
    "#include <string>"
   ]
  },
  {
   "cell_type": "code",
   "execution_count": 2,
   "metadata": {},
   "outputs": [],
   "source": [
    "using namespace std;"
   ]
  },
  {
   "cell_type": "markdown",
   "metadata": {},
   "source": [
    "## 自增"
   ]
  },
  {
   "cell_type": "code",
   "execution_count": 3,
   "metadata": {},
   "outputs": [
    {
     "name": "stdout",
     "output_type": "stream",
     "text": [
      "i = 1, i++ i = 2\n"
     ]
    }
   ],
   "source": [
    "{\n",
    "    int i;\n",
    "    i = 1;\n",
    "    cout << \"i = \" << i;\n",
    "    i++;\n",
    "    cout << \", i++ \" << \"i = \" << i << endl;\n",
    "}"
   ]
  },
  {
   "cell_type": "code",
   "execution_count": 4,
   "metadata": {},
   "outputs": [
    {
     "name": "stdout",
     "output_type": "stream",
     "text": [
      "i = 1, ++i i = 2\n"
     ]
    }
   ],
   "source": [
    "{\n",
    "    int i;\n",
    "    i = 1;\n",
    "    cout << \"i = \" << i;\n",
    "    ++i;\n",
    "    cout << \", ++i \" << \"i = \" << i << endl;\n",
    "}"
   ]
  },
  {
   "cell_type": "markdown",
   "metadata": {},
   "source": [
    "## 循环"
   ]
  },
  {
   "cell_type": "code",
   "execution_count": 8,
   "metadata": {},
   "outputs": [
    {
     "name": "stdout",
     "output_type": "stream",
     "text": [
      "0 1 2 3 4 5 6 7 8 9 "
     ]
    }
   ],
   "source": [
    "{\n",
    "    for ( int i = 0; i != 10; ++i ) {\n",
    "        cout << i << \" \";\n",
    "    }\n",
    "}"
   ]
  },
  {
   "cell_type": "code",
   "execution_count": 10,
   "metadata": {},
   "outputs": [
    {
     "name": "stdout",
     "output_type": "stream",
     "text": [
      "0 1 2 3 4 5 6 7 8 9 "
     ]
    }
   ],
   "source": [
    "{\n",
    "    int i = 0;\n",
    "    while ( i != 10 ) {\n",
    "        cout << i << \" \";\n",
    "        ++i;\n",
    "    }\n",
    "}"
   ]
  },
  {
   "cell_type": "markdown",
   "metadata": {},
   "source": [
    "## 真假"
   ]
  },
  {
   "cell_type": "code",
   "execution_count": 13,
   "metadata": {},
   "outputs": [
    {
     "name": "stdout",
     "output_type": "stream",
     "text": [
      "1==1 : 1\n",
      "1==2 : 0\n"
     ]
    }
   ],
   "source": [
    "{\n",
    "    cout << \"1==1 : \" << (1==1) << endl;\n",
    "    cout << \"1==2 : \" << (1==2) << endl;\n",
    "}"
   ]
  },
  {
   "cell_type": "code",
   "execution_count": 18,
   "metadata": {},
   "outputs": [
    {
     "name": "stdout",
     "output_type": "stream",
     "text": [
      "1==1 && 1==2 : 0\n",
      "1==1 || 1==2 : 1\n",
      "1==1 && 1==1 : 1\n",
      "1==1 || 1==1 : 1\n"
     ]
    }
   ],
   "source": [
    "{\n",
    "    cout << \"1==1 && 1==2 : \" << (1==1 && 1==2) << endl;\n",
    "    cout << \"1==1 || 1==2 : \" << (1==1 || 1==2) << endl;\n",
    "}\n",
    "{\n",
    "    cout << \"1==1 && 1==1 : \" << (1==1 && 1==1) << endl;\n",
    "    cout << \"1==1 || 1==1 : \" << (1==1 || 1==1) << endl;\n",
    "}"
   ]
  },
  {
   "cell_type": "code",
   "execution_count": 17,
   "metadata": {},
   "outputs": [
    {
     "name": "stdout",
     "output_type": "stream",
     "text": [
      "1==1 && 1==1 : 1\n",
      "1==1 || 1==1 : 1\n"
     ]
    }
   ],
   "source": [
    "{\n",
    "    cout << \"1==1 && 1==1 : \" << (1==1 && 1==1) << endl;\n",
    "    cout << \"1==1 || 1==1 : \" << (1==1 || 1==1) << endl;\n",
    "}"
   ]
  },
  {
   "cell_type": "markdown",
   "metadata": {},
   "source": [
    "## 判断"
   ]
  },
  {
   "cell_type": "code",
   "execution_count": 21,
   "metadata": {},
   "outputs": [
    {
     "name": "stdout",
     "output_type": "stream",
     "text": [
      "false"
     ]
    }
   ],
   "source": [
    "{\n",
    "    if (1==2)\n",
    "        cout << \"true\";\n",
    "    else\n",
    "        cout << \"false\";\n",
    "}"
   ]
  },
  {
   "cell_type": "code",
   "execution_count": 26,
   "metadata": {},
   "outputs": [
    {
     "name": "stderr",
     "output_type": "stream",
     "text": [
      "\u001b[1minput_line_36:5:21: \u001b[0m\u001b[0;1;31merror: \u001b[0m\u001b[1mexpected ';' after expression\u001b[0m\n",
      "        cout << \"--\"\n",
      "\u001b[0;1;32m                    ^\n",
      "\u001b[0m\u001b[0;32m                    ;\n",
      "\u001b[0m\u001b[1minput_line_36:6:5: \u001b[0m\u001b[0;1;31merror: \u001b[0m\u001b[1mexpected expression\u001b[0m\n",
      "    else\n",
      "\u001b[0;1;32m    ^\n",
      "\u001b[0m"
     ]
    },
    {
     "ename": "Interpreter Error",
     "evalue": "",
     "output_type": "error",
     "traceback": [
      "Interpreter Error: "
     ]
    }
   ],
   "source": [
    "{   // 不加{}, 只能写一句\n",
    "    if (1==1)\n",
    "        cout << \"true\";\n",
    "        cout << \"--\"\n",
    "    else\n",
    "        cout << \"false\";\n",
    "}"
   ]
  },
  {
   "cell_type": "code",
   "execution_count": 25,
   "metadata": {},
   "outputs": [
    {
     "name": "stdout",
     "output_type": "stream",
     "text": [
      "false-false"
     ]
    }
   ],
   "source": [
    "{\n",
    "    if (1==2)\n",
    "        {\n",
    "            cout << \"true-\";\n",
    "            cout << \"true\";\n",
    "        }\n",
    "    else\n",
    "        {\n",
    "            cout << \"false-\";\n",
    "            cout << \"false\";\n",
    "        }\n",
    "}"
   ]
  },
  {
   "cell_type": "markdown",
   "metadata": {},
   "source": [
    "## 完整代码"
   ]
  },
  {
   "cell_type": "code",
   "execution_count": 19,
   "metadata": {},
   "outputs": [
    {
     "name": "stdout",
     "output_type": "stream",
     "text": [
      "please enter you first name:\n",
      "zhou\n",
      "\n",
      "******************\n",
      "*                *\n",
      "*                *\n",
      "*  hello, zhou!  *\n",
      "*                *\n",
      "*                *\n",
      "******************\n"
     ]
    }
   ],
   "source": [
    "{\n",
    "    // 请求用户输入姓名\n",
    "    cout << \"please enter you first name:\" << endl;\n",
    "    \n",
    "    // 读入用户输入的姓名\n",
    "    string name;\n",
    "    cin >> name;\n",
    "    \n",
    "    // 构造我们将要输出的信息\n",
    "    const string greeting = \"hello, \" + name + \"!\";\n",
    "    \n",
    "    // 问候语周围填充空白行数\n",
    "    const int pad = 2;\n",
    "    \n",
    "    // 待输出的行数和列数\n",
    "    const int rows = pad * 2 + 3;\n",
    "    const string::size_type cols = greeting.size() + pad * 2 + 2;\n",
    "    \n",
    "    // 输出一个空白行, 把输入输出分隔开\n",
    "    cout << endl;\n",
    "    \n",
    "    // 输出rows行\n",
    "    // 不变式: 到目前为止, 我们已经输出了r行\n",
    "    for ( int r = 0; r != rows; ++r ) {\n",
    "        string::size_type c = 0;\n",
    "        \n",
    "        // 不变式: 目前为止, 在当前行中我们已经输出了c个字符\n",
    "        while ( c != cols ) {\n",
    "            \n",
    "            // 应该输出问候语了吗?\n",
    "            if ( r == pad + 1 && c == pad + 1 ) {\n",
    "                cout << greeting;\n",
    "                c += greeting.size();\n",
    "\n",
    "            } else {\n",
    "                \n",
    "                // 我们是位于边界上吗?\n",
    "                if ( r == 0 || r == rows - 1 || \n",
    "                     c == 0 || c == cols - 1 )\n",
    "                    cout << \"*\";\n",
    "                else\n",
    "                    cout << \" \";\n",
    "                ++c;\n",
    "            }\n",
    "            \n",
    "        }\n",
    "        \n",
    "        cout << endl;\n",
    "    }\n",
    "}"
   ]
  },
  {
   "cell_type": "code",
   "execution_count": null,
   "metadata": {},
   "outputs": [],
   "source": []
  }
 ],
 "metadata": {
  "kernelspec": {
   "display_name": "C++11",
   "language": "C++11",
   "name": "xcpp11"
  },
  "language_info": {
   "codemirror_mode": "text/x-c++src",
   "file_extension": ".cpp",
   "mimetype": "text/x-c++src",
   "name": "c++",
   "version": "11"
  }
 },
 "nbformat": 4,
 "nbformat_minor": 4
}

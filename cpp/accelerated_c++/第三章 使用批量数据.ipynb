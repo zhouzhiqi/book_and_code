{
 "cells": [
  {
   "cell_type": "markdown",
   "metadata": {},
   "source": [
    "# 第三章 使用批量数据"
   ]
  },
  {
   "cell_type": "code",
   "execution_count": 1,
   "metadata": {},
   "outputs": [],
   "source": [
    "#include <algorithm>\n",
    "#include <iomanip>\n",
    "#include <ios>\n",
    "#include <iostream>\n",
    "#include <string>\n",
    "#include <vector>"
   ]
  },
  {
   "cell_type": "code",
   "execution_count": 2,
   "metadata": {},
   "outputs": [],
   "source": [
    "using namespace std;"
   ]
  },
  {
   "cell_type": "code",
   "execution_count": 5,
   "metadata": {},
   "outputs": [
    {
     "name": "stdout",
     "output_type": "stream",
     "text": [
      "Please enter your midterm and final exam grades: 3\n",
      "7\n",
      "First value: 3  Secend Value: 7"
     ]
    }
   ],
   "source": [
    "{\n",
    "    cout << \"Please enter your \"\n",
    "            \"midterm and final exam grades: \" ;\n",
    "    double midterm, final;\n",
    "    cin >> midterm >> final;\n",
    "    cout << \"First value: \" << midterm << \"  Secend Value: \" << final;\n",
    "}"
   ]
  },
  {
   "cell_type": "code",
   "execution_count": null,
   "metadata": {},
   "outputs": [
    {
     "name": "stdout",
     "output_type": "stream",
     "text": [
      "Please enter your first name: zhou\n",
      "Hello, zhou!\n",
      "Please enter your midterm and final exam grades: 12\n",
      "23\n",
      "Enter all your homework grades, folloed by end-of-file: 3\n",
      "4\n",
      "5\n",
      "6\n",
      "7\n",
      "\n",
      "\n"
     ]
    }
   ],
   "source": [
    "{\n",
    "    // 请求输入并读入学生的姓名\n",
    "    cout << \"Please enter your first name: \";\n",
    "    string name;\n",
    "    cin >> name;\n",
    "    cout << \"Hello, \" << name << \"!\" << endl;\n",
    "    \n",
    "    // 请求输入并读入其中和期末成绩\n",
    "    cout << \"Please enter your midterm and final exam grades: \";\n",
    "    double midterm, final;\n",
    "    cin >> midterm >> final;\n",
    "    \n",
    "    // 请求输入家庭作业成绩\n",
    "    cout << \"Enter all your homework grades, \"\n",
    "            \"folloed by end-of-file: \";\n",
    "    vector<double> homework;\n",
    "    double x;\n",
    "    \n",
    "    // 不变式: homework 包含了所有的家庭作业成绩\n",
    "    while ( cin >> x )\n",
    "        homework.push_back( x );\n",
    "    \n",
    "    // 检查homework是否为空\n",
    "    typedef vector<double>::size_type vec_sz;\n",
    "    vec_sz size = homework.size();\n",
    "    if ( size==0 ) {\n",
    "        cout << endl << \"You must enter your grades. \"\n",
    "                     << \"Please try again.\" << endl;\n",
    "        return 1;\n",
    "    }\n",
    "    \n",
    "    // 对成绩进行排序\n",
    "    sort( homework.begin(), homework.end() );\n",
    "    \n",
    "    // 计算家庭作业的中值\n",
    "    vec_sz mid = size / 2;\n",
    "    double median;\n",
    "    median = ( size%2 == 0 ) ? ( homework[mid] + homework[mid-1] ) / 2\n",
    "                             : homework[mid];\n",
    "    \n",
    "    // 计算并输出总成绩\n",
    "    streamsize prec = cout.precision();\n",
    "    cout << \"Your final grade is \" << setprecision(3)\n",
    "         << 0.2*midterm + 0.4*final + 0.4*median\n",
    "         << setprecision(prec) << endl;\n",
    "    \n",
    "    return 0;\n",
    "    \n",
    "}"
   ]
  },
  {
   "cell_type": "code",
   "execution_count": null,
   "metadata": {},
   "outputs": [],
   "source": []
  },
  {
   "cell_type": "code",
   "execution_count": null,
   "metadata": {},
   "outputs": [],
   "source": []
  }
 ],
 "metadata": {
  "kernelspec": {
   "display_name": "C++11",
   "language": "C++11",
   "name": "xcpp11"
  },
  "language_info": {
   "codemirror_mode": "text/x-c++src",
   "file_extension": ".cpp",
   "mimetype": "text/x-c++src",
   "name": "c++",
   "version": "11"
  }
 },
 "nbformat": 4,
 "nbformat_minor": 4
}

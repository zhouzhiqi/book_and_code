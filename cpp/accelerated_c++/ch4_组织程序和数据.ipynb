{
 "cells": [
  {
   "cell_type": "markdown",
   "metadata": {},
   "source": [
    "# 第四章 组织程序和数据"
   ]
  },
  {
   "cell_type": "markdown",
   "metadata": {},
   "source": [
    "## 4.1 组织计算"
   ]
  },
  {
   "cell_type": "code",
   "execution_count": 1,
   "metadata": {
    "ExecuteTime": {
     "end_time": "2020-03-25T08:05:41.649546Z",
     "start_time": "2020-03-25T08:05:41.643548Z"
    }
   },
   "outputs": [],
   "source": [
    "#include <algorithm>\n",
    "#include <iomanip>\n",
    "#include <ios>\n",
    "#include <iostream>\n",
    "#include <string>\n",
    "#include <vector>"
   ]
  },
  {
   "cell_type": "code",
   "execution_count": 2,
   "metadata": {
    "ExecuteTime": {
     "end_time": "2020-03-25T08:05:41.866236Z",
     "start_time": "2020-03-25T08:05:41.865796Z"
    }
   },
   "outputs": [],
   "source": [
    "using namespace std;"
   ]
  },
  {
   "cell_type": "code",
   "execution_count": 3,
   "metadata": {
    "ExecuteTime": {
     "end_time": "2020-03-25T08:05:42.116844Z",
     "start_time": "2020-03-25T08:05:42.115380Z"
    }
   },
   "outputs": [],
   "source": [
    "//根据学生的期中考试, 期末考试以及家庭作业成绩来计算总成绩\n",
    "double grade(double midterm, double final, double homework)\n",
    "{\n",
    "    return 0.2*midterm + 0.4*final + 0.4*homework;\n",
    "}"
   ]
  },
  {
   "cell_type": "code",
   "execution_count": 4,
   "metadata": {
    "ExecuteTime": {
     "end_time": "2020-03-25T08:05:42.470587Z",
     "start_time": "2020-03-25T08:05:42.436347Z"
    }
   },
   "outputs": [],
   "source": [
    "//计算一个vector<double>类型的变量的中值\n",
    "//值得注意的是, 调用函数时整个vector参数都会被复制\n",
    "double median(vector<double> vec)\n",
    "{\n",
    "    typedef vector<double>::size_type vec_sz;\n",
    "    \n",
    "    vec_sz size = vec.size();\n",
    "    if (size==0)\n",
    "        //抛出异常\n",
    "        throw domain_error(\"media of an empty vector\");\n",
    "        \n",
    "    sort(vec.begin(), vec.end());\n",
    "    vec_sz mid = size/2;\n",
    "    \n",
    "    return size%2==0 ? (vec[mid] + vec[mid-1]) / 2 : vec[mid];\n",
    "}"
   ]
  },
  {
   "cell_type": "code",
   "execution_count": 5,
   "metadata": {
    "ExecuteTime": {
     "end_time": "2020-03-25T08:05:42.996095Z",
     "start_time": "2020-03-25T08:05:42.978822Z"
    }
   },
   "outputs": [],
   "source": [
    "//根据学生的期中考试, 期末考试以及家庭作业成绩来计算总成绩\n",
    "//这个函数不用复制它的参数, 因为median已经为我们完成了这个工作\n",
    "// const vector<double>& 对参数类型为 double 的 向量 常量 的 引用\n",
    "double grade(double midterm, double final, const vector<double>& hw)\n",
    "{\n",
    "    if (hw.size()==0)\n",
    "        throw domain_error(\"student has done no homework\");\n",
    "    \n",
    "    return grade(midterm, final, median(hw));\n",
    "}"
   ]
  },
  {
   "cell_type": "code",
   "execution_count": 6,
   "metadata": {
    "ExecuteTime": {
     "end_time": "2020-03-25T08:05:44.968000Z",
     "start_time": "2020-03-25T08:05:44.75685Z"
    }
   },
   "outputs": [],
   "source": [
    "// 从输入流中将家庭作业读入到一个vector<double>中\n",
    "istream& read_hw(istream& in, vector<double>& hw)\n",
    "{\n",
    "    if (in) {\n",
    "        // 清除原先的内容\n",
    "        hw.clear();\n",
    "        \n",
    "        // 读取家庭作业成绩\n",
    "        double x;\n",
    "        while (in >> x)\n",
    "            hw.push_back(x);\n",
    "        \n",
    "        // 清除流以使输入动作对下一个学生有效\n",
    "        in.clear();\n",
    "        \n",
    "    }\n",
    "    return in;\n",
    "}"
   ]
  },
  {
   "cell_type": "code",
   "execution_count": 7,
   "metadata": {
    "ExecuteTime": {
     "end_time": "2020-03-25T08:05:45.635021Z",
     "start_time": "2020-03-25T08:05:45.634603Z"
    }
   },
   "outputs": [],
   "source": [
    "// 返回空向量的函数\n",
    "// vector<double> emptyvet()\n",
    "// {\n",
    "//     vector<double> v;\n",
    "//     return v;\n",
    "// }"
   ]
  },
  {
   "cell_type": "code",
   "execution_count": null,
   "metadata": {
    "scrolled": false
   },
   "outputs": [
    {
     "name": "stdout",
     "output_type": "stream",
     "text": [
      "Please enter your first name: zhou\n",
      "hello, zhou!\n",
      "Please enter your midterm and final exam grades: 80\n",
      "90\n",
      "Enter all your homework grades, followed by end-of-file;66\n",
      "77\n",
      "88\n",
      "99\n"
     ]
    }
   ],
   "source": [
    "{\n",
    "    //请求读入学生姓名\n",
    "    cout << \"Please enter your first name: \";\n",
    "    string name;\n",
    "    cin >> name;\n",
    "    cout << \"hello, \" << name << \"!\" << endl;\n",
    "    \n",
    "    //请求并读入期中和期末考试成绩\n",
    "    cout << \"Please enter your midterm and final exam grades: \";\n",
    "    double midterm, final;\n",
    "    cin >> midterm >> final;\n",
    "    \n",
    "    //请求用户输入家庭作业成绩\n",
    "    cout << \"Enter all your homework grades, \"\n",
    "            \"followed by end-of-file;\";\n",
    "    \n",
    "    vector<double> homework;\n",
    "    \n",
    "    // 读入家庭作业成绩\n",
    "    read_hw(cin, homework);\n",
    "    \n",
    "    // 如果可以的话, 计算生产总成绩\n",
    "    try {\n",
    "        double final_grade = grade(midterm, final, homework);\n",
    "        streamsize prec = cout.precision();\n",
    "        cout << \"Your final grade is \" << setprecision(3)\n",
    "             << final_grade << setprecision(prec) << endl;\n",
    "    } catch (domain_error) {\n",
    "        cout << endl << \"You must enter your grades. \"\n",
    "             << \"Please try again. \" << endl;\n",
    "        return 1;\n",
    "    }\n",
    "    return 0;\n",
    "}"
   ]
  },
  {
   "cell_type": "markdown",
   "metadata": {},
   "source": [
    "## 4.2 组织数据"
   ]
  },
  {
   "cell_type": "code",
   "execution_count": 8,
   "metadata": {
    "ExecuteTime": {
     "end_time": "2020-03-25T08:05:48.320442Z",
     "start_time": "2020-03-25T08:05:48.318978Z"
    }
   },
   "outputs": [],
   "source": [
    "// 定义数据结构\n",
    "struct Student_info {\n",
    "    string name;\n",
    "    double midterm, final;\n",
    "    vector<double> homework;\n",
    "}"
   ]
  },
  {
   "cell_type": "code",
   "execution_count": 9,
   "metadata": {
    "ExecuteTime": {
     "end_time": "2020-03-25T08:05:48.744053Z",
     "start_time": "2020-03-25T08:05:48.739537Z"
    }
   },
   "outputs": [],
   "source": [
    "// 从输入流中将家庭作业读入到一个vector<double>中\n",
    "istream& read(istream& is, Student_info& s)\n",
    "{\n",
    "    // 读入并存储学生的姓名, 期中及期末成绩\n",
    "    is >> s.name >> s.midterm >> s.final;\n",
    "    \n",
    "    // 读入并存储学生的所有家庭作业\n",
    "    read_hw(is, s.homework);\n",
    "    return is;\n",
    "}"
   ]
  },
  {
   "cell_type": "code",
   "execution_count": 10,
   "metadata": {
    "ExecuteTime": {
     "end_time": "2020-03-25T08:05:49.218562Z",
     "start_time": "2020-03-25T08:05:49.217095Z"
    }
   },
   "outputs": [],
   "source": [
    "// 计算学生的总层级\n",
    "double grade(const Student_info& s)\n",
    "{\n",
    "    return grade(s.midterm, s.final, s.homework);\n",
    "}"
   ]
  },
  {
   "cell_type": "code",
   "execution_count": 11,
   "metadata": {
    "ExecuteTime": {
     "end_time": "2020-03-25T08:05:50.275220Z",
     "start_time": "2020-03-25T08:05:50.24660Z"
    }
   },
   "outputs": [],
   "source": [
    "// 对学生姓名进行比较\n",
    "bool compare(const Student_info& x, const Student_info& y)\n",
    "{\n",
    "    return x.name < y.name;\n",
    "}\n"
   ]
  },
  {
   "cell_type": "code",
   "execution_count": null,
   "metadata": {},
   "outputs": [],
   "source": [
    "{\n",
    "    vector<Student_info> students;\n",
    "    Student_info record;\n",
    "    string::size_type maxlen = 0;\n",
    "    \n",
    "    // 读取存储所有的记录, 然后找出最长的姓名的长度\n",
    "    while (read(cin, record))\n",
    "    {\n",
    "        maxlen = max(maxlen, record.name.size());\n",
    "        students.push_back(record);\n",
    "    }\n",
    "    \n",
    "    // 按字母顺序排列记录\n",
    "    sort(students.begain(), students.end(), compare);\n",
    "    \n",
    "    for (vector<Student_info>::size_type i=0;\n",
    "         i!=students.size(); ++i\n",
    "        )\n",
    "    {\n",
    "        // 输出姓名. 填充姓名以达到maxlen+1的长度\n",
    "        cout << setw(maxlen+1) << students[i].name;\n",
    "        \n",
    "        // 计算并输出成绩\n",
    "        try {\n",
    "            double final_grade = grade(students[i]);\n",
    "            streamsize prec = cout.precision();\n",
    "            cout << setprecision(3) << final_grade\n",
    "                 << setprecision(prec)\n",
    "        } catch (domain_error e)\n",
    "        {\n",
    "            cout << e.what();\n",
    "        }\n",
    "        \n",
    "        cout << endl;\n",
    "    }\n",
    "    \n",
    "    return 0;\n",
    "}"
   ]
  },
  {
   "cell_type": "markdown",
   "metadata": {},
   "source": [
    "## 4.3 连接各部分代码"
   ]
  },
  {
   "cell_type": "code",
   "execution_count": null,
   "metadata": {},
   "outputs": [],
   "source": [
    "// median 函数的源文件, \n",
    "// 源文件名为：\n",
    "#include <algorithm>    //获取sort的声明\n",
    "#include <stdexcpet>    //获取domain_error的声明\n",
    "#include <vector>       //获取vector声明"
   ]
  },
  {
   "cell_type": "code",
   "execution_count": null,
   "metadata": {},
   "outputs": [],
   "source": [
    "using namespace std;"
   ]
  },
  {
   "cell_type": "code",
   "execution_count": null,
   "metadata": {},
   "outputs": [],
   "source": [
    "// 计算一个vector<double>类型的对象的中指\n",
    "double median(vector<double> vec)\n",
    "{\n",
    "    // 对应的代码\n",
    "}"
   ]
  },
  {
   "cell_type": "markdown",
   "metadata": {},
   "source": [
    "----------"
   ]
  },
  {
   "cell_type": "code",
   "execution_count": null,
   "metadata": {},
   "outputs": [],
   "source": [
    "// 调用median函数的一种较好的方法\n",
    "#include \"median.h\"    //引入头文件， 近似于复制代码到此处\n",
    "#include <vector>      //引入标准头， \n",
    "\n",
    "int main { /* --- */  }"
   ]
  },
  {
   "cell_type": "markdown",
   "metadata": {},
   "source": [
    "----------------"
   ]
  },
  {
   "cell_type": "code",
   "execution_count": null,
   "metadata": {},
   "outputs": [],
   "source": [
    "#ifndef GUAED_median_h\n",
    "#define GUARD_median_h\n",
    "\n",
    "// median.h 的最终版本\n",
    "# inckude <vector>\n",
    "double median(vector<double>);\n",
    "\n",
    "#endif"
   ]
  },
  {
   "cell_type": "markdown",
   "metadata": {},
   "source": [
    "-----------------"
   ]
  },
  {
   "cell_type": "code",
   "execution_count": null,
   "metadata": {},
   "outputs": [],
   "source": [
    "#ifndef GUARD_Student_info\n",
    "#define GUARD_Student_info\n",
    "\n",
    "// `Student_info.h' header file\n",
    "#include <iostream>\n",
    "#include <string>\n",
    "#include <vector>\n",
    "\n",
    "struct Student_info {\n",
    "    std::string name;\n",
    "    double midterm, final;\n",
    "    std::vector<double> homework;\n",
    "};\n",
    "\n",
    "bool compare(const Student_info&, const Student_info&);\n",
    "std::istream& read(std::istream&, Student_info&);\n",
    "std::istream& read_hw(std::istream&, std::vector<double>&);\n",
    "#endif"
   ]
  },
  {
   "cell_type": "code",
   "execution_count": null,
   "metadata": {},
   "outputs": [],
   "source": [
    "// source file for `Student_info'-related functions\n",
    "#include \"Student_info.h\"\n",
    "\n",
    "using std::istream;  using std::vector;\n",
    "\n",
    "bool compare(const Student_info& x, const Student_info& y) {\n",
    "    // code here\n",
    "}\n",
    "\n",
    "istream& read(istream& is, Student_info& s) {\n",
    "    // code here\n",
    "}\n",
    "\n",
    "// read homework grades from an input stream into a `vector<double>'\n",
    "istream& read_hw(istream& in, vector<double>& hw) {\n",
    "    // code here\n",
    "}\n"
   ]
  },
  {
   "cell_type": "markdown",
   "metadata": {},
   "source": [
    "----------------"
   ]
  },
  {
   "cell_type": "code",
   "execution_count": null,
   "metadata": {},
   "outputs": [],
   "source": [
    "#ifndef GUARD_grade_h\n",
    "#define GUARD_grade_h\n",
    "\n",
    "// `grade.h'\n",
    "#include <vector>\n",
    "#include \"Student_info.h\"\n",
    "\n",
    "double grade(double, double, double);\n",
    "double grade(double, double, const std::vector<double>&);\n",
    "double grade(const Student_info&);\n",
    "\n",
    "#endif"
   ]
  },
  {
   "cell_type": "code",
   "execution_count": null,
   "metadata": {},
   "outputs": [],
   "source": [
    "#include <stdexcept>\n",
    "#include <vector>\n",
    "#include \"grade.h\"\n",
    "#include \"median.h\"\n",
    "#include \"Student_info.h\"\n",
    "\n",
    "using std::domain_error;  using std::vector;\n",
    "\n",
    "\n",
    "// compute a student's overall grade from midterm and final exam grades and homework grade\n",
    "double grade(double midterm, double final, double homework) {\n",
    "    // code here\n",
    "}\n",
    "\n",
    "// compute a student's overall grade from midterm and final exam grades\n",
    "// and vector of homework grades.\n",
    "// this function does not copy its argument, because `median' does so for us.\n",
    "double grade(double midterm, double final, const vector<double>& hw) {\n",
    "    // code here\n",
    "}\n",
    "\n",
    "double grade(const Student_info& s) {\n",
    "    // code here\n",
    "}"
   ]
  },
  {
   "cell_type": "markdown",
   "metadata": {},
   "source": [
    "-----------------"
   ]
  },
  {
   "cell_type": "code",
   "execution_count": null,
   "metadata": {},
   "outputs": [],
   "source": [
    "#include <algorithm>\n",
    "#include <iomanip>\n",
    "#ifndef __GNUC__\n",
    "#include <ios>\n",
    "#endif\n",
    "#include <iostream>\n",
    "#include <stdexcept>\n",
    "#include <string>\n",
    "#include <vector>\n",
    "#include \"grade.h\"\n",
    "#include \"Student_info.h\"\n",
    "\n",
    "using std::cin;                     using std::setprecision;\n",
    "using std::cout;                    using std::sort;\n",
    "using std::domain_error;            using std::streamsize;\n",
    "using std::endl;                    using std::string;\n",
    "#ifndef _MSC_VER\n",
    "using std::max;                     using std::vector;\n",
    "#else\n",
    "using std::vector;\n",
    "\n",
    "#include \"../minmax.h\"\n",
    "#endif\n",
    "\n",
    "int main() {\n",
    "    vector<Student_info> students;\n",
    "    Student_info record;\n",
    "    string::size_type maxlen = 0;       // the length of the longest name\n",
    "\n",
    "    // read and store all the students' data.\n",
    "    // Invariant:    `students' contains all the student records read so far\n",
    "    //            `maxlen' contains the length of the longest name in `students'\n",
    "    while (read(cin, record)) {\n",
    "    // find length of longest name\n",
    "    maxlen = max(maxlen, record.name.size());\n",
    "    students.push_back(record);\n",
    "    }\n",
    "\n",
    "    // alphabetize the student records\n",
    "    sort(students.begin(), students.end(), compare);\n",
    "\n",
    "    // write the names and grades\n",
    "#ifdef _MSC_VER\n",
    "    for (std::vector<Student_info>::size_type i = 0;\n",
    "#else\n",
    "         for (vector<Student_info>::size_type i = 0;\n",
    "#endif\n",
    "          i != students.size(); ++i) {\n",
    "\n",
    "            // write the name, padded on the right to `maxlen' `+' `1' characters\n",
    "            cout << students[i].name\n",
    "              << string(maxlen + 1 - students[i].name.size(), ' ');\n",
    "\n",
    "            // compute and write the grade\n",
    "            try {\n",
    "                double final_grade = grade(students[i]);\n",
    "                streamsize prec = cout.precision();\n",
    "                cout << setprecision(3) << final_grade\n",
    "                << setprecision(prec);\n",
    "            } catch (domain_error e) {\n",
    "                cout << e.what();\n",
    "            }\n",
    "        cout << endl;\n",
    "        }\n",
    "\n",
    "    return 0;\n",
    "}\n"
   ]
  }
 ],
 "metadata": {
  "kernelspec": {
   "display_name": "C++11",
   "language": "C++11",
   "name": "xcpp11"
  },
  "language_info": {
   "codemirror_mode": "text/x-c++src",
   "file_extension": ".cpp",
   "mimetype": "text/x-c++src",
   "name": "c++",
   "version": "11"
  }
 },
 "nbformat": 4,
 "nbformat_minor": 4
}

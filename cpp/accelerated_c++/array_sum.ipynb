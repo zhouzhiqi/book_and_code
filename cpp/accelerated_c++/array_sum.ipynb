{
 "cells": [
  {
   "cell_type": "code",
   "execution_count": 1,
   "metadata": {},
   "outputs": [],
   "source": [
    "# include <iostream>\n",
    "using namespace std;"
   ]
  },
  {
   "cell_type": "code",
   "execution_count": 2,
   "metadata": {},
   "outputs": [],
   "source": [
    "int add_array( int *array, int n );"
   ]
  },
  {
   "cell_type": "code",
   "execution_count": 3,
   "metadata": {},
   "outputs": [],
   "source": [
    "int add_array( int *array, int n )\n",
    "{\n",
    "    int sum = 0;\n",
    "    int i;\n",
    "    for ( i=0; i<n; i++ )\n",
    "    {\n",
    "        sum += *array++;\n",
    "        cout << *array << \" : \" <<  endl;\n",
    "    }\n",
    "    \n",
    "    return sum;\n",
    "}"
   ]
  },
  {
   "cell_type": "code",
   "execution_count": 4,
   "metadata": {},
   "outputs": [
    {
     "name": "stdout",
     "output_type": "stream",
     "text": [
      "result: 1 : \n",
      "2 : \n",
      "3 : \n",
      "4 : \n",
      "5 : \n",
      "6 : \n",
      "7 : \n",
      "8 : \n",
      "9 : \n",
      "10 : \n",
      "45\n"
     ]
    }
   ],
   "source": [
    "int data[] = { 0, 1, 2, 3, 4, 5, 6, 7, 8, 9, };\n",
    "// 数组元素的个数\n",
    "int size = sizeof(data) / sizeof(data[0]);\n",
    "\n",
    "cout << \"result: \" << add_array( data, size ) << endl;"
   ]
  },
  {
   "cell_type": "code",
   "execution_count": null,
   "metadata": {},
   "outputs": [],
   "source": []
  },
  {
   "cell_type": "code",
   "execution_count": null,
   "metadata": {},
   "outputs": [],
   "source": []
  },
  {
   "cell_type": "code",
   "execution_count": null,
   "metadata": {},
   "outputs": [],
   "source": []
  }
 ],
 "metadata": {
  "kernelspec": {
   "display_name": "C++11",
   "language": "C++11",
   "name": "xcpp11"
  },
  "language_info": {
   "codemirror_mode": "text/x-c++src",
   "file_extension": ".cpp",
   "mimetype": "text/x-c++src",
   "name": "c++",
   "version": "11"
  }
 },
 "nbformat": 4,
 "nbformat_minor": 4
}

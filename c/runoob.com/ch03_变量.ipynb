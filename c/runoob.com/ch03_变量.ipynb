{
 "cells": [
  {
   "cell_type": "markdown",
   "metadata": {},
   "source": [
    "# ch03_变量"
   ]
  },
  {
   "cell_type": "markdown",
   "metadata": {},
   "source": [
    "## 变量\n",
    "\n",
    "变量其实只不过是程序可操作的存储区的名称。C 中每个变量都有特定的类型，类型决定了变量存储的大小和布局，该范围内的值都可以存储在内存中，运算符可应用于变量上。\n",
    "\n",
    "变量的名称可以由字母、数字和下划线字符组成。它必须以字母或下划线开头。大写字母和小写字母是不同的，因为 C 是大小写敏感的。基于前一章讲解的基本类型，有以下几种基本的变量类型："
   ]
  },
  {
   "cell_type": "markdown",
   "metadata": {},
   "source": [
    "```\n",
    "类型\t描述\n",
    "char\t通常是一个字节（八位）。这是一个整数类型。\n",
    "int\t对机器而言，整数的最自然的大小。\n",
    "float\t单精度浮点值。单精度是这样的格式，1位符号，8位指数，23位小数。\n",
    "double\t双精度浮点值。双精度是1位符号，11位指数，52位小数。\n",
    "void\t表示类型的缺失。\n",
    "```"
   ]
  },
  {
   "cell_type": "markdown",
   "metadata": {},
   "source": [
    "C 语言也允许定义各种其他类型的变量，比如枚举、指针、数组、结构、共用体等等，这将会在后续的章节中进行讲解，本章节我们先讲解基本变量类型。"
   ]
  },
  {
   "cell_type": "markdown",
   "metadata": {},
   "source": [
    "## C 中的变量定义\n",
    "\n",
    "变量定义就是告诉编译器在何处创建变量的存储，以及如何创建变量的存储。变量定义指定一个数据类型，并包含了该类型的一个或多个变量的列表，如下所示：\n",
    "\n",
    "> `type variable_list;`\n",
    "\n",
    "在这里，type 必须是一个有效的 C 数据类型，可以是 char、w_char、int、float、double 或任何用户自定义的对象，variable_list 可以由一个或多个标识符名称组成，多个标识符之间用逗号分隔。下面列出几个有效的声明：\n",
    "\n",
    "```c\n",
    "int    i, j, k;\n",
    "char   c, ch;\n",
    "float  f, salary;\n",
    "double d;\n",
    "```\n",
    "\n",
    "行 int i, j, k; 声明并定义了变量 i、j 和 k，这指示编译器创建类型为 int 的名为 i、j、k 的变量。"
   ]
  },
  {
   "cell_type": "markdown",
   "metadata": {},
   "source": [
    "变量可以在声明的时候被初始化（指定一个初始值）。初始化器由一个等号，后跟一个常量表达式组成，如下所示：\n",
    "\n",
    "> `type variable_name = value;`\n",
    "\n",
    "下面列举几个实例：\n",
    "```c\n",
    "extern int d = 3, f = 5;    // d 和 f 的声明与初始化\n",
    "int d = 3, f = 5;           // 定义并初始化 d 和 f\n",
    "byte z = 22;                // 定义并初始化 z\n",
    "char x = 'x';               // 变量 x 的值为 'x'\n",
    "```\n",
    "\n",
    "不带初始化的定义：带有静态存储持续时间的变量会被隐式初始化为 NULL（所有字节的值都是 0），其他所有变量的初始值是未定义的。"
   ]
  },
  {
   "cell_type": "markdown",
   "metadata": {},
   "source": [
    "## C 中的变量声明\n",
    "\n",
    "变量声明向编译器保证变量以指定的类型和名称存在，这样编译器在不需要知道变量完整细节的情况下也能继续进一步的编译。变量声明只在编译时有它的意义，在程序连接时编译器需要实际的变量声明。\n",
    "\n",
    "变量的声明有两种情况：\n",
    "\n",
    "> 1、一种是需要建立存储空间的。例如：int a 在声明的时候就已经建立了存储空间。   \n",
    "> 2、另一种是不需要建立存储空间的，通过使用extern关键字声明变量名而不定义它。    \n",
    "\n",
    "例如：   \n",
    "extern int a 其中变量 a 可以在别的文件中定义的。\n",
    "除非有extern关键字，否则都是变量的定义。\n",
    "extern int i; //声明，不是定义\n",
    "int i; //声明，也是定义"
   ]
  },
  {
   "cell_type": "code",
   "execution_count": 1,
   "metadata": {},
   "outputs": [],
   "source": [
    "#include <stdio.h>"
   ]
  },
  {
   "cell_type": "code",
   "execution_count": 3,
   "metadata": {},
   "outputs": [],
   "source": [
    "// 函数外定义变量 x 和 y\n",
    "int x;\n",
    "int y;"
   ]
  },
  {
   "cell_type": "code",
   "execution_count": 4,
   "metadata": {},
   "outputs": [],
   "source": [
    "int addtwonum()\n",
    "{\n",
    "    // 函数内声明变量 x 和 y 为外部变量\n",
    "    extern int x;\n",
    "    extern int y;\n",
    "    // 给外部变量（全局变量）x 和 y 赋值\n",
    "    x = 1;\n",
    "    y = 2;\n",
    "    return x+y;\n",
    "}"
   ]
  },
  {
   "cell_type": "code",
   "execution_count": 11,
   "metadata": {},
   "outputs": [
    {
     "name": "stdout",
     "output_type": "stream",
     "text": [
      "result 为: 3 \n",
      "x = 1, y = 2"
     ]
    }
   ],
   "source": [
    "// int main()\n",
    "{\n",
    "    int result;\n",
    "    // 调用函数 addtwonum\n",
    "    result = addtwonum();\n",
    "    \n",
    "    printf(\"result 为: %d \\n\",result);\n",
    "    printf(\"x = %d, y = %d\", x, y); \n",
    "//     return 0;\n",
    "}"
   ]
  },
  {
   "cell_type": "markdown",
   "metadata": {},
   "source": [
    "如果需要在一个源文件中引用另外一个源文件中定义的变量，我们只需在引用的文件中将变量加上 extern 关键字的声明即可。\n",
    "\n",
    "addtwonum.c 文件代码：\n",
    "```c\n",
    "#include <stdio.h>\n",
    "/*外部变量声明*/\n",
    "extern int x ;\n",
    "extern int y ;\n",
    "int addtwonum()\n",
    "{\n",
    "    return x+y;\n",
    "}\n",
    "```\n",
    "\n",
    "test.c 文件代码：\n",
    "```c\n",
    "#include <stdio.h>\n",
    "  \n",
    "/*定义两个全局变量*/\n",
    "int x=1;\n",
    "int y=2;\n",
    "int addtwonum();\n",
    "int main(void)\n",
    "{\n",
    "    int result;\n",
    "    result = addtwonum();\n",
    "    printf(\"result 为: %d\\n\",result);\n",
    "    return 0;\n",
    "}\n",
    "```\n",
    "\n",
    "当上面的代码被编译和执行时，它会产生下列结果：\n",
    "\n",
    "```sh\n",
    "$ gcc addtwonum.c test.c -o main\n",
    "$ ./main\n",
    "result 为: 3\n",
    "```"
   ]
  },
  {
   "cell_type": "markdown",
   "metadata": {},
   "source": [
    "## C 中的左值（Lvalues）和右值（Rvalues）\n",
    "\n",
    "C 中有两种类型的表达式：\n",
    "\n",
    "左值（lvalue）：指向内存位置的表达式被称为左值（lvalue）表达式。左值可以出现在赋值号的左边或右边。   \n",
    "右值（rvalue）：术语右值（rvalue）指的是存储在内存中某些地址的数值。右值是不能对其进行赋值的表达式，也就是说，右值可以出现在赋值号的右边，但不能出现在赋值号的左边。\n",
    "\n",
    "变量是左值，因此可以出现在赋值号的左边。数值型的字面值是右值，因此不能被赋值，不能出现在赋值号的左边。   \n",
    "下面是一个有效的语句：`int g = 20;`   \n",
    "但是下面这个就不是一个有效的语句，会生成编译时错误：`10 = 20;`   "
   ]
  },
  {
   "cell_type": "code",
   "execution_count": null,
   "metadata": {},
   "outputs": [],
   "source": []
  }
 ],
 "metadata": {
  "kernelspec": {
   "display_name": "C++11",
   "language": "C++11",
   "name": "xcpp11"
  },
  "language_info": {
   "codemirror_mode": "text/x-c++src",
   "file_extension": ".cpp",
   "mimetype": "text/x-c++src",
   "name": "c++",
   "version": "11"
  }
 },
 "nbformat": 4,
 "nbformat_minor": 4
}

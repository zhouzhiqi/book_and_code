{
 "cells": [
  {
   "cell_type": "markdown",
   "metadata": {},
   "source": [
    "# ch05_存储类"
   ]
  },
  {
   "cell_type": "markdown",
   "metadata": {},
   "source": [
    "存储类定义 C 程序中变量/函数的范围（可见性）和生命周期。这些说明符放置在它们所修饰的类型之前。下面列出 C 程序中可用的存储类：\n",
    "```\n",
    "auto\n",
    "register\n",
    "static\n",
    "extern\n",
    "```"
   ]
  },
  {
   "cell_type": "markdown",
   "metadata": {},
   "source": [
    "## auto 存储类\n",
    "auto 存储类是所有局部变量默认的存储类。\n",
    "```c\n",
    "{\n",
    "   int mount;\n",
    "   auto int month;\n",
    "}\n",
    "```\n",
    "上面的实例定义了两个带有相同存储类的变量，auto 只能用在函数内，即 auto 只能修饰局部变量。"
   ]
  },
  {
   "cell_type": "markdown",
   "metadata": {},
   "source": [
    "## register 存储类\n",
    "register 存储类用于定义存储在寄存器中而不是 RAM 中的局部变量。这意味着变量的最大尺寸等于寄存器的大小（通常是一个词），且不能对它应用一元的 '&' 运算符（因为它没有内存位置）。\n",
    "```c\n",
    "{\n",
    "   register int  miles;\n",
    "}\n",
    "```\n",
    "寄存器只用于需要快速访问的变量，比如计数器。还应注意的是，定义 'register' 并不意味着变量将被存储在寄存器中，它意味着变量可能存储在寄存器中，这取决于硬件和实现的限制。"
   ]
  },
  {
   "cell_type": "markdown",
   "metadata": {},
   "source": [
    "# static 存储类\n",
    "static 存储类指示编译器在程序的生命周期内保持局部变量的存在，而不需要在每次它进入和离开作用域时进行创建和销毁。因此，使用 static 修饰局部变量可以在函数调用之间保持局部变量的值。\n",
    "\n",
    "static 修饰符也可以应用于全局变量。当 static 修饰全局变量时，会使变量的作用域限制在声明它的文件内。\n",
    "\n",
    "全局声明的一个 static 变量或方法可以被任何函数或方法调用，只要这些方法出现在跟 static 变量或方法同一个文件中。\n",
    "\n",
    "以下实例演示了 static 修饰全局变量和局部变量的应用："
   ]
  },
  {
   "cell_type": "code",
   "execution_count": 1,
   "metadata": {},
   "outputs": [],
   "source": [
    "#include <stdio.h>"
   ]
  },
  {
   "cell_type": "code",
   "execution_count": 2,
   "metadata": {},
   "outputs": [],
   "source": [
    "/* 函数声明 */\n",
    "void func1(void);"
   ]
  },
  {
   "cell_type": "code",
   "execution_count": 3,
   "metadata": {},
   "outputs": [],
   "source": [
    "/* 全局变量 - static 是默认的 */\n",
    "static int count=10;"
   ]
  },
  {
   "cell_type": "code",
   "execution_count": 4,
   "metadata": {},
   "outputs": [],
   "source": [
    "void func1(void)\n",
    "{\n",
    "/* 'thingy' 是 'func1' 的局部变量 - 只初始化一次\n",
    " * 每次调用函数 'func1' 'thingy' 值不会被重置。\n",
    " */                \n",
    "  static int thingy=5;\n",
    "  thingy++;\n",
    "  printf(\" thingy 为 %d ， count 为 %d\\n\", thingy, count);\n",
    "}"
   ]
  },
  {
   "cell_type": "code",
   "execution_count": 5,
   "metadata": {},
   "outputs": [
    {
     "name": "stdout",
     "output_type": "stream",
     "text": [
      " thingy 为 6 ， count 为 9\n",
      " thingy 为 7 ， count 为 8\n",
      " thingy 为 8 ， count 为 7\n",
      " thingy 为 9 ， count 为 6\n",
      " thingy 为 10 ， count 为 5\n",
      " thingy 为 11 ， count 为 4\n",
      " thingy 为 12 ， count 为 3\n",
      " thingy 为 13 ， count 为 2\n",
      " thingy 为 14 ， count 为 1\n",
      " thingy 为 15 ， count 为 0\n"
     ]
    }
   ],
   "source": [
    "// int main()\n",
    "{\n",
    "  while (count--) {\n",
    "      func1();\n",
    "  }\n",
    "//   return 0;\n",
    "}"
   ]
  },
  {
   "cell_type": "markdown",
   "metadata": {},
   "source": [
    "实例中 count 作为全局变量可以在函数内使用，thingy 使用 static 修饰后，不会在每次调用时重置。\n",
    "\n",
    "可能您现在还无法理解这个实例，因为我已经使用了函数和全局变量，这两个概念目前为止还没进行讲解。即使您现在不能完全理解，也没有关系，后续的章节我们会详细讲解。"
   ]
  },
  {
   "cell_type": "markdown",
   "metadata": {},
   "source": [
    "## extern 存储类\n",
    "extern 存储类用于提供一个全局变量的引用，全局变量对所有的程序文件都是可见的。当您使用 extern 时，对于无法初始化的变量，会把变量名指向一个之前定义过的存储位置。\n",
    "\n",
    "当您有多个文件且定义了一个可以在其他文件中使用的全局变量或函数时，可以在其他文件中使用 extern 来得到已定义的变量或函数的引用。可以这么理解，`extern 是用来在另一个文件中声明一个全局变量或函数。`\n",
    "\n",
    "extern 修饰符通常用于当有两个或多个文件共享相同的全局变量或函数的时候，"
   ]
  },
  {
   "cell_type": "markdown",
   "metadata": {},
   "source": [
    "### 第一个文件：main.c\n",
    "```c\n",
    "#include <stdio.h>\n",
    " \n",
    "int count ;\n",
    "extern void write_extern();\n",
    " \n",
    "int main()\n",
    "{\n",
    "   count = 5;\n",
    "   write_extern();\n",
    "}\n",
    "```\n",
    "\n",
    "### 第二个文件：support.c\n",
    "```c\n",
    "#include <stdio.h>\n",
    " \n",
    "extern int count;\n",
    " \n",
    "void write_extern(void)\n",
    "{\n",
    "   printf(\"count is %d\\n\", count);\n",
    "}\n",
    "```\n",
    "在这里，第二个文件中的 extern 关键字用于声明已经在第一个文件 main.c 中定义的 count。"
   ]
  },
  {
   "cell_type": "code",
   "execution_count": null,
   "metadata": {},
   "outputs": [],
   "source": []
  }
 ],
 "metadata": {
  "kernelspec": {
   "display_name": "C++11",
   "language": "C++11",
   "name": "xcpp11"
  },
  "language_info": {
   "codemirror_mode": "text/x-c++src",
   "file_extension": ".cpp",
   "mimetype": "text/x-c++src",
   "name": "c++",
   "version": "11"
  }
 },
 "nbformat": 4,
 "nbformat_minor": 4
}

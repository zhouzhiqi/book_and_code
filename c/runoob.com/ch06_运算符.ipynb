{
 "cells": [
  {
   "cell_type": "markdown",
   "metadata": {},
   "source": [
    "# ch06_运算符"
   ]
  },
  {
   "cell_type": "markdown",
   "metadata": {},
   "source": [
    "运算符是一种告诉编译器执行特定的数学或逻辑操作的符号。C 语言内置了丰富的运算符，并提供了以下类型的运算符：\n",
    "\n",
    "1. 算术运算符\n",
    "2. 关系运算符\n",
    "3. 逻辑运算符\n",
    "4. 位运算符\n",
    "5. 赋值运算符\n",
    "6. 杂项运算符"
   ]
  },
  {
   "cell_type": "markdown",
   "metadata": {},
   "source": [
    "## 算术运算符\n",
    "\n",
    "下表显示了 C 语言支持的所有算术运算符。假设变量 A 的值为 10，变量 B 的值为 20，则：\n",
    "```\n",
    "运算符\t描述\t实例\n",
    "+\t把两个操作数相加\tA + B 将得到 30\n",
    "-\t从第一个操作数中减去第二个操作数\tA - B 将得到 -10\n",
    "*\t把两个操作数相乘\tA * B 将得到 200\n",
    "/\t分子除以分母\tB / A 将得到 2\n",
    "%\t取模运算符，整除后的余数\tB % A 将得到 0\n",
    "++\t自增运算符，整数值增加 1\tA++ 将得到 11\n",
    "--\t自减运算符，整数值减少 1\tA-- 将得到 9\n",
    "```"
   ]
  },
  {
   "cell_type": "code",
   "execution_count": 1,
   "metadata": {},
   "outputs": [],
   "source": [
    "#include <stdio.h>"
   ]
  },
  {
   "cell_type": "code",
   "execution_count": 2,
   "metadata": {},
   "outputs": [
    {
     "name": "stdout",
     "output_type": "stream",
     "text": [
      "Line 1 - c 的值是 31\n",
      "Line 2 - c 的值是 11\n",
      "Line 3 - c 的值是 210\n",
      "Line 4 - c 的值是 2\n",
      "Line 5 - c 的值是 1\n",
      "Line 6 - c 的值是 21\n",
      "Line 7 - c 的值是 22\n"
     ]
    }
   ],
   "source": [
    "{\n",
    "   int a = 21;\n",
    "   int b = 10;\n",
    "   int c ;\n",
    " \n",
    "   c = a + b;\n",
    "   printf(\"Line 1 - c 的值是 %d\\n\", c );\n",
    "   c = a - b;\n",
    "   printf(\"Line 2 - c 的值是 %d\\n\", c );\n",
    "   c = a * b;\n",
    "   printf(\"Line 3 - c 的值是 %d\\n\", c );\n",
    "   c = a / b;\n",
    "   printf(\"Line 4 - c 的值是 %d\\n\", c );\n",
    "   c = a % b;\n",
    "   printf(\"Line 5 - c 的值是 %d\\n\", c );\n",
    "   c = a++;  // 赋值后再加 1 ，c 为 21，a 为 22\n",
    "   printf(\"Line 6 - c 的值是 %d\\n\", c );\n",
    "   c = a--;  // 赋值后再减 1 ，c 为 22 ，a 为 21\n",
    "   printf(\"Line 7 - c 的值是 %d\\n\", c );\n",
    "}"
   ]
  },
  {
   "cell_type": "code",
   "execution_count": 3,
   "metadata": {},
   "outputs": [
    {
     "name": "stdout",
     "output_type": "stream",
     "text": [
      "先赋值后运算：\n",
      "Line 1 - c 的值是 10\n",
      "Line 2 - a 的值是 11\n",
      "Line 3 - c 的值是 10\n",
      "Line 4 - a 的值是 9\n",
      "先运算后赋值：\n",
      "Line 5 - c 的值是 11\n",
      "Line 6 - a 的值是 11\n",
      "Line 7 - c 的值是 9\n",
      "Line 8 - a 的值是 9\n"
     ]
    }
   ],
   "source": [
    "{\n",
    "   int c;\n",
    "   int a = 10;\n",
    "   c = a++; \n",
    "   printf(\"先赋值后运算：\\n\");\n",
    "   printf(\"Line 1 - c 的值是 %d\\n\", c );\n",
    "   printf(\"Line 2 - a 的值是 %d\\n\", a );\n",
    "   a = 10;\n",
    "   c = a--; \n",
    "   printf(\"Line 3 - c 的值是 %d\\n\", c );\n",
    "   printf(\"Line 4 - a 的值是 %d\\n\", a );\n",
    " \n",
    "   printf(\"先运算后赋值：\\n\");\n",
    "   a = 10;\n",
    "   c = ++a; \n",
    "   printf(\"Line 5 - c 的值是 %d\\n\", c );\n",
    "   printf(\"Line 6 - a 的值是 %d\\n\", a );\n",
    "   a = 10;\n",
    "   c = --a; \n",
    "   printf(\"Line 7 - c 的值是 %d\\n\", c );\n",
    "   printf(\"Line 8 - a 的值是 %d\\n\", a );\n",
    " \n",
    "}"
   ]
  },
  {
   "cell_type": "markdown",
   "metadata": {},
   "source": [
    "## 关系运算符\n",
    "下表显示了 C 语言支持的所有关系运算符。假设变量 A 的值为 10，变量 B 的值为 20，则：\n",
    "```\n",
    "运算符\t描述\t实例\n",
    "==\t检查两个操作数的值是否相等，如果相等则条件为真。\t(A == B) 为假。\n",
    "!=\t检查两个操作数的值是否相等，如果不相等则条件为真。\t(A != B) 为真。\n",
    ">\t检查左操作数的值是否大于右操作数的值，如果是则条件为真。\t(A > B) 为假。\n",
    "<\t检查左操作数的值是否小于右操作数的值，如果是则条件为真。\t(A < B) 为真。\n",
    ">=\t检查左操作数的值是否大于或等于右操作数的值，如果是则条件为真。\t(A >= B) 为假。\n",
    "<=\t检查左操作数的值是否小于或等于右操作数的值，如果是则条件为真。\t(A <= B) 为真。\n",
    "```"
   ]
  },
  {
   "cell_type": "code",
   "execution_count": 4,
   "metadata": {},
   "outputs": [
    {
     "name": "stdout",
     "output_type": "stream",
     "text": [
      "Line 1 - a 不等于 b\n",
      "Line 2 - a 不小于 b\n",
      "Line 3 - a 大于 b\n",
      "Line 4 - a 小于或等于 b\n",
      "Line 5 - b 大于或等于 a\n"
     ]
    }
   ],
   "source": [
    "{\n",
    "   int a = 21;\n",
    "   int b = 10;\n",
    "   int c ;\n",
    " \n",
    "   if( a == b )\n",
    "   {\n",
    "      printf(\"Line 1 - a 等于 b\\n\" );\n",
    "   }\n",
    "   else\n",
    "   {\n",
    "      printf(\"Line 1 - a 不等于 b\\n\" );\n",
    "   }\n",
    "   if ( a < b )\n",
    "   {\n",
    "      printf(\"Line 2 - a 小于 b\\n\" );\n",
    "   }\n",
    "   else\n",
    "   {\n",
    "      printf(\"Line 2 - a 不小于 b\\n\" );\n",
    "   }\n",
    "   if ( a > b )\n",
    "   {\n",
    "      printf(\"Line 3 - a 大于 b\\n\" );\n",
    "   }\n",
    "   else\n",
    "   {\n",
    "      printf(\"Line 3 - a 不大于 b\\n\" );\n",
    "   }\n",
    "   /* 改变 a 和 b 的值 */\n",
    "   a = 5;\n",
    "   b = 20;\n",
    "   if ( a <= b )\n",
    "   {\n",
    "      printf(\"Line 4 - a 小于或等于 b\\n\" );\n",
    "   }\n",
    "   if ( b >= a )\n",
    "   {\n",
    "      printf(\"Line 5 - b 大于或等于 a\\n\" );\n",
    "   }\n",
    "}"
   ]
  },
  {
   "cell_type": "markdown",
   "metadata": {},
   "source": [
    "## 逻辑运算符\n",
    "下表显示了 C 语言支持的所有关系逻辑运算符。假设变量 A 的值为 1，变量 B 的值为 0，则：\n",
    "```\n",
    "运算符\t描述\t实例\n",
    "&&\t称为逻辑与运算符。如果两个操作数都非零，则条件为真。\t(A && B) 为假。\n",
    "||\t称为逻辑或运算符。如果两个操作数中有任意一个非零，则条件为真。\t(A || B) 为真。\n",
    "!\t称为逻辑非运算符。用来逆转操作数的逻辑状态。如果条件为真则逻辑非运算符将使其为假。\t!(A && B) 为真。\n",
    "```"
   ]
  },
  {
   "cell_type": "code",
   "execution_count": 5,
   "metadata": {},
   "outputs": [
    {
     "name": "stdout",
     "output_type": "stream",
     "text": [
      "Line 1 - 条件为真\n",
      "Line 2 - 条件为真\n",
      "Line 3 - 条件为假\n",
      "Line 4 - 条件为真\n"
     ]
    }
   ],
   "source": [
    "{\n",
    "   int a = 5;\n",
    "   int b = 20;\n",
    "   int c ;\n",
    " \n",
    "   if ( a && b )\n",
    "   {\n",
    "      printf(\"Line 1 - 条件为真\\n\" );\n",
    "   }\n",
    "   if ( a || b )\n",
    "   {\n",
    "      printf(\"Line 2 - 条件为真\\n\" );\n",
    "   }\n",
    "   /* 改变 a 和 b 的值 */\n",
    "   a = 0;\n",
    "   b = 10;\n",
    "   if ( a && b )\n",
    "   {\n",
    "      printf(\"Line 3 - 条件为真\\n\" );\n",
    "   }\n",
    "   else\n",
    "   {\n",
    "      printf(\"Line 3 - 条件为假\\n\" );\n",
    "   }\n",
    "   if ( !(a && b) )\n",
    "   {\n",
    "      printf(\"Line 4 - 条件为真\\n\" );\n",
    "   }\n",
    "}"
   ]
  },
  {
   "cell_type": "markdown",
   "metadata": {},
   "source": [
    "位运算符\n",
    "位运算符作用于位，并逐位执行操作。&、 | 和 ^ 的真值表如下所示：\n",
    "```\n",
    "p\tq\tp&q\tp|q\tp^q\n",
    "0\t0\t0\t0\t0\n",
    "0\t1\t0\t1\t1\n",
    "1\t1\t1\t1\t0\n",
    "1\t0\t0\t1\t1\n",
    "```\n",
    "假设如果 A = 60，且 B = 13，现在以二进制格式表示，它们如下所示：\n",
    "\n",
    "A = 0011 1100\n",
    "\n",
    "B = 0000 1101\n",
    "\n",
    "-----------------\n",
    "\n",
    "A&B = 0000 1100\n",
    "\n",
    "A|B = 0011 1101\n",
    "\n",
    "A^B = 0011 0001\n",
    "\n",
    "~A  = 1100 0011"
   ]
  },
  {
   "cell_type": "markdown",
   "metadata": {},
   "source": [
    "下表显示了 C 语言支持的位运算符。假设变量 A 的值为 60，变量 B 的值为 13，则：\n",
    "\n",
    "运算符\t描述\t实例\n",
    "\n",
    "-------------------\n",
    "\n",
    "`&`\n",
    "按位与操作，按二进制位进行\"与\"运算。运算规则：\n",
    "\n",
    "0&0=0;   \n",
    "0&1=0;    \n",
    "1&0=0;     \n",
    "1&1=1;\t\n",
    "\n",
    "(A & B) 将得到 12，即为 0000 1100\n",
    "\n",
    "-------------------\n",
    "\n",
    "`|`\n",
    "按位或运算符，按二进制位进行\"或\"运算。运算规则：\n",
    "\n",
    "0|0=0;   \n",
    "0|1=1;   \n",
    "1|0=1;    \n",
    "1|1=1;\t\n",
    "\n",
    "(A | B) 将得到 61，即为 0011 1101\n",
    "\n",
    "-------------------\n",
    "\n",
    "`^`\n",
    "异或运算符，按二进制位进行\"异或\"运算。运算规则：\n",
    "\n",
    "0^0=0;   \n",
    "0^1=1;   \n",
    "1^0=1;  \n",
    "1^1=0;\t\n",
    "(A ^ B) 将得到 49，即为 0011 0001\n",
    "\n",
    "-------------------\n",
    "\n",
    "`~`\n",
    "取反运算符，按二进制位进行\"取反\"运算。运算规则：\n",
    "\n",
    "~1=0;   \n",
    "~0=1;\t\n",
    "\n",
    "(~A ) 将得到 -61，即为 1100 0011，一个有符号二进制数的补码形式。\n",
    "\n",
    "-------------------\n",
    "\n",
    "`<<`\n",
    "二进制左移运算符。将一个运算对象的各二进制位全部左移若干位（左边的二进制位丢弃，右边补0）。\t \n",
    "\n",
    "A << 2 将得到 240，即为 1111 0000\n",
    "\n",
    "-------------------\n",
    "\n",
    "`>>`\n",
    "\n",
    "二进制右移运算符。将一个数的各二进制位全部右移若干位，正数左补0，负数左补1，右边丢弃。\t\n",
    "\n",
    "A >> 2 将得到 15，即为 0000 1111\n"
   ]
  },
  {
   "cell_type": "code",
   "execution_count": 6,
   "metadata": {},
   "outputs": [
    {
     "name": "stdout",
     "output_type": "stream",
     "text": [
      "Line 1 - c 的值是 12\n",
      "Line 2 - c 的值是 61\n",
      "Line 3 - c 的值是 49\n",
      "Line 4 - c 的值是 -61\n",
      "Line 5 - c 的值是 240\n",
      "Line 6 - c 的值是 15\n"
     ]
    }
   ],
   "source": [
    "{\n",
    " \n",
    "   unsigned int a = 60;    /* 60 = 0011 1100 */  \n",
    "   unsigned int b = 13;    /* 13 = 0000 1101 */\n",
    "   int c = 0;           \n",
    " \n",
    "   c = a & b;       /* 12 = 0000 1100 */ \n",
    "   printf(\"Line 1 - c 的值是 %d\\n\", c );\n",
    " \n",
    "   c = a | b;       /* 61 = 0011 1101 */\n",
    "   printf(\"Line 2 - c 的值是 %d\\n\", c );\n",
    " \n",
    "   c = a ^ b;       /* 49 = 0011 0001 */\n",
    "   printf(\"Line 3 - c 的值是 %d\\n\", c );\n",
    " \n",
    "   c = ~a;          /*-61 = 1100 0011 */\n",
    "   printf(\"Line 4 - c 的值是 %d\\n\", c );\n",
    " \n",
    "   c = a << 2;     /* 240 = 1111 0000 */\n",
    "   printf(\"Line 5 - c 的值是 %d\\n\", c );\n",
    " \n",
    "   c = a >> 2;     /* 15 = 0000 1111 */\n",
    "   printf(\"Line 6 - c 的值是 %d\\n\", c );\n",
    "}"
   ]
  },
  {
   "cell_type": "markdown",
   "metadata": {},
   "source": [
    "## 赋值运算符\n",
    "下表列出了 C 语言支持的赋值运算符：\n",
    "```\n",
    "运算符\t描述\t实例\n",
    "=\t简单的赋值运算符，把右边操作数的值赋给左边操作数\tC = A + B 将把 A + B 的值赋给 C\n",
    "+=\t加且赋值运算符，把右边操作数加上左边操作数的结果赋值给左边操作数\tC += A 相当于 C = C + A\n",
    "-=\t减且赋值运算符，把左边操作数减去右边操作数的结果赋值给左边操作数\tC -= A 相当于 C = C - A\n",
    "*=\t乘且赋值运算符，把右边操作数乘以左边操作数的结果赋值给左边操作数\tC *= A 相当于 C = C * A\n",
    "/=\t除且赋值运算符，把左边操作数除以右边操作数的结果赋值给左边操作数\tC /= A 相当于 C = C / A\n",
    "%=\t求模且赋值运算符，求两个操作数的模赋值给左边操作数\tC %= A 相当于 C = C % A\n",
    "<<=\t左移且赋值运算符\tC <<= 2 等同于 C = C << 2\n",
    ">>=\t右移且赋值运算符\tC >>= 2 等同于 C = C >> 2\n",
    "&=\t按位与且赋值运算符\tC &= 2 等同于 C = C & 2\n",
    "^=\t按位异或且赋值运算符\tC ^= 2 等同于 C = C ^ 2\n",
    "|=\t按位或且赋值运算符\tC |= 2 等同于 C = C | 2\n",
    "```"
   ]
  },
  {
   "cell_type": "code",
   "execution_count": 10,
   "metadata": {},
   "outputs": [
    {
     "name": "stderr",
     "output_type": "stream",
     "text": [
      "input_line_16:23:22: warning: invalid conversion specifier '=' [-Wformat-invalid-specifier]\n",
      "   printf(\"Line 6 - %= 运算符实例，c 的值 = %d\\n\", c );\n",
      "                    ~^\n"
     ]
    },
    {
     "name": "stdout",
     "output_type": "stream",
     "text": [
      "Line 1 - =  运算符实例，c 的值 = 21\n",
      "Line 2 - += 运算符实例，c 的值 = 42\n",
      "Line 3 - -= 运算符实例，c 的值 = 21\n",
      "Line 4 - *= 运算符实例，c 的值 = 441\n",
      "Line 5 - /= 运算符实例，c 的值 = 21\n",
      "Line 6 - %= 运算符实例，c 的值 = 11\n",
      "Line 7 - <<= 运算符实例，c 的值 = 44\n",
      "Line 8 - >>= 运算符实例，c 的值 = 11\n",
      "Line 9 - &= 运算符实例，c 的值 = 2\n",
      "Line 10 - ^= 运算符实例，c 的值 = 0\n",
      "Line 11 - |= 运算符实例，c 的值 = 2\n"
     ]
    }
   ],
   "source": [
    "{\n",
    "   int a = 21;\n",
    "   int c ;\n",
    " \n",
    "   c =  a;\n",
    "   printf(\"Line 1 - =  运算符实例，c 的值 = %d\\n\", c );\n",
    " \n",
    "   c +=  a;\n",
    "   printf(\"Line 2 - += 运算符实例，c 的值 = %d\\n\", c );\n",
    " \n",
    "   c -=  a;\n",
    "   printf(\"Line 3 - -= 运算符实例，c 的值 = %d\\n\", c );\n",
    " \n",
    "   c *=  a;\n",
    "   printf(\"Line 4 - *= 运算符实例，c 的值 = %d\\n\", c );\n",
    " \n",
    "   c /=  a;\n",
    "   printf(\"Line 5 - /= 运算符实例，c 的值 = %d\\n\", c );\n",
    " \n",
    "   c  = 200;\n",
    "   c %=  a;\n",
    "   printf(\"Line 6 - %= 运算符实例，c 的值 = %d\\n\", c );\n",
    " \n",
    "   c <<=  2;\n",
    "   printf(\"Line 7 - <<= 运算符实例，c 的值 = %d\\n\", c );\n",
    " \n",
    "   c >>=  2;\n",
    "   printf(\"Line 8 - >>= 运算符实例，c 的值 = %d\\n\", c );\n",
    " \n",
    "   c &=  2;\n",
    "   printf(\"Line 9 - &= 运算符实例，c 的值 = %d\\n\", c );\n",
    " \n",
    "   c ^=  2;\n",
    "   printf(\"Line 10 - ^= 运算符实例，c 的值 = %d\\n\", c );\n",
    " \n",
    "   c |=  2;\n",
    "   printf(\"Line 11 - |= 运算符实例，c 的值 = %d\\n\", c );\n",
    " \n",
    "}"
   ]
  },
  {
   "cell_type": "markdown",
   "metadata": {},
   "source": [
    "## 杂项运算符 ↦ sizeof & 三元\n",
    "下表列出了 C 语言支持的其他一些重要的运算符，包括 sizeof 和 ? :。\n",
    "```\n",
    "运算符\t描述\t实例\n",
    "sizeof()\t返回变量的大小。\tsizeof(a) 将返回 4，其中 a 是整数。\n",
    "&\t返回变量的地址。\t&a; 将给出变量的实际地址。\n",
    "*\t指向一个变量。\t*a; 将指向一个变量。\n",
    "? :\t条件表达式\t如果条件为真 ? 则值为 X : 否则值为 Y\n",
    "```"
   ]
  },
  {
   "cell_type": "code",
   "execution_count": 11,
   "metadata": {},
   "outputs": [
    {
     "name": "stdout",
     "output_type": "stream",
     "text": [
      "Line 1 - 变量 a 的大小 = 4\n",
      "Line 2 - 变量 b 的大小 = 2\n",
      "Line 3 - 变量 c 的大小 = 8\n",
      "a 的值是 4\n",
      "*ptr 是 4\n",
      "b 的值是 30\n",
      "b 的值是 20\n"
     ]
    }
   ],
   "source": [
    "{\n",
    "   int a = 4;\n",
    "   short b;\n",
    "   double c;\n",
    "   int* ptr;\n",
    " \n",
    "   /* sizeof 运算符实例 */\n",
    "   printf(\"Line 1 - 变量 a 的大小 = %lu\\n\", sizeof(a) );\n",
    "   printf(\"Line 2 - 变量 b 的大小 = %lu\\n\", sizeof(b) );\n",
    "   printf(\"Line 3 - 变量 c 的大小 = %lu\\n\", sizeof(c) );\n",
    " \n",
    "   /* & 和 * 运算符实例 */\n",
    "   ptr = &a;    /* 'ptr' 现在包含 'a' 的地址 */\n",
    "   printf(\"a 的值是 %d\\n\", a);\n",
    "   printf(\"*ptr 是 %d\\n\", *ptr);\n",
    " \n",
    "   /* 三元运算符实例 */\n",
    "   a = 10;\n",
    "   b = (a == 1) ? 20: 30;\n",
    "   printf( \"b 的值是 %d\\n\", b );\n",
    " \n",
    "   b = (a == 10) ? 20: 30;\n",
    "   printf( \"b 的值是 %d\\n\", b );\n",
    "}"
   ]
  },
  {
   "cell_type": "markdown",
   "metadata": {},
   "source": [
    "## C 中的运算符优先级\n",
    "运算符的优先级确定表达式中项的组合。这会影响到一个表达式如何计算。某些运算符比其他运算符有更高的优先级，例如，乘除运算符具有比加减运算符更高的优先级。\n",
    "\n",
    "例如 x = 7 + 3 * 2，在这里，x 被赋值为 13，而不是 20，因为运算符 * 具有比 + 更高的优先级，所以首先计算乘法 3*2，然后再加上 7。\n",
    "\n",
    "下表将按运算符优先级从高到低列出各个运算符，具有较高优先级的运算符出现在表格的上面，具有较低优先级的运算符出现在表格的下面。在表达式中，较高优先级的运算符会优先被计算。\n",
    "```\n",
    "类别 \t运算符 \t结合性 \n",
    "后缀 \t() [] -> . ++ - -  \t从左到右 \n",
    "一元 \t+ - ! ~ ++ - - (type)* & sizeof \t从右到左 \n",
    "乘除 \t* / % \t从左到右 \n",
    "加减 \t+ - \t从左到右 \n",
    "移位 \t<< >> \t从左到右 \n",
    "关系 \t< <= > >= \t从左到右 \n",
    "相等 \t== != \t从左到右 \n",
    "位与 AND \t& \t从左到右 \n",
    "位异或 XOR \t^ \t从左到右 \n",
    "位或 OR \t| \t从左到右 \n",
    "逻辑与 AND \t&& \t从左到右 \n",
    "逻辑或 OR \t|| \t从左到右 \n",
    "条件 \t?: \t从右到左 \n",
    "赋值 \t= += -= *= /= %=>>= <<= &= ^= |= \t从右到左 \n",
    "逗号 \t, \t从左到右 \n",
    "```"
   ]
  },
  {
   "cell_type": "code",
   "execution_count": 12,
   "metadata": {},
   "outputs": [
    {
     "name": "stdout",
     "output_type": "stream",
     "text": [
      "(a + b) * c / d 的值是 90\n",
      "((a + b) * c) / d 的值是 90\n",
      "(a + b) * (c / d) 的值是 90\n",
      "a + (b * c) / d 的值是 50\n"
     ]
    }
   ],
   "source": [
    "{\n",
    "   int a = 20;\n",
    "   int b = 10;\n",
    "   int c = 15;\n",
    "   int d = 5;\n",
    "   int e;\n",
    " \n",
    "   e = (a + b) * c / d;      // ( 30 * 15 ) / 5\n",
    "   printf(\"(a + b) * c / d 的值是 %d\\n\",  e );\n",
    " \n",
    "   e = ((a + b) * c) / d;    // (30 * 15 ) / 5\n",
    "   printf(\"((a + b) * c) / d 的值是 %d\\n\" ,  e );\n",
    " \n",
    "   e = (a + b) * (c / d);   // (30) * (15/5)\n",
    "   printf(\"(a + b) * (c / d) 的值是 %d\\n\",  e );\n",
    " \n",
    "   e = a + (b * c) / d;     //  20 + (150/5)\n",
    "   printf(\"a + (b * c) / d 的值是 %d\\n\" ,  e );\n",
    "}"
   ]
  },
  {
   "cell_type": "code",
   "execution_count": null,
   "metadata": {},
   "outputs": [],
   "source": []
  }
 ],
 "metadata": {
  "kernelspec": {
   "display_name": "C++11",
   "language": "C++11",
   "name": "xcpp11"
  },
  "language_info": {
   "codemirror_mode": "text/x-c++src",
   "file_extension": ".cpp",
   "mimetype": "text/x-c++src",
   "name": "c++",
   "version": "11"
  }
 },
 "nbformat": 4,
 "nbformat_minor": 4
}

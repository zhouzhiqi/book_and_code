{
 "cells": [
  {
   "cell_type": "markdown",
   "metadata": {},
   "source": [
    "# ch01_程序结构及基本语法"
   ]
  },
  {
   "cell_type": "markdown",
   "metadata": {},
   "source": [
    "# 程序结构\n",
    "\n",
    "在我们学习 C 语言的基本构建块之前，让我们先来看看一个最小的 C 程序结构，在接下来的章节中可以以此作为参考。"
   ]
  },
  {
   "cell_type": "markdown",
   "metadata": {},
   "source": [
    "## C Hello World 实例\n",
    "\n",
    "C 程序主要包括以下部分：\n",
    "\n",
    "> 预处理器指令   \n",
    "> 函数   \n",
    "> 变量   \n",
    "> 语句 & 表达式   \n",
    "> 注释   \n",
    "\n",
    "让我们看一段简单的代码，可以输出单词 \"Hello World\"："
   ]
  },
  {
   "cell_type": "markdown",
   "metadata": {},
   "source": [
    "```cpp\n",
    "#include <stdio.h>  // 预处理器指令 \n",
    " \n",
    "int main()  // 主函数\n",
    "{\n",
    "   /* 我的第一个 C 程序 */\n",
    "   printf(\"Hello, World! \\n\");  // 执行语句\n",
    "   \n",
    "   return 0;  // 终止主函数\n",
    "}\n",
    "```\n",
    "\n",
    "接下来我们讲解一下上面这段程序：\n",
    "\n",
    "程序的第一行 #include <stdio.h> 是预处理器指令，告诉 C 编译器在实际编译之前要包含 stdio.h 文件。   \n",
    "下一行 int main() 是主函数，程序从这里开始执行。   \n",
    "下一行 /*...*/ 将会被编译器忽略，这里放置程序的注释内容。它们被称为程序的注释。   \n",
    "下一行 printf(...) 是 C 中另一个可用的函数，会在屏幕上显示消息 \"Hello, World!\"。   \n",
    "下一行 return 0; 终止 main() 函数，并返回值 0。   "
   ]
  },
  {
   "cell_type": "markdown",
   "metadata": {},
   "source": [
    "# 基本语法"
   ]
  },
  {
   "cell_type": "markdown",
   "metadata": {},
   "source": [
    "## C 的令牌（Tokens）\n",
    "C 程序由各种令牌组成，令牌可以是关键字、标识符、常量、字符串值，或者是一个符号。   \n",
    "例如，下面的 C 语句包括五个令牌：\n",
    "```cpp\n",
    "printf(\"Hello, World! \\n\");\n",
    "```\n",
    "这五个令牌分别是：\n",
    "\n",
    "> printf   \n",
    "> (    \n",
    "> \"Hello, World! \\n\"   \n",
    "> )   \n",
    "> ;   "
   ]
  },
  {
   "cell_type": "markdown",
   "metadata": {},
   "source": [
    "## 注释\n",
    "C 语言有两种注释方式：\n",
    "\n",
    "`// 单行注释`   \n",
    "`/* 单行注释 */`   \n",
    "`/* \n",
    " 多行注释\n",
    " 多行注释\n",
    " 多行注释\n",
    " */`\n",
    "\n",
    "以 // 开始的单行注释，这种注释可以单独占一行。   \n",
    "/* */ 这种格式的注释可以单行或多行。\n",
    "\n",
    "您不能在注释内嵌套注释，注释也不能出现在字符串或字符值中。"
   ]
  },
  {
   "cell_type": "markdown",
   "metadata": {},
   "source": [
    "## 标识符\n",
    "\n",
    "C 标识符是用来标识变量、函数，或任何其他用户自定义项目的名称。一个标识符以字母 A-Z 或 a-z 或下划线 _ 开始，后跟零个或多个字母、下划线和数字（0-9）。\n",
    "\n",
    "C 标识符内不允许出现标点字符，比如 @、$ 和 %。C是区分大小写的编程语言。   \n",
    "因此，在 C 中，Manpower 和 manpower 是两个不同的标识符。下面列出几个有效的标识符：\n",
    "\n",
    "mohd       zara    abc   move_name  a_123\n",
    "myname50   _temp   j     a23b9      retVal"
   ]
  },
  {
   "cell_type": "markdown",
   "metadata": {},
   "source": [
    "## 关键字\n",
    "下表列出了 C 中的保留字。这些保留字不能作为常量名、变量名或其他标识符名称。\n",
    "```c\n",
    "关键字\t说明\n",
    "auto\t声明自动变量\n",
    "break\t跳出当前循环\n",
    "case\t开关语句分支\n",
    "char\t声明字符型变量或函数返回值类型\n",
    "const\t定义常量，如果一个变量被 const 修饰，那么它的值就不能再被改变\n",
    "continue\t结束当前循环，开始下一轮循环\n",
    "default\t开关语句中的\"其它\"分支\n",
    "do\t循环语句的循环体\n",
    "double\t声明双精度浮点型变量或函数返回值类型\n",
    "else\t条件语句否定分支（与 if 连用）\n",
    "enum\t声明枚举类型\n",
    "extern\t声明变量或函数是在其它文件或本文件的其他位置定义\n",
    "float\t声明浮点型变量或函数返回值类型\n",
    "for\t一种循环语句\n",
    "goto\t无条件跳转语句\n",
    "if\t条件语句\n",
    "int\t声明整型变量或函数\n",
    "long\t声明长整型变量或函数返回值类型\n",
    "register\t声明寄存器变量\n",
    "return\t子程序返回语句（可以带参数，也可不带参数）\n",
    "short\t声明短整型变量或函数\n",
    "signed\t声明有符号类型变量或函数\n",
    "sizeof\t计算数据类型或变量长度（即所占字节数）\n",
    "static\t声明静态变量\n",
    "struct\t声明结构体类型\n",
    "switch\t用于开关语句\n",
    "typedef\t用以给数据类型取别名\n",
    "unsigned\t声明无符号类型变量或函数\n",
    "union\t声明共用体类型\n",
    "void\t声明函数无返回值或无参数，声明无类型指针\n",
    "volatile\t说明变量在程序执行中可被隐含地改变\n",
    "while\t循环语句的循环条件\n",
    "C99 新增关键字\n",
    "_Bool\t_Complex\t_Imaginary\tinline\trestrict\n",
    "C11 新增关键字\n",
    "_Alignas\t_Alignof\t_Atomic\t_Generic\t_Noreturn\n",
    "_Static_assert\t_Thread_local\t\n",
    "```"
   ]
  },
  {
   "cell_type": "markdown",
   "metadata": {},
   "source": [
    "## C 中的空格\n",
    "\n",
    "只包含空格的行，被称为空白行，可能带有注释，C 编译器会完全忽略它。\n",
    "\n",
    "在 C 中，空格用于描述空白符、制表符、换行符和注释。空格分隔语句的各个部分，让编译器能识别语句中的某个元素（比如 int）在哪里结束，下一个元素在哪里开始。因此，在下面的语句中：\n",
    "```c\n",
    "int age;\n",
    "```\n",
    "在这里，int 和 age 之间必须至少有一个空格字符（通常是一个空白符），这样编译器才能够区分它们。另一方面，在下面的语句中：\n",
    "```c\n",
    "fruit = apples + oranges;   // 获取水果的总数\n",
    "```\n",
    "fruit 和 =，或者 = 和 apples 之间的空格字符不是必需的，但是为了增强可读性，您可以根据需要适当增加一些空格。"
   ]
  },
  {
   "cell_type": "code",
   "execution_count": null,
   "metadata": {},
   "outputs": [],
   "source": []
  }
 ],
 "metadata": {
  "kernelspec": {
   "display_name": "C++11",
   "language": "C++11",
   "name": "xcpp11"
  },
  "language_info": {
   "codemirror_mode": "text/x-c++src",
   "file_extension": ".cpp",
   "mimetype": "text/x-c++src",
   "name": "c++",
   "version": "11"
  }
 },
 "nbformat": 4,
 "nbformat_minor": 4
}

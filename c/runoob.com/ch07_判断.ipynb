{
 "cells": [
  {
   "cell_type": "markdown",
   "metadata": {},
   "source": [
    "# ch07_判断"
   ]
  },
  {
   "cell_type": "markdown",
   "metadata": {},
   "source": [
    "判断结构要求程序员指定一个或多个要评估或测试的条件，以及条件为真时要执行的语句（必需的）和条件为假时要执行的语句（可选的）。\n",
    "\n",
    "C 语言把任何非零和非空的值假定为 true，把零或 null 假定为 false。"
   ]
  },
  {
   "cell_type": "markdown",
   "metadata": {},
   "source": [
    "## if 语句\n",
    "\n",
    "一个 if 语句 由一个布尔表达式后跟一个或多个语句组成。\n",
    "\n",
    "语法\n",
    "C 语言中 if 语句的语法：\n",
    "```c\n",
    "if(boolean_expression)\n",
    "{\n",
    "   /* 如果布尔表达式为真将执行的语句 */\n",
    "}\n",
    "```\n",
    "如果布尔表达式为 true，则 if 语句内的代码块将被执行。如果布尔表达式为 false，则 if 语句结束后的第一组代码（闭括号后）将被执行。\n",
    "\n",
    "C 语言把任何非零和非空的值假定为 true，把零或 null 假定为 false。"
   ]
  },
  {
   "cell_type": "code",
   "execution_count": 1,
   "metadata": {},
   "outputs": [],
   "source": [
    "#include <stdio.h>"
   ]
  },
  {
   "cell_type": "code",
   "execution_count": 2,
   "metadata": {},
   "outputs": [
    {
     "name": "stdout",
     "output_type": "stream",
     "text": [
      "a 小于 20\n",
      "a 的值是 10\n"
     ]
    }
   ],
   "source": [
    "// int main ()\n",
    "{\n",
    "   /* 局部变量定义 */\n",
    "   int a = 10;\n",
    " \n",
    "   /* 使用 if 语句检查布尔条件 */\n",
    "   if( a < 20 )\n",
    "   {\n",
    "       /* 如果条件为真，则输出下面的语句 */\n",
    "       printf(\"a 小于 20\\n\" );\n",
    "   }\n",
    "   printf(\"a 的值是 %d\\n\", a);\n",
    " \n",
    "//    return 0;\n",
    "}"
   ]
  },
  {
   "cell_type": "markdown",
   "metadata": {},
   "source": [
    "## if...else 语句\n",
    "\n",
    "一个 if 语句 后可跟一个可选的 else 语句，else 语句在布尔表达式为 false 时执行。\n",
    "\n",
    "语法\n",
    "C 语言中 if...else 语句的语法：\n",
    "```c\n",
    "if(boolean_expression)\n",
    "{\n",
    "   /* 如果布尔表达式为真将执行的语句 */\n",
    "}\n",
    "else\n",
    "{\n",
    "   /* 如果布尔表达式为假将执行的语句 */\n",
    "}\n",
    "```\n",
    "如果布尔表达式为 true，则执行 if 块内的代码。如果布尔表达式为 false，则执行 else 块内的代码。\n",
    "\n",
    "C 语言把任何非零和非空的值假定为 true，把零或 null 假定为 false。"
   ]
  },
  {
   "cell_type": "code",
   "execution_count": 3,
   "metadata": {},
   "outputs": [
    {
     "name": "stdout",
     "output_type": "stream",
     "text": [
      "a 大于 20\n",
      "a 的值是 100\n"
     ]
    }
   ],
   "source": [
    "{\n",
    "   /* 局部变量定义 */\n",
    "   int a = 100;\n",
    " \n",
    "   /* 检查布尔条件 */\n",
    "   if( a < 20 )\n",
    "   {\n",
    "       /* 如果条件为真，则输出下面的语句 */\n",
    "       printf(\"a 小于 20\\n\" );\n",
    "   }\n",
    "   else\n",
    "   {\n",
    "       /* 如果条件为假，则输出下面的语句 */\n",
    "       printf(\"a 大于 20\\n\" );\n",
    "   }\n",
    "   printf(\"a 的值是 %d\\n\", a);\n",
    "}"
   ]
  },
  {
   "cell_type": "markdown",
   "metadata": {},
   "source": [
    "## if...else if...else 语句\n",
    "\n",
    "一个 if 语句后可跟一个可选的 else if...else 语句，这可用于测试多种条件。\n",
    "\n",
    "当使用 if...else if...else 语句时，以下几点需要注意：\n",
    "\n",
    "一个 if 后可跟零个或一个 else，else 必须在所有 else if 之后。\n",
    "一个 if 后可跟零个或多个 else if，else if 必须在 else 之前。\n",
    "一旦某个 else if 匹配成功，其他的 else if 或 else 将不会被测试。\n",
    "\n",
    "语法\n",
    "C 语言中的 if...else if...else 语句的语法：\n",
    "```c\n",
    "if(boolean_expression 1)\n",
    "{\n",
    "   /* 当布尔表达式 1 为真时执行 */\n",
    "}\n",
    "else if( boolean_expression 2)\n",
    "{\n",
    "   /* 当布尔表达式 2 为真时执行 */\n",
    "}\n",
    "else if( boolean_expression 3)\n",
    "{\n",
    "   /* 当布尔表达式 3 为真时执行 */\n",
    "}\n",
    "else \n",
    "{\n",
    "   /* 当上面条件都不为真时执行 */\n",
    "}\n",
    "```"
   ]
  },
  {
   "cell_type": "code",
   "execution_count": 4,
   "metadata": {},
   "outputs": [
    {
     "name": "stdout",
     "output_type": "stream",
     "text": [
      "没有匹配的值\n",
      "a 的准确值是 100\n"
     ]
    }
   ],
   "source": [
    "{\n",
    "   /* 局部变量定义 */\n",
    "   int a = 100;\n",
    " \n",
    "   /* 检查布尔条件 */\n",
    "   if( a == 10 )\n",
    "   {\n",
    "       /* 如果 if 条件为真，则输出下面的语句 */\n",
    "       printf(\"a 的值是 10\\n\" );\n",
    "   }\n",
    "   else if( a == 20 )\n",
    "   {\n",
    "       /* 如果 else if 条件为真，则输出下面的语句 */\n",
    "       printf(\"a 的值是 20\\n\" );\n",
    "   }\n",
    "   else if( a == 30 )\n",
    "   {\n",
    "       /* 如果 else if 条件为真，则输出下面的语句 */\n",
    "       printf(\"a 的值是 30\\n\" );\n",
    "   }\n",
    "   else\n",
    "   {\n",
    "       /* 如果上面条件都不为真，则输出下面的语句 */\n",
    "       printf(\"没有匹配的值\\n\" );\n",
    "   }\n",
    "   printf(\"a 的准确值是 %d\\n\", a );\n",
    "}"
   ]
  },
  {
   "cell_type": "markdown",
   "metadata": {},
   "source": [
    "## 嵌套 if 语句\n",
    "C 判断 C 判断\n",
    "\n",
    "在 C 语言中，嵌套 if-else 语句是合法的，这意味着您可以在一个 if 或 else if 语句内使用另一个 if 或 else if 语句。\n",
    "\n",
    "语法\n",
    "C 语言中 嵌套 if 语句的语法：\n",
    "```c\n",
    "if( boolean_expression 1)\n",
    "{\n",
    "   /* 当布尔表达式 1 为真时执行 */\n",
    "   if(boolean_expression 2)\n",
    "   {\n",
    "      /* 当布尔表达式 2 为真时执行 */\n",
    "   }\n",
    "}\n",
    "```\n",
    "您可以嵌套 else if...else，方式与嵌套 if 语句相似。"
   ]
  },
  {
   "cell_type": "code",
   "execution_count": 5,
   "metadata": {},
   "outputs": [
    {
     "name": "stdout",
     "output_type": "stream",
     "text": [
      "a 的值是 100，且 b 的值是 200\n",
      "a 的准确值是 100\n",
      "b 的准确值是 200\n"
     ]
    }
   ],
   "source": [
    "{\n",
    "   /* 局部变量定义 */\n",
    "   int a = 100;\n",
    "   int b = 200;\n",
    " \n",
    "   /* 检查布尔条件 */\n",
    "   if( a == 100 )\n",
    "   {\n",
    "       /* 如果条件为真，则检查下面的条件 */\n",
    "       if( b == 200 )\n",
    "       {\n",
    "          /* 如果条件为真，则输出下面的语句 */\n",
    "          printf(\"a 的值是 100，且 b 的值是 200\\n\" );\n",
    "       }\n",
    "   }\n",
    "   printf(\"a 的准确值是 %d\\n\", a );\n",
    "   printf(\"b 的准确值是 %d\\n\", b );\n",
    "}"
   ]
  },
  {
   "cell_type": "markdown",
   "metadata": {},
   "source": [
    "## switch 语句\n",
    "C 判断 C 判断\n",
    "\n",
    "一个 switch 语句允许测试一个变量等于多个值时的情况。每个值称为一个 case，且被测试的变量会对每个 switch case 进行检查。\n",
    "\n",
    "语法\n",
    "C 语言中 switch 语句的语法：\n",
    "```c\n",
    "switch(expression){\n",
    "    case constant-expression  :\n",
    "       statement(s);\n",
    "       break; /* 可选的 */\n",
    "    case constant-expression  :\n",
    "       statement(s);\n",
    "       break; /* 可选的 */\n",
    "  \n",
    "    /* 您可以有任意数量的 case 语句 */\n",
    "    default : /* 可选的 */\n",
    "       statement(s);\n",
    "}\n",
    "```"
   ]
  },
  {
   "cell_type": "markdown",
   "metadata": {},
   "source": [
    "switch 语句必须遵循下面的规则：\n",
    "\n",
    "* switch 语句中的 expression 是一个常量表达式，必须是一个整型或枚举类型。   \n",
    "* 在一个 switch 中可以有任意数量的 case 语句。每个 case 后跟一个要比较的值和一个冒号。   \n",
    "* case 的 constant-expression 必须与 switch 中的变量具有相同的数据类型，且必须是一个常量或字面量。   \n",
    "* 当被测试的变量等于 case 中的常量时，case 后跟的语句将被执行，直到遇到 break 语句为止。   \n",
    "* 当遇到 break 语句时，switch 终止，控制流将跳转到 switch 语句后的下一行。   \n",
    "* 不是每一个 case 都需要包含 break。如果 case 语句不包含 break，控制流将会 继续 后续的 case，直到遇到 break 为止。   \n",
    "* 一个 switch 语句可以有一个可选的 default case，出现在 switch 的结尾。default case 可用于在上面所有 case 都不为真时执行一个任务。default case 中的 break 语句不是必需的。"
   ]
  },
  {
   "cell_type": "code",
   "execution_count": 6,
   "metadata": {},
   "outputs": [
    {
     "name": "stdout",
     "output_type": "stream",
     "text": [
      "做得好\n",
      "您的成绩是 B\n"
     ]
    }
   ],
   "source": [
    "{\n",
    "   /* 局部变量定义 */\n",
    "   char grade = 'B';\n",
    " \n",
    "   switch(grade)\n",
    "   {\n",
    "   case 'A' :\n",
    "      printf(\"很棒！\\n\" );\n",
    "      break;\n",
    "   case 'B' :\n",
    "   case 'C' :\n",
    "      printf(\"做得好\\n\" );\n",
    "      break;\n",
    "   case 'D' :\n",
    "      printf(\"您通过了\\n\" );\n",
    "      break;\n",
    "   case 'F' :\n",
    "      printf(\"最好再试一下\\n\" );\n",
    "      break;\n",
    "   default :\n",
    "      printf(\"无效的成绩\\n\" );\n",
    "   }\n",
    "   printf(\"您的成绩是 %c\\n\", grade );\n",
    "}"
   ]
  },
  {
   "cell_type": "markdown",
   "metadata": {},
   "source": [
    "## 嵌套 switch 语句\n",
    "\n",
    "您可以把一个 switch 作为一个外部 switch 的语句序列的一部分，即可以在一个 switch 语句内使用另一个 switch 语句。即使内部和外部 switch 的 case 常量包含共同的值，也没有矛盾。\n",
    "\n",
    "语法\n",
    "C 语言中 嵌套 switch 语句的语法：\n",
    "```c\n",
    "switch(ch1) {\n",
    "   case 'A': \n",
    "      printf(\"这个 A 是外部 switch 的一部分\" );\n",
    "      switch(ch2) {\n",
    "         case 'A':\n",
    "            printf(\"这个 A 是内部 switch 的一部分\" );\n",
    "            break;\n",
    "         case 'B': /* 内部 B case 代码 */\n",
    "      }\n",
    "      break;\n",
    "   case 'B': /* 外部 B case 代码 */\n",
    "}\n",
    "```"
   ]
  },
  {
   "cell_type": "code",
   "execution_count": 7,
   "metadata": {},
   "outputs": [
    {
     "name": "stdout",
     "output_type": "stream",
     "text": [
      "这是外部 switch 的一部分\n",
      "这是内部 switch 的一部分\n",
      "a 的准确值是 100\n",
      "b 的准确值是 200\n"
     ]
    }
   ],
   "source": [
    "{\n",
    "   /* 局部变量定义 */\n",
    "   int a = 100;\n",
    "   int b = 200;\n",
    " \n",
    "   switch(a) {\n",
    "      case 100: \n",
    "         printf(\"这是外部 switch 的一部分\\n\");\n",
    "         switch(b) {\n",
    "            case 200:\n",
    "               printf(\"这是内部 switch 的一部分\\n\");\n",
    "         }\n",
    "   }\n",
    "   printf(\"a 的准确值是 %d\\n\", a );\n",
    "   printf(\"b 的准确值是 %d\\n\", b );\n",
    "}"
   ]
  },
  {
   "cell_type": "markdown",
   "metadata": {},
   "source": [
    "## ? : 运算符(三元运算符)\n",
    "我们已经在前面的章节中讲解了 条件运算符 ? :，可以用来替代 if...else 语句。它的一般形式如下：\n",
    "```c\n",
    "Exp1 ? Exp2 : Exp3;\n",
    "```\n",
    "其中，Exp1、Exp2 和 Exp3 是表达式。请注意，冒号的使用和位置。\n",
    "\n",
    "? 表达式的值是由 Exp1 决定的。如果 Exp1 为真，则计算 Exp2 的值，结果即为整个 ? 表达式的值。如果 Exp1 为假，则计算 Exp3 的值，结果即为整个 ? 表达式的值。"
   ]
  },
  {
   "cell_type": "code",
   "execution_count": 8,
   "metadata": {},
   "outputs": [
    {
     "name": "stdout",
     "output_type": "stream",
     "text": [
      "输入一个数字 : 奇数"
     ]
    }
   ],
   "source": [
    "{\n",
    "    int num;\n",
    " \n",
    "    printf(\"输入一个数字 : \");\n",
    "    scanf(\"%d\",&num);\n",
    " \n",
    "    (num%2==0)?printf(\"偶数\"):printf(\"奇数\");\n",
    "}"
   ]
  },
  {
   "cell_type": "markdown",
   "metadata": {},
   "source": [
    "## 循环\n",
    "有的时候，我们可能需要多次执行同一块代码。一般情况下，语句是按顺序执行的：函数中的第一个语句先执行，接着是第二个语句，依此类推。\n",
    "\n",
    "编程语言提供了更为复杂执行路径的多种控制结构。\n",
    "\n",
    "循环语句允许我们多次执行一个语句或语句组"
   ]
  },
  {
   "cell_type": "code",
   "execution_count": null,
   "metadata": {},
   "outputs": [],
   "source": []
  }
 ],
 "metadata": {
  "kernelspec": {
   "display_name": "C++11",
   "language": "C++11",
   "name": "xcpp11"
  },
  "language_info": {
   "codemirror_mode": "text/x-c++src",
   "file_extension": ".cpp",
   "mimetype": "text/x-c++src",
   "name": "c++",
   "version": "11"
  }
 },
 "nbformat": 4,
 "nbformat_minor": 4
}

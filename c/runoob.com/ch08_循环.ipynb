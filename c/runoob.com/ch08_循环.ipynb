{
 "cells": [
  {
   "cell_type": "markdown",
   "metadata": {},
   "source": [
    "# ch08_循环"
   ]
  },
  {
   "cell_type": "markdown",
   "metadata": {},
   "source": [
    "## 循环\n",
    "有的时候，我们可能需要多次执行同一块代码。一般情况下，语句是按顺序执行的：函数中的第一个语句先执行，接着是第二个语句，依此类推。\n",
    "\n",
    "编程语言提供了更为复杂执行路径的多种控制结构。\n",
    "\n",
    "循环语句允许我们多次执行一个语句或语句组"
   ]
  },
  {
   "cell_type": "markdown",
   "metadata": {},
   "source": [
    "## while 循环\n",
    "\n",
    "只要给定的条件为真，C 语言中的 while 循环语句会重复执行一个目标语句。\n",
    "\n",
    "语法\n",
    "C 语言中 while 循环的语法：\n",
    "```c\n",
    "while(condition)\n",
    "{\n",
    "   statement(s);\n",
    "}\n",
    "```\n",
    "在这里，statement(s) 可以是一个单独的语句，也可以是几个语句组成的代码块。\n",
    "\n",
    "condition 可以是任意的表达式，当为任意非零值时都为 true。当条件为 true 时执行循环。 当条件为 false 时，退出循环，程序流将继续执行紧接着循环的下一条语句。"
   ]
  },
  {
   "cell_type": "code",
   "execution_count": 1,
   "metadata": {},
   "outputs": [],
   "source": [
    "#include <stdio.h>"
   ]
  },
  {
   "cell_type": "code",
   "execution_count": 2,
   "metadata": {},
   "outputs": [
    {
     "name": "stdout",
     "output_type": "stream",
     "text": [
      "a 的值： 10\n",
      "a 的值： 11\n",
      "a 的值： 12\n",
      "a 的值： 13\n",
      "a 的值： 14\n",
      "a 的值： 15\n",
      "a 的值： 16\n",
      "a 的值： 17\n",
      "a 的值： 18\n",
      "a 的值： 19\n"
     ]
    }
   ],
   "source": [
    "{\n",
    "   /* 局部变量定义 */\n",
    "   int a = 10;\n",
    "\n",
    "   /* while 循环执行 */\n",
    "   while( a < 20 )\n",
    "   {\n",
    "      printf(\"a 的值： %d\\n\", a);\n",
    "      a++;\n",
    "   }\n",
    "}"
   ]
  },
  {
   "cell_type": "markdown",
   "metadata": {},
   "source": [
    "## for 循环\n",
    "\n",
    "for 循环允许您编写一个执行指定次数的循环控制结构。\n",
    "\n",
    "语法\n",
    "C 语言中 for 循环的语法：\n",
    "```cpp\n",
    "for ( init; condition; increment )\n",
    "{\n",
    "   statement(s);\n",
    "}\n",
    "```"
   ]
  },
  {
   "cell_type": "markdown",
   "metadata": {},
   "source": [
    "下面是 for 循环的控制流：\n",
    "\n",
    "1. init 会首先被执行，且只会执行一次。这一步允许您声明并初始化任何循环控制变量。您也可以不在这里写任何语句，只要有一个分号出现即可。   \n",
    "2. 接下来，会判断 condition。如果为真，则执行循环主体。如果为假，则不执行循环主体，且控制流会跳转到紧接着 for 循环的下一条语句。   \n",
    "3. 在执行完 for 循环主体后，控制流会跳回上面的 increment 语句。该语句允许您更新循环控制变量。该语句可以留空，只要在条件后有一个分号出现即可。   \n",
    "4. 条件再次被判断。如果为真，则执行循环，这个过程会不断重复（循环主体，然后增加步值，再然后重新判断条件）。在条件变为假时，for 循环终止。"
   ]
  },
  {
   "cell_type": "code",
   "execution_count": 4,
   "metadata": {},
   "outputs": [
    {
     "name": "stdout",
     "output_type": "stream",
     "text": [
      "a 的值： 10\n",
      "a 的值： 11\n",
      "a 的值： 12\n",
      "a 的值： 13\n",
      "a 的值： 14\n",
      "a 的值： 15\n",
      "a 的值： 16\n",
      "a 的值： 17\n",
      "a 的值： 18\n",
      "a 的值： 19\n"
     ]
    }
   ],
   "source": [
    "{\n",
    "   /* for 循环执行 */\n",
    "   for( int a = 10; a < 20; a = a + 1 )\n",
    "   {\n",
    "      printf(\"a 的值： %d\\n\", a);\n",
    "   }\n",
    "}"
   ]
  },
  {
   "cell_type": "markdown",
   "metadata": {},
   "source": [
    "## do...while 循环\n",
    "\n",
    "不像 for 和 while 循环，它们是在循环头部测试循环条件。在 C 语言中，do...while 循环是在循环的尾部检查它的条件。\n",
    "\n",
    "do...while 循环与 while 循环类似，但是 do...while 循环会确保至少执行一次循环。\n",
    "\n",
    "语法\n",
    "C 语言中 do...while 循环的语法：\n",
    "```c\n",
    "do\n",
    "{\n",
    "   statement(s);\n",
    "\n",
    "}while( condition );\n",
    "```\n",
    "请注意，条件表达式出现在循环的尾部，所以循环中的 statement(s) 会在条件被测试之前至少执行一次。\n",
    "\n",
    "如果条件为真，控制流会跳转回上面的 do，然后重新执行循环中的 statement(s)。这个过程会不断重复，直到给定条件变为假为止。"
   ]
  },
  {
   "cell_type": "code",
   "execution_count": 5,
   "metadata": {},
   "outputs": [
    {
     "name": "stdout",
     "output_type": "stream",
     "text": [
      "a 的值： 10\n",
      "a 的值： 11\n",
      "a 的值： 12\n",
      "a 的值： 13\n",
      "a 的值： 14\n",
      "a 的值： 15\n",
      "a 的值： 16\n",
      "a 的值： 17\n",
      "a 的值： 18\n",
      "a 的值： 19\n"
     ]
    }
   ],
   "source": [
    "{\n",
    "   /* 局部变量定义 */\n",
    "   int a = 10;\n",
    "\n",
    "   /* do 循环执行 */\n",
    "   do\n",
    "   {\n",
    "       printf(\"a 的值： %d\\n\", a);\n",
    "       a = a + 1;\n",
    "   }while( a < 20 );\n",
    "}"
   ]
  },
  {
   "cell_type": "markdown",
   "metadata": {},
   "source": [
    "## 嵌套循环\n",
    "\n",
    "C 语言允许在一个循环内使用另一个循环，下面演示几个实例来说明这个概念。\n",
    "\n",
    "语法\n",
    "C 语言中 嵌套 for 循环 语句的语法：\n",
    "```c\n",
    "for (initialization; condition; increment/decrement)\n",
    "{\n",
    "    statement(s);\n",
    "    for (initialization; condition; increment/decrement)\n",
    "    {\n",
    "        statement(s);\n",
    "        ... ... ...\n",
    "    }\n",
    "    ... ... ...\n",
    "}\n",
    "```"
   ]
  },
  {
   "cell_type": "markdown",
   "metadata": {},
   "source": [
    "C 语言中 嵌套 while 循环 语句的语法：\n",
    "```c\n",
    "while (condition1)\n",
    "{\n",
    "    statement(s);\n",
    "    while (condition2)\n",
    "    {\n",
    "        statement(s);\n",
    "        ... ... ...\n",
    "    }\n",
    "    ... ... ...\n",
    "}\n",
    "```"
   ]
  },
  {
   "cell_type": "markdown",
   "metadata": {},
   "source": [
    "C 语言中 嵌套 do...while 循环 语句的语法：\n",
    "```c\n",
    "do\n",
    "{\n",
    "    statement(s);\n",
    "    do\n",
    "    {\n",
    "        statement(s);\n",
    "        ... ... ...\n",
    "    }while (condition2);\n",
    "    ... ... ...\n",
    "}while (condition1);\n",
    "```"
   ]
  },
  {
   "cell_type": "markdown",
   "metadata": {},
   "source": [
    "关于嵌套循环有一点值得注意，您可以在任何类型的循环内嵌套其他任何类型的循环。比如，一个 for 循环可以嵌套在一个 while 循环内，反之亦然。"
   ]
  },
  {
   "cell_type": "code",
   "execution_count": 6,
   "metadata": {},
   "outputs": [
    {
     "name": "stdout",
     "output_type": "stream",
     "text": [
      "2 是质数\n",
      "3 是质数\n",
      "5 是质数\n",
      "7 是质数\n",
      "11 是质数\n",
      "13 是质数\n",
      "17 是质数\n",
      "19 是质数\n",
      "23 是质数\n",
      "29 是质数\n",
      "31 是质数\n",
      "37 是质数\n",
      "41 是质数\n",
      "43 是质数\n",
      "47 是质数\n",
      "53 是质数\n",
      "59 是质数\n",
      "61 是质数\n",
      "67 是质数\n",
      "71 是质数\n",
      "73 是质数\n",
      "79 是质数\n",
      "83 是质数\n",
      "89 是质数\n",
      "97 是质数\n"
     ]
    }
   ],
   "source": [
    "{\n",
    "    // for 嵌套实例\n",
    "    /* 局部变量定义 */\n",
    "   int i, j;\n",
    "   \n",
    "   for(i=2; i<100; i++) {\n",
    "      for(j=2; j <= (i/j); j++)\n",
    "        if(!(i%j)) break; // 如果找到，则不是质数\n",
    "      if(j > (i/j)) printf(\"%d 是质数\\n\", i);\n",
    "   }\n",
    "}"
   ]
  },
  {
   "cell_type": "code",
   "execution_count": 8,
   "metadata": {},
   "outputs": [
    {
     "name": "stdout",
     "output_type": "stream",
     "text": [
      "1 \n",
      "1 2 \n",
      "1 2 3 \n",
      "1 2 3 4 \n",
      "1 2 3 4 5 \n"
     ]
    }
   ],
   "source": [
    "{\n",
    "    // while 嵌套实例\n",
    "    int i=1,j;\n",
    "    while (i <= 5)\n",
    "    {\n",
    "        j=1;\n",
    "        while (j <= i )\n",
    "        {\n",
    "            printf(\"%d \",j);\n",
    "            j++;\n",
    "        }\n",
    "        printf(\"\\n\");\n",
    "        i++;\n",
    "    }\n",
    "}"
   ]
  },
  {
   "cell_type": "code",
   "execution_count": 10,
   "metadata": {},
   "outputs": [
    {
     "name": "stdout",
     "output_type": "stream",
     "text": [
      "*\n",
      "**\n",
      "***\n",
      "****\n",
      "*****\n"
     ]
    }
   ],
   "source": [
    "{\n",
    "    // do-while 嵌套实例\n",
    "    int i=1,j;\n",
    "    do\n",
    "    {\n",
    "        j=1;\n",
    "        do\n",
    "        {\n",
    "            printf(\"*\");\n",
    "            j++;\n",
    "        }while(j <= i);\n",
    "        i++;\n",
    "        printf(\"\\n\");\n",
    "    }while(i <= 5);\n",
    "}"
   ]
  },
  {
   "cell_type": "markdown",
   "metadata": {},
   "source": [
    "## 循环控制语句\n",
    "循环控制语句改变你代码的执行顺序。通过它你可以实现代码的跳转。\n",
    "\n",
    "C 提供了下列的循环控制语句。点击链接查看每个语句的细节。"
   ]
  },
  {
   "cell_type": "markdown",
   "metadata": {},
   "source": [
    "## break 语句\n",
    "\n",
    "C 语言中 break 语句有以下两种用法：\n",
    "\n",
    "1. 当 break 语句出现在一个循环内时，循环会立即终止，且程序流将继续执行紧接着循环的下一条语句。\n",
    "它可用于终止 switch 语句中的一个 case。   \n",
    "2. 如果您使用的是嵌套循环（即一个循环内嵌套另一个循环），break 语句会停止执行最内层的循环，然后开始执行该块之后的下一行代码。\n",
    "\n",
    "语法\n",
    "C 语言中 break 语句的语法：\n",
    "```c\n",
    "break;\n",
    "```"
   ]
  },
  {
   "cell_type": "code",
   "execution_count": 11,
   "metadata": {},
   "outputs": [
    {
     "name": "stdout",
     "output_type": "stream",
     "text": [
      "a 的值： 10\n",
      "a 的值： 11\n",
      "a 的值： 12\n",
      "a 的值： 13\n",
      "a 的值： 14\n",
      "a 的值： 15\n"
     ]
    }
   ],
   "source": [
    "{\n",
    "   /* 局部变量定义 */\n",
    "   int a = 10;\n",
    "\n",
    "   /* while 循环执行 */\n",
    "   while( a < 20 )\n",
    "   {\n",
    "      printf(\"a 的值： %d\\n\", a);\n",
    "      a++;\n",
    "      if( a > 15)\n",
    "      {\n",
    "         /* 使用 break 语句终止循环 */\n",
    "          break;\n",
    "      }\n",
    "   }\n",
    "}"
   ]
  },
  {
   "cell_type": "markdown",
   "metadata": {},
   "source": [
    "## continue 语句\n",
    "\n",
    "C 语言中的 continue 语句有点像 break 语句。但它不是强制终止，continue 会跳过当前循环中的代码，强迫开始下一次循环。\n",
    "\n",
    "对于 for 循环，continue 语句执行后自增语句仍然会执行。对于 while 和 do...while 循环，continue 语句重新执行条件判断语句。\n",
    "\n",
    "语法\n",
    "C 语言中 continue 语句的语法：\n",
    "```cpp\n",
    "continue;\n",
    "```"
   ]
  },
  {
   "cell_type": "code",
   "execution_count": 12,
   "metadata": {},
   "outputs": [
    {
     "name": "stdout",
     "output_type": "stream",
     "text": [
      "a 的值： 10\n",
      "a 的值： 11\n",
      "a 的值： 12\n",
      "a 的值： 13\n",
      "a 的值： 14\n",
      "a 的值： 16\n",
      "a 的值： 17\n",
      "a 的值： 18\n",
      "a 的值： 19\n"
     ]
    }
   ],
   "source": [
    "{\n",
    "   /* 局部变量定义 */\n",
    "   int a = 10;\n",
    "\n",
    "   /* do 循环执行 */\n",
    "   do\n",
    "   {\n",
    "      if( a == 15)\n",
    "      {\n",
    "         /* 跳过迭代 */\n",
    "         a = a + 1;\n",
    "         continue;\n",
    "      }\n",
    "      printf(\"a 的值： %d\\n\", a);\n",
    "      a++;\n",
    "     \n",
    "   }while( a < 20 );\n",
    "}"
   ]
  },
  {
   "cell_type": "markdown",
   "metadata": {},
   "source": [
    "## goto 语句\n",
    "\n",
    "C 语言中的 goto 语句允许把控制无条件转移到同一函数内的被标记的语句。\n",
    "\n",
    "注意：在任何编程语言中，都不建议使用 goto 语句。因为它使得程序的控制流难以跟踪，使程序难以理解和难以修改。任何使用 goto 语句的程序可以改写成不需要使用 goto 语句的写法。\n",
    "\n",
    "语法\n",
    "C 语言中 goto 语句的语法：\n",
    "```cpp\n",
    "goto label;\n",
    "..\n",
    ".\n",
    "label: statement;\n",
    "```\n",
    "在这里，label 可以是任何除 C 关键字以外的纯文本，它可以设置在 C 程序中 goto 语句的前面或者后面。"
   ]
  },
  {
   "cell_type": "code",
   "execution_count": 13,
   "metadata": {},
   "outputs": [
    {
     "name": "stdout",
     "output_type": "stream",
     "text": [
      "a 的值： 10\n",
      "a 的值： 11\n",
      "a 的值： 12\n",
      "a 的值： 13\n",
      "a 的值： 14\n",
      "a 的值： 16\n",
      "a 的值： 17\n",
      "a 的值： 18\n",
      "a 的值： 19\n"
     ]
    }
   ],
   "source": [
    "{\n",
    "   /* 局部变量定义 */\n",
    "   int a = 10;\n",
    "\n",
    "   /* do 循环执行 */\n",
    "   LOOP:do\n",
    "   {\n",
    "      if( a == 15)\n",
    "      {\n",
    "         /* 跳过迭代 */\n",
    "         a = a + 1;\n",
    "         goto LOOP;\n",
    "      }\n",
    "      printf(\"a 的值： %d\\n\", a);\n",
    "      a++;\n",
    "     \n",
    "   }while( a < 20 );\n",
    "}"
   ]
  },
  {
   "cell_type": "markdown",
   "metadata": {},
   "source": [
    "## 无限循环\n",
    "如果条件永远不为假，则循环将变成无限循环。for 循环在传统意义上可用于实现无限循环。由于构成循环的三个表达式中任何一个都不是必需的，您可以将某些条件表达式留空来构成一个无限循环。\n",
    "\n",
    "实例\n",
    "```c\n",
    "#include <stdio.h>\n",
    " \n",
    "int main ()\n",
    "{\n",
    "   for( ; ; )\n",
    "   {\n",
    "      printf(\"该循环会永远执行下去！\\n\");\n",
    "   }\n",
    "   return 0;\n",
    "}\n",
    "```\n",
    "当条件表达式不存在时，它被假设为真。您也可以设置一个初始值和增量表达式，但是一般情况下，C 程序员偏向于使用 for(;;) 结构来表示一个无限循环。\n",
    "\n",
    "注意：您可以按 Ctrl + C 键终止一个无限循环。"
   ]
  },
  {
   "cell_type": "code",
   "execution_count": null,
   "metadata": {},
   "outputs": [],
   "source": []
  }
 ],
 "metadata": {
  "kernelspec": {
   "display_name": "C++11",
   "language": "C++11",
   "name": "xcpp11"
  },
  "language_info": {
   "codemirror_mode": "text/x-c++src",
   "file_extension": ".cpp",
   "mimetype": "text/x-c++src",
   "name": "c++",
   "version": "11"
  }
 },
 "nbformat": 4,
 "nbformat_minor": 4
}

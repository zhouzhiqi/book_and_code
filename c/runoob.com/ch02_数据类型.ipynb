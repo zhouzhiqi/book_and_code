{
 "cells": [
  {
   "cell_type": "markdown",
   "metadata": {},
   "source": [
    "# ch02_数据类型\n",
    "\n",
    "在 C 语言中，数据类型指的是用于声明不同类型的变量或函数的一个广泛的系统。变量的类型决定了变量存储占用的空间，以及如何解释存储的位模式。"
   ]
  },
  {
   "cell_type": "markdown",
   "metadata": {},
   "source": [
    "C 中的类型可分为以下几种：\n",
    "```\n",
    "序号\t类型与描述\n",
    "1\t基本类型：\n",
    "它们是算术类型，包括两种类型：整数类型和浮点类型。\n",
    "2\t枚举类型：\n",
    "它们也是算术类型，被用来定义在程序中只能赋予其一定的离散整数值的变量。\n",
    "3\tvoid 类型：\n",
    "类型说明符 void 表明没有可用的值。\n",
    "4\t派生类型：\n",
    "它们包括：指针类型、数组类型、结构类型、共用体类型和函数类型。\n",
    "```"
   ]
  },
  {
   "cell_type": "markdown",
   "metadata": {},
   "source": [
    "## 基本类型 - 整数类型\n",
    "\n",
    "下表列出了关于标准整数类型的存储大小和值范围的细节：\n",
    "```\n",
    "类型\t存储大小\t值范围\n",
    "char\t1 字节\t-128 到 127 或 0 到 255\n",
    "unsigned char\t1 字节\t0 到 255\n",
    "signed char\t1 字节\t-128 到 127\n",
    "int\t2 或 4 字节\t-32,768 到 32,767 或 -2,147,483,648 到 2,147,483,647\n",
    "unsigned int\t2 或 4 字节\t0 到 65,535 或 0 到 4,294,967,295\n",
    "short\t2 字节\t-32,768 到 32,767\n",
    "unsigned short\t2 字节\t0 到 65,535\n",
    "long\t4 字节\t-2,147,483,648 到 2,147,483,647\n",
    "unsigned long\t4 字节\t0 到 4,294,967,295\n",
    "```\n",
    "\n",
    "*注意，各种类型的存储大小与系统位数有关，但目前通用的以64位系统为主。*"
   ]
  },
  {
   "cell_type": "markdown",
   "metadata": {},
   "source": [
    "为了得到某个类型或某个变量在特定平台上的准确大小，您可以使用 sizeof 运算符。   \n",
    "表达式 sizeof(type) 得到对象或类型的存储字节大小。   \n",
    "下面的实例演示了获取 int 类型的大小："
   ]
  },
  {
   "cell_type": "code",
   "execution_count": 1,
   "metadata": {},
   "outputs": [],
   "source": [
    "#include <stdio.h>\n",
    "#include <limits.h>"
   ]
  },
  {
   "cell_type": "code",
   "execution_count": 2,
   "metadata": {},
   "outputs": [
    {
     "name": "stdout",
     "output_type": "stream",
     "text": [
      "int 存储大小 : 4 \n"
     ]
    }
   ],
   "source": [
    "printf(\"int 存储大小 : %lu \\n\", sizeof(int));\n",
    "// %lu 为 32 位无符号整数"
   ]
  },
  {
   "cell_type": "markdown",
   "metadata": {},
   "source": [
    "## 基本类型 - 浮点类型\n",
    "\n",
    "下表列出了关于标准浮点类型的存储大小、值范围和精度的细节：\n",
    "```\n",
    "类型\t存储大小\t值范围\t精度\n",
    "float\t4 字节\t1.2E-38 到 3.4E+38\t6 位小数\n",
    "double\t8 字节\t2.3E-308 到 1.7E+308\t15 位小数\n",
    "long double\t16 字节\t3.4E-4932 到 1.1E+4932\t19 位小数\n",
    "```"
   ]
  },
  {
   "cell_type": "code",
   "execution_count": 3,
   "metadata": {},
   "outputs": [],
   "source": [
    "#include <float.h>"
   ]
  },
  {
   "cell_type": "code",
   "execution_count": 4,
   "metadata": {},
   "outputs": [
    {
     "name": "stdout",
     "output_type": "stream",
     "text": [
      "float 存储最大字节数 : 4 \n",
      "float 最小值: 1.175494E-38\n",
      "float 最大值: 3.402823E+38\n",
      "精度值: 6\n"
     ]
    }
   ],
   "source": [
    "printf(\"float 存储最大字节数 : %lu \\n\", sizeof(float));\n",
    "printf(\"float 最小值: %E\\n\", FLT_MIN );\n",
    "printf(\"float 最大值: %E\\n\", FLT_MAX );\n",
    "printf(\"精度值: %d\\n\", FLT_DIG );"
   ]
  },
  {
   "cell_type": "markdown",
   "metadata": {},
   "source": [
    "## 基本类型 - void 类型\n",
    "\n",
    "void 类型指定没有可用的值。它通常用于以下三种情况下：\n",
    "```\n",
    "序号\t类型与描述\n",
    "1\t函数返回为空\n",
    "C 中有各种函数都不返回值，或者您可以说它们返回空。不返回值的函数的返回类型为空。例如 void exit (int status);\n",
    "2\t函数参数为空\n",
    "C 中有各种函数不接受任何参数。不带参数的函数可以接受一个 void。例如 int rand(void);\n",
    "3\t指针指向 void\n",
    "类型为 void * 的指针代表对象的地址，而不是类型。例如，内存分配函数 void *malloc( size_t size ); 返回指向 void 的指针，可以转换为任何数据类型。\n",
    "如果现在您还是无法完全理解 void 类型，不用太担心，在后续的章节中我们将会详细讲解这些概念。\n",
    "```"
   ]
  },
  {
   "cell_type": "markdown",
   "metadata": {},
   "source": [
    "常用基本数据类型占用空间（64位机器为例）\n",
    "```\n",
    " char ： 1个字节\n",
    " int ：4个字节\n",
    " float：4个字节\n",
    " double：8个字节\n",
    "```\n",
    "基本类型书写\n",
    "整数\n",
    "```\n",
    " a，默认为10进制 ，10 ，20。\n",
    " b，以0开头为8进制，045，021。\n",
    " c.，以0b开头为2进制，0b11101101。\n",
    " d，以0x开头为16进制，0x21458adf。\n",
    "```\n",
    "小数\n",
    "```\n",
    "单精度常量：2.3f 。\n",
    "\n",
    "双精度常量：2.3，默认为双精度。\n",
    "```\n",
    "字符型常量\n",
    "```\n",
    "用英文单引号括起来，只保存一个字符'a'、'b' 、'*' ，还有转义字符 '\\n' 、'\\t'。\n",
    "```\n",
    "字符串常量\n",
    "```\n",
    "用英文的双引号引起来 可以保存多个字符：\"abc\"。\n",
    "```"
   ]
  },
  {
   "cell_type": "markdown",
   "metadata": {},
   "source": [
    "1、数据类型转换：\n",
    "\n",
    "C 语言中如果一个表达式中含有不同类型的常量和变量，在计算时，会将它们自动转换为同一种类型；在 C 语言中也可以对数据类型进行强制转换；\n",
    "\n",
    "2、自动转换规则：\n",
    "\n",
    "a）浮点数赋给整型，该浮点数小数被舍去；\n",
    "b）整数赋给浮点型，数值不变，但是被存储到相应的浮点型变量中；\n",
    "\n",
    "3、强制类型转换形式: (类型说明符)(表达式)\n",
    "\n",
    "实例程序：\n",
    "```c\n",
    "#include<stdio.h>\n",
    "\n",
    "int main()\n",
    "{\n",
    "    float f,x=3.6,y=5.2;\n",
    "    int i=4,a,b;\n",
    "    a=x+y;\n",
    "    b=(int)(x+y);\n",
    "    f=10/i;\n",
    "    printf(\"a=%d,b=%d,f=%f,x=%f\\n\",a,b,f,x);\n",
    "}\n",
    "```\n",
    "\n",
    "例中先计算 x+y 值为 8.8，然后赋值给 a，因为a为整型，所以自取整数部分8，a=8;\n",
    "\n",
    "接下来 b 把 x+y 强制转换为整型;\n",
    "\n",
    "最后 10/i 是两个整数相除，结果仍为整数 2，把 2 赋给浮点数 f;\n",
    "\n",
    "x 为浮点型直接输出。"
   ]
  },
  {
   "cell_type": "code",
   "execution_count": null,
   "metadata": {},
   "outputs": [],
   "source": []
  }
 ],
 "metadata": {
  "kernelspec": {
   "display_name": "C++11",
   "language": "C++11",
   "name": "xcpp11"
  },
  "language_info": {
   "codemirror_mode": "text/x-c++src",
   "file_extension": ".cpp",
   "mimetype": "text/x-c++src",
   "name": "c++",
   "version": "11"
  }
 },
 "nbformat": 4,
 "nbformat_minor": 4
}

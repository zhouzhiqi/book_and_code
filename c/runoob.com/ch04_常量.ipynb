{
 "cells": [
  {
   "cell_type": "markdown",
   "metadata": {},
   "source": [
    "# ch04_常量\n",
    "常量是固定值，在程序执行期间不会改变。这些固定的值，又叫做字面量。\n",
    "\n",
    "常量可以是任何的基本数据类型，比如整数常量、浮点常量、字符常量，或字符串字面值，也有枚举常量。\n",
    "\n",
    "常量就像是常规的变量，只不过常量的值在定义后不能进行修改。"
   ]
  },
  {
   "cell_type": "markdown",
   "metadata": {},
   "source": [
    "## 整数常量\n",
    "整数常量可以是十进制、八进制或十六进制的常量。前缀指定基数：0x 或 0X 表示十六进制，0 表示八进制，不带前缀则默认表示十进制。\n",
    "\n",
    "整数常量也可以带一个后缀，后缀是 U 和 L 的组合，U 表示无符号整数（unsigned），L 表示长整数（long）。后缀可以是大写，也可以是小写，U 和 L 的顺序任意。"
   ]
  },
  {
   "cell_type": "markdown",
   "metadata": {},
   "source": [
    "下面列举几个整数常量的实例：\n",
    "```\n",
    "212         /* 合法的 */\n",
    "215u        /* 合法的 */\n",
    "0xFeeL      /* 合法的 */\n",
    "078         /* 非法的：8 不是八进制的数字 */\n",
    "032UU       /* 非法的：不能重复后缀 */\n",
    "```\n",
    "\n",
    "以下是各种类型的整数常量的实例：\n",
    "```\n",
    "85         /* 十进制 */\n",
    "0213       /* 八进制 */\n",
    "0x4b       /* 十六进制 */\n",
    "30         /* 整数 */\n",
    "30u        /* 无符号整数 */\n",
    "30l        /* 长整数 */\n",
    "30ul       /* 无符号长整数 */\n",
    "```"
   ]
  },
  {
   "cell_type": "markdown",
   "metadata": {},
   "source": [
    "## 浮点常量\n",
    "\n",
    "浮点常量由整数部分、小数点、小数部分和指数部分组成。您可以使用小数形式或者指数形式来表示浮点常量。\n",
    "\n",
    "当使用小数形式表示时，必须包含整数部分、小数部分，或同时包含两者。当使用指数形式表示时， 必须包含小数点、指数，或同时包含两者。带符号的指数是用 e 或 E 引入的。\n",
    "\n",
    "下面列举几个浮点常量的实例：\n",
    "```\n",
    "3.14159       /* 合法的 */\n",
    "314159E-5L    /* 合法的 */\n",
    "510E          /* 非法的：不完整的指数 */\n",
    "210f          /* 非法的：没有小数或指数 */\n",
    ".e55          /* 非法的：缺少整数或分数 */\n",
    "```"
   ]
  },
  {
   "cell_type": "markdown",
   "metadata": {},
   "source": [
    "## 字符常量\n",
    "\n",
    "字符常量是括在单引号中，例如，'x' 可以存储在 char 类型的简单变量中。\n",
    "\n",
    "字符常量可以是一个普通的字符（例如 'x'）、一个转义序列（例如 '\\t'），或一个通用的字符（例如 '\\u02C0'）。\n",
    "\n",
    "在 C 中，有一些特定的字符，当它们前面有反斜杠时，它们就具有特殊的含义，被用来表示如换行符（\\n）或制表符（\\t）等。下表列出了一些这样的转义序列码：\n",
    "```\n",
    "转义序列\t含义\n",
    "\\\\\t\\ 字符\n",
    "\\'\t' 字符\n",
    "\\\"\t\" 字符\n",
    "\\?\t? 字符\n",
    "\\a\t警报铃声\n",
    "\\b\t退格键\n",
    "\\f\t换页符\n",
    "\\n\t换行符\n",
    "\\r\t回车\n",
    "\\t\t水平制表符\n",
    "\\v\t垂直制表符\n",
    "\\ooo\t一到三位的八进制数\n",
    "\\xhh . . .\t一个或多个数字的十六进制数\n",
    "```"
   ]
  },
  {
   "cell_type": "markdown",
   "metadata": {},
   "source": [
    "## 字符串常量\n",
    "\n",
    "字符串字面值或常量是括在双引号 \"\" 中的。一个字符串包含类似于字符常量的字符：普通的字符、转义序列和通用的字符。\n",
    "\n",
    "您可以使用空格做分隔符，把一个很长的字符串常量进行分行。\n",
    "\n",
    "下面的实例显示了一些字符串常量。下面这三种形式所显示的字符串是相同的。\n",
    "```\n",
    "\"hello, dear\"\n",
    "\n",
    "\"hello, \\\n",
    "\n",
    "dear\"\n",
    "\n",
    "\"hello, \" \"d\" \"ear\"\n",
    "```"
   ]
  },
  {
   "cell_type": "markdown",
   "metadata": {},
   "source": [
    "## 定义常量\n",
    "在 C 中，有两种简单的定义常量的方式：\n",
    "\n",
    "使用 #define 预处理器 和 使用 const 关键字。"
   ]
  },
  {
   "cell_type": "markdown",
   "metadata": {},
   "source": [
    "### #define 预处理器\n",
    "下面是使用 #define 预处理器定义常量的形式：\n",
    "\n",
    "#define identifier value"
   ]
  },
  {
   "cell_type": "code",
   "execution_count": 2,
   "metadata": {},
   "outputs": [],
   "source": [
    "#include <stdio.h>\n",
    " \n",
    "#define LENGTH 10   \n",
    "#define WIDTH  5\n",
    "#define NEWLINE '\\n'"
   ]
  },
  {
   "cell_type": "code",
   "execution_count": 3,
   "metadata": {},
   "outputs": [
    {
     "name": "stdout",
     "output_type": "stream",
     "text": [
      "value of area : 50\n"
     ]
    }
   ],
   "source": [
    "// int main()\n",
    "{\n",
    " \n",
    "   int area;  \n",
    "  \n",
    "   area = LENGTH * WIDTH;\n",
    "   printf(\"value of area : %d\", area);\n",
    "   printf(\"%c\", NEWLINE);\n",
    " \n",
    "//    return 0;\n",
    "}"
   ]
  },
  {
   "cell_type": "markdown",
   "metadata": {},
   "source": [
    "### const 关键字\n",
    "您可以使用 const 前缀声明指定类型的常量，如下所示：\n",
    "\n",
    "const type variable = value;"
   ]
  },
  {
   "cell_type": "code",
   "execution_count": 7,
   "metadata": {},
   "outputs": [
    {
     "name": "stdout",
     "output_type": "stream",
     "text": [
      "value of area : 50\n"
     ]
    }
   ],
   "source": [
    "// int main()\n",
    "{\n",
    "   const int  LENGTH_2 = 10;\n",
    "   const int  WIDTH_2  = 5;\n",
    "   const char NEWLINE_2 = '\\n';\n",
    "   int area;  \n",
    "   \n",
    "   area = LENGTH_2 * WIDTH_2;\n",
    "   printf(\"value of area : %d\", area);\n",
    "   printf(\"%c\", NEWLINE_2);\n",
    " \n",
    "//    return 0;\n",
    "}"
   ]
  },
  {
   "cell_type": "markdown",
   "metadata": {},
   "source": [
    "### 请注意，把常量定义为大写字母形式，是一个很好的编程实践。"
   ]
  },
  {
   "cell_type": "code",
   "execution_count": null,
   "metadata": {},
   "outputs": [],
   "source": []
  }
 ],
 "metadata": {
  "kernelspec": {
   "display_name": "C++11",
   "language": "C++11",
   "name": "xcpp11"
  },
  "language_info": {
   "codemirror_mode": "text/x-c++src",
   "file_extension": ".cpp",
   "mimetype": "text/x-c++src",
   "name": "c++",
   "version": "11"
  }
 },
 "nbformat": 4,
 "nbformat_minor": 4
}

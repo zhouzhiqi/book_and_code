{
 "cells": [
  {
   "cell_type": "markdown",
   "metadata": {},
   "source": [
    "# Basic Widgets"
   ]
  },
  {
   "cell_type": "markdown",
   "metadata": {},
   "source": [
    "This chapter introduces you to the basic Tk widgets that you'll find in just about any user interface: frames, labels, buttons, checkbuttons, radiobuttons, entries and comboboxes. By the end, you'll know how to use all the widgets you'd ever need for a typical fill-in form type of user interface.\n",
    "\n",
    "This chapter (and those following that discuss more widgets) are meant to be read in order. Because there is so much commonality between many widgets, we'll introduce certain concepts in an earlier widget that will also apply to a later one. Rather than going over the same ground multiple times, we'll just refer back to when the concept was first introduced.\n",
    "\n",
    "At the same time, each widget will also refer to the widget roundup page for the specific widget, as well as the reference manual page, so feel free to jump around a bit too."
   ]
  },
  {
   "cell_type": "markdown",
   "metadata": {},
   "source": [
    "-----------"
   ]
  },
  {
   "cell_type": "markdown",
   "metadata": {},
   "source": [
    "# Frame"
   ]
  },
  {
   "cell_type": "markdown",
   "metadata": {},
   "source": [
    "A frame is a widget that displays just as a simple rectangle. Frames are primarily used as a container for other widgets, which are under the control of a geometry manager such as grid.\n"
   ]
  },
  {
   "cell_type": "markdown",
   "metadata": {},
   "source": [
    "![w_frame_all](images/w_frame_all.png)\n",
    "Frame Widgets\n",
    "\n"
   ]
  },
  {
   "cell_type": "markdown",
   "metadata": {},
   "source": [
    "Frames are created using the ttk.Frame function:\n",
    "```python\n",
    "frame = ttk.Frame(parent)\n",
    "```\n",
    "Frames can take several different configuration options which can alter how they are displayed."
   ]
  },
  {
   "cell_type": "markdown",
   "metadata": {},
   "source": [
    "## Requested Size"
   ]
  },
  {
   "cell_type": "markdown",
   "metadata": {},
   "source": [
    "Like any other widget, after creation it is added to the user interface via a (parent) geometry manager. Normally, the size that the frame will request from the geometry manager will be determined by the size and layout of any widgets that are contained in it (which are under the control of the geometry manager that manages the contents of the frame itself).\n",
    "\n",
    "If for some reason you want an empty frame that does not contain other widgets, you should instead explicitly set the size that the frame will request from its parent geometry manager using the \"width\" and/or \"height\" configuration options (otherwise you'll end up with a very small frame indeed).\n",
    "\n",
    "Normally, distances such as width and height are specified just as a number of pixels on the screen. You can also specify them via one of a number of suffixes. For example, \"350\" means 350 pixels, \"350c\" means 350 centimeters, \"350i\" means 350 inches, and \"350p\" means 350 printer's points (1/72 inch)."
   ]
  },
  {
   "cell_type": "markdown",
   "metadata": {},
   "source": [
    "## Padding"
   ]
  },
  {
   "cell_type": "markdown",
   "metadata": {},
   "source": [
    "The \"padding\" configuration option is used to request extra space around the inside of the widget; this way if you're putting other widgets inside the frame, there will be a bit of a margin all the way around. A single number specifies the same padding all the way around, a list of two numbers lets you specify the horizontal then the vertical padding, and a list of four numbers lets you specify the left, top, right and bottom padding, in that order.\n",
    "```python\n",
    "frame['padding'] = (5,10)\n",
    "```"
   ]
  },
  {
   "cell_type": "markdown",
   "metadata": {},
   "source": [
    "## Borders"
   ]
  },
  {
   "cell_type": "markdown",
   "metadata": {},
   "source": [
    "You can display a border around the frame widget; you see this a lot where you might have a part of the user interface looking \"sunken\" or \"raised\" in relation to its surroundings. To do this, you need to set the \"borderwidth\" configuration option (which defaults to 0, so no border), as well as the \"relief\" option, which specifies the visual appearance of the border: \"flat\" (default), \"raised\", \"sunken\", \"solid\", \"ridge\", or \"groove\".\n",
    "```python\n",
    "frame['borderwidth'] = 2\n",
    "frame['relief'] = 'sunken'\n",
    "```"
   ]
  },
  {
   "cell_type": "markdown",
   "metadata": {},
   "source": [
    "## Changing Styles"
   ]
  },
  {
   "cell_type": "markdown",
   "metadata": {},
   "source": [
    "There is also a \"style\" configuration option, which is common to all of the themed widgets, which can let you control just about any aspect of their appearance or behavior. This is a bit more advanced, so we won't go into it right now.\n",
    "\n",
    "Styles mark a sharp departure from the way most aspects of a widget's visual appearance are changed in the \"classic\" Tk widgets. While in classic Tk you could provide a wide range of options to finely control every aspect of behavior (foreground color, background color, font, highlight thickness, selected foreground color, padding, etc.), in the new themed widgets these changes are done by changing styles, not adding options to each widget.\n",
    " \n",
    "As such, many of the options you may be familiar with in certain widgets are not present in their themed version. Given that overuse of such options was a key factor undermining the appearance of Tk applications, especially when moved across platforms, transitioning to themed widgets provides an opportune time to review and refine if and how such appearance changes are made."
   ]
  },
  {
   "cell_type": "code",
   "execution_count": 10,
   "metadata": {},
   "outputs": [
    {
     "ename": "KeyboardInterrupt",
     "evalue": "",
     "output_type": "error",
     "traceback": [
      "\u001b[0;31m---------------------------------------------------------------------------\u001b[0m",
      "\u001b[0;31mKeyboardInterrupt\u001b[0m                         Traceback (most recent call last)",
      "\u001b[0;32m<ipython-input-10-4ef50e0b0748>\u001b[0m in \u001b[0;36m<module>\u001b[0;34m\u001b[0m\n\u001b[1;32m     10\u001b[0m \u001b[0mframe\u001b[0m\u001b[0;34m.\u001b[0m\u001b[0mgrid\u001b[0m\u001b[0;34m(\u001b[0m\u001b[0mcolumn\u001b[0m\u001b[0;34m=\u001b[0m\u001b[0;36m0\u001b[0m\u001b[0;34m,\u001b[0m \u001b[0mrow\u001b[0m\u001b[0;34m=\u001b[0m\u001b[0;36m0\u001b[0m\u001b[0;34m,\u001b[0m \u001b[0msticky\u001b[0m\u001b[0;34m=\u001b[0m\u001b[0;34m(\u001b[0m\u001b[0mN\u001b[0m\u001b[0;34m,\u001b[0m \u001b[0mW\u001b[0m\u001b[0;34m,\u001b[0m \u001b[0mE\u001b[0m\u001b[0;34m,\u001b[0m \u001b[0mS\u001b[0m\u001b[0;34m)\u001b[0m\u001b[0;34m)\u001b[0m\u001b[0;34m\u001b[0m\u001b[0;34m\u001b[0m\u001b[0m\n\u001b[1;32m     11\u001b[0m \u001b[0;34m\u001b[0m\u001b[0m\n\u001b[0;32m---> 12\u001b[0;31m \u001b[0mroot\u001b[0m\u001b[0;34m.\u001b[0m\u001b[0mmainloop\u001b[0m\u001b[0;34m(\u001b[0m\u001b[0;34m)\u001b[0m\u001b[0;34m\u001b[0m\u001b[0;34m\u001b[0m\u001b[0m\n\u001b[0m",
      "\u001b[0;32m~/miniconda3/lib/python3.8/tkinter/__init__.py\u001b[0m in \u001b[0;36mmainloop\u001b[0;34m(self, n)\u001b[0m\n\u001b[1;32m   1418\u001b[0m     \u001b[0;32mdef\u001b[0m \u001b[0mmainloop\u001b[0m\u001b[0;34m(\u001b[0m\u001b[0mself\u001b[0m\u001b[0;34m,\u001b[0m \u001b[0mn\u001b[0m\u001b[0;34m=\u001b[0m\u001b[0;36m0\u001b[0m\u001b[0;34m)\u001b[0m\u001b[0;34m:\u001b[0m\u001b[0;34m\u001b[0m\u001b[0;34m\u001b[0m\u001b[0m\n\u001b[1;32m   1419\u001b[0m         \u001b[0;34m\"\"\"Call the mainloop of Tk.\"\"\"\u001b[0m\u001b[0;34m\u001b[0m\u001b[0;34m\u001b[0m\u001b[0m\n\u001b[0;32m-> 1420\u001b[0;31m         \u001b[0mself\u001b[0m\u001b[0;34m.\u001b[0m\u001b[0mtk\u001b[0m\u001b[0;34m.\u001b[0m\u001b[0mmainloop\u001b[0m\u001b[0;34m(\u001b[0m\u001b[0mn\u001b[0m\u001b[0;34m)\u001b[0m\u001b[0;34m\u001b[0m\u001b[0;34m\u001b[0m\u001b[0m\n\u001b[0m\u001b[1;32m   1421\u001b[0m \u001b[0;34m\u001b[0m\u001b[0m\n\u001b[1;32m   1422\u001b[0m     \u001b[0;32mdef\u001b[0m \u001b[0mquit\u001b[0m\u001b[0;34m(\u001b[0m\u001b[0mself\u001b[0m\u001b[0;34m)\u001b[0m\u001b[0;34m:\u001b[0m\u001b[0;34m\u001b[0m\u001b[0;34m\u001b[0m\u001b[0m\n",
      "\u001b[0;31mKeyboardInterrupt\u001b[0m: "
     ]
    }
   ],
   "source": [
    "from tkinter import *\n",
    "from tkinter import ttk\n",
    "\n",
    "root = Tk()\n",
    "root.title(\"Frame\")\n",
    "frame = ttk.Frame(root)\n",
    "frame['padding'] = (3,3,100,100)\n",
    "frame['borderwidth'] = 2\n",
    "frame['relief'] = 'sunken'\n",
    "frame.grid(column=0, row=0, sticky=(N, W, E, S))\n",
    "\n",
    "root.mainloop()"
   ]
  },
  {
   "cell_type": "markdown",
   "metadata": {},
   "source": [
    "------------"
   ]
  },
  {
   "cell_type": "markdown",
   "metadata": {},
   "source": [
    "# Label"
   ]
  },
  {
   "cell_type": "markdown",
   "metadata": {},
   "source": [
    "A label is a widget that displays text or images, typically that the user will just view but not otherwise interact with. Labels are used for such things as identifying controls or other parts of the user interface, providing textual feedback or results, etc."
   ]
  },
  {
   "cell_type": "markdown",
   "metadata": {},
   "source": [
    "![w_label_all](images/w_label_all.png)"
   ]
  },
  {
   "cell_type": "markdown",
   "metadata": {},
   "source": [
    "Labels are created using the ttk.Label function, and typically their contents are set up at the same time:\n",
    "```python\n",
    "label = ttk.Label(parent, text='Full name:')\n",
    "```\n",
    "Like frames, labels can take several different configuration options which can alter how they are displayed.\n",
    "\n"
   ]
  },
  {
   "cell_type": "markdown",
   "metadata": {},
   "source": [
    "## Displaying Text"
   ]
  },
  {
   "cell_type": "markdown",
   "metadata": {},
   "source": [
    "The \"text\" configuration option shown above when creating the label is the most commonly used, particularly when the label is purely decorative or explanatory. You can of course change this option at any time, not only when first creating the label.\n",
    "\n",
    "You can also have the widget monitor a variable in your script, so that anytime the variable changes, the label will display the new value of the variable; this is done with the \"textvariable\" option:"
   ]
  },
  {
   "cell_type": "markdown",
   "metadata": {},
   "source": [
    "```python\n",
    "resultsContents = StringVar()\n",
    "label['textvariable'] = resultsContents\n",
    "resultsContents.set('New value to display')\n",
    "```\n",
    "Tkinter only allows you to attach to an instance of the \"StringVar\" class, which contains all the logic to watch for changes, communicate them back and forth between the variable and Tk, and so on. You need to read or write the current value using the \"get\" and \"set\" methods."
   ]
  },
  {
   "cell_type": "markdown",
   "metadata": {},
   "source": [
    "## Displaying Images"
   ]
  },
  {
   "cell_type": "markdown",
   "metadata": {},
   "source": [
    "You can also display an image in a label instead of text; if you just want an image sitting in your interface, this is normally the way to do it. We'll go into images in more detail in a later chapter, but for now, let's assume you want to display a GIF image that is sitting in a file on disk. This is a two-step process, first creating an image \"object\", and then telling the label to use that object via its \"image\" configuration option:"
   ]
  },
  {
   "cell_type": "markdown",
   "metadata": {},
   "source": [
    "```python\n",
    "image = PhotoImage(file='myimage.gif')\n",
    "label['image'] = image\n",
    "```\n",
    "You can use both an image and text, as you'll often see in toolbar buttons, via the \"compound\" configuration option. The default value is \"none\", meaning display only the image if present, otherwise the text specified by the \"text\" or \"textvariable\" options. Other options are \"text\" (text only), \"image\" (image only), \"center\" (text in center of image), \"top\" (image above text), \"left\", \"bottom\", and \"right\"."
   ]
  },
  {
   "cell_type": "markdown",
   "metadata": {},
   "source": [
    "## Layout"
   ]
  },
  {
   "cell_type": "markdown",
   "metadata": {},
   "source": [
    "While the overall layout of the label (i.e. where it is positioned within the user interface, and how large it is) is determined by the geometry manager, several options can help you control how the label will be displayed within the box the geometry manager gives it.\n",
    "\n",
    "If the box given to the label is larger than the label requires for its contents, you can use the \"anchor\" option to specify what edge or corner the label should be attached to, which would leave any empty space in the opposite edge or corner. Possible values are specified as compass directions: \"n\" (north, or top edge), \"ne\", (north-east, or top right corner), \"e\", \"se\", \"s\", \"sw\", \"w\", \"nw\" or \"center\".\n",
    "\n",
    "Labels can be used to display more than one line of text. This can be done by embedding carriage returns (\"\\n\") in the \"text\"/\"textvariable\" string. You can also let the label wrap the string into multiple lines that are no longer than a given length (with the size specified as pixels, centimeters, etc.), by using the \"wraplength\" option.\n",
    "\n",
    "Multi-line labels are a replacement for the older \"message\" widgets in classic Tk.\n",
    "\n",
    "You can also control how the text is justified, by using the \"justify\" option, which can have the values \"left\", \"center\" or \"right\". If you only have a single line of text, this is pretty much the same as just using the \"anchor\" option, but is more useful with multiple lines of text."
   ]
  },
  {
   "cell_type": "markdown",
   "metadata": {},
   "source": [
    "## Fonts, Colors and More"
   ]
  },
  {
   "cell_type": "markdown",
   "metadata": {},
   "source": [
    "Like with frames, normally you don't want to touch things like the font and colors directly, but if you need to change them (e.g. to create a special type of label), this would be done via creating a new style, which is then used by the widget with the \"style\" option.\n",
    "\n",
    "Unlike most themed widgets, the label widget also provides explicit widget-specific options as an alternative; again, you'd use this only in special one-off cases, when using a style didn't necessarily make sense.\n",
    "\n",
    "You can specify the font used to display the label's text using the \"font\" configuration option. While we'll go into fonts in more detail in a later chapter, here are the names of some predefined fonts you can use:\n",
    "```\n",
    "TkDefaultFont\tThe default for all GUI items not otherwise specified.\n",
    "TkTextFont\tUsed for entry widgets, listboxes, etc.\n",
    "TkFixedFont\tA standard fixed-width font.\n",
    "TkMenuFont\tThe font used for menu items.\n",
    "TkHeadingFont\tA font for column headings in lists and tables.\n",
    "TkCaptionFont\tA font for window and dialog caption bars.\n",
    "TkSmallCaptionFont\tA smaller caption font for subwindows or tool dialogs.\n",
    "TkIconFont\tA font for icon captions.\n",
    "TkTooltipFont\tA font for tooltips.\n",
    "```\n",
    "Because the choice of fonts is so platform specific, be careful of hardcoding them (font families, sizes, etc.); this is something else you'll see in a lot of older Tk programs that can make them look ugly.\n",
    "\n",
    "The foreground (text) and background color can also be changed via the \"foreground\" and \"background\" options. Colors are covered in detail later, but you can specify these as either color names (e.g. \"red\") or hex RGB codes (e.g. \"#ff340a\").\n",
    "\n",
    "Labels also accept the \"relief\" option that was discussed for frames."
   ]
  },
  {
   "cell_type": "code",
   "execution_count": 8,
   "metadata": {},
   "outputs": [],
   "source": [
    "from tkinter import *\n",
    "from tkinter import ttk\n",
    "\n",
    "root = Tk()\n",
    "root.title(\"Frame\")\n",
    "frame = ttk.Frame(root)\n",
    "frame['padding'] = (3,3,100,100)\n",
    "frame['borderwidth'] = 5\n",
    "frame['relief'] = 'sunken'\n",
    "frame.grid(column=0, row=0, sticky=(N, W, E, S))\n",
    "\n",
    "label = ttk.Label(frame, text='Full name:')\n",
    "resultsContents = StringVar()\n",
    "label['textvariable'] = resultsContents\n",
    "resultsContents.set('New value to display')\n",
    "image = PhotoImage(file='images/hello_world.png')\n",
    "label['image'] = image\n",
    "\n",
    "label.grid(column=1, row=2, sticky=E)\n",
    "\n",
    "root.mainloop()"
   ]
  },
  {
   "cell_type": "code",
   "execution_count": null,
   "metadata": {},
   "outputs": [],
   "source": []
  },
  {
   "cell_type": "code",
   "execution_count": null,
   "metadata": {},
   "outputs": [],
   "source": []
  }
 ],
 "metadata": {
  "kernelspec": {
   "display_name": "Python 3",
   "language": "python",
   "name": "python3"
  },
  "language_info": {
   "codemirror_mode": {
    "name": "ipython",
    "version": 3
   },
   "file_extension": ".py",
   "mimetype": "text/x-python",
   "name": "python",
   "nbconvert_exporter": "python",
   "pygments_lexer": "ipython3",
   "version": "3.8.3"
  }
 },
 "nbformat": 4,
 "nbformat_minor": 4
}

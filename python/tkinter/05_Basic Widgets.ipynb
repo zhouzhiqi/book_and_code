{
 "cells": [
  {
   "cell_type": "markdown",
   "metadata": {},
   "source": [
    "# Basic Widgets"
   ]
  },
  {
   "cell_type": "markdown",
   "metadata": {},
   "source": [
    "This chapter introduces you to the basic Tk widgets that you'll find in just about any user interface: frames, labels, buttons, checkbuttons, radiobuttons, entries and comboboxes. By the end, you'll know how to use all the widgets you'd ever need for a typical fill-in form type of user interface.\n",
    "\n",
    "This chapter (and those following that discuss more widgets) are meant to be read in order. Because there is so much commonality between many widgets, we'll introduce certain concepts in an earlier widget that will also apply to a later one. Rather than going over the same ground multiple times, we'll just refer back to when the concept was first introduced.\n",
    "\n",
    "At the same time, each widget will also refer to the widget roundup page for the specific widget, as well as the reference manual page, so feel free to jump around a bit too."
   ]
  },
  {
   "cell_type": "markdown",
   "metadata": {},
   "source": [
    "-----------"
   ]
  },
  {
   "cell_type": "markdown",
   "metadata": {},
   "source": [
    "# Frame"
   ]
  },
  {
   "cell_type": "markdown",
   "metadata": {},
   "source": [
    "A frame is a widget that displays just as a simple rectangle. Frames are primarily used as a container for other widgets, which are under the control of a geometry manager such as grid.\n"
   ]
  },
  {
   "cell_type": "markdown",
   "metadata": {},
   "source": [
    "![w_frame_all](images/w_frame_all.png)\n",
    "Frame Widgets\n",
    "\n"
   ]
  },
  {
   "cell_type": "markdown",
   "metadata": {},
   "source": [
    "Frames are created using the ttk.Frame function:\n",
    "```python\n",
    "frame = ttk.Frame(parent)\n",
    "```\n",
    "Frames can take several different configuration options which can alter how they are displayed."
   ]
  },
  {
   "cell_type": "markdown",
   "metadata": {},
   "source": [
    "## Requested Size"
   ]
  },
  {
   "cell_type": "markdown",
   "metadata": {},
   "source": [
    "Like any other widget, after creation it is added to the user interface via a (parent) geometry manager. Normally, the size that the frame will request from the geometry manager will be determined by the size and layout of any widgets that are contained in it (which are under the control of the geometry manager that manages the contents of the frame itself).\n",
    "\n",
    "If for some reason you want an empty frame that does not contain other widgets, you should instead explicitly set the size that the frame will request from its parent geometry manager using the \"width\" and/or \"height\" configuration options (otherwise you'll end up with a very small frame indeed).\n",
    "\n",
    "Normally, distances such as width and height are specified just as a number of pixels on the screen. You can also specify them via one of a number of suffixes. For example, \"350\" means 350 pixels, \"350c\" means 350 centimeters, \"350i\" means 350 inches, and \"350p\" means 350 printer's points (1/72 inch)."
   ]
  },
  {
   "cell_type": "markdown",
   "metadata": {},
   "source": [
    "## Padding"
   ]
  },
  {
   "cell_type": "markdown",
   "metadata": {},
   "source": [
    "The \"padding\" configuration option is used to request extra space around the inside of the widget; this way if you're putting other widgets inside the frame, there will be a bit of a margin all the way around. A single number specifies the same padding all the way around, a list of two numbers lets you specify the horizontal then the vertical padding, and a list of four numbers lets you specify the left, top, right and bottom padding, in that order.\n",
    "```python\n",
    "frame['padding'] = (5,10)\n",
    "```"
   ]
  },
  {
   "cell_type": "markdown",
   "metadata": {},
   "source": [
    "## Borders"
   ]
  },
  {
   "cell_type": "markdown",
   "metadata": {},
   "source": [
    "You can display a border around the frame widget; you see this a lot where you might have a part of the user interface looking \"sunken\" or \"raised\" in relation to its surroundings. To do this, you need to set the \"borderwidth\" configuration option (which defaults to 0, so no border), as well as the \"relief\" option, which specifies the visual appearance of the border: \"flat\" (default), \"raised\", \"sunken\", \"solid\", \"ridge\", or \"groove\".\n",
    "```python\n",
    "frame['borderwidth'] = 2\n",
    "frame['relief'] = 'sunken'\n",
    "```"
   ]
  },
  {
   "cell_type": "markdown",
   "metadata": {},
   "source": [
    "## Changing Styles"
   ]
  },
  {
   "cell_type": "markdown",
   "metadata": {},
   "source": [
    "There is also a \"style\" configuration option, which is common to all of the themed widgets, which can let you control just about any aspect of their appearance or behavior. This is a bit more advanced, so we won't go into it right now.\n",
    "\n",
    "Styles mark a sharp departure from the way most aspects of a widget's visual appearance are changed in the \"classic\" Tk widgets. While in classic Tk you could provide a wide range of options to finely control every aspect of behavior (foreground color, background color, font, highlight thickness, selected foreground color, padding, etc.), in the new themed widgets these changes are done by changing styles, not adding options to each widget.\n",
    " \n",
    "As such, many of the options you may be familiar with in certain widgets are not present in their themed version. Given that overuse of such options was a key factor undermining the appearance of Tk applications, especially when moved across platforms, transitioning to themed widgets provides an opportune time to review and refine if and how such appearance changes are made."
   ]
  },
  {
   "cell_type": "code",
   "execution_count": 15,
   "metadata": {},
   "outputs": [],
   "source": [
    "from tkinter import *\n",
    "from tkinter import ttk\n",
    "\n",
    "root = Tk()\n",
    "root.title(\"Frame\")\n",
    "# STANDARD OPTIONS\n",
    "# class, cursor, style, takefocus\n",
    "# WIDGET-SPECIFIC OPTIONS\n",
    "# borderwidth, relief, padding, width, height\n",
    "frame = ttk.Frame(root)\n",
    "frame['width'] = 200       # frame的宽度\n",
    "frame['height'] = 100      # frame的高度\n",
    "frame['padding'] = (3,3)   # 填充\n",
    "frame['borderwidth'] = 5   # 边框宽度\n",
    "frame['relief'] = 'sunken' # 边框风格\n",
    "frame.grid(column=0, row=0, sticky=(N, W, E, S))\n",
    "\n",
    "frame2 = ttk.Frame(root)\n",
    "frame2['width'] = 200\n",
    "frame2['height'] = 100\n",
    "frame2['padding'] = (5,5)\n",
    "frame2['borderwidth'] = 1\n",
    "frame2['relief'] = 'sunken'\n",
    "frame2.grid(column=1, row=1, sticky=(N, W, E, S))\n",
    "\n",
    "root.mainloop()"
   ]
  },
  {
   "cell_type": "markdown",
   "metadata": {},
   "source": [
    "------------"
   ]
  },
  {
   "cell_type": "markdown",
   "metadata": {},
   "source": [
    "# Label"
   ]
  },
  {
   "cell_type": "markdown",
   "metadata": {},
   "source": [
    "A label is a widget that displays text or images, typically that the user will just view but not otherwise interact with. Labels are used for such things as identifying controls or other parts of the user interface, providing textual feedback or results, etc."
   ]
  },
  {
   "cell_type": "markdown",
   "metadata": {},
   "source": [
    "![w_label_all](images/w_label_all.png)"
   ]
  },
  {
   "cell_type": "markdown",
   "metadata": {},
   "source": [
    "Labels are created using the ttk.Label function, and typically their contents are set up at the same time:\n",
    "```python\n",
    "label = ttk.Label(parent, text='Full name:')\n",
    "```\n",
    "Like frames, labels can take several different configuration options which can alter how they are displayed.\n",
    "\n"
   ]
  },
  {
   "cell_type": "markdown",
   "metadata": {},
   "source": [
    "## Displaying Text"
   ]
  },
  {
   "cell_type": "markdown",
   "metadata": {},
   "source": [
    "The \"text\" configuration option shown above when creating the label is the most commonly used, particularly when the label is purely decorative or explanatory. You can of course change this option at any time, not only when first creating the label.\n",
    "\n",
    "You can also have the widget monitor a variable in your script, so that anytime the variable changes, the label will display the new value of the variable; this is done with the \"textvariable\" option:"
   ]
  },
  {
   "cell_type": "markdown",
   "metadata": {},
   "source": [
    "```python\n",
    "resultsContents = StringVar()\n",
    "label['textvariable'] = resultsContents\n",
    "resultsContents.set('New value to display')\n",
    "```\n",
    "Tkinter only allows you to attach to an instance of the \"StringVar\" class, which contains all the logic to watch for changes, communicate them back and forth between the variable and Tk, and so on. You need to read or write the current value using the \"get\" and \"set\" methods."
   ]
  },
  {
   "cell_type": "markdown",
   "metadata": {},
   "source": [
    "## Displaying Images"
   ]
  },
  {
   "cell_type": "markdown",
   "metadata": {},
   "source": [
    "You can also display an image in a label instead of text; if you just want an image sitting in your interface, this is normally the way to do it. We'll go into images in more detail in a later chapter, but for now, let's assume you want to display a GIF image that is sitting in a file on disk. This is a two-step process, first creating an image \"object\", and then telling the label to use that object via its \"image\" configuration option:"
   ]
  },
  {
   "cell_type": "markdown",
   "metadata": {},
   "source": [
    "```python\n",
    "image = PhotoImage(file='myimage.gif')\n",
    "label['image'] = image\n",
    "```\n",
    "You can use both an image and text, as you'll often see in toolbar buttons, via the \"compound\" configuration option. The default value is \"none\", meaning display only the image if present, otherwise the text specified by the \"text\" or \"textvariable\" options. Other options are \"text\" (text only), \"image\" (image only), \"center\" (text in center of image), \"top\" (image above text), \"left\", \"bottom\", and \"right\"."
   ]
  },
  {
   "cell_type": "markdown",
   "metadata": {},
   "source": [
    "## Layout"
   ]
  },
  {
   "cell_type": "markdown",
   "metadata": {},
   "source": [
    "While the overall layout of the label (i.e. where it is positioned within the user interface, and how large it is) is determined by the geometry manager, several options can help you control how the label will be displayed within the box the geometry manager gives it.\n",
    "\n",
    "If the box given to the label is larger than the label requires for its contents, you can use the \"anchor\" option to specify what edge or corner the label should be attached to, which would leave any empty space in the opposite edge or corner. Possible values are specified as compass directions: \"n\" (north, or top edge), \"ne\", (north-east, or top right corner), \"e\", \"se\", \"s\", \"sw\", \"w\", \"nw\" or \"center\".\n",
    "\n",
    "Labels can be used to display more than one line of text. This can be done by embedding carriage returns (\"\\n\") in the \"text\"/\"textvariable\" string. You can also let the label wrap the string into multiple lines that are no longer than a given length (with the size specified as pixels, centimeters, etc.), by using the \"wraplength\" option.\n",
    "\n",
    "Multi-line labels are a replacement for the older \"message\" widgets in classic Tk.\n",
    "\n",
    "You can also control how the text is justified, by using the \"justify\" option, which can have the values \"left\", \"center\" or \"right\". If you only have a single line of text, this is pretty much the same as just using the \"anchor\" option, but is more useful with multiple lines of text."
   ]
  },
  {
   "cell_type": "markdown",
   "metadata": {},
   "source": [
    "## Fonts, Colors and More"
   ]
  },
  {
   "cell_type": "markdown",
   "metadata": {},
   "source": [
    "Like with frames, normally you don't want to touch things like the font and colors directly, but if you need to change them (e.g. to create a special type of label), this would be done via creating a new style, which is then used by the widget with the \"style\" option.\n",
    "\n",
    "Unlike most themed widgets, the label widget also provides explicit widget-specific options as an alternative; again, you'd use this only in special one-off cases, when using a style didn't necessarily make sense.\n",
    "\n",
    "You can specify the font used to display the label's text using the \"font\" configuration option. While we'll go into fonts in more detail in a later chapter, here are the names of some predefined fonts you can use:\n",
    "```\n",
    "TkDefaultFont\tThe default for all GUI items not otherwise specified.\n",
    "TkTextFont\tUsed for entry widgets, listboxes, etc.\n",
    "TkFixedFont\tA standard fixed-width font.\n",
    "TkMenuFont\tThe font used for menu items.\n",
    "TkHeadingFont\tA font for column headings in lists and tables.\n",
    "TkCaptionFont\tA font for window and dialog caption bars.\n",
    "TkSmallCaptionFont\tA smaller caption font for subwindows or tool dialogs.\n",
    "TkIconFont\tA font for icon captions.\n",
    "TkTooltipFont\tA font for tooltips.\n",
    "```\n",
    "Because the choice of fonts is so platform specific, be careful of hardcoding them (font families, sizes, etc.); this is something else you'll see in a lot of older Tk programs that can make them look ugly.\n",
    "\n",
    "The foreground (text) and background color can also be changed via the \"foreground\" and \"background\" options. Colors are covered in detail later, but you can specify these as either color names (e.g. \"red\") or hex RGB codes (e.g. \"#ff340a\").\n",
    "\n",
    "Labels also accept the \"relief\" option that was discussed for frames."
   ]
  },
  {
   "cell_type": "code",
   "execution_count": 3,
   "metadata": {},
   "outputs": [],
   "source": [
    "from tkinter import *\n",
    "from tkinter import ttk\n",
    "\n",
    "root = Tk()\n",
    "root.title(\"Frame\")\n",
    "frame = ttk.Frame(root)\n",
    "frame['width'] = 200       # frame的宽度\n",
    "frame['height'] = 100      # frame的高度\n",
    "frame['padding'] = (30,30)   # 填充\n",
    "frame['borderwidth'] = 5   # 边框宽度\n",
    "frame['relief'] = 'sunken' # 边框风格\n",
    "frame.grid(column=0, row=0, sticky=(N, W, E, S))\n",
    "\n",
    "label = ttk.Label(frame, text='Full name:')\n",
    "label['anchor'] = 'e'\n",
    "label['compound'] = 'bottom'\n",
    "resultsContents = StringVar()\n",
    "label['textvariable'] = resultsContents\n",
    "resultsContents.set('New value to display')\n",
    "image = PhotoImage(file='images/hello_world.png')\n",
    "label['image'] = image\n",
    "\n",
    "label.grid(column=1, row=2, sticky=E)\n",
    "\n",
    "root.mainloop()"
   ]
  },
  {
   "cell_type": "markdown",
   "metadata": {},
   "source": [
    "# Button"
   ]
  },
  {
   "cell_type": "markdown",
   "metadata": {},
   "source": [
    "A button, unlike a frame or label, is very much designed for the user to interact with, and in particular, press to perform some action. Like labels, they can display text or images, but also have a whole range of new options used to control their behavior."
   ]
  },
  {
   "cell_type": "markdown",
   "metadata": {},
   "source": [
    "![w_button_all.png](images/w_button_all.png)"
   ]
  },
  {
   "cell_type": "markdown",
   "metadata": {},
   "source": [
    "Buttons are created using the ttk.Button function, and typically their contents and command callback are set up at the same time:\n",
    "```python\n",
    "button = ttk.Button(parent, text='Okay', command=submitForm)\n",
    "```\n",
    "As with other widgets, buttons can take several different configuration options which can alter their appearance and behavior."
   ]
  },
  {
   "cell_type": "markdown",
   "metadata": {},
   "source": [
    "## Text or Image"
   ]
  },
  {
   "cell_type": "markdown",
   "metadata": {},
   "source": [
    "Buttons take the same \"text\", \"textvariable\" (rarely used), \"image\" and \"compound\" configuration options as labels, which control whether the button displays text and/or an image.\n",
    "\n",
    "Buttons have a \"default\" option, which tells Tk that the button is the default button in the user interface (i.e. the one that will be invoked if the user hits Enter or Return). Some platforms and styles will draw this with a different border or highlight. Set the option to \"active\" to specify this is a default button; the regular state is \"normal.\" Note that setting this option doesn't create an event binding that will make the Return or Enter key activate the button; that you have to do yourself."
   ]
  },
  {
   "cell_type": "markdown",
   "metadata": {},
   "source": [
    "## The Command Callback"
   ]
  },
  {
   "cell_type": "markdown",
   "metadata": {},
   "source": [
    "The \"command\" option is used to provide an interface between the button's action and your application. When the user clicks the button, the script provided by the option is evaluated by the interpreter.\n",
    "\n",
    "You can also ask the button to invoke the command callback from your application. This is useful so that you don't need to repeat the command to be invoked several times in your program; so you know if you change the option on the button, you don't need to change it elsewhere too.\n",
    "\n",
    "```python\n",
    "button.invoke()\n",
    "```"
   ]
  },
  {
   "cell_type": "markdown",
   "metadata": {},
   "source": [
    "## Button State"
   ]
  },
  {
   "cell_type": "markdown",
   "metadata": {},
   "source": [
    "Buttons and many other widgets can be in a normal state where they can be pressed, but can also be put into a disabled state, where the button is greyed out and cannot be pressed. This is done when the button's command is not applicable at a given point in time.\n",
    "\n",
    "All themed widgets carry with them an internal state, which is a series of binary flags. You can set or clear these different flags, as well as check the current setting using the \"state\" and \"instate\" methods. Buttons make use of the \"disabled\" flag to control whether or not the user can press the button. For example:"
   ]
  },
  {
   "cell_type": "markdown",
   "metadata": {},
   "source": [
    "```python\n",
    "button.state(['disabled'])            # set the disabled flag, disabling the button\n",
    "button.state(['!disabled'])           # clear the disabled flag\n",
    "button.instate(['disabled'])          # return true if the button is disabled, else false\n",
    "button.instate(['!disabled'])         # return true if the button is not disabled, else false\n",
    "button.instate(['!disabled'], cmd)    # execute 'cmd' if the button is not disabled\n",
    "```\n",
    "Note that these commands accept an array of state flags as their argument."
   ]
  },
  {
   "cell_type": "markdown",
   "metadata": {},
   "source": [
    "Using \"state\"/\"instate\" replaces the older \"state\" configuration option (which took the values \"normal\" or \"disabled\"). This configuration option is actually still available in Tk 8.5, but \"write-only\", which means that changing the option calls the appropriate \"state\" command, but other changes made using the \"state\" command are not reflected in the option. This is only for compatibility reasons; you should change your code to use the new state vector.\n",
    "\n",
    "The full list of state flags available to themed widgets is: \"active\", \"disabled\", \"focus\", \"pressed\", \"selected\", \"background\", \"readonly\", \"alternate\", and \"invalid\". These are described in the themed widget reference; not all states are meaningful for all widgets. It's also possible to get fancy in the \"state\" and \"instate\" methods and specify multiple state flags at the same time."
   ]
  },
  {
   "cell_type": "code",
   "execution_count": 6,
   "metadata": {},
   "outputs": [],
   "source": [
    "from tkinter import *\n",
    "from tkinter import ttk\n",
    "import random\n",
    "\n",
    "root = Tk()\n",
    "root.title(\"Frame\")\n",
    "frame = ttk.Frame(root)\n",
    "frame['width'] = 200       # frame的宽度\n",
    "frame['height'] = 100      # frame的高度\n",
    "frame['padding'] = (30,30)   # 填充\n",
    "frame['borderwidth'] = 5   # 边框宽度\n",
    "frame['relief'] = 'sunken' # 边框风格\n",
    "frame.grid(column=0, row=0, sticky=(N, W, E, S))\n",
    "\n",
    "resultsContents = StringVar()   # 用于显示的字符串\n",
    "\n",
    "def clicked():\n",
    "    \"\"\"生成随机数，并显示到按钮上。\n",
    "    当随机数为0，按钮设为不可用；随机数不为0，显示随机数\n",
    "    \"\"\"\n",
    "    rand_int = random.randint(0, 9)\n",
    "    if rand_int == 0:\n",
    "        button.state(['disabled'])\n",
    "        resultsContents.set('disabled')\n",
    "    else:\n",
    "        resultsContents.set('>>> {} <<<'.format(rand_int))\n",
    "\n",
    "button = ttk.Button(frame, text='Full name:')\n",
    "button['command'] = clicked    # 按钮点击后执行的函数\n",
    "button['textvariable'] = resultsContents  # 将字符串绑定到按钮\n",
    "resultsContents.set('random by click')    # 设置初始化字符串\n",
    "button.grid(column=0, row=0, sticky=E)\n",
    "\n",
    "root.mainloop()"
   ]
  },
  {
   "cell_type": "markdown",
   "metadata": {},
   "source": [
    "## Checkbutton"
   ]
  },
  {
   "cell_type": "markdown",
   "metadata": {},
   "source": [
    "A checkbutton is like a regular button, except that not only can the user press it, which will invoke a command callback, but it also holds a binary value of some kind (i.e. a toggle). Checkbuttons are used all the time when a user is asked to choose between, e.g. two different values for an option."
   ]
  },
  {
   "cell_type": "markdown",
   "metadata": {},
   "source": [
    "![w_checkbutton_all.png](images/w_checkbutton_all.png)"
   ]
  },
  {
   "cell_type": "markdown",
   "metadata": {},
   "source": [
    "Checkbuttons are created using the ttk.Checkbutton function, and typically set up at the same time:\n",
    "```python\n",
    "measureSystem = StringVar()\n",
    "check = ttk.Checkbutton(parent, text='Use Metric', \n",
    "\t    command=metricChanged, variable=measureSystem,\n",
    "\t    onvalue='metric', offvalue='imperial')\n",
    "```\n",
    "Checkbuttons use many of the same options as regular buttons, but add a few more. The \"text\", \"textvariable\", \"image\", and \"compound\" options control the display of the label (next to the checkbox itself), and the \"state\" and \"instate\" methods allow you to manipulate the \"disabled\" state flag to enable or disable the checkbutton. Similarly, the \"command\" option lets you specify a script to be called every time the user toggles the checkbutton, and the \"invoke\" method will also execute the same callback."
   ]
  },
  {
   "cell_type": "markdown",
   "metadata": {},
   "source": [
    "## Widget Value"
   ]
  },
  {
   "cell_type": "markdown",
   "metadata": {},
   "source": [
    "Unlike buttons, checkbuttons also hold a value. We've seen before how the \"textvariable\" option can be used to tie the label of a widget to a variable in your program; the \"variable\" option for checkbuttons behaves similarly, except it is used to read or change the current value of the widget, and updates whenever the widget is toggled. By default, checkbuttons use a value of \"1\" when the widget is checked, and \"0\" when not checked, but these can be changed to just about anything using the \"onvalue\" and \"offvalue\" options.\n",
    "\n",
    "What happens when the linked variable contains neither the on value or the off value (or even doesn't exist)? In that case, the checkbutton is put into a special \"tristate\" or indeterminate mode; you'll sometimes see this in user interfaces where the checkbox holds a single dash rather than being empty or holding a check mark. When in this state, the state flag \"alternate\" is set, so you can check for it with the \"instate\" method:"
   ]
  },
  {
   "cell_type": "markdown",
   "metadata": {},
   "source": [
    "```python\n",
    "check.instate(['alternate'])\n",
    "```\n",
    "Because the checkbutton won't automatically set (or create) the linked variable, your program needs to make sure it sets the variable to the appropriate starting value."
   ]
  },
  {
   "cell_type": "code",
   "execution_count": 2,
   "metadata": {},
   "outputs": [
    {
     "name": "stdout",
     "output_type": "stream",
     "text": [
      "metric\n",
      "metric\n",
      "imperial\n",
      "metric\n",
      "imperial\n",
      "imperial\n",
      "imperial\n"
     ]
    }
   ],
   "source": [
    "from tkinter import *\n",
    "from tkinter import ttk\n",
    "import random\n",
    "\n",
    "root = Tk()\n",
    "root.title(\"Frame\")\n",
    "frame = ttk.Frame(root)\n",
    "frame['width'] = 200       # frame的宽度\n",
    "frame['height'] = 100      # frame的高度\n",
    "frame['padding'] = (30,30)   # 填充\n",
    "frame['borderwidth'] = 5   # 边框宽度\n",
    "frame['relief'] = 'sunken' # 边框风格\n",
    "frame.grid(column=0, row=0, sticky=(N, W, E, S))\n",
    "\n",
    "resultsContents = StringVar()   # 用于显示的字符串\n",
    "measureSystem = StringVar()\n",
    "measureSystem.set(\"---\")\n",
    "\n",
    "def clicked():\n",
    "    \"\"\"生成随机数，并显示到按钮上。\n",
    "    当随机数为0，按钮设为不可用；随机数不为0，显示随机数\n",
    "    \"\"\"\n",
    "    checkbutton_on = checkbutton.instate(['alternate'])\n",
    "    if checkbutton_on:\n",
    "        rand_int = random.randint(1, 9)\n",
    "    else:\n",
    "        rand_int = random.randint(-9, 1)\n",
    "    resultsContents.set('>>> {} <<<'.format(rand_int))\n",
    "    print(measureSystem.get())\n",
    "\n",
    "checkbutton = ttk.Checkbutton(frame)\n",
    "checkbutton['text'] = 'create int'     # 没有选中时的值\n",
    "checkbutton['onvalue'] = 'metric'      # 选中后，将variable变为'onvalue'对应的值\n",
    "checkbutton['offvalue'] = 'imperial'   # 取消后，将variable变为'offvalue'对应的值\n",
    "checkbutton['variable'] = measureSystem  # 既没有选中，也没有取消， 为variable初始化的值\n",
    "checkbutton.grid(column=1, row=1, sticky=E)\n",
    "\n",
    "button = ttk.Button(frame, text='Full name:')\n",
    "button['command'] = clicked               # 按钮点击后执行的函数\n",
    "button['textvariable'] = resultsContents  # 将字符串绑定到按钮\n",
    "resultsContents.set('random by click')    # 设置初始化字符串\n",
    "button.grid(column=0, row=0, sticky=E)\n",
    "\n",
    "label = ttk.Label(frame, text='Full name:')\n",
    "label['textvariable'] = measureSystem\n",
    "label.grid(column=1, row=0, sticky=E)\n",
    "\n",
    "root.mainloop()"
   ]
  },
  {
   "cell_type": "markdown",
   "metadata": {},
   "source": [
    "# Radiobutton"
   ]
  },
  {
   "cell_type": "markdown",
   "metadata": {},
   "source": [
    "A radiobutton lets you choose between one of a number of mutually exclusive choices; unlike a checkbutton, it is not limited to just two choices. Radiobuttons are always used together in a set and are a good option when the number of choices is fairly small, e.g. 3-5."
   ]
  },
  {
   "cell_type": "markdown",
   "metadata": {},
   "source": [
    "![w_radiobutton_all.png](images/w_radiobutton_all.png)"
   ]
  },
  {
   "cell_type": "markdown",
   "metadata": {},
   "source": [
    "Radiobuttons are created using the ttk.Radiobutton function, and typically as a set:\n",
    "```python\n",
    "phone = StringVar()\n",
    "home = ttk.Radiobutton(parent, text='Home', variable=phone, value='home')\n",
    "office = ttk.Radiobutton(parent, text='Office', variable=phone, value='office')\n",
    "cell = ttk.Radiobutton(parent, text='Mobile', variable=phone, value='cell')\n",
    "```\n",
    "Radiobuttons share most of the same configuration options as checkbuttons. One exception is that the \"onvalue\" and \"offvalue\" options are replaced with a single \"value\" option. Each of the radiobuttons of the set will have the same linked variable, but a different value; when the variable has the given value, the radiobutton will be selected, otherwise unselected. When the linked variable does not exist, radiobuttons also display a \"tristate\" or indeterminate, which can be checked via the \"alternate\" state flag.\n",
    "\n"
   ]
  },
  {
   "cell_type": "code",
   "execution_count": 3,
   "metadata": {},
   "outputs": [],
   "source": [
    "from tkinter import *\n",
    "from tkinter import ttk\n",
    "import random\n",
    "\n",
    "root = Tk()\n",
    "root.title(\"Frame\")\n",
    "frame = ttk.Frame(root)\n",
    "frame['width'] = 200       # frame的宽度\n",
    "frame['height'] = 100      # frame的高度\n",
    "frame['padding'] = (30,30)   # 填充\n",
    "frame['borderwidth'] = 5   # 边框宽度\n",
    "frame['relief'] = 'sunken' # 边框风格\n",
    "frame.grid(column=0, row=0, sticky=(N, W, E, S))\n",
    "\n",
    "phone = StringVar()   # 用于显示的字符串\n",
    "phone.set(\"please select\")\n",
    "\n",
    "\n",
    "home = ttk.Radiobutton(frame, text='Home', variable=phone, value='home')\n",
    "home.grid(column=1, row=1, sticky=E)\n",
    "office = ttk.Radiobutton(frame, text='Office', variable=phone, value='office')\n",
    "office.grid(column=1, row=2, sticky=E)\n",
    "cell = ttk.Radiobutton(frame, text='Mobile', variable=phone, value='cell')\n",
    "cell.grid(column=1, row=3, sticky=E)\n",
    "\n",
    "label = ttk.Label(frame, text='Full name:')\n",
    "label['textvariable'] = phone\n",
    "label.grid(column=1, row=0, sticky=E)\n",
    "\n",
    "root.mainloop()"
   ]
  },
  {
   "cell_type": "markdown",
   "metadata": {},
   "source": [
    "# Entry"
   ]
  },
  {
   "cell_type": "markdown",
   "metadata": {},
   "source": [
    "An entry presents the user with a single line text field that they can use to type in a string value. These can be just about anything: their name, a city, a password, social security number, and so on."
   ]
  },
  {
   "cell_type": "markdown",
   "metadata": {},
   "source": [
    "![w_entry_all.png](images/w_entry_all.png)"
   ]
  },
  {
   "cell_type": "markdown",
   "metadata": {},
   "source": [
    "Entries are created using the ttk.Entry function:\n",
    "```python\n",
    "username = StringVar()\n",
    "name = ttk.Entry(parent, textvariable=username)\n",
    "```\n",
    "A \"width\" configuration option may be specified to provide the number of characters wide the entry should be, allowing you for example to provide a shorter entry for a zip or postal code."
   ]
  },
  {
   "cell_type": "markdown",
   "metadata": {},
   "source": [
    "We've seen how checkbutton and radiobutton widgets have a value associated with them. Entries do as well, and that value is normally accessed through a linked variable specified by the \"textvariable\" configuration option. Note that unlike the various buttons, entries don't have a separate text or image beside them to identify them; use a separate label widget for that.\n",
    "\n",
    "You can also get or change the value of the entry widget directly, without going through the linked variable. The \"get\" method returns the current value, and the \"delete\" and \"insert\" methods let you change the contents, e.g."
   ]
  },
  {
   "cell_type": "markdown",
   "metadata": {},
   "source": [
    "```python\n",
    "print('current value is %s' % name.get())\n",
    "name.delete(0,'end')          # delete between two indices, 0-based\n",
    "name.insert(0, 'your name')   # insert new text at a given index\n",
    "```\n",
    "Note that entry widgets do not have a \"command\" option which will invoke a callback whenever the entry is changed. To watch for changes, you should watch for changes on the linked variable. See also \"Validation\", below."
   ]
  },
  {
   "cell_type": "markdown",
   "metadata": {},
   "source": [
    "## Passwords"
   ]
  },
  {
   "cell_type": "markdown",
   "metadata": {},
   "source": [
    "Entries can be used for passwords, where the actual contents are displayed as a bullet or other symbol. To do this, set the \"show\" configuration option to the character you'd like to display, e.g. \"*\"."
   ]
  },
  {
   "cell_type": "markdown",
   "metadata": {},
   "source": [
    "## Widget States"
   ]
  },
  {
   "cell_type": "markdown",
   "metadata": {},
   "source": [
    "Like the various buttons, entries can also be put into a disabled state via the \"state\" command (and queried with \"instate\"). Entries can also use the state flag \"readonly\"; if set, users cannot change the entry, though they can still select the text in it (and copy it to the clipboard). There is also an \"invalid\" state, set if the entry widget fails validation, which leads us to...\n"
   ]
  },
  {
   "cell_type": "markdown",
   "metadata": {},
   "source": [
    "## Validation"
   ]
  },
  {
   "cell_type": "markdown",
   "metadata": {},
   "source": [
    "validate (controls overall validation behavior) - none (default), key (on each keystroke, runs before - prevalidation), focus/focusin/focusout (runs after.. revalidation), all\n",
    "```\n",
    "* validatecommand script (script must return 1 or 0)\n",
    "* invalidcommand script (runs when validate command returns 0)\n",
    "- various substitutions in scripts.. most useful %P (new value of entry), %s (value of entry prior to editing)\n",
    "- the callbacks can also modify the entry using insert/delete, or modify -textvariable, which means the in progress edit is rejected in any case (since it would overwrite what we just set)\n",
    "* .e validate to force validation now\n",
    "```"
   ]
  },
  {
   "cell_type": "code",
   "execution_count": 4,
   "metadata": {},
   "outputs": [
    {
     "name": "stdout",
     "output_type": "stream",
     "text": [
      "current value is 222\n",
      "current value is 222\n",
      "current value is your name\n",
      "current value is your name\n"
     ]
    }
   ],
   "source": [
    "from tkinter import *\n",
    "from tkinter import ttk\n",
    "import random\n",
    "\n",
    "root = Tk()\n",
    "root.title(\"Frame\")\n",
    "frame = ttk.Frame(root)\n",
    "frame['width'] = 200       # frame的宽度\n",
    "frame['height'] = 100      # frame的高度\n",
    "frame['padding'] = (30,30)   # 填充\n",
    "frame['borderwidth'] = 5   # 边框宽度\n",
    "frame['relief'] = 'sunken' # 边框风格\n",
    "frame.grid(column=0, row=0, sticky=(N, W, E, S))\n",
    "\n",
    "username = StringVar()\n",
    "name = ttk.Entry(frame, textvariable=username)\n",
    "name.grid(column=0, row=1, sticky=(N, W, E, S))\n",
    "\n",
    "\n",
    "def print_name():\n",
    "    print('current value is %s' % name.get())\n",
    "\n",
    "def end():\n",
    "    name.delete(0, 'end')          # delete between two indices, 0-based\n",
    "    name.insert(0, 'your name')   # insert new text at a given index\n",
    "\n",
    "button = ttk.Button(frame)\n",
    "button['text'] = 'print name'\n",
    "button['command'] = print_name\n",
    "button.grid(column=0, row=2, sticky=(N, W, E, S))\n",
    "\n",
    "button_end = ttk.Button(frame)\n",
    "button_end['text'] = 'end'\n",
    "button_end['command'] = end\n",
    "button_end.grid(column=0, row=3, sticky=(N, W, E, S))\n",
    "\n",
    "root.mainloop()"
   ]
  },
  {
   "cell_type": "markdown",
   "metadata": {},
   "source": [
    "# Combobox"
   ]
  },
  {
   "cell_type": "markdown",
   "metadata": {},
   "source": [
    "A combobox combines an entry with a list of choices available to the user. This lets them either choose from a set of values you've provided (e.g. typical settings), but also put in their own value (e.g. for less common cases you don't want to include in the list)."
   ]
  },
  {
   "cell_type": "markdown",
   "metadata": {},
   "source": [
    "![w_combobox_all.png](images/w_combobox_all.png)"
   ]
  },
  {
   "cell_type": "markdown",
   "metadata": {},
   "source": [
    "Comboboxes are created using the ttk.Combobox function:\n",
    "```python\n",
    "countryvar = StringVar()\n",
    "country = ttk.Combobox(parent, textvariable=countryvar)\n",
    "```\n",
    "Like entries, the \"textvariable\" option links a variable in your program to the current value of the combobox. As with other widgets, you should initialize the linked variable in your own code. You can also get the current value using the \"get\" method, and change the current value using the \"set\" method (which takes a single argument, the new value).\n",
    "\n",
    "A combobox will generate a \"<ComboboxSelected>\" virtual event that you can bind to whenever its value changes.\n",
    "```python\n",
    "country.bind('<<ComboboxSelected>>', function)\n",
    "```"
   ]
  },
  {
   "cell_type": "markdown",
   "metadata": {},
   "source": [
    "## Predefined Values"
   ]
  },
  {
   "cell_type": "markdown",
   "metadata": {},
   "source": [
    "You can provide a list of values the user can choose from using the \"values\" configuration option:\n",
    "```python\n",
    "country['values'] = ('USA', 'Canada', 'Australia')\n",
    "```"
   ]
  },
  {
   "cell_type": "markdown",
   "metadata": {},
   "source": [
    "If set, the \"readonly\" state flag will restrict the user to making choices only from the list of predefined values, but not be able to enter their own (though if the current value of the combobox is not in the list, it won't be changed).\n",
    "\n",
    "If you're using the combobox in \"readonly\" mode, I'd recommend that when the value changes (i.e. on a ComboboxSelected event), that you call the \"selection clear\" method. It looks a bit odd visually without doing that.\n",
    "\n",
    "As a complement to the \"get\" and \"set\" methods, you can also use the \"current\" method to determine which item in the predefined values list is selected (call \"current\" with no arguments, it will return a 0-based index into the list, or -1 if the current value is not in the list), or select one of the items in the list (call \"current\" with a single 0-based index argument).\n",
    "\n",
    "Want to associate some other value with each item in the list, so that your program can refer to some actual meaningful value, but it gets displayed in the combobox as something else? You'll want to have a look at the section entitled \"Keeping Extra Item Data\" when we get to the discussion of listboxes in a couple of chapters from now."
   ]
  },
  {
   "cell_type": "code",
   "execution_count": 5,
   "metadata": {},
   "outputs": [
    {
     "name": "stdout",
     "output_type": "stream",
     "text": [
      "current <VirtualEvent event x=0 y=0> is USA\n",
      "current <VirtualEvent event x=0 y=0> is Canada\n",
      "current <VirtualEvent event x=0 y=0> is Australia\n"
     ]
    }
   ],
   "source": [
    "from tkinter import *\n",
    "from tkinter import ttk\n",
    "import random\n",
    "\n",
    "root = Tk()\n",
    "root.title(\"Frame\")\n",
    "frame = ttk.Frame(root)\n",
    "frame['width'] = 200       # frame的宽度\n",
    "frame['height'] = 100      # frame的高度\n",
    "frame['padding'] = (30,30)   # 填充\n",
    "frame['borderwidth'] = 5   # 边框宽度\n",
    "frame['relief'] = 'sunken' # 边框风格\n",
    "frame.grid(column=0, row=0, sticky=(N, W, E, S))\n",
    "\n",
    "def print_country(value):\n",
    "    print('current %s is %s' % (value, country.get()))\n",
    "\n",
    "countryvar = StringVar()\n",
    "country = ttk.Combobox(frame, textvariable=countryvar)\n",
    "country.bind('<<ComboboxSelected>>', print_country)\n",
    "country['values'] = ('USA', 'Canada', 'Australia')\n",
    "country.grid(column=0, row=1, sticky=(N, W, E, S))\n",
    "\n",
    "\n",
    "root.mainloop()"
   ]
  },
  {
   "cell_type": "markdown",
   "metadata": {},
   "source": []
  }
 ],
 "metadata": {
  "kernelspec": {
   "display_name": "Python 3",
   "language": "python",
   "name": "python3"
  },
  "language_info": {
   "codemirror_mode": {
    "name": "ipython",
    "version": 3
   },
   "file_extension": ".py",
   "mimetype": "text/x-python",
   "name": "python",
   "nbconvert_exporter": "python",
   "pygments_lexer": "ipython3",
   "version": "3.8.3"
  }
 },
 "nbformat": 4,
 "nbformat_minor": 4
}

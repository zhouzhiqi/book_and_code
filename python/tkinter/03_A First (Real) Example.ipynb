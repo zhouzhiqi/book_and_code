{
 "cells": [
  {
   "cell_type": "markdown",
   "metadata": {},
   "source": [
    "# A First (Real) Example"
   ]
  },
  {
   "cell_type": "markdown",
   "metadata": {},
   "source": [
    "With that out of the way, let's try a slightly more useful example, which will give you an initial feel for what the code behind a Tk program looks like."
   ]
  },
  {
   "cell_type": "markdown",
   "metadata": {},
   "source": [
    "# Design"
   ]
  },
  {
   "cell_type": "markdown",
   "metadata": {},
   "source": [
    "The example we'll use is a simple GUI tool that will convert a number of feet to the equivalent number of meters. If we were to sketch this out, it might look something like this:"
   ]
  },
  {
   "cell_type": "markdown",
   "metadata": {},
   "source": [
    "![calcsketch](images/calcsketch.jpg)\n",
    "A sketch of our feet to meters conversion program."
   ]
  },
  {
   "cell_type": "markdown",
   "metadata": {},
   "source": [
    "So it looks like we have a short text entry widget that will let us type in the number of feet, and a 'Calculate' button that will get the value out of that entry, perform the calculation, and then put the resulting number of meters on the screen just below where the entry is. We've also got three static labels (\"feet\", \"is equivalent to\", and \"meters\") which help our user figure out how to use the interface.\n",
    "\n",
    "In terms of layout, things seem to naturally divide into three columns and three rows:"
   ]
  },
  {
   "cell_type": "markdown",
   "metadata": {},
   "source": [
    "![calcgrid](images/calcgrid.jpg)\n",
    "The layout of our user interface, which follows a 3 x 3 grid."
   ]
  },
  {
   "cell_type": "markdown",
   "metadata": {},
   "source": [
    "# Code"
   ]
  },
  {
   "cell_type": "code",
   "execution_count": 1,
   "metadata": {},
   "outputs": [],
   "source": [
    "from tkinter import *\n",
    "from tkinter import ttk\n",
    "\n",
    "def calculate(*args):\n",
    "    try:\n",
    "        value = float(feet.get())\n",
    "        meters.set(int(0.3048 * value * 10000.0 + 0.5)/10000.0)\n",
    "    except ValueError:\n",
    "        pass\n",
    "\n",
    "root = Tk()\n",
    "root.title(\"Feet to Meters\")\n",
    "\n",
    "mainframe = ttk.Frame(root, padding=\"3 3 12 12\")\n",
    "mainframe.grid(column=0, row=0, sticky=(N, W, E, S))\n",
    "root.columnconfigure(0, weight=1)\n",
    "root.rowconfigure(0, weight=1)\n",
    "\n",
    "feet = StringVar()\n",
    "meters = StringVar()\n",
    "\n",
    "feet_entry = ttk.Entry(mainframe, width=7, textvariable=feet)\n",
    "feet_entry.grid(column=2, row=1, sticky=(W, E))\n",
    "\n",
    "ttk.Label(mainframe, textvariable=meters).grid(column=2, row=2, sticky=(W, E))\n",
    "ttk.Button(mainframe, text=\"Calculate\", command=calculate).grid(column=3, row=3, sticky=W)\n",
    "\n",
    "ttk.Label(mainframe, text=\"feet\").grid(column=3, row=1, sticky=W)\n",
    "ttk.Label(mainframe, text=\"is equivalent to\").grid(column=1, row=2, sticky=E)\n",
    "ttk.Label(mainframe, text=\"meters\").grid(column=3, row=2, sticky=W)\n",
    "\n",
    "for child in mainframe.winfo_children(): child.grid_configure(padx=5, pady=5)\n",
    "\n",
    "feet_entry.focus()\n",
    "root.bind('<Return>', calculate)\n",
    "\n",
    "root.mainloop()"
   ]
  },
  {
   "cell_type": "markdown",
   "metadata": {},
   "source": [
    "![feet_to_meters](images/feet_to_meters.png)"
   ]
  },
  {
   "cell_type": "markdown",
   "metadata": {},
   "source": [
    "# A Note on Coding Style"
   ]
  },
  {
   "cell_type": "markdown",
   "metadata": {},
   "source": [
    "Each of the languages included in this tutorial has a variety of coding styles and conventions available to choose from, which help determine conventions for variable and function naming, procedural, functional or object-oriented styles, and so on.\n",
    "\n",
    "Because the focus on this tutorial is Tk, this tutorial will keep things as simple as possible, generally using a very direct coding style, rather than wrapping up most of our code in procedures, modules, objects, classes and so on. As much as possible, you'll also see the same names for objects, variables, etc. used across the languages for each example."
   ]
  },
  {
   "cell_type": "markdown",
   "metadata": {},
   "source": [
    "# Step-by-Step Walkthrough"
   ]
  },
  {
   "cell_type": "markdown",
   "metadata": {},
   "source": [
    "Let's take a closer look at that code, piece by piece. For now, all we're trying to do is get a basic understanding of the types of things we need to do to create a user interface in Tk, and roughly what those things look like. We'll go into details later."
   ]
  },
  {
   "cell_type": "markdown",
   "metadata": {},
   "source": [
    "```python\n",
    "from tkinter import *\n",
    "from tkinter import ttk\n",
    "```\n",
    "\n",
    "These two lines tell Python that our program needs two modules. The first, \"tkinter\", is the standard binding to Tk, which when loaded also causes the existing Tk library on your system to be loaded. The second, \"ttk\", is Python's binding to the newer \"themed widgets\" that were added to Tk in 8.5.\n",
    "\n",
    "Notice that we've imported everything from the tkinter module, so that we can call tkinter functions etc. without prefixing them, which is standard Tkinter practice. However, because we've imported just \"ttk\" itself, that means we'll need to prefix anything inside that module. For example, calling \"Entry(...)\" would invoke the function inside the tkinter module, while we'd need \"ttk.Entry(...)\" to invoke the function inside ttk. As you'll see, several functions are defined in both modules, and sometimes you will need both, depending on the context. Making the ttk calls explicit facilitates this, and will be the style used in this tutorial.\n",
    "\n",
    "One of the first things you'll find if you're migrating new code over, is that the name of the Tkinter module is now lowercase, i.e. \"tkinter\", rather than \"Tkinter\". Ttk was also it's own module, not a sub-module of Tkinter. This was changed as of Python 3.0. Remember, this tutorial uses Python 3 exclusively, not Python 2."
   ]
  },
  {
   "cell_type": "markdown",
   "metadata": {},
   "source": [
    "```python\n",
    "root = Tk()\n",
    "root.title(\"Feet to Meters\")\n",
    "mainframe = ttk.Frame(root, padding=\"3 3 12 12\")\n",
    "mainframe.grid(column=0, row=0, sticky=(N, W, E, S))\n",
    "root.columnconfigure(0, weight=1)\n",
    "root.rowconfigure(0, weight=1)\t\n",
    "```\n",
    "Yes, the \"calculate\" function appeared before this. We'll describe it down below, but need to include it near the start because we reference it in other parts of the program.\n",
    "\n",
    "Next, the above lines set up the main window, giving it the title \"Feet to Meters\". Next, we create a frame widget, which will hold all the content of our user interface, and place that in our main window. The \"columnconfigure\"/\"rowconfigure\" bits just tell Tk that if the main window is resized, the frame should expand to take up the extra space."
   ]
  },
  {
   "cell_type": "markdown",
   "metadata": {},
   "source": [
    "```python\n",
    "feet = StringVar()\n",
    "meters = StringVar()\n",
    "feet_entry = ttk.Entry(mainframe, width=7, textvariable=feet)\n",
    "feet_entry.grid(column=2, row=1, sticky=(W, E))\n",
    "ttk.Label(mainframe, textvariable=meters).grid(column=2, row=2, sticky=(W, E))\n",
    "ttk.Button(mainframe, text=\"Calculate\", command=calculate).grid(column=3, row=3, sticky=W)\n",
    "```\n",
    "\n",
    "The preceding lines create the three main widgets in our program: the entry where we type the number of feet in, a label where we put the resulting number of meters, and the calculate button that we press to perform the calculation.\n",
    "\n",
    "For each of the three widgets, we need to do two things: create the widget itself, and then place it onscreen. All three widgets, which are 'children' of our content window are created as instances of one of Tk's themed widget classes. At the same time as we create them, we give them certain options, such as how wide the entry is, the text to put inside the Button, etc. The entry and label each are assigned a mysterious \"textvariable\"; we'll see what that does shortly.\n",
    "\n",
    "If the widgets are just created, they won't automatically show up on the screen, because Tk doesn't know how you want them to be placed relative to other widgets. That's what the \"grid\" part does. Remembering the layout grid for our application, we place each widget in the appropriate column (1, 2 or 3), and row (also 1, 2 or 3). The \"sticky\" option says how the widget would line up within the grid cell, using compass directions. So \"w\" (west) means anchor the widget to the left side of the cell, \"we\" (west-east) means anchor it to both the left and right sides, and so on."
   ]
  },
  {
   "cell_type": "markdown",
   "metadata": {},
   "source": [
    "```python\n",
    "ttk.Label(mainframe, text=\"feet\").grid(column=3, row=1, sticky=W)\n",
    "ttk.Label(mainframe, text=\"is equivalent to\").grid(column=1, row=2, sticky=E)\n",
    "ttk.Label(mainframe, text=\"meters\").grid(column=3, row=2, sticky=W)\n",
    "```\n",
    "The above three lines do exactly the same thing for the three static text labels in our user interface; create each one, and place it onscreen in the appropriate cell in the grid."
   ]
  },
  {
   "cell_type": "markdown",
   "metadata": {},
   "source": [
    "```python\n",
    "for child in mainframe.winfo_children(): child.grid_configure(padx=5, pady=5)\n",
    "feet_entry.focus()\n",
    "root.bind('<Return>', calculate)\n",
    "```\n",
    "The preceeding three lines help put some nice finishing touches on our user interface.\n",
    "\n",
    "The first line walks through all of the widgets that are children of our content frame, and adds a little bit of padding around each, so they aren't so scrunched together. We could have added these options to each \"grid\" call when we first put the widgets onscreen, but this is a nice shortcut.\n",
    "\n",
    "The second line tells Tk to put the focus on our entry widget. That way the cursor will start in that field, so the user doesn't have to click in it before starting to type.\n",
    "\n",
    "The third line tells Tk that if the user presses the Return key (Enter on Windows) anywhere within the root window, that it should call our calculate routine, the same as if the user pressed the Calculate button."
   ]
  },
  {
   "cell_type": "markdown",
   "metadata": {},
   "source": [
    "```python\n",
    "def calculate(*args):\n",
    "    try:\n",
    "        value = float(feet.get())\n",
    "        meters.set(int(0.3048 * value * 10000.0 + 0.5)/10000.0)\n",
    "    except ValueError:\n",
    "        pass\n",
    "```\n",
    "\n",
    "Here we define our calculate procedure, which is called either when the user presses the Calculate button, or hits the Return key. It performs the feet to meters calculation, taking the number of feet from our entry widget, and placing the result in our label widget.\n",
    "\n",
    "Say what? It doesn't look like we're doing anything with those widgets! Here's where the magic \"textvariable\" options we specified when creating the widgets come into play. We specified the global variable \"feet\" as the textvariable for the entry, which means that anytime the entry changes, Tk will automatically update the global variable feet. Similarly, if we explicitly change the value of a textvariable associated with a widget (as we're doing for \"meters\" which is attached to our label), the widget will automatically be updated with the current contents of the variable. Slick."
   ]
  },
  {
   "cell_type": "markdown",
   "metadata": {},
   "source": [
    "```python\n",
    "root.mainloop()\n",
    "```\n",
    "\n",
    "This final line tells Tk to enter its event loop, which is needed to make everything run."
   ]
  },
  {
   "cell_type": "markdown",
   "metadata": {},
   "source": []
  },
  {
   "cell_type": "markdown",
   "metadata": {},
   "source": []
  },
  {
   "cell_type": "markdown",
   "metadata": {},
   "source": []
  }
 ],
 "metadata": {
  "kernelspec": {
   "display_name": "Python 3",
   "language": "python",
   "name": "python3"
  },
  "language_info": {
   "codemirror_mode": {
    "name": "ipython",
    "version": 3
   },
   "file_extension": ".py",
   "mimetype": "text/x-python",
   "name": "python",
   "nbconvert_exporter": "python",
   "pygments_lexer": "ipython3",
   "version": "3.8.3"
  }
 },
 "nbformat": 4,
 "nbformat_minor": 4
}

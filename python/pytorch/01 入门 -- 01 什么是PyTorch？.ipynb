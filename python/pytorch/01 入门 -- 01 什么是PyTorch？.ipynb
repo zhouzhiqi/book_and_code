{
 "cells": [
  {
   "cell_type": "markdown",
   "metadata": {},
   "source": [
    "# 什么是PyTorch？"
   ]
  },
  {
   "cell_type": "markdown",
   "metadata": {},
   "source": [
    "原文： https://pytorch.org/tutorials/beginner/blitz/tensor_tutorial.html\n",
    "\n",
    "译者：bat67\n",
    "\n",
    "校验者：FontTian\n",
    "\n",
    "作者： Soumith Chintala"
   ]
  },
  {
   "cell_type": "markdown",
   "metadata": {},
   "source": [
    "PyTorch是一个基于python的科学计算包，主要针对两类人群：\n",
    "\n",
    "* 作为NumPy的替代品，可以利用GPU的性能进行计算\n",
    "* 作为一个高灵活性、速度快的深度学习平台"
   ]
  },
  {
   "cell_type": "markdown",
   "metadata": {},
   "source": [
    "## 张量\n",
    "Tensor(张量）类似于NumPy的ndarray，但还可以在GPU上使用来加速计算"
   ]
  },
  {
   "cell_type": "code",
   "execution_count": 1,
   "metadata": {},
   "outputs": [],
   "source": [
    "import torch"
   ]
  },
  {
   "cell_type": "code",
   "execution_count": 2,
   "metadata": {},
   "outputs": [
    {
     "name": "stdout",
     "output_type": "stream",
     "text": [
      "tensor([[-2.8887e-06,  4.5813e-41, -2.0362e+34],\n",
      "        [ 3.0880e-41,  0.0000e+00,  0.0000e+00],\n",
      "        [ 6.6216e-23,  3.6495e+03,  5.8438e+04],\n",
      "        [ 2.1271e-39,  4.9572e-11,  1.2098e-23],\n",
      "        [ 1.5414e-44,  9.2196e-41,  0.0000e+00]])\n"
     ]
    }
   ],
   "source": [
    "# 创建一个没有初始化的5*3矩阵：\n",
    "x = torch.empty(5, 3)\n",
    "print(x)"
   ]
  },
  {
   "cell_type": "code",
   "execution_count": 3,
   "metadata": {},
   "outputs": [
    {
     "name": "stdout",
     "output_type": "stream",
     "text": [
      "tensor([[0.8906, 0.3857, 0.1634],\n",
      "        [0.7938, 0.9190, 0.2267],\n",
      "        [0.1432, 0.3504, 0.4971],\n",
      "        [0.2134, 0.5991, 0.2985],\n",
      "        [0.3163, 0.9914, 0.4752]])\n"
     ]
    }
   ],
   "source": [
    "# 创建一个随机初始化矩阵：\n",
    "x = torch.rand(5, 3)\n",
    "print(x)"
   ]
  },
  {
   "cell_type": "code",
   "execution_count": 4,
   "metadata": {},
   "outputs": [
    {
     "name": "stdout",
     "output_type": "stream",
     "text": [
      "tensor([[0, 0, 0],\n",
      "        [0, 0, 0],\n",
      "        [0, 0, 0],\n",
      "        [0, 0, 0],\n",
      "        [0, 0, 0]])\n"
     ]
    }
   ],
   "source": [
    "# 构造一个填满0且数据类型为long的矩阵:\n",
    "x = torch.zeros(5, 3, dtype=torch.long)\n",
    "print(x)"
   ]
  },
  {
   "cell_type": "code",
   "execution_count": 5,
   "metadata": {},
   "outputs": [
    {
     "name": "stdout",
     "output_type": "stream",
     "text": [
      "tensor([5.5000, 3.0000])\n"
     ]
    }
   ],
   "source": [
    "# 直接从数据构造张量：\n",
    "x = torch.tensor([5.5, 3])\n",
    "print(x)"
   ]
  },
  {
   "cell_type": "code",
   "execution_count": 6,
   "metadata": {},
   "outputs": [
    {
     "name": "stdout",
     "output_type": "stream",
     "text": [
      "tensor([[1., 1., 1.],\n",
      "        [1., 1., 1.],\n",
      "        [1., 1., 1.],\n",
      "        [1., 1., 1.],\n",
      "        [1., 1., 1.]], dtype=torch.float64)\n",
      "tensor([[-0.7756,  0.3239,  1.0382],\n",
      "        [-0.5475,  0.1874,  0.3670],\n",
      "        [-0.6122, -0.9605,  0.5438],\n",
      "        [ 0.9105,  1.4218, -0.7027],\n",
      "        [-1.5001,  1.1933, -0.3516]])\n"
     ]
    }
   ],
   "source": [
    "# 或者根据已有的tensor建立新的tensor。\n",
    "# 除非用户提供新的值，否则这些方法将重用输入张量的属性，例如dtype等：\n",
    "x = x.new_ones(5, 3, dtype=torch.double)      # new_* methods take in sizes\n",
    "print(x)\n",
    "\n",
    "x = torch.randn_like(x, dtype=torch.float)    # 重载 dtype!\n",
    "print(x)                                      # 结果size一致"
   ]
  },
  {
   "cell_type": "code",
   "execution_count": 7,
   "metadata": {},
   "outputs": [
    {
     "name": "stdout",
     "output_type": "stream",
     "text": [
      "torch.Size([5, 3])\n"
     ]
    }
   ],
   "source": [
    "# 获取张量的形状：\n",
    "\n",
    "print(x.size())"
   ]
  },
  {
   "cell_type": "markdown",
   "metadata": {},
   "source": [
    "注意：\n",
    "\n",
    "torch.Size本质上还是tuple，所以支持tuple的一切操作。"
   ]
  },
  {
   "cell_type": "markdown",
   "metadata": {},
   "source": [
    "## 运算\n",
    "一种运算有多种语法。在下面的示例中，我们将研究加法运算。"
   ]
  },
  {
   "cell_type": "code",
   "execution_count": 8,
   "metadata": {},
   "outputs": [
    {
     "name": "stdout",
     "output_type": "stream",
     "text": [
      "tensor([[ 0.1461,  0.4461,  1.0513],\n",
      "        [-0.1291,  0.3240,  0.5388],\n",
      "        [-0.4289, -0.4316,  1.2259],\n",
      "        [ 1.4848,  2.1570, -0.3741],\n",
      "        [-0.5749,  1.3882,  0.1818]])\n"
     ]
    }
   ],
   "source": [
    "# 加法：形式一\n",
    "\n",
    "y = torch.rand(5, 3)\n",
    "print(x + y)"
   ]
  },
  {
   "cell_type": "code",
   "execution_count": 9,
   "metadata": {},
   "outputs": [
    {
     "name": "stdout",
     "output_type": "stream",
     "text": [
      "tensor([[ 0.1461,  0.4461,  1.0513],\n",
      "        [-0.1291,  0.3240,  0.5388],\n",
      "        [-0.4289, -0.4316,  1.2259],\n",
      "        [ 1.4848,  2.1570, -0.3741],\n",
      "        [-0.5749,  1.3882,  0.1818]])\n"
     ]
    }
   ],
   "source": [
    "# 加法：形式二\n",
    "\n",
    "print(torch.add(x, y))"
   ]
  },
  {
   "cell_type": "code",
   "execution_count": 10,
   "metadata": {},
   "outputs": [
    {
     "name": "stdout",
     "output_type": "stream",
     "text": [
      "tensor([[ 0.1461,  0.4461,  1.0513],\n",
      "        [-0.1291,  0.3240,  0.5388],\n",
      "        [-0.4289, -0.4316,  1.2259],\n",
      "        [ 1.4848,  2.1570, -0.3741],\n",
      "        [-0.5749,  1.3882,  0.1818]])\n"
     ]
    }
   ],
   "source": [
    "# 加法：给定一个输出张量作为参数\n",
    "\n",
    "result = torch.empty(5, 3)\n",
    "torch.add(x, y, out=result)\n",
    "print(result)"
   ]
  },
  {
   "cell_type": "code",
   "execution_count": 11,
   "metadata": {},
   "outputs": [
    {
     "name": "stdout",
     "output_type": "stream",
     "text": [
      "tensor([[ 0.1461,  0.4461,  1.0513],\n",
      "        [-0.1291,  0.3240,  0.5388],\n",
      "        [-0.4289, -0.4316,  1.2259],\n",
      "        [ 1.4848,  2.1570, -0.3741],\n",
      "        [-0.5749,  1.3882,  0.1818]])\n"
     ]
    }
   ],
   "source": [
    "# 加法：原位/原地操作(in-place）\n",
    "\n",
    "# adds x to y\n",
    "y.add_(x)\n",
    "print(y)"
   ]
  },
  {
   "cell_type": "markdown",
   "metadata": {},
   "source": [
    "注意：\n",
    "\n",
    "任何一个in-place改变张量的操作后面都固定一个_。例如x.copy_(y)、x.t_()将更改x"
   ]
  },
  {
   "cell_type": "code",
   "execution_count": 12,
   "metadata": {},
   "outputs": [
    {
     "name": "stdout",
     "output_type": "stream",
     "text": [
      "tensor([ 0.3239,  0.1874, -0.9605,  1.4218,  1.1933])\n"
     ]
    }
   ],
   "source": [
    "# 也可以使用像标准的NumPy一样的各种索引操作：\n",
    "\n",
    "print(x[:, 1])"
   ]
  },
  {
   "cell_type": "code",
   "execution_count": 13,
   "metadata": {},
   "outputs": [
    {
     "name": "stdout",
     "output_type": "stream",
     "text": [
      "torch.Size([4, 4]) torch.Size([16]) torch.Size([2, 8])\n"
     ]
    }
   ],
   "source": [
    "# 改变形状：如果想改变形状，可以使用torch.view\n",
    "\n",
    "x = torch.randn(4, 4)\n",
    "y = x.view(16)\n",
    "z = x.view(-1, 8)  # the size -1 is inferred from other dimensions\n",
    "print(x.size(), y.size(), z.size())"
   ]
  },
  {
   "cell_type": "code",
   "execution_count": 14,
   "metadata": {},
   "outputs": [
    {
     "name": "stdout",
     "output_type": "stream",
     "text": [
      "tensor([-0.2570])\n",
      "-0.2570120394229889\n"
     ]
    }
   ],
   "source": [
    "# 如果是仅包含一个元素的tensor，可以使用.item()来得到对应的python数值\n",
    "\n",
    "x = torch.randn(1)\n",
    "print(x)\n",
    "print(x.item())"
   ]
  },
  {
   "cell_type": "markdown",
   "metadata": {},
   "source": [
    "后续阅读：\n",
    "\n",
    "超过100种tensor的运算操作，包括转置，索引，切片，数学运算， 线性代数，随机数等，具体访问[这里](https://pytorch.org/docs/stable/torch.html)"
   ]
  },
  {
   "cell_type": "markdown",
   "metadata": {},
   "source": [
    "# 桥接 NumPy\n",
    "将一个Torch张量转换为一个NumPy数组是轻而易举的事情，反之亦然。\n",
    "\n",
    "Torch张量和NumPy数组将共享它们的底层内存位置，因此当一个改变时,另外也会改变。\n",
    "\n"
   ]
  },
  {
   "cell_type": "markdown",
   "metadata": {},
   "source": [
    "## 将torch的Tensor转化为NumPy数组"
   ]
  },
  {
   "cell_type": "code",
   "execution_count": 15,
   "metadata": {},
   "outputs": [
    {
     "name": "stdout",
     "output_type": "stream",
     "text": [
      "tensor([1., 1., 1., 1., 1.])\n"
     ]
    }
   ],
   "source": [
    "a = torch.ones(5)\n",
    "print(a)"
   ]
  },
  {
   "cell_type": "code",
   "execution_count": 16,
   "metadata": {},
   "outputs": [
    {
     "name": "stdout",
     "output_type": "stream",
     "text": [
      "[1. 1. 1. 1. 1.]\n"
     ]
    }
   ],
   "source": [
    "b = a.numpy()\n",
    "print(b)"
   ]
  },
  {
   "cell_type": "code",
   "execution_count": 17,
   "metadata": {},
   "outputs": [
    {
     "name": "stdout",
     "output_type": "stream",
     "text": [
      "tensor([2., 2., 2., 2., 2.])\n",
      "[2. 2. 2. 2. 2.]\n"
     ]
    }
   ],
   "source": [
    "# 看NumPy数组是如何改变里面的值的：\n",
    "\n",
    "a.add_(1)\n",
    "print(a)\n",
    "print(b)"
   ]
  },
  {
   "cell_type": "markdown",
   "metadata": {},
   "source": [
    "## 将NumPy数组转化为Torch张量"
   ]
  },
  {
   "cell_type": "code",
   "execution_count": 18,
   "metadata": {},
   "outputs": [
    {
     "name": "stdout",
     "output_type": "stream",
     "text": [
      "[2. 2. 2. 2. 2.]\n",
      "tensor([2., 2., 2., 2., 2.], dtype=torch.float64)\n"
     ]
    }
   ],
   "source": [
    "# 看改变NumPy数组是如何自动改变Torch张量的：\n",
    "\n",
    "import numpy as np\n",
    "a = np.ones(5)\n",
    "b = torch.from_numpy(a)\n",
    "np.add(a, 1, out=a)\n",
    "print(a)\n",
    "print(b)"
   ]
  },
  {
   "cell_type": "markdown",
   "metadata": {},
   "source": [
    "CPU上的所有张量(CharTensor除外)都支持与Numpy的相互转换。"
   ]
  },
  {
   "cell_type": "markdown",
   "metadata": {},
   "source": [
    "## CUDA上的张量"
   ]
  },
  {
   "cell_type": "code",
   "execution_count": 19,
   "metadata": {},
   "outputs": [],
   "source": [
    "# 张量可以使用.to方法移动到任何设备(device）上：\n",
    "\n",
    "# 当GPU可用时,我们可以运行以下代码\n",
    "# 我们将使用`torch.device`来将tensor移入和移出GPU\n",
    "if torch.cuda.is_available():\n",
    "    device = torch.device(\"cuda\")          # a CUDA device object\n",
    "    y = torch.ones_like(x, device=device)  # 直接在GPU上创建tensor\n",
    "    x = x.to(device)                       # 或者使用`.to(\"cuda\")`方法\n",
    "    z = x + y\n",
    "    print(z)\n",
    "    print(z.to(\"cpu\", torch.double))       # `.to`也能在移动时改变dtype"
   ]
  },
  {
   "cell_type": "code",
   "execution_count": null,
   "metadata": {},
   "outputs": [],
   "source": []
  }
 ],
 "metadata": {
  "kernelspec": {
   "display_name": "Python 3",
   "language": "python",
   "name": "python3"
  },
  "language_info": {
   "codemirror_mode": {
    "name": "ipython",
    "version": 3
   },
   "file_extension": ".py",
   "mimetype": "text/x-python",
   "name": "python",
   "nbconvert_exporter": "python",
   "pygments_lexer": "ipython3",
   "version": "3.8.3"
  }
 },
 "nbformat": 4,
 "nbformat_minor": 4
}
